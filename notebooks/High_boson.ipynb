{
 "cells": [
  {
   "cell_type": "code",
   "execution_count": 1,
   "id": "33b78844",
   "metadata": {},
   "outputs": [],
   "source": [
    "import pandas as pd\n",
    "import numpy as np\n",
    "from sklearn.preprocessing import MinMaxScaler\n",
    "from sklearn.decomposition import PCA\n"
   ]
  },
  {
   "cell_type": "code",
   "execution_count": null,
   "id": "d9d78861",
   "metadata": {},
   "outputs": [],
   "source": []
  },
  {
   "cell_type": "code",
   "execution_count": 2,
   "id": "9dc37f11",
   "metadata": {},
   "outputs": [],
   "source": [
    "higgs_boson_train = pd.read_csv(\"higgs-boson/training.csv\")"
   ]
  },
  {
   "cell_type": "code",
   "execution_count": 3,
   "id": "01c8fac3",
   "metadata": {},
   "outputs": [
    {
     "data": {
      "text/plain": [
       "count     250000\n",
       "unique         2\n",
       "top            b\n",
       "freq      164333\n",
       "Name: Label, dtype: object"
      ]
     },
     "execution_count": 3,
     "metadata": {},
     "output_type": "execute_result"
    }
   ],
   "source": [
    "higgs_boson_train['Label'].describe()"
   ]
  },
  {
   "cell_type": "code",
   "execution_count": 4,
   "id": "e6011648",
   "metadata": {},
   "outputs": [
    {
     "data": {
      "text/plain": [
       "Index(['EventId', 'DER_mass_MMC', 'DER_mass_transverse_met_lep',\n",
       "       'DER_mass_vis', 'DER_pt_h', 'DER_deltaeta_jet_jet', 'DER_mass_jet_jet',\n",
       "       'DER_prodeta_jet_jet', 'DER_deltar_tau_lep', 'DER_pt_tot', 'DER_sum_pt',\n",
       "       'DER_pt_ratio_lep_tau', 'DER_met_phi_centrality',\n",
       "       'DER_lep_eta_centrality', 'PRI_tau_pt', 'PRI_tau_eta', 'PRI_tau_phi',\n",
       "       'PRI_lep_pt', 'PRI_lep_eta', 'PRI_lep_phi', 'PRI_met', 'PRI_met_phi',\n",
       "       'PRI_met_sumet', 'PRI_jet_num', 'PRI_jet_leading_pt',\n",
       "       'PRI_jet_leading_eta', 'PRI_jet_leading_phi', 'PRI_jet_subleading_pt',\n",
       "       'PRI_jet_subleading_eta', 'PRI_jet_subleading_phi', 'PRI_jet_all_pt',\n",
       "       'Weight', 'Label'],\n",
       "      dtype='object')"
      ]
     },
     "execution_count": 4,
     "metadata": {},
     "output_type": "execute_result"
    }
   ],
   "source": [
    "higgs_boson_train.columns"
   ]
  },
  {
   "cell_type": "code",
   "execution_count": 5,
   "id": "323ddc71",
   "metadata": {},
   "outputs": [
    {
     "data": {
      "text/html": [
       "<div>\n",
       "<style scoped>\n",
       "    .dataframe tbody tr th:only-of-type {\n",
       "        vertical-align: middle;\n",
       "    }\n",
       "\n",
       "    .dataframe tbody tr th {\n",
       "        vertical-align: top;\n",
       "    }\n",
       "\n",
       "    .dataframe thead th {\n",
       "        text-align: right;\n",
       "    }\n",
       "</style>\n",
       "<table border=\"1\" class=\"dataframe\">\n",
       "  <thead>\n",
       "    <tr style=\"text-align: right;\">\n",
       "      <th></th>\n",
       "      <th>DER_mass_MMC</th>\n",
       "      <th>DER_mass_transverse_met_lep</th>\n",
       "      <th>DER_mass_vis</th>\n",
       "      <th>DER_pt_h</th>\n",
       "      <th>DER_deltaeta_jet_jet</th>\n",
       "      <th>DER_mass_jet_jet</th>\n",
       "      <th>DER_prodeta_jet_jet</th>\n",
       "      <th>DER_deltar_tau_lep</th>\n",
       "      <th>DER_pt_tot</th>\n",
       "      <th>DER_sum_pt</th>\n",
       "      <th>...</th>\n",
       "      <th>PRI_met_sumet</th>\n",
       "      <th>PRI_jet_num</th>\n",
       "      <th>PRI_jet_leading_pt</th>\n",
       "      <th>PRI_jet_leading_eta</th>\n",
       "      <th>PRI_jet_leading_phi</th>\n",
       "      <th>PRI_jet_subleading_pt</th>\n",
       "      <th>PRI_jet_subleading_eta</th>\n",
       "      <th>PRI_jet_subleading_phi</th>\n",
       "      <th>PRI_jet_all_pt</th>\n",
       "      <th>Label</th>\n",
       "    </tr>\n",
       "  </thead>\n",
       "  <tbody>\n",
       "    <tr>\n",
       "      <th>0</th>\n",
       "      <td>138.470</td>\n",
       "      <td>51.655</td>\n",
       "      <td>97.827</td>\n",
       "      <td>27.980</td>\n",
       "      <td>0.91</td>\n",
       "      <td>124.711</td>\n",
       "      <td>2.666</td>\n",
       "      <td>3.064</td>\n",
       "      <td>41.928</td>\n",
       "      <td>197.760</td>\n",
       "      <td>...</td>\n",
       "      <td>258.733</td>\n",
       "      <td>2</td>\n",
       "      <td>67.435</td>\n",
       "      <td>2.150</td>\n",
       "      <td>0.444</td>\n",
       "      <td>46.062</td>\n",
       "      <td>1.24</td>\n",
       "      <td>-2.475</td>\n",
       "      <td>113.497</td>\n",
       "      <td>s</td>\n",
       "    </tr>\n",
       "    <tr>\n",
       "      <th>1</th>\n",
       "      <td>160.937</td>\n",
       "      <td>68.768</td>\n",
       "      <td>103.235</td>\n",
       "      <td>48.146</td>\n",
       "      <td>-999.00</td>\n",
       "      <td>-999.000</td>\n",
       "      <td>-999.000</td>\n",
       "      <td>3.473</td>\n",
       "      <td>2.078</td>\n",
       "      <td>125.157</td>\n",
       "      <td>...</td>\n",
       "      <td>164.546</td>\n",
       "      <td>1</td>\n",
       "      <td>46.226</td>\n",
       "      <td>0.725</td>\n",
       "      <td>1.158</td>\n",
       "      <td>-999.000</td>\n",
       "      <td>-999.00</td>\n",
       "      <td>-999.000</td>\n",
       "      <td>46.226</td>\n",
       "      <td>b</td>\n",
       "    </tr>\n",
       "    <tr>\n",
       "      <th>2</th>\n",
       "      <td>-999.000</td>\n",
       "      <td>162.172</td>\n",
       "      <td>125.953</td>\n",
       "      <td>35.635</td>\n",
       "      <td>-999.00</td>\n",
       "      <td>-999.000</td>\n",
       "      <td>-999.000</td>\n",
       "      <td>3.148</td>\n",
       "      <td>9.336</td>\n",
       "      <td>197.814</td>\n",
       "      <td>...</td>\n",
       "      <td>260.414</td>\n",
       "      <td>1</td>\n",
       "      <td>44.251</td>\n",
       "      <td>2.053</td>\n",
       "      <td>-2.028</td>\n",
       "      <td>-999.000</td>\n",
       "      <td>-999.00</td>\n",
       "      <td>-999.000</td>\n",
       "      <td>44.251</td>\n",
       "      <td>b</td>\n",
       "    </tr>\n",
       "    <tr>\n",
       "      <th>3</th>\n",
       "      <td>143.905</td>\n",
       "      <td>81.417</td>\n",
       "      <td>80.943</td>\n",
       "      <td>0.414</td>\n",
       "      <td>-999.00</td>\n",
       "      <td>-999.000</td>\n",
       "      <td>-999.000</td>\n",
       "      <td>3.310</td>\n",
       "      <td>0.414</td>\n",
       "      <td>75.968</td>\n",
       "      <td>...</td>\n",
       "      <td>86.062</td>\n",
       "      <td>0</td>\n",
       "      <td>-999.000</td>\n",
       "      <td>-999.000</td>\n",
       "      <td>-999.000</td>\n",
       "      <td>-999.000</td>\n",
       "      <td>-999.00</td>\n",
       "      <td>-999.000</td>\n",
       "      <td>-0.000</td>\n",
       "      <td>b</td>\n",
       "    </tr>\n",
       "    <tr>\n",
       "      <th>4</th>\n",
       "      <td>175.864</td>\n",
       "      <td>16.915</td>\n",
       "      <td>134.805</td>\n",
       "      <td>16.405</td>\n",
       "      <td>-999.00</td>\n",
       "      <td>-999.000</td>\n",
       "      <td>-999.000</td>\n",
       "      <td>3.891</td>\n",
       "      <td>16.405</td>\n",
       "      <td>57.983</td>\n",
       "      <td>...</td>\n",
       "      <td>53.131</td>\n",
       "      <td>0</td>\n",
       "      <td>-999.000</td>\n",
       "      <td>-999.000</td>\n",
       "      <td>-999.000</td>\n",
       "      <td>-999.000</td>\n",
       "      <td>-999.00</td>\n",
       "      <td>-999.000</td>\n",
       "      <td>0.000</td>\n",
       "      <td>b</td>\n",
       "    </tr>\n",
       "    <tr>\n",
       "      <th>...</th>\n",
       "      <td>...</td>\n",
       "      <td>...</td>\n",
       "      <td>...</td>\n",
       "      <td>...</td>\n",
       "      <td>...</td>\n",
       "      <td>...</td>\n",
       "      <td>...</td>\n",
       "      <td>...</td>\n",
       "      <td>...</td>\n",
       "      <td>...</td>\n",
       "      <td>...</td>\n",
       "      <td>...</td>\n",
       "      <td>...</td>\n",
       "      <td>...</td>\n",
       "      <td>...</td>\n",
       "      <td>...</td>\n",
       "      <td>...</td>\n",
       "      <td>...</td>\n",
       "      <td>...</td>\n",
       "      <td>...</td>\n",
       "      <td>...</td>\n",
       "    </tr>\n",
       "    <tr>\n",
       "      <th>249995</th>\n",
       "      <td>-999.000</td>\n",
       "      <td>71.989</td>\n",
       "      <td>36.548</td>\n",
       "      <td>5.042</td>\n",
       "      <td>-999.00</td>\n",
       "      <td>-999.000</td>\n",
       "      <td>-999.000</td>\n",
       "      <td>1.392</td>\n",
       "      <td>5.042</td>\n",
       "      <td>55.892</td>\n",
       "      <td>...</td>\n",
       "      <td>144.665</td>\n",
       "      <td>0</td>\n",
       "      <td>-999.000</td>\n",
       "      <td>-999.000</td>\n",
       "      <td>-999.000</td>\n",
       "      <td>-999.000</td>\n",
       "      <td>-999.00</td>\n",
       "      <td>-999.000</td>\n",
       "      <td>0.000</td>\n",
       "      <td>b</td>\n",
       "    </tr>\n",
       "    <tr>\n",
       "      <th>249996</th>\n",
       "      <td>-999.000</td>\n",
       "      <td>58.179</td>\n",
       "      <td>68.083</td>\n",
       "      <td>22.439</td>\n",
       "      <td>-999.00</td>\n",
       "      <td>-999.000</td>\n",
       "      <td>-999.000</td>\n",
       "      <td>2.585</td>\n",
       "      <td>22.439</td>\n",
       "      <td>50.618</td>\n",
       "      <td>...</td>\n",
       "      <td>80.408</td>\n",
       "      <td>0</td>\n",
       "      <td>-999.000</td>\n",
       "      <td>-999.000</td>\n",
       "      <td>-999.000</td>\n",
       "      <td>-999.000</td>\n",
       "      <td>-999.00</td>\n",
       "      <td>-999.000</td>\n",
       "      <td>-0.000</td>\n",
       "      <td>b</td>\n",
       "    </tr>\n",
       "    <tr>\n",
       "      <th>249997</th>\n",
       "      <td>105.457</td>\n",
       "      <td>60.526</td>\n",
       "      <td>75.839</td>\n",
       "      <td>39.757</td>\n",
       "      <td>-999.00</td>\n",
       "      <td>-999.000</td>\n",
       "      <td>-999.000</td>\n",
       "      <td>2.390</td>\n",
       "      <td>22.183</td>\n",
       "      <td>120.462</td>\n",
       "      <td>...</td>\n",
       "      <td>198.907</td>\n",
       "      <td>1</td>\n",
       "      <td>41.992</td>\n",
       "      <td>1.800</td>\n",
       "      <td>-0.166</td>\n",
       "      <td>-999.000</td>\n",
       "      <td>-999.00</td>\n",
       "      <td>-999.000</td>\n",
       "      <td>41.992</td>\n",
       "      <td>s</td>\n",
       "    </tr>\n",
       "    <tr>\n",
       "      <th>249998</th>\n",
       "      <td>94.951</td>\n",
       "      <td>19.362</td>\n",
       "      <td>68.812</td>\n",
       "      <td>13.504</td>\n",
       "      <td>-999.00</td>\n",
       "      <td>-999.000</td>\n",
       "      <td>-999.000</td>\n",
       "      <td>3.365</td>\n",
       "      <td>13.504</td>\n",
       "      <td>55.859</td>\n",
       "      <td>...</td>\n",
       "      <td>112.718</td>\n",
       "      <td>0</td>\n",
       "      <td>-999.000</td>\n",
       "      <td>-999.000</td>\n",
       "      <td>-999.000</td>\n",
       "      <td>-999.000</td>\n",
       "      <td>-999.00</td>\n",
       "      <td>-999.000</td>\n",
       "      <td>0.000</td>\n",
       "      <td>b</td>\n",
       "    </tr>\n",
       "    <tr>\n",
       "      <th>249999</th>\n",
       "      <td>-999.000</td>\n",
       "      <td>72.756</td>\n",
       "      <td>70.831</td>\n",
       "      <td>7.479</td>\n",
       "      <td>-999.00</td>\n",
       "      <td>-999.000</td>\n",
       "      <td>-999.000</td>\n",
       "      <td>2.025</td>\n",
       "      <td>7.479</td>\n",
       "      <td>83.240</td>\n",
       "      <td>...</td>\n",
       "      <td>99.405</td>\n",
       "      <td>0</td>\n",
       "      <td>-999.000</td>\n",
       "      <td>-999.000</td>\n",
       "      <td>-999.000</td>\n",
       "      <td>-999.000</td>\n",
       "      <td>-999.00</td>\n",
       "      <td>-999.000</td>\n",
       "      <td>0.000</td>\n",
       "      <td>b</td>\n",
       "    </tr>\n",
       "  </tbody>\n",
       "</table>\n",
       "<p>250000 rows × 31 columns</p>\n",
       "</div>"
      ],
      "text/plain": [
       "        DER_mass_MMC  DER_mass_transverse_met_lep  DER_mass_vis  DER_pt_h  \\\n",
       "0            138.470                       51.655        97.827    27.980   \n",
       "1            160.937                       68.768       103.235    48.146   \n",
       "2           -999.000                      162.172       125.953    35.635   \n",
       "3            143.905                       81.417        80.943     0.414   \n",
       "4            175.864                       16.915       134.805    16.405   \n",
       "...              ...                          ...           ...       ...   \n",
       "249995      -999.000                       71.989        36.548     5.042   \n",
       "249996      -999.000                       58.179        68.083    22.439   \n",
       "249997       105.457                       60.526        75.839    39.757   \n",
       "249998        94.951                       19.362        68.812    13.504   \n",
       "249999      -999.000                       72.756        70.831     7.479   \n",
       "\n",
       "        DER_deltaeta_jet_jet  DER_mass_jet_jet  DER_prodeta_jet_jet  \\\n",
       "0                       0.91           124.711                2.666   \n",
       "1                    -999.00          -999.000             -999.000   \n",
       "2                    -999.00          -999.000             -999.000   \n",
       "3                    -999.00          -999.000             -999.000   \n",
       "4                    -999.00          -999.000             -999.000   \n",
       "...                      ...               ...                  ...   \n",
       "249995               -999.00          -999.000             -999.000   \n",
       "249996               -999.00          -999.000             -999.000   \n",
       "249997               -999.00          -999.000             -999.000   \n",
       "249998               -999.00          -999.000             -999.000   \n",
       "249999               -999.00          -999.000             -999.000   \n",
       "\n",
       "        DER_deltar_tau_lep  DER_pt_tot  DER_sum_pt  ...  PRI_met_sumet  \\\n",
       "0                    3.064      41.928     197.760  ...        258.733   \n",
       "1                    3.473       2.078     125.157  ...        164.546   \n",
       "2                    3.148       9.336     197.814  ...        260.414   \n",
       "3                    3.310       0.414      75.968  ...         86.062   \n",
       "4                    3.891      16.405      57.983  ...         53.131   \n",
       "...                    ...         ...         ...  ...            ...   \n",
       "249995               1.392       5.042      55.892  ...        144.665   \n",
       "249996               2.585      22.439      50.618  ...         80.408   \n",
       "249997               2.390      22.183     120.462  ...        198.907   \n",
       "249998               3.365      13.504      55.859  ...        112.718   \n",
       "249999               2.025       7.479      83.240  ...         99.405   \n",
       "\n",
       "        PRI_jet_num  PRI_jet_leading_pt  PRI_jet_leading_eta  \\\n",
       "0                 2              67.435                2.150   \n",
       "1                 1              46.226                0.725   \n",
       "2                 1              44.251                2.053   \n",
       "3                 0            -999.000             -999.000   \n",
       "4                 0            -999.000             -999.000   \n",
       "...             ...                 ...                  ...   \n",
       "249995            0            -999.000             -999.000   \n",
       "249996            0            -999.000             -999.000   \n",
       "249997            1              41.992                1.800   \n",
       "249998            0            -999.000             -999.000   \n",
       "249999            0            -999.000             -999.000   \n",
       "\n",
       "        PRI_jet_leading_phi  PRI_jet_subleading_pt  PRI_jet_subleading_eta  \\\n",
       "0                     0.444                 46.062                    1.24   \n",
       "1                     1.158               -999.000                 -999.00   \n",
       "2                    -2.028               -999.000                 -999.00   \n",
       "3                  -999.000               -999.000                 -999.00   \n",
       "4                  -999.000               -999.000                 -999.00   \n",
       "...                     ...                    ...                     ...   \n",
       "249995             -999.000               -999.000                 -999.00   \n",
       "249996             -999.000               -999.000                 -999.00   \n",
       "249997               -0.166               -999.000                 -999.00   \n",
       "249998             -999.000               -999.000                 -999.00   \n",
       "249999             -999.000               -999.000                 -999.00   \n",
       "\n",
       "        PRI_jet_subleading_phi  PRI_jet_all_pt  Label  \n",
       "0                       -2.475         113.497      s  \n",
       "1                     -999.000          46.226      b  \n",
       "2                     -999.000          44.251      b  \n",
       "3                     -999.000          -0.000      b  \n",
       "4                     -999.000           0.000      b  \n",
       "...                        ...             ...    ...  \n",
       "249995                -999.000           0.000      b  \n",
       "249996                -999.000          -0.000      b  \n",
       "249997                -999.000          41.992      s  \n",
       "249998                -999.000           0.000      b  \n",
       "249999                -999.000           0.000      b  \n",
       "\n",
       "[250000 rows x 31 columns]"
      ]
     },
     "execution_count": 5,
     "metadata": {},
     "output_type": "execute_result"
    }
   ],
   "source": [
    "#higgs_boson_train_simple = higgs_boson_train[['DER_mass_MMC', 'DER_mass_transverse_met_lep',\n",
    "#        'DER_mass_vis', 'DER_pt_h', 'DER_deltaeta_jet_jet', 'DER_mass_jet_jet',\n",
    "#        'DER_prodeta_jet_jet', 'DER_deltar_tau_lep', 'DER_pt_tot', 'DER_sum_pt',\n",
    "#        'DER_pt_ratio_lep_tau', 'DER_met_phi_centrality',\n",
    "#        'DER_lep_eta_centrality', 'Label']]\n",
    "\n",
    "# use all features (other than EventId and weight), we will apply PCA to reduce dimensionality\n",
    "higgs_boson_train_simple = higgs_boson_train.copy()\n",
    "higgs_boson_train_simple.drop(['EventId', 'Weight'], axis=1)"
   ]
  },
  {
   "cell_type": "code",
   "execution_count": 6,
   "id": "3a5a145f",
   "metadata": {},
   "outputs": [
    {
     "data": {
      "text/plain": [
       "Index(['EventId', 'DER_mass_MMC', 'DER_mass_transverse_met_lep',\n",
       "       'DER_mass_vis', 'DER_pt_h', 'DER_deltaeta_jet_jet', 'DER_mass_jet_jet',\n",
       "       'DER_prodeta_jet_jet', 'DER_deltar_tau_lep', 'DER_pt_tot', 'DER_sum_pt',\n",
       "       'DER_pt_ratio_lep_tau', 'DER_met_phi_centrality',\n",
       "       'DER_lep_eta_centrality', 'PRI_tau_pt', 'PRI_tau_eta', 'PRI_tau_phi',\n",
       "       'PRI_lep_pt', 'PRI_lep_eta', 'PRI_lep_phi', 'PRI_met', 'PRI_met_phi',\n",
       "       'PRI_met_sumet', 'PRI_jet_num', 'PRI_jet_leading_pt',\n",
       "       'PRI_jet_leading_eta', 'PRI_jet_leading_phi', 'PRI_jet_subleading_pt',\n",
       "       'PRI_jet_subleading_eta', 'PRI_jet_subleading_phi', 'PRI_jet_all_pt',\n",
       "       'Weight', 'Label'],\n",
       "      dtype='object')"
      ]
     },
     "execution_count": 6,
     "metadata": {},
     "output_type": "execute_result"
    }
   ],
   "source": [
    "higgs_boson_train_simple.columns"
   ]
  },
  {
   "cell_type": "code",
   "execution_count": 7,
   "id": "53194a57",
   "metadata": {},
   "outputs": [
    {
     "name": "stdout",
     "output_type": "stream",
     "text": [
      "Metal device set to: Apple M1 Max\n",
      "Epoch 1/4\n"
     ]
    },
    {
     "name": "stderr",
     "output_type": "stream",
     "text": [
      "2023-07-03 14:07:39.914964: I tensorflow/core/common_runtime/pluggable_device/pluggable_device_factory.cc:306] Could not identify NUMA node of platform GPU ID 0, defaulting to 0. Your kernel may not have been built with NUMA support.\n",
      "2023-07-03 14:07:39.915112: I tensorflow/core/common_runtime/pluggable_device/pluggable_device_factory.cc:272] Created TensorFlow device (/job:localhost/replica:0/task:0/device:GPU:0 with 0 MB memory) -> physical PluggableDevice (device: 0, name: METAL, pci bus id: <undefined>)\n",
      "2023-07-03 14:07:40.044249: W tensorflow/core/platform/profile_utils/cpu_utils.cc:128] Failed to get CPU frequency: 0 Hz\n",
      "2023-07-03 14:07:40.181823: I tensorflow/core/grappler/optimizers/custom_graph_optimizer_registry.cc:114] Plugin optimizer for device_type GPU is enabled.\n"
     ]
    },
    {
     "name": "stdout",
     "output_type": "stream",
     "text": [
      "6247/6250 [============================>.] - ETA: 0s - loss: 0.5648 - accuracy: 0.6999"
     ]
    },
    {
     "name": "stderr",
     "output_type": "stream",
     "text": [
      "2023-07-03 14:08:14.799102: I tensorflow/core/grappler/optimizers/custom_graph_optimizer_registry.cc:114] Plugin optimizer for device_type GPU is enabled.\n"
     ]
    },
    {
     "name": "stdout",
     "output_type": "stream",
     "text": [
      "6250/6250 [==============================] - 40s 6ms/step - loss: 0.5648 - accuracy: 0.6999 - val_loss: 0.5188 - val_accuracy: 0.7451\n",
      "Epoch 2/4\n",
      "6250/6250 [==============================] - 37s 6ms/step - loss: 0.4960 - accuracy: 0.7527 - val_loss: 0.4792 - val_accuracy: 0.7612\n",
      "Epoch 3/4\n",
      "6250/6250 [==============================] - 38s 6ms/step - loss: 0.4809 - accuracy: 0.7595 - val_loss: 0.4724 - val_accuracy: 0.7661\n",
      "Epoch 4/4\n",
      "6250/6250 [==============================] - 37s 6ms/step - loss: 0.4780 - accuracy: 0.7606 - val_loss: 0.4821 - val_accuracy: 0.7612\n"
     ]
    },
    {
     "data": {
      "text/plain": [
       "<keras.callbacks.History at 0x2c0a2fb50>"
      ]
     },
     "execution_count": 7,
     "metadata": {},
     "output_type": "execute_result"
    }
   ],
   "source": [
    "from sklearn.model_selection import train_test_split\n",
    "from sklearn.preprocessing import LabelEncoder\n",
    "from tensorflow.keras.models import Sequential\n",
    "from tensorflow.keras.layers import Dense\n",
    "\n",
    "# Assuming df is your DataFrame\n",
    "#df = pd.read_csv('your_data.csv') # replace with your file name or data loading method\n",
    "df = higgs_boson_train_simple\n",
    "\n",
    "# Preprocessing\n",
    "encoder = LabelEncoder()\n",
    "df['Label'] = encoder.fit_transform(df['Label'])\n",
    "\n",
    "X = df.drop('Label', axis=1)\n",
    "y = df['Label']\n",
    "\n",
    "\n",
    "# Applying PCA to reduce features to 6\n",
    "pca = PCA(n_components=6)\n",
    "X = pd.DataFrame(pca.fit_transform(X))\n",
    "\n",
    "# normalise inputs to be between -1 and 1\n",
    "scaler = MinMaxScaler(feature_range=(-1, 1))\n",
    "X = pd.DataFrame(scaler.fit_transform(X), columns=X.columns)\n",
    "\n",
    "\n",
    "X_train, X_test, y_train, y_test = train_test_split(X, y, test_size=0.2, random_state=42)\n",
    "\n",
    "# Model Architecture\n",
    "model = Sequential()\n",
    "# model.add(Dense(64, input_dim=X_train.shape[1], activation='relu')) # Input layer\n",
    "# model.add(Dense(64, activation='relu')) # Hidden layer\n",
    "# model.add(Dense(1, activation='sigmoid')) # Output layer\n",
    "\n",
    "# small network\n",
    "model.add(Dense(16, input_dim=X_train.shape[1], activation='relu')) # Input layer\n",
    "model.add(Dense(16, activation='relu')) # Hidden layer\n",
    "model.add(Dense(1, activation='sigmoid')) # Output layer\n",
    "\n",
    "\n",
    "# Compiling the Model\n",
    "model.compile(loss='binary_crossentropy', optimizer='adam', metrics=['accuracy'])\n",
    "\n",
    "# Training the Model\n",
    "#model.fit(X_train, y_train, epochs=10, batch_size=32, validation_data=(X_test, y_test))\n",
    "model.fit(X_train, y_train, epochs=4, batch_size=32, validation_data=(X_test, y_test))"
   ]
  },
  {
   "cell_type": "code",
   "execution_count": 23,
   "id": "e0fc7c84",
   "metadata": {},
   "outputs": [],
   "source": [
    "import numpy as np\n",
    "\n",
    "def save_weights(weights_list, biases_list, fname='weights_and_biases'):\n",
    "    weights_and_biases_dict = {f'weights_{i}': weights for i, weights in enumerate(weights_list)}\n",
    "    weights_and_biases_dict.update({f'biases_{i}': biases for i, biases in enumerate(biases_list)})\n",
    "    weights_and_biases_dict.update({'number_layers': len(weights_list)})\n",
    "\n",
    "    np.savez(f'{fname}.npz', **weights_and_biases_dict)\n",
    "\n",
    "def load_weights(fname='weights_and_biases'):\n",
    "    loaded = np.load(f'{fname}.npz')\n",
    "    number_layers = loaded['number_layers']\n",
    "    weights_list = [loaded[f'weights_{i}'] for i in range(0, number_layers)]\n",
    "    biases_list = [loaded[f'biases_{i}'] for i in range(0, number_layers)]\n",
    "    return weights_list, biases_list\n",
    "\n",
    "def save_data(test_x, test_y, fname='data'):\n",
    "    data_dict = {'test_x': test_x, 'test_y': test_y}\n",
    "    np.savez(f'{fname}.npz', **data_dict)\n",
    "\n",
    "def load_data(fname='data'):\n",
    "    loaded = np.load(f'{fname}.npz')\n",
    "    return loaded['test_x'], loaded['test_y']"
   ]
  },
  {
   "cell_type": "code",
   "execution_count": 24,
   "id": "59f7b692",
   "metadata": {},
   "outputs": [],
   "source": [
    "weights_list1 = []\n",
    "biases_list1 = []\n",
    "\n",
    "# Iterate over the dense layers of the model\n",
    "for layer in model.layers:\n",
    "    # save all weights (including for the sigmoid layer)\n",
    "    if isinstance(layer, Dense):\n",
    "        weights, biases = layer.get_weights()\n",
    "        weights_list1.append(weights)\n",
    "        biases_list1.append(biases)"
   ]
  },
  {
   "cell_type": "code",
   "execution_count": 25,
   "id": "94abd2b4",
   "metadata": {},
   "outputs": [
    {
     "data": {
      "text/plain": [
       "3"
      ]
     },
     "execution_count": 25,
     "metadata": {},
     "output_type": "execute_result"
    }
   ],
   "source": [
    "len(weights_list1)"
   ]
  },
  {
   "cell_type": "code",
   "execution_count": 26,
   "id": "857c8565",
   "metadata": {},
   "outputs": [],
   "source": [
    "save_data(X_test, y_test, 'data_higgs')"
   ]
  },
  {
   "cell_type": "code",
   "execution_count": 27,
   "id": "04b38366",
   "metadata": {},
   "outputs": [],
   "source": [
    "save_weights(weights_list1, biases_list1, 'weights_and_biases_higgs')"
   ]
  },
  {
   "cell_type": "code",
   "execution_count": 28,
   "id": "0858c802",
   "metadata": {},
   "outputs": [],
   "source": [
    "data_restored_x, data_restored_y = load_data('data_higgs')"
   ]
  },
  {
   "cell_type": "code",
   "execution_count": 29,
   "id": "923e0572",
   "metadata": {
    "scrolled": false
   },
   "outputs": [],
   "source": [
    "weights_list1_restored, biases_list1_restored = load_weights('weights_and_biases_higgs')"
   ]
  },
  {
   "cell_type": "code",
   "execution_count": 30,
   "id": "dbf88b2e",
   "metadata": {},
   "outputs": [
    {
     "data": {
      "text/plain": [
       "(50000, 6)"
      ]
     },
     "execution_count": 30,
     "metadata": {},
     "output_type": "execute_result"
    }
   ],
   "source": [
    "data_restored_x.shape"
   ]
  },
  {
   "cell_type": "code",
   "execution_count": 31,
   "id": "2a6165a6",
   "metadata": {},
   "outputs": [
    {
     "data": {
      "text/plain": [
       "(50000,)"
      ]
     },
     "execution_count": 31,
     "metadata": {},
     "output_type": "execute_result"
    }
   ],
   "source": [
    "data_restored_y.shape"
   ]
  },
  {
   "cell_type": "code",
   "execution_count": 32,
   "id": "654c082c",
   "metadata": {},
   "outputs": [
    {
     "data": {
      "text/plain": [
       "(3, 3)"
      ]
     },
     "execution_count": 32,
     "metadata": {},
     "output_type": "execute_result"
    }
   ],
   "source": [
    "len(weights_list1_restored), len(biases_list1_restored)"
   ]
  },
  {
   "cell_type": "code",
   "execution_count": 33,
   "id": "ee9d0bdd",
   "metadata": {},
   "outputs": [
    {
     "data": {
      "text/plain": [
       "(6, 16)"
      ]
     },
     "execution_count": 33,
     "metadata": {},
     "output_type": "execute_result"
    }
   ],
   "source": [
    "weights_list1_restored[0].shape"
   ]
  },
  {
   "cell_type": "code",
   "execution_count": 34,
   "id": "a058af0c",
   "metadata": {},
   "outputs": [
    {
     "data": {
      "text/plain": [
       "(16,)"
      ]
     },
     "execution_count": 34,
     "metadata": {},
     "output_type": "execute_result"
    }
   ],
   "source": [
    "biases_list1_restored[0].shape"
   ]
  },
  {
   "cell_type": "code",
   "execution_count": 35,
   "id": "23eb17e2",
   "metadata": {},
   "outputs": [
    {
     "data": {
      "text/html": [
       "<div>\n",
       "<style scoped>\n",
       "    .dataframe tbody tr th:only-of-type {\n",
       "        vertical-align: middle;\n",
       "    }\n",
       "\n",
       "    .dataframe tbody tr th {\n",
       "        vertical-align: top;\n",
       "    }\n",
       "\n",
       "    .dataframe thead th {\n",
       "        text-align: right;\n",
       "    }\n",
       "</style>\n",
       "<table border=\"1\" class=\"dataframe\">\n",
       "  <thead>\n",
       "    <tr style=\"text-align: right;\">\n",
       "      <th></th>\n",
       "      <th>0</th>\n",
       "      <th>1</th>\n",
       "      <th>2</th>\n",
       "      <th>3</th>\n",
       "      <th>4</th>\n",
       "      <th>5</th>\n",
       "    </tr>\n",
       "  </thead>\n",
       "  <tbody>\n",
       "    <tr>\n",
       "      <th>75381</th>\n",
       "      <td>0.396949</td>\n",
       "      <td>0.260013</td>\n",
       "      <td>-0.152030</td>\n",
       "      <td>0.046604</td>\n",
       "      <td>-0.853879</td>\n",
       "      <td>-0.313411</td>\n",
       "    </tr>\n",
       "    <tr>\n",
       "      <th>65569</th>\n",
       "      <td>0.475446</td>\n",
       "      <td>0.186941</td>\n",
       "      <td>-0.195101</td>\n",
       "      <td>-0.004343</td>\n",
       "      <td>-0.981978</td>\n",
       "      <td>-0.565303</td>\n",
       "    </tr>\n",
       "    <tr>\n",
       "      <th>163473</th>\n",
       "      <td>-0.307789</td>\n",
       "      <td>0.220088</td>\n",
       "      <td>-0.212328</td>\n",
       "      <td>0.001658</td>\n",
       "      <td>-0.905214</td>\n",
       "      <td>-0.508511</td>\n",
       "    </tr>\n",
       "    <tr>\n",
       "      <th>90518</th>\n",
       "      <td>0.275853</td>\n",
       "      <td>0.277742</td>\n",
       "      <td>-0.258434</td>\n",
       "      <td>0.041618</td>\n",
       "      <td>-0.773534</td>\n",
       "      <td>-0.532513</td>\n",
       "    </tr>\n",
       "    <tr>\n",
       "      <th>138866</th>\n",
       "      <td>-0.110933</td>\n",
       "      <td>0.254547</td>\n",
       "      <td>-0.156949</td>\n",
       "      <td>0.294143</td>\n",
       "      <td>-0.874453</td>\n",
       "      <td>-0.346676</td>\n",
       "    </tr>\n",
       "    <tr>\n",
       "      <th>...</th>\n",
       "      <td>...</td>\n",
       "      <td>...</td>\n",
       "      <td>...</td>\n",
       "      <td>...</td>\n",
       "      <td>...</td>\n",
       "      <td>...</td>\n",
       "    </tr>\n",
       "    <tr>\n",
       "      <th>119879</th>\n",
       "      <td>0.040964</td>\n",
       "      <td>-0.970608</td>\n",
       "      <td>-0.437695</td>\n",
       "      <td>0.218494</td>\n",
       "      <td>-0.824078</td>\n",
       "      <td>-0.439973</td>\n",
       "    </tr>\n",
       "    <tr>\n",
       "      <th>103694</th>\n",
       "      <td>0.170445</td>\n",
       "      <td>-0.678124</td>\n",
       "      <td>0.681213</td>\n",
       "      <td>0.052375</td>\n",
       "      <td>-0.818021</td>\n",
       "      <td>-0.471090</td>\n",
       "    </tr>\n",
       "    <tr>\n",
       "      <th>131932</th>\n",
       "      <td>-0.055460</td>\n",
       "      <td>0.195232</td>\n",
       "      <td>-0.192383</td>\n",
       "      <td>-0.002900</td>\n",
       "      <td>-0.965533</td>\n",
       "      <td>-0.540564</td>\n",
       "    </tr>\n",
       "    <tr>\n",
       "      <th>146867</th>\n",
       "      <td>-0.174941</td>\n",
       "      <td>-0.971843</td>\n",
       "      <td>-0.439328</td>\n",
       "      <td>0.211933</td>\n",
       "      <td>-0.825834</td>\n",
       "      <td>-0.456451</td>\n",
       "    </tr>\n",
       "    <tr>\n",
       "      <th>121958</th>\n",
       "      <td>0.024332</td>\n",
       "      <td>-0.972218</td>\n",
       "      <td>-0.436286</td>\n",
       "      <td>0.249361</td>\n",
       "      <td>-0.828888</td>\n",
       "      <td>-0.479612</td>\n",
       "    </tr>\n",
       "  </tbody>\n",
       "</table>\n",
       "<p>200000 rows × 6 columns</p>\n",
       "</div>"
      ],
      "text/plain": [
       "               0         1         2         3         4         5\n",
       "75381   0.396949  0.260013 -0.152030  0.046604 -0.853879 -0.313411\n",
       "65569   0.475446  0.186941 -0.195101 -0.004343 -0.981978 -0.565303\n",
       "163473 -0.307789  0.220088 -0.212328  0.001658 -0.905214 -0.508511\n",
       "90518   0.275853  0.277742 -0.258434  0.041618 -0.773534 -0.532513\n",
       "138866 -0.110933  0.254547 -0.156949  0.294143 -0.874453 -0.346676\n",
       "...          ...       ...       ...       ...       ...       ...\n",
       "119879  0.040964 -0.970608 -0.437695  0.218494 -0.824078 -0.439973\n",
       "103694  0.170445 -0.678124  0.681213  0.052375 -0.818021 -0.471090\n",
       "131932 -0.055460  0.195232 -0.192383 -0.002900 -0.965533 -0.540564\n",
       "146867 -0.174941 -0.971843 -0.439328  0.211933 -0.825834 -0.456451\n",
       "121958  0.024332 -0.972218 -0.436286  0.249361 -0.828888 -0.479612\n",
       "\n",
       "[200000 rows x 6 columns]"
      ]
     },
     "execution_count": 35,
     "metadata": {},
     "output_type": "execute_result"
    }
   ],
   "source": [
    "X_train"
   ]
  },
  {
   "cell_type": "code",
   "execution_count": 94,
   "id": "f25f7a5a",
   "metadata": {},
   "outputs": [],
   "source": [
    "test_x, test_y = data_restored_x, data_restored_y\n",
    "\n",
    "bounded_test_x = test_x [\n",
    "    (test_x > -1).all(axis=1) & (test_x < 1).all(axis=1)\n",
    "]\n",
    "bounded_test_y = test_y[\n",
    "    (test_x > -1).all(axis=1) & (test_x < 1).all(axis=1)\n",
    "]"
   ]
  },
  {
   "cell_type": "code",
   "execution_count": 95,
   "id": "267abcc7",
   "metadata": {},
   "outputs": [],
   "source": [
    "# just test on a subset of the data\n",
    "bounded_test_x = bounded_test_x[:5000]\n",
    "bounded_test_y = bounded_test_y[:5000]"
   ]
  },
  {
   "cell_type": "code",
   "execution_count": 96,
   "id": "49236997",
   "metadata": {},
   "outputs": [
    {
     "data": {
      "text/plain": [
       "array([[ 6.90534945e-01, -9.68116466e-01, -4.30614985e-01,\n",
       "         2.74308655e-01, -8.22460232e-01, -4.28264927e-01],\n",
       "       [ 4.80486076e-01, -9.71974926e-01, -4.34827918e-01,\n",
       "         2.58908654e-01, -8.29266981e-01, -4.83023737e-01],\n",
       "       [ 9.68368109e-01, -9.71029510e-01, -4.34346020e-01,\n",
       "         2.52100072e-01, -8.27177680e-01, -4.67305500e-01],\n",
       "       ...,\n",
       "       [ 1.94359358e-02, -6.82822456e-01,  6.69917268e-01,\n",
       "        -6.41315497e-04, -8.22331541e-01, -5.03852754e-01],\n",
       "       [ 4.09845654e-01, -7.06439552e-01,  5.73871583e-01,\n",
       "        -9.57930575e-01, -8.12411923e-01, -4.69448409e-01],\n",
       "       [-4.33813986e-01,  2.27133229e-01, -1.75961046e-01,\n",
       "         4.55734466e-03, -9.09610870e-01, -4.49312157e-01]])"
      ]
     },
     "execution_count": 96,
     "metadata": {},
     "output_type": "execute_result"
    }
   ],
   "source": [
    "bounded_test_x"
   ]
  },
  {
   "cell_type": "code",
   "execution_count": 97,
   "id": "e8f66a70",
   "metadata": {
    "scrolled": true
   },
   "outputs": [
    {
     "name": "stdout",
     "output_type": "stream",
     "text": [
      "157/157 [==============================] - 0s 2ms/step\n"
     ]
    }
   ],
   "source": [
    "pred = model.predict(bounded_test_x)"
   ]
  },
  {
   "cell_type": "code",
   "execution_count": 98,
   "id": "7868926b",
   "metadata": {
    "scrolled": true
   },
   "outputs": [
    {
     "data": {
      "text/plain": [
       "(5000, 6)"
      ]
     },
     "execution_count": 98,
     "metadata": {},
     "output_type": "execute_result"
    }
   ],
   "source": [
    "bounded_test_x.shape"
   ]
  },
  {
   "cell_type": "code",
   "execution_count": 99,
   "id": "586aba9f",
   "metadata": {},
   "outputs": [
    {
     "data": {
      "text/plain": [
       "(5000,)"
      ]
     },
     "execution_count": 99,
     "metadata": {},
     "output_type": "execute_result"
    }
   ],
   "source": [
    "bounded_test_y.shape"
   ]
  },
  {
   "cell_type": "code",
   "execution_count": 100,
   "id": "cf7fd404",
   "metadata": {},
   "outputs": [],
   "source": [
    "from sklearn.metrics import accuracy_score"
   ]
  },
  {
   "cell_type": "code",
   "execution_count": 101,
   "id": "e5d86f31",
   "metadata": {
    "scrolled": true
   },
   "outputs": [
    {
     "data": {
      "text/plain": [
       "0.7572"
      ]
     },
     "execution_count": 101,
     "metadata": {},
     "output_type": "execute_result"
    }
   ],
   "source": [
    "best_pred = np.where(pred[:,0] > 0.5, 1, 0)\n",
    "best_bounded_test_y = bounded_test_y\n",
    "\n",
    "accuracy_score(best_bounded_test_y, best_pred)"
   ]
  },
  {
   "cell_type": "code",
   "execution_count": 102,
   "id": "93c256a4",
   "metadata": {},
   "outputs": [
    {
     "data": {
      "text/plain": [
       "(5000,)"
      ]
     },
     "execution_count": 102,
     "metadata": {},
     "output_type": "execute_result"
    }
   ],
   "source": [
    "best_bounded_test_y.shape"
   ]
  },
  {
   "cell_type": "code",
   "execution_count": 59,
   "id": "36050ea1",
   "metadata": {},
   "outputs": [
    {
     "name": "stdout",
     "output_type": "stream",
     "text": [
      "Epoch 1/4\n",
      "  10/6250 [..............................] - ETA: 37s - loss: 0.6948 - accuracy: 0.5094  "
     ]
    },
    {
     "name": "stderr",
     "output_type": "stream",
     "text": [
      "2023-07-03 16:49:25.176596: I tensorflow/core/grappler/optimizers/custom_graph_optimizer_registry.cc:114] Plugin optimizer for device_type GPU is enabled.\n"
     ]
    },
    {
     "name": "stdout",
     "output_type": "stream",
     "text": [
      "6250/6250 [==============================] - ETA: 0s - loss: 0.5702 - accuracy: 0.6966"
     ]
    },
    {
     "name": "stderr",
     "output_type": "stream",
     "text": [
      "2023-07-03 16:49:59.580429: I tensorflow/core/grappler/optimizers/custom_graph_optimizer_registry.cc:114] Plugin optimizer for device_type GPU is enabled.\n"
     ]
    },
    {
     "name": "stdout",
     "output_type": "stream",
     "text": [
      "6250/6250 [==============================] - 40s 6ms/step - loss: 0.5702 - accuracy: 0.6966 - val_loss: 0.5182 - val_accuracy: 0.7345\n",
      "Epoch 2/4\n",
      "6250/6250 [==============================] - 39s 6ms/step - loss: 0.4910 - accuracy: 0.7536 - val_loss: 0.4743 - val_accuracy: 0.7635\n",
      "Epoch 3/4\n",
      "6250/6250 [==============================] - 40s 6ms/step - loss: 0.4757 - accuracy: 0.7607 - val_loss: 0.4719 - val_accuracy: 0.7607\n",
      "Epoch 4/4\n",
      "6250/6250 [==============================] - 38s 6ms/step - loss: 0.4735 - accuracy: 0.7620 - val_loss: 0.4647 - val_accuracy: 0.7687\n"
     ]
    },
    {
     "data": {
      "text/plain": [
       "<keras.callbacks.History at 0x2c6136070>"
      ]
     },
     "execution_count": 59,
     "metadata": {},
     "output_type": "execute_result"
    }
   ],
   "source": [
    "model2 = Sequential()\n",
    "model2.add(Dense(16, input_dim=X_train.shape[1], activation='relu')) # Input layer\n",
    "model2.add(Dense(16, activation='relu')) # Hidden layer\n",
    "model2.add(Dense(1, activation='sigmoid')) # Output layer\n",
    "model2.compile(loss='binary_crossentropy', optimizer='adam', metrics=['accuracy'])\n",
    "model2.fit(X_train, y_train, epochs=4, batch_size=32, validation_data=(X_test, y_test))"
   ]
  },
  {
   "cell_type": "code",
   "execution_count": 80,
   "id": "6977faa1",
   "metadata": {},
   "outputs": [],
   "source": [
    "weights_list2 = []\n",
    "biases_list2 = []\n",
    "\n",
    "# Iterate over the dense layers of the model\n",
    "for layer in model.layers:\n",
    "    # save all weights (including for the sigmoid layer)\n",
    "    if isinstance(layer, Dense):\n",
    "        weights, biases = layer.get_weights()\n",
    "        weights_list2.append(weights)\n",
    "        biases_list2.append(biases)"
   ]
  },
  {
   "cell_type": "code",
   "execution_count": 81,
   "id": "13b38adb",
   "metadata": {},
   "outputs": [],
   "source": [
    "save_weights(weights_list2, biases_list2, 'weights_and_biases_higgs2')"
   ]
  },
  {
   "cell_type": "code",
   "execution_count": 103,
   "id": "9cd7bfe0",
   "metadata": {},
   "outputs": [
    {
     "name": "stdout",
     "output_type": "stream",
     "text": [
      "157/157 [==============================] - 0s 2ms/step\n"
     ]
    },
    {
     "data": {
      "text/plain": [
       "0.766"
      ]
     },
     "execution_count": 103,
     "metadata": {},
     "output_type": "execute_result"
    }
   ],
   "source": [
    "pred = model2.predict(bounded_test_x)\n",
    "best_pred = np.where(pred[:,0] > 0.5, 1, 0)\n",
    "accuracy_score(best_bounded_test_y, best_pred)"
   ]
  },
  {
   "cell_type": "code",
   "execution_count": null,
   "id": "47c987e4",
   "metadata": {},
   "outputs": [],
   "source": []
  }
 ],
 "metadata": {
  "kernelspec": {
   "display_name": "Python 3.9 (tensorflow)",
   "language": "python",
   "name": "consistent-ml3"
  },
  "language_info": {
   "codemirror_mode": {
    "name": "ipython",
    "version": 3
   },
   "file_extension": ".py",
   "mimetype": "text/x-python",
   "name": "python",
   "nbconvert_exporter": "python",
   "pygments_lexer": "ipython3",
   "version": "3.9.13"
  }
 },
 "nbformat": 4,
 "nbformat_minor": 5
}
