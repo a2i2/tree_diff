{
 "cells": [
  {
   "cell_type": "markdown",
   "metadata": {
    "id": "b7LRFUfAHtu-"
   },
   "source": [
    "# Rule Set Similarity Metric\n",
    "Implemented from: https://ieeexplore.ieee.org/abstract/document/6550417"
   ]
  },
  {
   "cell_type": "code",
   "execution_count": null,
   "metadata": {},
   "outputs": [],
   "source": [
    "from tree_diff import similar_tree"
   ]
  },
  {
   "cell_type": "markdown",
   "metadata": {
    "id": "uEz47d420UpY"
   },
   "source": [
    "## Trees to Rule - Set Similarity Conversion"
   ]
  },
  {
   "cell_type": "code",
   "execution_count": 12,
   "metadata": {
    "id": "yyJ_XKbBIOAc"
   },
   "outputs": [],
   "source": [
    "# Compare three different type of trees with corresponding rule-set\n",
    "tree_1 = [('A','E','L31'),('A', 'B', 'C', 'L11'),('A','E','L32'),('A', 'B', 'C', 'L12'),('A', 'B', 'D', 'L21') ,('A', 'B', 'D', 'L22')]\n",
    "tree_2 = [('A','E','L31'),('A', 'B', 'C', 'F','L11'),('A','E','L32'),('A', 'B', 'C','F','L12'),('A', 'B', 'D', 'L21') ,('A', 'B', 'D', 'L22'),('A', 'B', 'C','G','L41'), ('A', 'B', 'C','G','L42')]\n",
    "tree_3 = [('A', 'C', 'B', 'F', 'L11'),('A', 'C', 'B', 'F', 'L12'), ('A', 'C', 'B', 'D', 'L21'),('A', 'C', 'B', 'D', 'L22'), ('A', 'C', 'G', 'L41'), ('A','C','G', 'L42'), ('A', 'E', 'L31'),('A', 'E', 'L32')]\n",
    "\n"
   ]
  },
  {
   "cell_type": "code",
   "execution_count": 17,
   "metadata": {},
   "outputs": [],
   "source": [
    "#convert tree to rules \n",
    "def tuple_to_rule(tup):\n",
    "    #return Rule(int(tup[-1][2]) % 2 == 0, [Condition(i, Operator.EQ, -1) for i in tup])\n",
    "    return similar_tree.Rule(int(tup[-1][2]) % 2 == 0, [similar_tree.Condition(i, similar_tree.Operator.EQ, -1) for i in tup[:-1]])\n",
    "\n",
    "\n",
    "ruleset1 = similar_tree.Ruleset([tuple_to_rule(rule) for rule in tree_1])\n",
    "ruleset2 = similar_tree.Ruleset([tuple_to_rule(rule) for rule in tree_2])\n",
    "ruleset3 = similar_tree.Ruleset([tuple_to_rule(rule) for rule in tree_3])"
   ]
  },
  {
   "cell_type": "code",
   "execution_count": 18,
   "metadata": {
    "colab": {
     "base_uri": "https://localhost:8080/"
    },
    "id": "jaYxfjr0IBq4",
    "outputId": "a3eb5e37-67a7-4298-9ff3-5204d883fb84"
   },
   "outputs": [
    {
     "data": {
      "text/plain": [
       "(0.5555555555555556, 0.875)"
      ]
     },
     "execution_count": 18,
     "metadata": {},
     "output_type": "execute_result"
    }
   ],
   "source": [
    "#Similarity between tree1 and tree3 also between tree2 and tree1 \n",
    "similar_tree.rule_set_similarity(ruleset1, ruleset3), similar_tree.rule_set_similarity(ruleset2, ruleset1)"
   ]
  }
 ],
 "metadata": {
  "colab": {
   "provenance": []
  },
  "kernelspec": {
   "display_name": "Python 3 (ipykernel)",
   "language": "python",
   "name": "python3"
  },
  "language_info": {
   "codemirror_mode": {
    "name": "ipython",
    "version": 3
   },
   "file_extension": ".py",
   "mimetype": "text/x-python",
   "name": "python",
   "nbconvert_exporter": "python",
   "pygments_lexer": "ipython3",
   "version": "3.8.12"
  }
 },
 "nbformat": 4,
 "nbformat_minor": 1
}
