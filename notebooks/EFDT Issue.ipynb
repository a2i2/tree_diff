{
 "cells": [
  {
   "cell_type": "code",
   "execution_count": 1,
   "id": "77fb1474",
   "metadata": {},
   "outputs": [],
   "source": [
    "import pandas as pd\n",
    "from sklearn.model_selection import train_test_split"
   ]
  },
  {
   "cell_type": "code",
   "execution_count": 2,
   "id": "2c30d408",
   "metadata": {},
   "outputs": [],
   "source": [
    "from river import evaluate\n",
    "from river import metrics\n",
    "from river import stream\n",
    "from river import tree as river_tree"
   ]
  },
  {
   "cell_type": "markdown",
   "id": "28229243",
   "metadata": {},
   "source": [
    "First download and extract UCI Skin segmentation dataset to DATA_DIR folder\n",
    "https://archive.ics.uci.edu/dataset/229/skin+segmentation"
   ]
  },
  {
   "cell_type": "code",
   "execution_count": 3,
   "id": "a9753c18",
   "metadata": {},
   "outputs": [],
   "source": [
    "DATA_DIR = \"../../datasets\"\n",
    "df = pd.read_csv(f\"{DATA_DIR}/skin+segmentation/Skin_NonSkin.txt\", names=[\"B\",\"G\",\"R\",\"CLASS\"], sep=\"\\t\")\n",
    "X = df[[\"B\",\"G\",\"R\"]]\n",
    "y = df[\"CLASS\"]"
   ]
  },
  {
   "cell_type": "code",
   "execution_count": 4,
   "id": "a40853ed",
   "metadata": {},
   "outputs": [],
   "source": [
    "X_train, X_test, y_train, y_test = train_test_split(X, y, test_size = 0.5, random_state=2)"
   ]
  },
  {
   "cell_type": "code",
   "execution_count": 5,
   "id": "65cc9972",
   "metadata": {
    "scrolled": false
   },
   "outputs": [
    {
     "data": {
      "text/html": [
       "<div>\n",
       "<style scoped>\n",
       "    .dataframe tbody tr th:only-of-type {\n",
       "        vertical-align: middle;\n",
       "    }\n",
       "\n",
       "    .dataframe tbody tr th {\n",
       "        vertical-align: top;\n",
       "    }\n",
       "\n",
       "    .dataframe thead th {\n",
       "        text-align: right;\n",
       "    }\n",
       "</style>\n",
       "<table border=\"1\" class=\"dataframe\">\n",
       "  <thead>\n",
       "    <tr style=\"text-align: right;\">\n",
       "      <th></th>\n",
       "      <th>B</th>\n",
       "      <th>G</th>\n",
       "      <th>R</th>\n",
       "    </tr>\n",
       "  </thead>\n",
       "  <tbody>\n",
       "    <tr>\n",
       "      <th>27784</th>\n",
       "      <td>58</td>\n",
       "      <td>119</td>\n",
       "      <td>183</td>\n",
       "    </tr>\n",
       "    <tr>\n",
       "      <th>227737</th>\n",
       "      <td>55</td>\n",
       "      <td>60</td>\n",
       "      <td>21</td>\n",
       "    </tr>\n",
       "    <tr>\n",
       "      <th>144796</th>\n",
       "      <td>197</td>\n",
       "      <td>195</td>\n",
       "      <td>160</td>\n",
       "    </tr>\n",
       "    <tr>\n",
       "      <th>24015</th>\n",
       "      <td>73</td>\n",
       "      <td>111</td>\n",
       "      <td>165</td>\n",
       "    </tr>\n",
       "    <tr>\n",
       "      <th>43514</th>\n",
       "      <td>113</td>\n",
       "      <td>150</td>\n",
       "      <td>218</td>\n",
       "    </tr>\n",
       "    <tr>\n",
       "      <th>...</th>\n",
       "      <td>...</td>\n",
       "      <td>...</td>\n",
       "      <td>...</td>\n",
       "    </tr>\n",
       "    <tr>\n",
       "      <th>175638</th>\n",
       "      <td>149</td>\n",
       "      <td>152</td>\n",
       "      <td>103</td>\n",
       "    </tr>\n",
       "    <tr>\n",
       "      <th>95816</th>\n",
       "      <td>33</td>\n",
       "      <td>34</td>\n",
       "      <td>8</td>\n",
       "    </tr>\n",
       "    <tr>\n",
       "      <th>203245</th>\n",
       "      <td>73</td>\n",
       "      <td>75</td>\n",
       "      <td>33</td>\n",
       "    </tr>\n",
       "    <tr>\n",
       "      <th>100879</th>\n",
       "      <td>32</td>\n",
       "      <td>33</td>\n",
       "      <td>7</td>\n",
       "    </tr>\n",
       "    <tr>\n",
       "      <th>89256</th>\n",
       "      <td>177</td>\n",
       "      <td>177</td>\n",
       "      <td>129</td>\n",
       "    </tr>\n",
       "  </tbody>\n",
       "</table>\n",
       "<p>122528 rows × 3 columns</p>\n",
       "</div>"
      ],
      "text/plain": [
       "          B    G    R\n",
       "27784    58  119  183\n",
       "227737   55   60   21\n",
       "144796  197  195  160\n",
       "24015    73  111  165\n",
       "43514   113  150  218\n",
       "...     ...  ...  ...\n",
       "175638  149  152  103\n",
       "95816    33   34    8\n",
       "203245   73   75   33\n",
       "100879   32   33    7\n",
       "89256   177  177  129\n",
       "\n",
       "[122528 rows x 3 columns]"
      ]
     },
     "execution_count": 5,
     "metadata": {},
     "output_type": "execute_result"
    }
   ],
   "source": [
    "X_train"
   ]
  },
  {
   "cell_type": "code",
   "execution_count": 6,
   "id": "7a32793e",
   "metadata": {},
   "outputs": [
    {
     "data": {
      "text/plain": [
       "27784     1\n",
       "227737    2\n",
       "144796    2\n",
       "24015     1\n",
       "43514     1\n",
       "         ..\n",
       "175638    2\n",
       "95816     2\n",
       "203245    2\n",
       "100879    2\n",
       "89256     2\n",
       "Name: CLASS, Length: 122528, dtype: int64"
      ]
     },
     "execution_count": 6,
     "metadata": {},
     "output_type": "execute_result"
    }
   ],
   "source": [
    "y_train"
   ]
  },
  {
   "cell_type": "code",
   "execution_count": 7,
   "id": "dee64e0e",
   "metadata": {
    "scrolled": true
   },
   "outputs": [],
   "source": [
    "model = river_tree.ExtremelyFastDecisionTreeClassifier(\n",
    "    leaf_prediction = 'mc'\n",
    ")"
   ]
  },
  {
   "cell_type": "code",
   "execution_count": 8,
   "id": "18d2f09d",
   "metadata": {},
   "outputs": [],
   "source": [
    "metric = metrics.Accuracy()"
   ]
  },
  {
   "cell_type": "code",
   "execution_count": 9,
   "id": "9d1b6fab",
   "metadata": {
    "scrolled": true
   },
   "outputs": [
    {
     "data": {
      "text/plain": [
       "Accuracy: 85.74%"
      ]
     },
     "execution_count": 9,
     "metadata": {},
     "output_type": "execute_result"
    }
   ],
   "source": [
    "# Test on small dataset of 2,000 samples (works fine)\n",
    "evaluate.progressive_val_score(stream.iter_pandas(X_train.iloc[:2000], y_train.iloc[:2000]), model, metric)"
   ]
  },
  {
   "cell_type": "code",
   "execution_count": 10,
   "id": "43f6c072",
   "metadata": {},
   "outputs": [
    {
     "data": {
      "image/svg+xml": [
       "<?xml version=\"1.0\" encoding=\"UTF-8\" standalone=\"no\"?>\n",
       "<!DOCTYPE svg PUBLIC \"-//W3C//DTD SVG 1.1//EN\"\n",
       " \"http://www.w3.org/Graphics/SVG/1.1/DTD/svg11.dtd\">\n",
       "<!-- Generated by graphviz version 2.50.0 (0)\n",
       " -->\n",
       "<!-- Pages: 1 -->\n",
       "<svg width=\"368pt\" height=\"284pt\"\n",
       " viewBox=\"0.00 0.00 368.00 284.00\" xmlns=\"http://www.w3.org/2000/svg\" xmlns:xlink=\"http://www.w3.org/1999/xlink\">\n",
       "<g id=\"graph0\" class=\"graph\" transform=\"scale(1 1) rotate(0) translate(4 280)\">\n",
       "<polygon fill=\"white\" stroke=\"transparent\" points=\"-4,4 -4,-280 364,-280 364,4 -4,4\"/>\n",
       "<!-- 0 -->\n",
       "<g id=\"node1\" class=\"node\">\n",
       "<title>0</title>\n",
       "<polygon fill=\"#f1b992\" stroke=\"black\" stroke-width=\"1.2\" points=\"199,-276 145,-276 145,-240 199,-240 199,-276\"/>\n",
       "<text text-anchor=\"middle\" x=\"172\" y=\"-255.2\" font-family=\"trebuchet\" font-size=\"11.00\">R</text>\n",
       "</g>\n",
       "<!-- 1 -->\n",
       "<g id=\"node2\" class=\"node\">\n",
       "<title>1</title>\n",
       "<polygon fill=\"#e89051\" stroke=\"black\" stroke-width=\"1.2\" points=\"156,-204 102,-204 102,-168 156,-168 156,-204\"/>\n",
       "<text text-anchor=\"middle\" x=\"129\" y=\"-183.2\" font-family=\"trebuchet\" font-size=\"11.00\">R</text>\n",
       "</g>\n",
       "<!-- 0&#45;&gt;1 -->\n",
       "<g id=\"edge1\" class=\"edge\">\n",
       "<title>0&#45;&gt;1</title>\n",
       "<path fill=\"none\" stroke=\"black\" stroke-width=\"0.6\" d=\"M150.5,-239.83C150.5,-239.83 150.5,-214.41 150.5,-214.41\"/>\n",
       "<polygon fill=\"black\" stroke=\"black\" stroke-width=\"0.6\" points=\"154,-214.41 150.5,-204.41 147,-214.41 154,-214.41\"/>\n",
       "<text text-anchor=\"middle\" x=\"129\" y=\"-229.52\" font-family=\"Times,serif\" font-size=\"7.00\">≤ 162.2727</text>\n",
       "</g>\n",
       "<!-- 6 -->\n",
       "<g id=\"node7\" class=\"node\">\n",
       "<title>6</title>\n",
       "<polygon fill=\"#c1e0f7\" stroke=\"black\" stroke-width=\"1.2\" points=\"243,-204 189,-204 189,-168 243,-168 243,-204\"/>\n",
       "<text text-anchor=\"middle\" x=\"216\" y=\"-183.2\" font-family=\"trebuchet\" font-size=\"11.00\">G</text>\n",
       "</g>\n",
       "<!-- 0&#45;&gt;6 -->\n",
       "<g id=\"edge6\" class=\"edge\">\n",
       "<title>0&#45;&gt;6</title>\n",
       "<path fill=\"none\" stroke=\"black\" stroke-width=\"0.6\" d=\"M194,-239.83C194,-239.83 194,-214.41 194,-214.41\"/>\n",
       "<polygon fill=\"black\" stroke=\"black\" stroke-width=\"0.6\" points=\"197.5,-214.41 194,-204.41 190.5,-214.41 197.5,-214.41\"/>\n",
       "<text text-anchor=\"middle\" x=\"172.5\" y=\"-229.52\" font-family=\"Times,serif\" font-size=\"7.00\">&gt; 162.2727</text>\n",
       "</g>\n",
       "<!-- 2 -->\n",
       "<g id=\"node3\" class=\"node\">\n",
       "<title>2</title>\n",
       "<polygon fill=\"#e58139\" stroke=\"black\" stroke-width=\"1.2\" points=\"84,-126 0,-126 0,-90 84,-90 84,-126\"/>\n",
       "<text text-anchor=\"middle\" x=\"42\" y=\"-117.2\" font-family=\"trebuchet\" font-size=\"11.00\">Class 2:</text>\n",
       "<text text-anchor=\"middle\" x=\"42\" y=\"-105.2\" font-family=\"trebuchet\" font-size=\"11.00\">\tP(2) = 1.0</text>\n",
       "<text text-anchor=\"middle\" x=\"42\" y=\"-93.2\" font-family=\"trebuchet\" font-size=\"11.00\">samples: 853</text>\n",
       "</g>\n",
       "<!-- 1&#45;&gt;2 -->\n",
       "<g id=\"edge2\" class=\"edge\">\n",
       "<title>1&#45;&gt;2</title>\n",
       "<path fill=\"none\" stroke=\"black\" stroke-width=\"0.6\" d=\"M101.95,-186C76.41,-186 42,-186 42,-186 42,-186 42,-136.09 42,-136.09\"/>\n",
       "<polygon fill=\"black\" stroke=\"black\" stroke-width=\"0.6\" points=\"45.5,-136.09 42,-126.09 38.5,-136.09 45.5,-136.09\"/>\n",
       "<text text-anchor=\"middle\" x=\"25.52\" y=\"-188.4\" font-family=\"Times,serif\" font-size=\"7.00\">≤ 117.8182</text>\n",
       "</g>\n",
       "<!-- 3 -->\n",
       "<g id=\"node4\" class=\"node\">\n",
       "<title>3</title>\n",
       "<polygon fill=\"#eeac7d\" stroke=\"black\" stroke-width=\"1.2\" points=\"156,-126 102,-126 102,-90 156,-90 156,-126\"/>\n",
       "<text text-anchor=\"middle\" x=\"129\" y=\"-105.2\" font-family=\"trebuchet\" font-size=\"11.00\">B</text>\n",
       "</g>\n",
       "<!-- 1&#45;&gt;3 -->\n",
       "<g id=\"edge3\" class=\"edge\">\n",
       "<title>1&#45;&gt;3</title>\n",
       "<path fill=\"none\" stroke=\"black\" stroke-width=\"0.6\" d=\"M129,-167.91C129,-167.91 129,-136.26 129,-136.26\"/>\n",
       "<polygon fill=\"black\" stroke=\"black\" stroke-width=\"0.6\" points=\"132.5,-136.26 129,-126.26 125.5,-136.26 132.5,-136.26\"/>\n",
       "<text text-anchor=\"middle\" x=\"107.5\" y=\"-154.49\" font-family=\"Times,serif\" font-size=\"7.00\">&gt; 117.8182</text>\n",
       "</g>\n",
       "<!-- 4 -->\n",
       "<g id=\"node5\" class=\"node\">\n",
       "<title>4</title>\n",
       "<polygon fill=\"#47a4e7\" stroke=\"black\" stroke-width=\"1.2\" points=\"120,-48 36,-48 36,0 120,0 120,-48\"/>\n",
       "<text text-anchor=\"middle\" x=\"78\" y=\"-39.2\" font-family=\"trebuchet\" font-size=\"11.00\">Class 1:</text>\n",
       "<text text-anchor=\"middle\" x=\"78\" y=\"-27.2\" font-family=\"trebuchet\" font-size=\"11.00\">\tP(1) = 1.0</text>\n",
       "<text text-anchor=\"middle\" x=\"78\" y=\"-15.2\" font-family=\"trebuchet\" font-size=\"11.00\">\tP(2) = 0.0</text>\n",
       "<text text-anchor=\"middle\" x=\"78\" y=\"-3.2\" font-family=\"trebuchet\" font-size=\"11.00\">samples: 29</text>\n",
       "</g>\n",
       "<!-- 3&#45;&gt;4 -->\n",
       "<g id=\"edge4\" class=\"edge\">\n",
       "<title>3&#45;&gt;4</title>\n",
       "<path fill=\"none\" stroke=\"black\" stroke-width=\"0.6\" d=\"M111,-89.77C111,-89.77 111,-58.25 111,-58.25\"/>\n",
       "<polygon fill=\"black\" stroke=\"black\" stroke-width=\"0.6\" points=\"114.5,-58.25 111,-48.25 107.5,-58.25 114.5,-58.25\"/>\n",
       "<text text-anchor=\"middle\" x=\"92\" y=\"-76.41\" font-family=\"Times,serif\" font-size=\"7.00\">≤ 85.0909</text>\n",
       "</g>\n",
       "<!-- 5 -->\n",
       "<g id=\"node6\" class=\"node\">\n",
       "<title>5</title>\n",
       "<polygon fill=\"#e5833c\" stroke=\"black\" stroke-width=\"1.2\" points=\"222,-48 138,-48 138,0 222,0 222,-48\"/>\n",
       "<text text-anchor=\"middle\" x=\"180\" y=\"-39.2\" font-family=\"trebuchet\" font-size=\"11.00\">Class 2:</text>\n",
       "<text text-anchor=\"middle\" x=\"180\" y=\"-27.2\" font-family=\"trebuchet\" font-size=\"11.00\">\tP(1) = 0.0</text>\n",
       "<text text-anchor=\"middle\" x=\"180\" y=\"-15.2\" font-family=\"trebuchet\" font-size=\"11.00\">\tP(2) = 1.0</text>\n",
       "<text text-anchor=\"middle\" x=\"180\" y=\"-3.2\" font-family=\"trebuchet\" font-size=\"11.00\">samples: 192</text>\n",
       "</g>\n",
       "<!-- 3&#45;&gt;5 -->\n",
       "<g id=\"edge5\" class=\"edge\">\n",
       "<title>3&#45;&gt;5</title>\n",
       "<path fill=\"none\" stroke=\"black\" stroke-width=\"0.6\" d=\"M147,-89.77C147,-89.77 147,-58.25 147,-58.25\"/>\n",
       "<polygon fill=\"black\" stroke=\"black\" stroke-width=\"0.6\" points=\"150.5,-58.25 147,-48.25 143.5,-58.25 150.5,-58.25\"/>\n",
       "<text text-anchor=\"middle\" x=\"128\" y=\"-68.41\" font-family=\"Times,serif\" font-size=\"7.00\">&gt; 85.0909</text>\n",
       "</g>\n",
       "<!-- 7 -->\n",
       "<g id=\"node8\" class=\"node\">\n",
       "<title>7</title>\n",
       "<polygon fill=\"#e58139\" stroke=\"black\" stroke-width=\"1.2\" points=\"258,-126 174,-126 174,-90 258,-90 258,-126\"/>\n",
       "<text text-anchor=\"middle\" x=\"216\" y=\"-117.2\" font-family=\"trebuchet\" font-size=\"11.00\">Class 2:</text>\n",
       "<text text-anchor=\"middle\" x=\"216\" y=\"-105.2\" font-family=\"trebuchet\" font-size=\"11.00\">\tP(2) = 1.0</text>\n",
       "<text text-anchor=\"middle\" x=\"216\" y=\"-93.2\" font-family=\"trebuchet\" font-size=\"11.00\">samples: 37</text>\n",
       "</g>\n",
       "<!-- 6&#45;&gt;7 -->\n",
       "<g id=\"edge7\" class=\"edge\">\n",
       "<title>6&#45;&gt;7</title>\n",
       "<path fill=\"none\" stroke=\"black\" stroke-width=\"0.6\" d=\"M216,-167.91C216,-167.91 216,-136.26 216,-136.26\"/>\n",
       "<polygon fill=\"black\" stroke=\"black\" stroke-width=\"0.6\" points=\"219.5,-136.26 216,-126.26 212.5,-136.26 219.5,-136.26\"/>\n",
       "<text text-anchor=\"middle\" x=\"197\" y=\"-154.49\" font-family=\"Times,serif\" font-size=\"7.00\">≤ 92.7273</text>\n",
       "</g>\n",
       "<!-- 8 -->\n",
       "<g id=\"node9\" class=\"node\">\n",
       "<title>8</title>\n",
       "<polygon fill=\"#a7d3f3\" stroke=\"black\" stroke-width=\"1.2\" points=\"360,-132 276,-132 276,-84 360,-84 360,-132\"/>\n",
       "<text text-anchor=\"middle\" x=\"318\" y=\"-123.2\" font-family=\"trebuchet\" font-size=\"11.00\">Class 1:</text>\n",
       "<text text-anchor=\"middle\" x=\"318\" y=\"-111.2\" font-family=\"trebuchet\" font-size=\"11.00\">\tP(1) = 0.7</text>\n",
       "<text text-anchor=\"middle\" x=\"318\" y=\"-99.2\" font-family=\"trebuchet\" font-size=\"11.00\">\tP(2) = 0.3</text>\n",
       "<text text-anchor=\"middle\" x=\"318\" y=\"-87.2\" font-family=\"trebuchet\" font-size=\"11.00\">samples: 435</text>\n",
       "</g>\n",
       "<!-- 6&#45;&gt;8 -->\n",
       "<g id=\"edge8\" class=\"edge\">\n",
       "<title>6&#45;&gt;8</title>\n",
       "<path fill=\"none\" stroke=\"black\" stroke-width=\"0.6\" d=\"M243.07,-186C273.28,-186 318,-186 318,-186 318,-186 318,-142.25 318,-142.25\"/>\n",
       "<polygon fill=\"black\" stroke=\"black\" stroke-width=\"0.6\" points=\"321.5,-142.25 318,-132.25 314.5,-142.25 321.5,-142.25\"/>\n",
       "<text text-anchor=\"middle\" x=\"283.41\" y=\"-188.4\" font-family=\"Times,serif\" font-size=\"7.00\">&gt; 92.7273</text>\n",
       "</g>\n",
       "</g>\n",
       "</svg>\n"
      ],
      "text/plain": [
       "<graphviz.graphs.Digraph at 0x7f043b0bb910>"
      ]
     },
     "execution_count": 10,
     "metadata": {},
     "output_type": "execute_result"
    }
   ],
   "source": [
    "model.draw()"
   ]
  },
  {
   "cell_type": "code",
   "execution_count": 11,
   "id": "aa71ba93",
   "metadata": {},
   "outputs": [],
   "source": [
    "metric = metrics.Accuracy()"
   ]
  },
  {
   "cell_type": "code",
   "execution_count": 12,
   "id": "47c0f4a6",
   "metadata": {},
   "outputs": [],
   "source": [
    "model2 = river_tree.ExtremelyFastDecisionTreeClassifier(\n",
    "    leaf_prediction = 'mc'\n",
    ")"
   ]
  },
  {
   "cell_type": "code",
   "execution_count": 13,
   "id": "8003b5cb",
   "metadata": {},
   "outputs": [],
   "source": [
    "metric2 = metrics.Accuracy()"
   ]
  },
  {
   "cell_type": "code",
   "execution_count": 14,
   "id": "da4db38e",
   "metadata": {
    "scrolled": false
   },
   "outputs": [
    {
     "name": "stderr",
     "output_type": "stream",
     "text": [
      "/tmp/ipykernel_22874/2654536960.py:2: FutureWarning: The behavior of `series[i:j]` with an integer-dtype index is deprecated. In a future version, this will be treated as *label-based* indexing, consistent with e.g. `series[i]` lookups. To retain the old behavior, use `series.iloc[i:j]`. To get the future behavior, use `series.loc[i:j]`.\n",
      "  evaluate.progressive_val_score(stream.iter_pandas(X_train[:10000], y_train[:10000]), model2, metric2)\n"
     ]
    },
    {
     "ename": "TypeError",
     "evalue": "'NoneType' object is not iterable",
     "output_type": "error",
     "traceback": [
      "\u001b[0;31m---------------------------------------------------------------------------\u001b[0m",
      "\u001b[0;31mTypeError\u001b[0m                                 Traceback (most recent call last)",
      "Cell \u001b[0;32mIn[14], line 2\u001b[0m\n\u001b[1;32m      1\u001b[0m \u001b[38;5;66;03m# Test on a large dataset of 10,000 samples (triggers bug in EFDT)\u001b[39;00m\n\u001b[0;32m----> 2\u001b[0m \u001b[43mevaluate\u001b[49m\u001b[38;5;241;43m.\u001b[39;49m\u001b[43mprogressive_val_score\u001b[49m\u001b[43m(\u001b[49m\u001b[43mstream\u001b[49m\u001b[38;5;241;43m.\u001b[39;49m\u001b[43miter_pandas\u001b[49m\u001b[43m(\u001b[49m\u001b[43mX_train\u001b[49m\u001b[43m[\u001b[49m\u001b[43m:\u001b[49m\u001b[38;5;241;43m10000\u001b[39;49m\u001b[43m]\u001b[49m\u001b[43m,\u001b[49m\u001b[43m \u001b[49m\u001b[43my_train\u001b[49m\u001b[43m[\u001b[49m\u001b[43m:\u001b[49m\u001b[38;5;241;43m10000\u001b[39;49m\u001b[43m]\u001b[49m\u001b[43m)\u001b[49m\u001b[43m,\u001b[49m\u001b[43m \u001b[49m\u001b[43mmodel2\u001b[49m\u001b[43m,\u001b[49m\u001b[43m \u001b[49m\u001b[43mmetric2\u001b[49m\u001b[43m)\u001b[49m\n",
      "File \u001b[0;32m~/anaconda3/envs/trees/lib/python3.10/site-packages/river/evaluate/progressive_validation.py:368\u001b[0m, in \u001b[0;36mprogressive_val_score\u001b[0;34m(dataset, model, metric, moment, delay, print_every, show_time, show_memory, **print_kwargs)\u001b[0m\n\u001b[1;32m    355\u001b[0m checkpoints \u001b[38;5;241m=\u001b[39m iter_progressive_val_score(\n\u001b[1;32m    356\u001b[0m     dataset\u001b[38;5;241m=\u001b[39mdataset,\n\u001b[1;32m    357\u001b[0m     model\u001b[38;5;241m=\u001b[39mmodel,\n\u001b[0;32m   (...)\u001b[0m\n\u001b[1;32m    363\u001b[0m     measure_memory\u001b[38;5;241m=\u001b[39mshow_memory,\n\u001b[1;32m    364\u001b[0m )\n\u001b[1;32m    366\u001b[0m active_learning \u001b[38;5;241m=\u001b[39m utils\u001b[38;5;241m.\u001b[39minspect\u001b[38;5;241m.\u001b[39misactivelearner(model)\n\u001b[0;32m--> 368\u001b[0m \u001b[38;5;28;01mfor\u001b[39;00m checkpoint \u001b[38;5;129;01min\u001b[39;00m checkpoints:\n\u001b[1;32m    369\u001b[0m     msg \u001b[38;5;241m=\u001b[39m \u001b[38;5;124mf\u001b[39m\u001b[38;5;124m\"\u001b[39m\u001b[38;5;124m[\u001b[39m\u001b[38;5;132;01m{\u001b[39;00mcheckpoint[\u001b[38;5;124m'\u001b[39m\u001b[38;5;124mStep\u001b[39m\u001b[38;5;124m'\u001b[39m]\u001b[38;5;132;01m:\u001b[39;00m\u001b[38;5;124m,d\u001b[39m\u001b[38;5;132;01m}\u001b[39;00m\u001b[38;5;124m] \u001b[39m\u001b[38;5;132;01m{\u001b[39;00mmetric\u001b[38;5;132;01m}\u001b[39;00m\u001b[38;5;124m\"\u001b[39m\n\u001b[1;32m    370\u001b[0m     \u001b[38;5;28;01mif\u001b[39;00m active_learning:\n",
      "File \u001b[0;32m~/anaconda3/envs/trees/lib/python3.10/site-packages/river/evaluate/progressive_validation.py:190\u001b[0m, in \u001b[0;36miter_progressive_val_score\u001b[0;34m(dataset, model, metric, moment, delay, step, measure_time, measure_memory)\u001b[0m\n\u001b[1;32m    102\u001b[0m \u001b[38;5;28;01mdef\u001b[39;00m \u001b[38;5;21miter_progressive_val_score\u001b[39m(\n\u001b[1;32m    103\u001b[0m     dataset: base\u001b[38;5;241m.\u001b[39mtyping\u001b[38;5;241m.\u001b[39mDataset,\n\u001b[1;32m    104\u001b[0m     model,\n\u001b[0;32m   (...)\u001b[0m\n\u001b[1;32m    110\u001b[0m     measure_memory\u001b[38;5;241m=\u001b[39m\u001b[38;5;28;01mFalse\u001b[39;00m,\n\u001b[1;32m    111\u001b[0m ) \u001b[38;5;241m-\u001b[39m\u001b[38;5;241m>\u001b[39m typing\u001b[38;5;241m.\u001b[39mGenerator:\n\u001b[1;32m    112\u001b[0m     \u001b[38;5;124;03m\"\"\"Evaluates the performance of a model on a streaming dataset and yields results.\u001b[39;00m\n\u001b[1;32m    113\u001b[0m \n\u001b[1;32m    114\u001b[0m \u001b[38;5;124;03m    This does exactly the same as `evaluate.progressive_val_score`. The only difference is that\u001b[39;00m\n\u001b[0;32m   (...)\u001b[0m\n\u001b[1;32m    187\u001b[0m \n\u001b[1;32m    188\u001b[0m \u001b[38;5;124;03m    \"\"\"\u001b[39;00m\n\u001b[0;32m--> 190\u001b[0m     \u001b[38;5;28;01myield from\u001b[39;00m _progressive_validation(\n\u001b[1;32m    191\u001b[0m         dataset,\n\u001b[1;32m    192\u001b[0m         model,\n\u001b[1;32m    193\u001b[0m         metric,\n\u001b[1;32m    194\u001b[0m         checkpoints\u001b[38;5;241m=\u001b[39mitertools\u001b[38;5;241m.\u001b[39mcount(step, step) \u001b[38;5;28;01mif\u001b[39;00m step \u001b[38;5;28;01melse\u001b[39;00m \u001b[38;5;28miter\u001b[39m([]),\n\u001b[1;32m    195\u001b[0m         moment\u001b[38;5;241m=\u001b[39mmoment,\n\u001b[1;32m    196\u001b[0m         delay\u001b[38;5;241m=\u001b[39mdelay,\n\u001b[1;32m    197\u001b[0m         measure_time\u001b[38;5;241m=\u001b[39mmeasure_time,\n\u001b[1;32m    198\u001b[0m         measure_memory\u001b[38;5;241m=\u001b[39mmeasure_memory,\n\u001b[1;32m    199\u001b[0m     )\n",
      "File \u001b[0;32m~/anaconda3/envs/trees/lib/python3.10/site-packages/river/evaluate/progressive_validation.py:86\u001b[0m, in \u001b[0;36m_progressive_validation\u001b[0;34m(dataset, model, metric, checkpoints, moment, delay, measure_time, measure_memory)\u001b[0m\n\u001b[1;32m     84\u001b[0m n_samples_learned \u001b[38;5;241m+\u001b[39m\u001b[38;5;241m=\u001b[39m \u001b[38;5;241m1\u001b[39m\n\u001b[1;32m     85\u001b[0m \u001b[38;5;28;01mif\u001b[39;00m model\u001b[38;5;241m.\u001b[39m_supervised:\n\u001b[0;32m---> 86\u001b[0m     \u001b[43mmodel\u001b[49m\u001b[38;5;241;43m.\u001b[39;49m\u001b[43mlearn_one\u001b[49m\u001b[43m(\u001b[49m\u001b[43mx\u001b[49m\u001b[43m,\u001b[49m\u001b[43m \u001b[49m\u001b[43my\u001b[49m\u001b[43m,\u001b[49m\u001b[43m \u001b[49m\u001b[38;5;241;43m*\u001b[39;49m\u001b[38;5;241;43m*\u001b[39;49m\u001b[43mkwargs\u001b[49m\u001b[43m)\u001b[49m\n\u001b[1;32m     87\u001b[0m \u001b[38;5;28;01melse\u001b[39;00m:\n\u001b[1;32m     88\u001b[0m     model\u001b[38;5;241m.\u001b[39mlearn_one(x, \u001b[38;5;241m*\u001b[39m\u001b[38;5;241m*\u001b[39mkwargs)\n",
      "File \u001b[0;32m~/anaconda3/envs/trees/lib/python3.10/site-packages/river/tree/extremely_fast_decision_tree.py:235\u001b[0m, in \u001b[0;36mExtremelyFastDecisionTreeClassifier.learn_one\u001b[0;34m(self, x, y, sample_weight)\u001b[0m\n\u001b[1;32m    233\u001b[0m \u001b[38;5;28mself\u001b[39m\u001b[38;5;241m.\u001b[39m_sort_to_leaf(x, y, sample_weight)\n\u001b[1;32m    234\u001b[0m \u001b[38;5;66;03m# Process all nodes, starting from root to the leaf where the instance x belongs.\u001b[39;00m\n\u001b[0;32m--> 235\u001b[0m \u001b[38;5;28;43mself\u001b[39;49m\u001b[38;5;241;43m.\u001b[39;49m\u001b[43m_process_nodes\u001b[49m\u001b[43m(\u001b[49m\u001b[43mx\u001b[49m\u001b[43m,\u001b[49m\u001b[43m \u001b[49m\u001b[43my\u001b[49m\u001b[43m,\u001b[49m\u001b[43m \u001b[49m\u001b[43msample_weight\u001b[49m\u001b[43m,\u001b[49m\u001b[43m \u001b[49m\u001b[38;5;28;43mself\u001b[39;49m\u001b[38;5;241;43m.\u001b[39;49m\u001b[43m_root\u001b[49m\u001b[43m,\u001b[49m\u001b[43m \u001b[49m\u001b[38;5;28;43;01mNone\u001b[39;49;00m\u001b[43m,\u001b[49m\u001b[43m \u001b[49m\u001b[38;5;28;43;01mNone\u001b[39;49;00m\u001b[43m)\u001b[49m\n\u001b[1;32m    237\u001b[0m \u001b[38;5;28;01mreturn\u001b[39;00m \u001b[38;5;28mself\u001b[39m\n",
      "File \u001b[0;32m~/anaconda3/envs/trees/lib/python3.10/site-packages/river/tree/extremely_fast_decision_tree.py:334\u001b[0m, in \u001b[0;36mExtremelyFastDecisionTreeClassifier._process_nodes\u001b[0;34m(self, x, y, sample_weight, node, parent, branch_index)\u001b[0m\n\u001b[1;32m    332\u001b[0m         \u001b[38;5;28;01mexcept\u001b[39;00m \u001b[38;5;167;01mKeyError\u001b[39;00m:\n\u001b[1;32m    333\u001b[0m             child_index, child \u001b[38;5;241m=\u001b[39m node\u001b[38;5;241m.\u001b[39mmost_common_path()\n\u001b[0;32m--> 334\u001b[0m         \u001b[38;5;28;43mself\u001b[39;49m\u001b[38;5;241;43m.\u001b[39;49m\u001b[43m_process_nodes\u001b[49m\u001b[43m(\u001b[49m\u001b[43mx\u001b[49m\u001b[43m,\u001b[49m\u001b[43m \u001b[49m\u001b[43my\u001b[49m\u001b[43m,\u001b[49m\u001b[43m \u001b[49m\u001b[43msample_weight\u001b[49m\u001b[43m,\u001b[49m\u001b[43m \u001b[49m\u001b[43mchild\u001b[49m\u001b[43m,\u001b[49m\u001b[43m \u001b[49m\u001b[43mnode\u001b[49m\u001b[43m,\u001b[49m\u001b[43m \u001b[49m\u001b[43mchild_index\u001b[49m\u001b[43m)\u001b[49m\n\u001b[1;32m    335\u001b[0m \u001b[38;5;28;01melif\u001b[39;00m \u001b[38;5;28mself\u001b[39m\u001b[38;5;241m.\u001b[39m_growth_allowed \u001b[38;5;129;01mand\u001b[39;00m node\u001b[38;5;241m.\u001b[39mis_active():\n\u001b[1;32m    336\u001b[0m     \u001b[38;5;28;01mif\u001b[39;00m node\u001b[38;5;241m.\u001b[39mdepth \u001b[38;5;241m>\u001b[39m\u001b[38;5;241m=\u001b[39m \u001b[38;5;28mself\u001b[39m\u001b[38;5;241m.\u001b[39mmax_depth:  \u001b[38;5;66;03m# Max depth reached\u001b[39;00m\n",
      "File \u001b[0;32m~/anaconda3/envs/trees/lib/python3.10/site-packages/river/tree/extremely_fast_decision_tree.py:334\u001b[0m, in \u001b[0;36mExtremelyFastDecisionTreeClassifier._process_nodes\u001b[0;34m(self, x, y, sample_weight, node, parent, branch_index)\u001b[0m\n\u001b[1;32m    332\u001b[0m         \u001b[38;5;28;01mexcept\u001b[39;00m \u001b[38;5;167;01mKeyError\u001b[39;00m:\n\u001b[1;32m    333\u001b[0m             child_index, child \u001b[38;5;241m=\u001b[39m node\u001b[38;5;241m.\u001b[39mmost_common_path()\n\u001b[0;32m--> 334\u001b[0m         \u001b[38;5;28;43mself\u001b[39;49m\u001b[38;5;241;43m.\u001b[39;49m\u001b[43m_process_nodes\u001b[49m\u001b[43m(\u001b[49m\u001b[43mx\u001b[49m\u001b[43m,\u001b[49m\u001b[43m \u001b[49m\u001b[43my\u001b[49m\u001b[43m,\u001b[49m\u001b[43m \u001b[49m\u001b[43msample_weight\u001b[49m\u001b[43m,\u001b[49m\u001b[43m \u001b[49m\u001b[43mchild\u001b[49m\u001b[43m,\u001b[49m\u001b[43m \u001b[49m\u001b[43mnode\u001b[49m\u001b[43m,\u001b[49m\u001b[43m \u001b[49m\u001b[43mchild_index\u001b[49m\u001b[43m)\u001b[49m\n\u001b[1;32m    335\u001b[0m \u001b[38;5;28;01melif\u001b[39;00m \u001b[38;5;28mself\u001b[39m\u001b[38;5;241m.\u001b[39m_growth_allowed \u001b[38;5;129;01mand\u001b[39;00m node\u001b[38;5;241m.\u001b[39mis_active():\n\u001b[1;32m    336\u001b[0m     \u001b[38;5;28;01mif\u001b[39;00m node\u001b[38;5;241m.\u001b[39mdepth \u001b[38;5;241m>\u001b[39m\u001b[38;5;241m=\u001b[39m \u001b[38;5;28mself\u001b[39m\u001b[38;5;241m.\u001b[39mmax_depth:  \u001b[38;5;66;03m# Max depth reached\u001b[39;00m\n",
      "File \u001b[0;32m~/anaconda3/envs/trees/lib/python3.10/site-packages/river/tree/extremely_fast_decision_tree.py:345\u001b[0m, in \u001b[0;36mExtremelyFastDecisionTreeClassifier._process_nodes\u001b[0;34m(self, x, y, sample_weight, node, parent, branch_index)\u001b[0m\n\u001b[1;32m    342\u001b[0m weight_diff \u001b[38;5;241m=\u001b[39m weight_seen \u001b[38;5;241m-\u001b[39m node\u001b[38;5;241m.\u001b[39mlast_split_attempt_at\n\u001b[1;32m    343\u001b[0m \u001b[38;5;28;01mif\u001b[39;00m weight_diff \u001b[38;5;241m>\u001b[39m\u001b[38;5;241m=\u001b[39m \u001b[38;5;28mself\u001b[39m\u001b[38;5;241m.\u001b[39mgrace_period:\n\u001b[1;32m    344\u001b[0m     \u001b[38;5;66;03m# Attempt to split\u001b[39;00m\n\u001b[0;32m--> 345\u001b[0m     \u001b[38;5;28;43mself\u001b[39;49m\u001b[38;5;241;43m.\u001b[39;49m\u001b[43m_attempt_to_split\u001b[49m\u001b[43m(\u001b[49m\n\u001b[1;32m    346\u001b[0m \u001b[43m        \u001b[49m\u001b[43mnode\u001b[49m\u001b[43m,\u001b[49m\n\u001b[1;32m    347\u001b[0m \u001b[43m        \u001b[49m\u001b[43mparent\u001b[49m\u001b[43m,\u001b[49m\n\u001b[1;32m    348\u001b[0m \u001b[43m        \u001b[49m\u001b[43mbranch_index\u001b[49m\u001b[43m,\u001b[49m\n\u001b[1;32m    349\u001b[0m \u001b[43m        \u001b[49m\u001b[43msplitter\u001b[49m\u001b[38;5;241;43m=\u001b[39;49m\u001b[38;5;28;43mself\u001b[39;49m\u001b[38;5;241;43m.\u001b[39;49m\u001b[43msplitter\u001b[49m\u001b[43m,\u001b[49m\n\u001b[1;32m    350\u001b[0m \u001b[43m        \u001b[49m\u001b[43msplitters\u001b[49m\u001b[38;5;241;43m=\u001b[39;49m\u001b[43mnode\u001b[49m\u001b[38;5;241;43m.\u001b[39;49m\u001b[43msplitters\u001b[49m\u001b[43m,\u001b[49m\n\u001b[1;32m    351\u001b[0m \u001b[43m    \u001b[49m\u001b[43m)\u001b[49m\n\u001b[1;32m    352\u001b[0m     node\u001b[38;5;241m.\u001b[39mlast_split_attempt_at \u001b[38;5;241m=\u001b[39m weight_seen\n",
      "File \u001b[0;32m~/anaconda3/envs/trees/lib/python3.10/site-packages/river/tree/extremely_fast_decision_tree.py:546\u001b[0m, in \u001b[0;36mExtremelyFastDecisionTreeClassifier._attempt_to_split\u001b[0;34m(self, node, parent, branch_index, **kwargs)\u001b[0m\n\u001b[1;32m    543\u001b[0m \u001b[38;5;28;01mif\u001b[39;00m x_best\u001b[38;5;241m.\u001b[39mmerit \u001b[38;5;241m-\u001b[39m x_null\u001b[38;5;241m.\u001b[39mmerit \u001b[38;5;241m>\u001b[39m hoeffding_bound \u001b[38;5;129;01mor\u001b[39;00m hoeffding_bound \u001b[38;5;241m<\u001b[39m \u001b[38;5;28mself\u001b[39m\u001b[38;5;241m.\u001b[39mtau:\n\u001b[1;32m    544\u001b[0m     \u001b[38;5;66;03m# Create a new branch\u001b[39;00m\n\u001b[1;32m    545\u001b[0m     branch \u001b[38;5;241m=\u001b[39m \u001b[38;5;28mself\u001b[39m\u001b[38;5;241m.\u001b[39m_branch_selector(x_best\u001b[38;5;241m.\u001b[39mnumerical_feature, x_best\u001b[38;5;241m.\u001b[39mmultiway_split)\n\u001b[0;32m--> 546\u001b[0m     leaves \u001b[38;5;241m=\u001b[39m \u001b[38;5;28mtuple\u001b[39m(\n\u001b[1;32m    547\u001b[0m         \u001b[38;5;28mself\u001b[39m\u001b[38;5;241m.\u001b[39m_new_leaf(initial_stats, parent\u001b[38;5;241m=\u001b[39mnode)\n\u001b[1;32m    548\u001b[0m         \u001b[38;5;28;01mfor\u001b[39;00m initial_stats \u001b[38;5;129;01min\u001b[39;00m x_best\u001b[38;5;241m.\u001b[39mchildren_stats\n\u001b[1;32m    549\u001b[0m     )\n\u001b[1;32m    550\u001b[0m     new_split \u001b[38;5;241m=\u001b[39m x_best\u001b[38;5;241m.\u001b[39massemble(branch, node\u001b[38;5;241m.\u001b[39mstats, node\u001b[38;5;241m.\u001b[39mdepth, \u001b[38;5;241m*\u001b[39mleaves, \u001b[38;5;241m*\u001b[39m\u001b[38;5;241m*\u001b[39mkwargs)\n\u001b[1;32m    552\u001b[0m     new_split\u001b[38;5;241m.\u001b[39mlast_split_reevaluation_at \u001b[38;5;241m=\u001b[39m node\u001b[38;5;241m.\u001b[39mtotal_weight\n",
      "\u001b[0;31mTypeError\u001b[0m: 'NoneType' object is not iterable"
     ]
    }
   ],
   "source": [
    "# Test on a large dataset of 10,000 samples (triggers bug in EFDT)\n",
    "evaluate.progressive_val_score(stream.iter_pandas(X_train[:10000], y_train[:10000]), model2, metric2)"
   ]
  },
  {
   "cell_type": "markdown",
   "id": "354d1772",
   "metadata": {},
   "source": [
    "Bugs:\n",
    "* EFDT fails when trained on large sample of Skin Dataset"
   ]
  }
 ],
 "metadata": {
  "kernelspec": {
   "display_name": "Python 3 (ipykernel)",
   "language": "python",
   "name": "python3"
  },
  "language_info": {
   "codemirror_mode": {
    "name": "ipython",
    "version": 3
   },
   "file_extension": ".py",
   "mimetype": "text/x-python",
   "name": "python",
   "nbconvert_exporter": "python",
   "pygments_lexer": "ipython3",
   "version": "3.10.9"
  }
 },
 "nbformat": 4,
 "nbformat_minor": 5
}
