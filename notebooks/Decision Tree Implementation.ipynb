{
 "cells": [
  {
   "cell_type": "code",
   "execution_count": 1,
   "id": "8481814a",
   "metadata": {},
   "outputs": [],
   "source": [
    "import scipy.io\n",
    "import pandas as pd\n",
    "import numpy as np\n",
    "\n",
    "from math import log2\n",
    "from dataclasses import dataclass, field\n",
    "\n",
    "from functools import partial\n",
    "from queue import deque\n",
    "from enum import Enum\n",
    "from collections import deque\n",
    "\n",
    "from typing import *\n",
    "from operator import *\n",
    "\n",
    "from sklearn.tree import DecisionTreeClassifier, plot_tree\n",
    "from sklearn.model_selection import train_test_split\n",
    "from sklearn.metrics import *\n",
    "from sklearn.datasets import *\n",
    "\n",
    "import graphviz\n",
    "#mat = scipy.io.loadmat('/Users/scott/projects/research-projects/tree_diff/input/twitter/influenza_outbreak_dataset.mat')"
   ]
  },
  {
   "cell_type": "markdown",
   "id": "9d320402",
   "metadata": {},
   "source": [
    "## Decision Tree Features\n",
    "* ~Handle multiclass/binary~\n",
    "* Binary or multple splits: Binary only \n",
    "* Choice of stopping criteria\n",
    "* Choice of evaluation measure \n",
    "* Choice of splitting criteria \n",
    "* Choice of pruning strategy \n",
    "* Opaque rules"
   ]
  },
  {
   "cell_type": "code",
   "execution_count": 2,
   "id": "65798e1d",
   "metadata": {},
   "outputs": [],
   "source": [
    "a = load_iris()\n",
    "X = a.data\n",
    "y = a.target\n",
    "\n",
    "X_train,X_test,y_train,y_test=train_test_split(X,y,test_size=0.5)"
   ]
  },
  {
   "cell_type": "markdown",
   "id": "5858b0c1",
   "metadata": {},
   "source": [
    "# Simple Decision tree"
   ]
  },
  {
   "cell_type": "markdown",
   "id": "d5dee525",
   "metadata": {},
   "source": [
    "## Data classes "
   ]
  },
  {
   "cell_type": "code",
   "execution_count": 3,
   "id": "b04b9da5",
   "metadata": {},
   "outputs": [],
   "source": [
    "class Operator(str, Enum):\n",
    "    EQ = \"==\"\n",
    "    LT = \"<\"\n",
    "    GT = \">\"\n",
    "    LE = \"<=\"\n",
    "    GE = \">=\"\n",
    "    NE = \"!=\"\n",
    "    \n",
    "    @property\n",
    "    def op(self):\n",
    "        return {self.EQ: eq, \n",
    "                self.LT: lt, \n",
    "                self.LE: le, \n",
    "                self.GE: ge,\n",
    "                self.NE: ne,                \n",
    "                self.GT: gt}[self]\n",
    "\n",
    "@dataclass\n",
    "class Condition:\n",
    "    attribute: str\n",
    "    attribute_pos: int\n",
    "    operator: Operator\n",
    "    threshold: float\n",
    "\n",
    "    def __repr__(self):\n",
    "        return str(self)\n",
    "\n",
    "    def __str__(self):\n",
    "        return f\"{self.attribute} {self.operator} {self.threshold}\"\n",
    "            \n",
    "    def fire(self, x):        \n",
    "        return self.operator.op(x[self.attribute_pos], self.threshold)\n",
    "    \n",
    "@dataclass\n",
    "class Split:\n",
    "    score: float \n",
    "    attribute_pos: int\n",
    "    ids: Tuple[float]\n",
    "    operations: List[Tuple[Operator, float]]\n",
    "        \n",
    "@dataclass            \n",
    "class DecisionNode:\n",
    "    label: str\n",
    "    node_id: int\n",
    "    value: List[int]    \n",
    "    impurity: float = 0.0\n",
    "    parent: 'Node' = None\n",
    "    children: List['Node'] = field(default_factory=list)\n",
    "    conditions: List[Condition] = field(default_factory=list)    \n",
    "        \n",
    "    def walk(self, callback):\n",
    "        callback(self)\n",
    "        for n in self.children:\n",
    "            n.walk(callback)        \n",
    "        \n",
    "    def add_child(self, condition, node):\n",
    "        self.conditions.append(condition)\n",
    "        node.parent = self\n",
    "        self.children.append(node)\n",
    "    \n",
    "    def predict(self, x):\n",
    "        stack = deque()\n",
    "        stack.append(self)\n",
    "        node = self\n",
    "\n",
    "        while not node.is_leaf():\n",
    "            node = stack.pop()\n",
    "\n",
    "            for i, cond in enumerate(node.conditions):\n",
    "                if cond.fire(x):\n",
    "                    stack.append(node.children[i])\n",
    "\n",
    "        return node.label            \n",
    "    \n",
    "    def is_leaf(self):\n",
    "        return not self.children\n",
    "    \n",
    "    def is_root(self):\n",
    "        return not self.parent\n",
    "    \n",
    "    def plot(self):\n",
    "        dot = graphviz.Digraph('tree', comment='Decision Tree')  \n",
    "\n",
    "        def update_dot(dot, node):\n",
    "            dot.node(f\"{node.node_id}\", f\"Node_{node.node_id}\\nImpurity: {node.impurity:0.3f}\\nLabel: {node.label}\\nValue: {node.value}\\nSamples: {sum(node.value)}\")\n",
    "            if node.parent:\n",
    "                cond = node.find_to_condition()\n",
    "                dot.edge(f\"{node.parent.node_id}\" , f\"{node.node_id}\", str(cond))\n",
    "        \n",
    "        update_dot_partial = partial(update_dot, dot)        \n",
    "        self.walk(update_dot_partial)\n",
    "        return dot\n",
    "    \n",
    "    def find_to_condition(self):\n",
    "        if self.is_root():\n",
    "            return None\n",
    "        else:            \n",
    "            index = -1\n",
    "            for i, node in enumerate(self.parent.children):\n",
    "                if node.node_id == self.node_id:\n",
    "                    index = i\n",
    "            if index < 0:\n",
    "                raise ValueError(\"Incorrect tree\")\n",
    "            return self.parent.conditions[index]\n",
    "                             \n",
    "    def __str__(self):\n",
    "        return f\"Node_{self.node_id}\"     \n",
    "    \n",
    "    def get_feature(self):\n",
    "        if not self.is_leaf():\n",
    "            return self.conditions[0].attribute\n",
    "    \n",
    "    def get_nodes(self):\n",
    "        node_list = []\n",
    "        self.walk(lambda n: node_list.append(n))\n",
    "        return node_list\n",
    "    \n",
    "    def get_features(self):\n",
    "        l = []\n",
    "        for n in self.get_nodes():\n",
    "            feature = n.get_feature()\n",
    "            if feature is not None:\n",
    "                l.append(feature)\n",
    "        return list(set(l))\n",
    "            \n",
    "        "
   ]
  },
  {
   "cell_type": "code",
   "execution_count": 4,
   "id": "59dc3d80",
   "metadata": {
    "scrolled": true
   },
   "outputs": [
    {
     "data": {
      "text/plain": [
       "True"
      ]
     },
     "execution_count": 4,
     "metadata": {},
     "output_type": "execute_result"
    }
   ],
   "source": [
    "lt(3,4)"
   ]
  },
  {
   "cell_type": "code",
   "execution_count": 5,
   "id": "dd6a55f7",
   "metadata": {},
   "outputs": [],
   "source": [
    "node = DecisionNode(\n",
    "    label = 'Root',\n",
    "    node_id = 101,\n",
    "    value = [500,100],    \n",
    "    impurity = 0.23,\n",
    "    parent = None,\n",
    "    children = [],\n",
    "    conditions=[Condition(\"height\", 0, Operator.LT, 2.0)]\n",
    ")        "
   ]
  },
  {
   "cell_type": "code",
   "execution_count": 6,
   "id": "fb38a8a5",
   "metadata": {
    "scrolled": true
   },
   "outputs": [
    {
     "data": {
      "text/plain": [
       "True"
      ]
     },
     "execution_count": 6,
     "metadata": {},
     "output_type": "execute_result"
    }
   ],
   "source": [
    "node.is_root()"
   ]
  },
  {
   "cell_type": "code",
   "execution_count": 7,
   "id": "5f2aceef",
   "metadata": {},
   "outputs": [],
   "source": [
    "node2 = DecisionNode(\n",
    "    label = 'Root',\n",
    "    node_id = 102,\n",
    "    value = [500,100],    \n",
    "    impurity = 0.23,\n",
    "    parent = node,\n",
    "    children = [],\n",
    "    conditions=[Condition(\"age\", 1, Operator.LT, 60)]\n",
    ")    "
   ]
  },
  {
   "cell_type": "code",
   "execution_count": 8,
   "id": "d84daf68",
   "metadata": {},
   "outputs": [],
   "source": [
    "node.children = [node2]"
   ]
  },
  {
   "cell_type": "code",
   "execution_count": 9,
   "id": "a49bb729",
   "metadata": {
    "scrolled": false
   },
   "outputs": [
    {
     "data": {
      "image/svg+xml": [
       "<?xml version=\"1.0\" encoding=\"UTF-8\" standalone=\"no\"?>\n",
       "<!DOCTYPE svg PUBLIC \"-//W3C//DTD SVG 1.1//EN\"\n",
       " \"http://www.w3.org/Graphics/SVG/1.1/DTD/svg11.dtd\">\n",
       "<!-- Generated by graphviz version 2.50.0 (0)\n",
       " -->\n",
       "<!-- Title: tree Pages: 1 -->\n",
       "<svg width=\"166pt\" height=\"294pt\"\n",
       " viewBox=\"0.00 0.00 166.39 293.76\" xmlns=\"http://www.w3.org/2000/svg\" xmlns:xlink=\"http://www.w3.org/1999/xlink\">\n",
       "<g id=\"graph0\" class=\"graph\" transform=\"scale(1 1) rotate(0) translate(4 289.76)\">\n",
       "<title>tree</title>\n",
       "<polygon fill=\"white\" stroke=\"transparent\" points=\"-4,4 -4,-289.76 162.39,-289.76 162.39,4 -4,4\"/>\n",
       "<!-- 101 -->\n",
       "<g id=\"node1\" class=\"node\">\n",
       "<title>101</title>\n",
       "<ellipse fill=\"none\" stroke=\"black\" cx=\"79.2\" cy=\"-227.07\" rx=\"79.39\" ry=\"58.88\"/>\n",
       "<text text-anchor=\"middle\" x=\"79.2\" y=\"-253.37\" font-family=\"Times,serif\" font-size=\"14.00\">Node_101</text>\n",
       "<text text-anchor=\"middle\" x=\"79.2\" y=\"-238.37\" font-family=\"Times,serif\" font-size=\"14.00\">Impurity: 0.230</text>\n",
       "<text text-anchor=\"middle\" x=\"79.2\" y=\"-223.37\" font-family=\"Times,serif\" font-size=\"14.00\">Label: Root</text>\n",
       "<text text-anchor=\"middle\" x=\"79.2\" y=\"-208.37\" font-family=\"Times,serif\" font-size=\"14.00\">Value: [500, 100]</text>\n",
       "<text text-anchor=\"middle\" x=\"79.2\" y=\"-193.37\" font-family=\"Times,serif\" font-size=\"14.00\">Samples: 600</text>\n",
       "</g>\n",
       "<!-- 102 -->\n",
       "<g id=\"node2\" class=\"node\">\n",
       "<title>102</title>\n",
       "<ellipse fill=\"none\" stroke=\"black\" cx=\"79.2\" cy=\"-58.69\" rx=\"79.39\" ry=\"58.88\"/>\n",
       "<text text-anchor=\"middle\" x=\"79.2\" y=\"-84.99\" font-family=\"Times,serif\" font-size=\"14.00\">Node_102</text>\n",
       "<text text-anchor=\"middle\" x=\"79.2\" y=\"-69.99\" font-family=\"Times,serif\" font-size=\"14.00\">Impurity: 0.230</text>\n",
       "<text text-anchor=\"middle\" x=\"79.2\" y=\"-54.99\" font-family=\"Times,serif\" font-size=\"14.00\">Label: Root</text>\n",
       "<text text-anchor=\"middle\" x=\"79.2\" y=\"-39.99\" font-family=\"Times,serif\" font-size=\"14.00\">Value: [500, 100]</text>\n",
       "<text text-anchor=\"middle\" x=\"79.2\" y=\"-24.99\" font-family=\"Times,serif\" font-size=\"14.00\">Samples: 600</text>\n",
       "</g>\n",
       "<!-- 101&#45;&gt;102 -->\n",
       "<g id=\"edge1\" class=\"edge\">\n",
       "<title>101&#45;&gt;102</title>\n",
       "<path fill=\"none\" stroke=\"black\" d=\"M79.2,-168.34C79.2,-155.26 79.2,-141.24 79.2,-127.77\"/>\n",
       "<polygon fill=\"black\" stroke=\"black\" points=\"82.7,-127.59 79.2,-117.59 75.7,-127.59 82.7,-127.59\"/>\n",
       "<text text-anchor=\"middle\" x=\"112.7\" y=\"-139.18\" font-family=\"Times,serif\" font-size=\"14.00\">height &lt; 2.0</text>\n",
       "</g>\n",
       "</g>\n",
       "</svg>\n"
      ],
      "text/plain": [
       "<graphviz.graphs.Digraph at 0x157919df0>"
      ]
     },
     "execution_count": 9,
     "metadata": {},
     "output_type": "execute_result"
    }
   ],
   "source": [
    "node.plot()"
   ]
  },
  {
   "cell_type": "markdown",
   "id": "e739d2fd",
   "metadata": {},
   "source": [
    "## Utility functions"
   ]
  },
  {
   "cell_type": "code",
   "execution_count": 10,
   "id": "08bfb132",
   "metadata": {},
   "outputs": [],
   "source": [
    "def stopping_criteria(tree_depth, **kwargs):\n",
    "    max_depth = kwargs.pop('max_depth', -1)\n",
    "    if tree_depth >= max_depth:\n",
    "        return True        \n",
    "    return False    \n",
    "\n",
    "\n",
    "def gini_impurity(y):\n",
    "    counts = Counter(y)\n",
    "    total = sum(counts.values())\n",
    "    return round(1 - sum(map(lambda x: (x / total) ** 2, counts.values())), 3)\n",
    "\n",
    "\n",
    "def entropy_impurity(y):\n",
    "    counts = Counter(y)\n",
    "    total = sum(counts.values())\n",
    "    return - sum(map(lambda x: (x / total) * log2 (x / total), counts.values()))    \n",
    "    \n",
    "\n",
    "def evaluation_measure(groups: Tuple, measure):\n",
    "    N = sum(map(len,groups))    \n",
    "    return sum(map(lambda x: len(x) / N * measure(x), groups))\n",
    "    \n",
    "    \n",
    "def calculate_current_depth(current_node):\n",
    "    depth_counter = 0\n",
    "    parent_node = current_node.parent    \n",
    "    while parent_node:\n",
    "        depth_counter += 1\n",
    "        parent_node = parent_node.parent\n",
    "    return depth_counter\n",
    "\n",
    "def count_values(array, values):\n",
    "    return [np.count_nonzero(array == i) for i in sorted(values)]        \n",
    "        \n",
    "def find_best_split(X, y, **kwargs):     \n",
    "    split = Split(1,-1,(),())    \n",
    "    measure = kwargs.pop(\"measure\", gini_impurity)\n",
    "    \n",
    "    # Loop over attributes\n",
    "    for i in range(0, X.shape[1]):\n",
    "        x_s = X[:, i]\n",
    "\n",
    "        # Try each unique value (inefficient for numerical values)\n",
    "        # TODO: All split conditions are in the dataset unlike in CART       \n",
    "        for threshold in np.unique(x_s):\n",
    "            \n",
    "            # TODO: Support non binary splits\n",
    "            ids = (x_s <= threshold, x_s > threshold)\n",
    "            operations = [(Operator.LE, threshold), (Operator.GT, threshold)]\n",
    "            \n",
    "            y_values = [y[i] for i in ids]            \n",
    "            score = evaluation_measure(y_values, measure)\n",
    "\n",
    "            # Find smallest gain, use \n",
    "            if score < split.score:\n",
    "                split = Split(score, i, ids, operations)\n",
    "\n",
    "    return split"
   ]
  },
  {
   "cell_type": "markdown",
   "id": "431d375b",
   "metadata": {},
   "source": [
    "## Grow a decision tree"
   ]
  },
  {
   "cell_type": "code",
   "execution_count": 11,
   "id": "9c193e39",
   "metadata": {},
   "outputs": [],
   "source": [
    "def grow_tree(X, y, **kwargs):\n",
    "    attribute_types = list(map(str, X.dtypes))\n",
    "    column_name = X.columns\n",
    "    X = X.to_numpy()\n",
    "    node_counter = 1    \n",
    "    stack = deque()\n",
    "    \n",
    "    # Set up decision tree\n",
    "    classes = np.unique(y)\n",
    "    counts = count_values(y, classes)\n",
    "    tree = DecisionNode(max(y), node_counter, counts, gini_impurity(y))\n",
    "    stack.append((tree, X, y))\n",
    "\n",
    "    while len(stack) != 0:\n",
    "        current_node, parent_X, parent_y = stack.pop()            \n",
    "\n",
    "        # Stop once reached max depth branching\n",
    "        current_depth = calculate_current_depth(current_node)\n",
    "        if stopping_criteria(current_depth, **kwargs):\n",
    "            continue\n",
    "        \n",
    "        # Stop branching if node contains a single class\n",
    "        values = np.unique(parent_y)            \n",
    "        if len(values) < 2:\n",
    "            continue\n",
    "        \n",
    "        \n",
    "        # Determine best attribute and split\n",
    "        split = find_best_split(parent_X, parent_y, **kwargs)\n",
    "\n",
    "        # Update tree with new split\n",
    "        for cond, split_ids in zip(split.operations, split.ids):        \n",
    "            new_y = parent_y[split_ids]\n",
    "            new_X = parent_X[split_ids]            \n",
    "\n",
    "            # Ensure new node is processed later\n",
    "            counts = count_values(new_y, classes)\n",
    "            if len(counts) == 0:\n",
    "                continue \n",
    "            \n",
    "            condition = Condition(column_name[split.attribute_pos], \n",
    "                                  split.attribute_pos, \n",
    "                                  cond[0],\n",
    "                                  cond[1])\n",
    "             \n",
    "            label = classes[np.argmax(counts)]\n",
    "            node_counter += 1\n",
    "            \n",
    "            score = gini_impurity(new_y)\n",
    " \n",
    "            new_node = DecisionNode(label, node_counter, counts, score)\n",
    "            current_node.add_child(condition, new_node)\n",
    "\n",
    "            stack.append((new_node, new_X, new_y))\n",
    "            \n",
    "    return tree        \n",
    "tree = grow_tree(pd.DataFrame(X_train, columns=[\"F1\", \"F2\", \"F3\", 'F4']), y_train, max_depth=2, min_samples_split=2)\n",
    "#tree.plot()"
   ]
  },
  {
   "cell_type": "markdown",
   "id": "c5edf053",
   "metadata": {},
   "source": [
    "# Sample datasets"
   ]
  },
  {
   "cell_type": "code",
   "execution_count": 12,
   "id": "44bef406",
   "metadata": {},
   "outputs": [
    {
     "name": "stdout",
     "output_type": "stream",
     "text": [
      "Sklearn Decision Tree:0.89, Custom Tree:0.89, load_iris\n",
      "Sklearn Decision Tree:0.94, Custom Tree:0.94, load_breast_cancer\n",
      "Sklearn Decision Tree:0.29, Custom Tree:0.29, load_digits\n",
      "Sklearn Decision Tree:0.88, Custom Tree:0.83, load_wine\n"
     ]
    }
   ],
   "source": [
    "datasets = [load_iris, load_breast_cancer, load_digits, load_wine]\n",
    "\n",
    "for func_data in datasets:\n",
    "    d = func_data()\n",
    "    X = d.data\n",
    "    y = d.target\n",
    "    X_train,X_test,y_train,y_test=train_test_split(X,y,test_size=0.5)\n",
    "    \n",
    "    tree = grow_tree(pd.DataFrame(X_train), y_train, max_depth=2)            \n",
    "    y_pred_cust = [tree.predict(X_test[i]) for i in range(0, X_test.shape[0])]\n",
    "    \n",
    "    sklearn_dt = DecisionTreeClassifier(max_depth=2).fit(X_train, y_train)    \n",
    "    y_pred = sklearn_dt.predict(X_test)\n",
    "    \n",
    "    print(f\"Sklearn Decision Tree:{accuracy_score(y_test, y_pred):0.2f}, Custom Tree:{accuracy_score(y_test, y_pred_cust):0.2f}, {func_data.__name__}\")\n",
    "    "
   ]
  },
  {
   "cell_type": "markdown",
   "id": "9167293a",
   "metadata": {},
   "source": [
    "# Regrowth algorithm"
   ]
  },
  {
   "cell_type": "code",
   "execution_count": 13,
   "id": "b5fa895a",
   "metadata": {
    "scrolled": false
   },
   "outputs": [
    {
     "data": {
      "text/plain": [
       "'Train: 0.52, Validation: 0.47'"
      ]
     },
     "execution_count": 13,
     "metadata": {},
     "output_type": "execute_result"
    }
   ],
   "source": [
    "d = load_digits()\n",
    "X = d.data\n",
    "y = d.target\n",
    "X_train,X_test,y_train,y_test=train_test_split(X,y,test_size=0.5)\n",
    "\n",
    "tree = grow_tree(pd.DataFrame(X_train), y_train, max_depth=3)            \n",
    "y_pred_cust_train = [tree.predict(X_train[i]) for i in range(0, X_train.shape[0])]\n",
    "y_pred_cust = [tree.predict(X_test[i]) for i in range(0, X_test.shape[0])]\n",
    "\n",
    "f\"Train: {accuracy_score(y_train, y_pred_cust_train):0.2f}, Validation: {accuracy_score(y_test, y_pred_cust):0.2f}\" "
   ]
  },
  {
   "cell_type": "code",
   "execution_count": 14,
   "id": "e83a59cd",
   "metadata": {},
   "outputs": [
    {
     "name": "stdout",
     "output_type": "stream",
     "text": [
      "8 0.026 0 [76, 0, 1, 0, 0, 0, 0, 0, 0, 0] 0.08574610244988864\n",
      "15 0.066 5 [1, 0, 0, 2, 0, 85, 0, 0, 0, 0] 0.09799554565701558\n",
      "13 0.105 6 [0, 0, 5, 0, 0, 0, 85, 0, 0, 0] 0.10022271714922049\n",
      "4 0.177 0 [76, 1, 1, 0, 5, 0, 0, 0, 0, 1] 0.0935412026726058\n",
      "9 0.449 4 [0, 1, 0, 0, 5, 0, 0, 0, 0, 1] 0.0077951002227171495\n",
      "11 0.465 6 [1, 4, 5, 0, 24, 2, 88, 1, 0, 0] 0.13919821826280623\n",
      "12 0.504 4 [1, 4, 0, 0, 24, 2, 3, 1, 0, 0] 0.03897550111358575\n",
      "10 0.622 5 [1, 18, 22, 8, 6, 89, 3, 4, 1, 1] 0.17037861915367483\n",
      "6 0.679 9 [7, 14, 1, 69, 1, 9, 0, 1, 10, 86] 0.22048997772828507\n",
      "2 0.757 5 [2, 22, 27, 8, 30, 91, 91, 5, 1, 1] 0.30957683741648107\n",
      "14 0.782 2 [0, 18, 22, 6, 6, 4, 3, 4, 1, 1] 0.07238307349665925\n",
      "7 0.82 7 [1, 51, 53, 12, 46, 1, 3, 85, 74, 12] 0.37639198218262804\n",
      "5 0.86 9 [8, 65, 54, 81, 47, 10, 3, 86, 84, 98] 0.5968819599109132\n",
      "3 0.875 9 [84, 66, 55, 81, 52, 10, 3, 86, 84, 99] 0.6904231625835189\n",
      "1 0.899 9 [86, 88, 82, 89, 82, 101, 94, 91, 85, 100] 1.0\n"
     ]
    }
   ],
   "source": [
    "budget = 5\n",
    "base_accuracy = accuracy_score(y_train, y_pred_cust_train)\n",
    "base_tree = tree\n",
    "\n",
    "leafs = []\n",
    "tree.walk(lambda x: leafs.append(x))\n",
    "N = sum(tree.value)\n",
    "for x in sorted(leafs, key=lambda x: x.impurity, reverse=False):\n",
    "    print(x.node_id, x.impurity, x.label, x.value, sum(x.value)/N)"
   ]
  },
  {
   "cell_type": "code",
   "execution_count": 15,
   "id": "66caedcb",
   "metadata": {},
   "outputs": [
    {
     "data": {
      "image/svg+xml": [
       "<?xml version=\"1.0\" encoding=\"UTF-8\" standalone=\"no\"?>\n",
       "<!DOCTYPE svg PUBLIC \"-//W3C//DTD SVG 1.1//EN\"\n",
       " \"http://www.w3.org/Graphics/SVG/1.1/DTD/svg11.dtd\">\n",
       "<!-- Generated by graphviz version 2.50.0 (0)\n",
       " -->\n",
       "<!-- Title: tree Pages: 1 -->\n",
       "<svg width=\"2548pt\" height=\"631pt\"\n",
       " viewBox=\"0.00 0.00 2547.85 630.52\" xmlns=\"http://www.w3.org/2000/svg\" xmlns:xlink=\"http://www.w3.org/1999/xlink\">\n",
       "<g id=\"graph0\" class=\"graph\" transform=\"scale(1 1) rotate(0) translate(4 626.52)\">\n",
       "<title>tree</title>\n",
       "<polygon fill=\"white\" stroke=\"transparent\" points=\"-4,4 -4,-626.52 2543.85,-626.52 2543.85,4 -4,4\"/>\n",
       "<!-- 1 -->\n",
       "<g id=\"node1\" class=\"node\">\n",
       "<title>1</title>\n",
       "<ellipse fill=\"none\" stroke=\"black\" cx=\"1154.91\" cy=\"-563.83\" rx=\"197.98\" ry=\"58.88\"/>\n",
       "<text text-anchor=\"middle\" x=\"1154.91\" y=\"-590.13\" font-family=\"Times,serif\" font-size=\"14.00\">Node_1</text>\n",
       "<text text-anchor=\"middle\" x=\"1154.91\" y=\"-575.13\" font-family=\"Times,serif\" font-size=\"14.00\">Impurity: 0.899</text>\n",
       "<text text-anchor=\"middle\" x=\"1154.91\" y=\"-560.13\" font-family=\"Times,serif\" font-size=\"14.00\">Label: 9</text>\n",
       "<text text-anchor=\"middle\" x=\"1154.91\" y=\"-545.13\" font-family=\"Times,serif\" font-size=\"14.00\">Value: [86, 88, 82, 89, 82, 101, 94, 91, 85, 100]</text>\n",
       "<text text-anchor=\"middle\" x=\"1154.91\" y=\"-530.13\" font-family=\"Times,serif\" font-size=\"14.00\">Samples: 898</text>\n",
       "</g>\n",
       "<!-- 2 -->\n",
       "<g id=\"node2\" class=\"node\">\n",
       "<title>2</title>\n",
       "<ellipse fill=\"none\" stroke=\"black\" cx=\"852.91\" cy=\"-395.45\" rx=\"164.51\" ry=\"58.88\"/>\n",
       "<text text-anchor=\"middle\" x=\"852.91\" y=\"-421.75\" font-family=\"Times,serif\" font-size=\"14.00\">Node_2</text>\n",
       "<text text-anchor=\"middle\" x=\"852.91\" y=\"-406.75\" font-family=\"Times,serif\" font-size=\"14.00\">Impurity: 0.757</text>\n",
       "<text text-anchor=\"middle\" x=\"852.91\" y=\"-391.75\" font-family=\"Times,serif\" font-size=\"14.00\">Label: 5</text>\n",
       "<text text-anchor=\"middle\" x=\"852.91\" y=\"-376.75\" font-family=\"Times,serif\" font-size=\"14.00\">Value: [2, 22, 27, 8, 30, 91, 91, 5, 1, 1]</text>\n",
       "<text text-anchor=\"middle\" x=\"852.91\" y=\"-361.75\" font-family=\"Times,serif\" font-size=\"14.00\">Samples: 278</text>\n",
       "</g>\n",
       "<!-- 1&#45;&gt;2 -->\n",
       "<g id=\"edge1\" class=\"edge\">\n",
       "<title>1&#45;&gt;2</title>\n",
       "<path fill=\"none\" stroke=\"black\" d=\"M1062.24,-511.78C1026.76,-492.23 986.2,-469.88 950.28,-450.1\"/>\n",
       "<polygon fill=\"black\" stroke=\"black\" points=\"951.71,-446.88 941.26,-445.12 948.33,-453.02 951.71,-446.88\"/>\n",
       "<text text-anchor=\"middle\" x=\"1041.41\" y=\"-475.94\" font-family=\"Times,serif\" font-size=\"14.00\">21 &lt;= 1.0</text>\n",
       "</g>\n",
       "<!-- 3 -->\n",
       "<g id=\"node9\" class=\"node\">\n",
       "<title>3</title>\n",
       "<ellipse fill=\"none\" stroke=\"black\" cx=\"1526.91\" cy=\"-395.45\" rx=\"183.7\" ry=\"58.88\"/>\n",
       "<text text-anchor=\"middle\" x=\"1526.91\" y=\"-421.75\" font-family=\"Times,serif\" font-size=\"14.00\">Node_3</text>\n",
       "<text text-anchor=\"middle\" x=\"1526.91\" y=\"-406.75\" font-family=\"Times,serif\" font-size=\"14.00\">Impurity: 0.875</text>\n",
       "<text text-anchor=\"middle\" x=\"1526.91\" y=\"-391.75\" font-family=\"Times,serif\" font-size=\"14.00\">Label: 9</text>\n",
       "<text text-anchor=\"middle\" x=\"1526.91\" y=\"-376.75\" font-family=\"Times,serif\" font-size=\"14.00\">Value: [84, 66, 55, 81, 52, 10, 3, 86, 84, 99]</text>\n",
       "<text text-anchor=\"middle\" x=\"1526.91\" y=\"-361.75\" font-family=\"Times,serif\" font-size=\"14.00\">Samples: 620</text>\n",
       "</g>\n",
       "<!-- 1&#45;&gt;3 -->\n",
       "<g id=\"edge8\" class=\"edge\">\n",
       "<title>1&#45;&gt;3</title>\n",
       "<path fill=\"none\" stroke=\"black\" d=\"M1262.75,-514.59C1309.52,-493.68 1364.34,-469.16 1411.88,-447.89\"/>\n",
       "<polygon fill=\"black\" stroke=\"black\" points=\"1413.59,-450.96 1421.29,-443.69 1410.73,-444.57 1413.59,-450.96\"/>\n",
       "<text text-anchor=\"middle\" x=\"1376.41\" y=\"-475.94\" font-family=\"Times,serif\" font-size=\"14.00\">21 &gt; 1.0</text>\n",
       "</g>\n",
       "<!-- 10 -->\n",
       "<g id=\"node3\" class=\"node\">\n",
       "<title>10</title>\n",
       "<ellipse fill=\"none\" stroke=\"black\" cx=\"463.91\" cy=\"-227.07\" rx=\"154.71\" ry=\"58.88\"/>\n",
       "<text text-anchor=\"middle\" x=\"463.91\" y=\"-253.37\" font-family=\"Times,serif\" font-size=\"14.00\">Node_10</text>\n",
       "<text text-anchor=\"middle\" x=\"463.91\" y=\"-238.37\" font-family=\"Times,serif\" font-size=\"14.00\">Impurity: 0.622</text>\n",
       "<text text-anchor=\"middle\" x=\"463.91\" y=\"-223.37\" font-family=\"Times,serif\" font-size=\"14.00\">Label: 5</text>\n",
       "<text text-anchor=\"middle\" x=\"463.91\" y=\"-208.37\" font-family=\"Times,serif\" font-size=\"14.00\">Value: [1, 18, 22, 8, 6, 89, 3, 4, 1, 1]</text>\n",
       "<text text-anchor=\"middle\" x=\"463.91\" y=\"-193.37\" font-family=\"Times,serif\" font-size=\"14.00\">Samples: 153</text>\n",
       "</g>\n",
       "<!-- 2&#45;&gt;10 -->\n",
       "<g id=\"edge2\" class=\"edge\">\n",
       "<title>2&#45;&gt;10</title>\n",
       "<path fill=\"none\" stroke=\"black\" d=\"M748.66,-349.86C694.94,-326.89 629.42,-298.86 574.78,-275.49\"/>\n",
       "<polygon fill=\"black\" stroke=\"black\" points=\"575.98,-272.2 565.41,-271.48 573.23,-278.63 575.98,-272.2\"/>\n",
       "<text text-anchor=\"middle\" x=\"701.91\" y=\"-307.56\" font-family=\"Times,serif\" font-size=\"14.00\">42 &lt;= 10.0</text>\n",
       "</g>\n",
       "<!-- 11 -->\n",
       "<g id=\"node6\" class=\"node\">\n",
       "<title>11</title>\n",
       "<ellipse fill=\"none\" stroke=\"black\" cx=\"852.91\" cy=\"-227.07\" rx=\"149.81\" ry=\"58.88\"/>\n",
       "<text text-anchor=\"middle\" x=\"852.91\" y=\"-253.37\" font-family=\"Times,serif\" font-size=\"14.00\">Node_11</text>\n",
       "<text text-anchor=\"middle\" x=\"852.91\" y=\"-238.37\" font-family=\"Times,serif\" font-size=\"14.00\">Impurity: 0.465</text>\n",
       "<text text-anchor=\"middle\" x=\"852.91\" y=\"-223.37\" font-family=\"Times,serif\" font-size=\"14.00\">Label: 6</text>\n",
       "<text text-anchor=\"middle\" x=\"852.91\" y=\"-208.37\" font-family=\"Times,serif\" font-size=\"14.00\">Value: [1, 4, 5, 0, 24, 2, 88, 1, 0, 0]</text>\n",
       "<text text-anchor=\"middle\" x=\"852.91\" y=\"-193.37\" font-family=\"Times,serif\" font-size=\"14.00\">Samples: 125</text>\n",
       "</g>\n",
       "<!-- 2&#45;&gt;11 -->\n",
       "<g id=\"edge5\" class=\"edge\">\n",
       "<title>2&#45;&gt;11</title>\n",
       "<path fill=\"none\" stroke=\"black\" d=\"M852.91,-336.72C852.91,-323.64 852.91,-309.62 852.91,-296.14\"/>\n",
       "<polygon fill=\"black\" stroke=\"black\" points=\"856.41,-295.97 852.91,-285.97 849.41,-295.97 856.41,-295.97\"/>\n",
       "<text text-anchor=\"middle\" x=\"879.91\" y=\"-307.56\" font-family=\"Times,serif\" font-size=\"14.00\">42 &gt; 10.0</text>\n",
       "</g>\n",
       "<!-- 14 -->\n",
       "<g id=\"node4\" class=\"node\">\n",
       "<title>14</title>\n",
       "<ellipse fill=\"none\" stroke=\"black\" cx=\"149.91\" cy=\"-58.69\" rx=\"149.81\" ry=\"58.88\"/>\n",
       "<text text-anchor=\"middle\" x=\"149.91\" y=\"-84.99\" font-family=\"Times,serif\" font-size=\"14.00\">Node_14</text>\n",
       "<text text-anchor=\"middle\" x=\"149.91\" y=\"-69.99\" font-family=\"Times,serif\" font-size=\"14.00\">Impurity: 0.782</text>\n",
       "<text text-anchor=\"middle\" x=\"149.91\" y=\"-54.99\" font-family=\"Times,serif\" font-size=\"14.00\">Label: 2</text>\n",
       "<text text-anchor=\"middle\" x=\"149.91\" y=\"-39.99\" font-family=\"Times,serif\" font-size=\"14.00\">Value: [0, 18, 22, 6, 6, 4, 3, 4, 1, 1]</text>\n",
       "<text text-anchor=\"middle\" x=\"149.91\" y=\"-24.99\" font-family=\"Times,serif\" font-size=\"14.00\">Samples: 65</text>\n",
       "</g>\n",
       "<!-- 10&#45;&gt;14 -->\n",
       "<g id=\"edge3\" class=\"edge\">\n",
       "<title>10&#45;&gt;14</title>\n",
       "<path fill=\"none\" stroke=\"black\" d=\"M374.77,-178.84C334.82,-157.67 287.61,-132.65 246.79,-111.02\"/>\n",
       "<polygon fill=\"black\" stroke=\"black\" points=\"248.39,-107.91 237.91,-106.32 245.11,-114.1 248.39,-107.91\"/>\n",
       "<text text-anchor=\"middle\" x=\"341.41\" y=\"-139.18\" font-family=\"Times,serif\" font-size=\"14.00\">5 &lt;= 3.0</text>\n",
       "</g>\n",
       "<!-- 15 -->\n",
       "<g id=\"node5\" class=\"node\">\n",
       "<title>15</title>\n",
       "<ellipse fill=\"none\" stroke=\"black\" cx=\"463.91\" cy=\"-58.69\" rx=\"145.83\" ry=\"58.88\"/>\n",
       "<text text-anchor=\"middle\" x=\"463.91\" y=\"-84.99\" font-family=\"Times,serif\" font-size=\"14.00\">Node_15</text>\n",
       "<text text-anchor=\"middle\" x=\"463.91\" y=\"-69.99\" font-family=\"Times,serif\" font-size=\"14.00\">Impurity: 0.066</text>\n",
       "<text text-anchor=\"middle\" x=\"463.91\" y=\"-54.99\" font-family=\"Times,serif\" font-size=\"14.00\">Label: 5</text>\n",
       "<text text-anchor=\"middle\" x=\"463.91\" y=\"-39.99\" font-family=\"Times,serif\" font-size=\"14.00\">Value: [1, 0, 0, 2, 0, 85, 0, 0, 0, 0]</text>\n",
       "<text text-anchor=\"middle\" x=\"463.91\" y=\"-24.99\" font-family=\"Times,serif\" font-size=\"14.00\">Samples: 88</text>\n",
       "</g>\n",
       "<!-- 10&#45;&gt;15 -->\n",
       "<g id=\"edge4\" class=\"edge\">\n",
       "<title>10&#45;&gt;15</title>\n",
       "<path fill=\"none\" stroke=\"black\" d=\"M463.91,-168.34C463.91,-155.26 463.91,-141.24 463.91,-127.77\"/>\n",
       "<polygon fill=\"black\" stroke=\"black\" points=\"467.41,-127.59 463.91,-117.59 460.41,-127.59 467.41,-127.59\"/>\n",
       "<text text-anchor=\"middle\" x=\"483.91\" y=\"-139.18\" font-family=\"Times,serif\" font-size=\"14.00\">5 &gt; 3.0</text>\n",
       "</g>\n",
       "<!-- 12 -->\n",
       "<g id=\"node7\" class=\"node\">\n",
       "<title>12</title>\n",
       "<ellipse fill=\"none\" stroke=\"black\" cx=\"772.91\" cy=\"-58.69\" rx=\"145.83\" ry=\"58.88\"/>\n",
       "<text text-anchor=\"middle\" x=\"772.91\" y=\"-84.99\" font-family=\"Times,serif\" font-size=\"14.00\">Node_12</text>\n",
       "<text text-anchor=\"middle\" x=\"772.91\" y=\"-69.99\" font-family=\"Times,serif\" font-size=\"14.00\">Impurity: 0.504</text>\n",
       "<text text-anchor=\"middle\" x=\"772.91\" y=\"-54.99\" font-family=\"Times,serif\" font-size=\"14.00\">Label: 4</text>\n",
       "<text text-anchor=\"middle\" x=\"772.91\" y=\"-39.99\" font-family=\"Times,serif\" font-size=\"14.00\">Value: [1, 4, 0, 0, 24, 2, 3, 1, 0, 0]</text>\n",
       "<text text-anchor=\"middle\" x=\"772.91\" y=\"-24.99\" font-family=\"Times,serif\" font-size=\"14.00\">Samples: 35</text>\n",
       "</g>\n",
       "<!-- 11&#45;&gt;12 -->\n",
       "<g id=\"edge6\" class=\"edge\">\n",
       "<title>11&#45;&gt;12</title>\n",
       "<path fill=\"none\" stroke=\"black\" d=\"M825.6,-169.28C818.88,-155.3 811.62,-140.21 804.71,-125.84\"/>\n",
       "<polygon fill=\"black\" stroke=\"black\" points=\"807.71,-124 800.23,-116.51 801.41,-127.04 807.71,-124\"/>\n",
       "<text text-anchor=\"middle\" x=\"843.41\" y=\"-139.18\" font-family=\"Times,serif\" font-size=\"14.00\">54 &lt;= 0.0</text>\n",
       "</g>\n",
       "<!-- 13 -->\n",
       "<g id=\"node8\" class=\"node\">\n",
       "<title>13</title>\n",
       "<ellipse fill=\"none\" stroke=\"black\" cx=\"1081.91\" cy=\"-58.69\" rx=\"145.83\" ry=\"58.88\"/>\n",
       "<text text-anchor=\"middle\" x=\"1081.91\" y=\"-84.99\" font-family=\"Times,serif\" font-size=\"14.00\">Node_13</text>\n",
       "<text text-anchor=\"middle\" x=\"1081.91\" y=\"-69.99\" font-family=\"Times,serif\" font-size=\"14.00\">Impurity: 0.105</text>\n",
       "<text text-anchor=\"middle\" x=\"1081.91\" y=\"-54.99\" font-family=\"Times,serif\" font-size=\"14.00\">Label: 6</text>\n",
       "<text text-anchor=\"middle\" x=\"1081.91\" y=\"-39.99\" font-family=\"Times,serif\" font-size=\"14.00\">Value: [0, 0, 5, 0, 0, 0, 85, 0, 0, 0]</text>\n",
       "<text text-anchor=\"middle\" x=\"1081.91\" y=\"-24.99\" font-family=\"Times,serif\" font-size=\"14.00\">Samples: 90</text>\n",
       "</g>\n",
       "<!-- 11&#45;&gt;13 -->\n",
       "<g id=\"edge7\" class=\"edge\">\n",
       "<title>11&#45;&gt;13</title>\n",
       "<path fill=\"none\" stroke=\"black\" d=\"M923.17,-175.02C948.68,-156.49 977.64,-135.44 1003.79,-116.45\"/>\n",
       "<polygon fill=\"black\" stroke=\"black\" points=\"1006.14,-119.07 1012.17,-110.36 1002.02,-113.4 1006.14,-119.07\"/>\n",
       "<text text-anchor=\"middle\" x=\"998.41\" y=\"-139.18\" font-family=\"Times,serif\" font-size=\"14.00\">54 &gt; 0.0</text>\n",
       "</g>\n",
       "<!-- 4 -->\n",
       "<g id=\"node10\" class=\"node\">\n",
       "<title>4</title>\n",
       "<ellipse fill=\"none\" stroke=\"black\" cx=\"1526.91\" cy=\"-227.07\" rx=\"145.83\" ry=\"58.88\"/>\n",
       "<text text-anchor=\"middle\" x=\"1526.91\" y=\"-253.37\" font-family=\"Times,serif\" font-size=\"14.00\">Node_4</text>\n",
       "<text text-anchor=\"middle\" x=\"1526.91\" y=\"-238.37\" font-family=\"Times,serif\" font-size=\"14.00\">Impurity: 0.177</text>\n",
       "<text text-anchor=\"middle\" x=\"1526.91\" y=\"-223.37\" font-family=\"Times,serif\" font-size=\"14.00\">Label: 0</text>\n",
       "<text text-anchor=\"middle\" x=\"1526.91\" y=\"-208.37\" font-family=\"Times,serif\" font-size=\"14.00\">Value: [76, 1, 1, 0, 5, 0, 0, 0, 0, 1]</text>\n",
       "<text text-anchor=\"middle\" x=\"1526.91\" y=\"-193.37\" font-family=\"Times,serif\" font-size=\"14.00\">Samples: 84</text>\n",
       "</g>\n",
       "<!-- 3&#45;&gt;4 -->\n",
       "<g id=\"edge9\" class=\"edge\">\n",
       "<title>3&#45;&gt;4</title>\n",
       "<path fill=\"none\" stroke=\"black\" d=\"M1526.91,-336.72C1526.91,-323.64 1526.91,-309.62 1526.91,-296.14\"/>\n",
       "<polygon fill=\"black\" stroke=\"black\" points=\"1530.41,-295.97 1526.91,-285.97 1523.41,-295.97 1530.41,-295.97\"/>\n",
       "<text text-anchor=\"middle\" x=\"1554.41\" y=\"-307.56\" font-family=\"Times,serif\" font-size=\"14.00\">28 &lt;= 0.0</text>\n",
       "</g>\n",
       "<!-- 5 -->\n",
       "<g id=\"node13\" class=\"node\">\n",
       "<title>5</title>\n",
       "<ellipse fill=\"none\" stroke=\"black\" cx=\"2013.91\" cy=\"-227.07\" rx=\"178.8\" ry=\"58.88\"/>\n",
       "<text text-anchor=\"middle\" x=\"2013.91\" y=\"-253.37\" font-family=\"Times,serif\" font-size=\"14.00\">Node_5</text>\n",
       "<text text-anchor=\"middle\" x=\"2013.91\" y=\"-238.37\" font-family=\"Times,serif\" font-size=\"14.00\">Impurity: 0.860</text>\n",
       "<text text-anchor=\"middle\" x=\"2013.91\" y=\"-223.37\" font-family=\"Times,serif\" font-size=\"14.00\">Label: 9</text>\n",
       "<text text-anchor=\"middle\" x=\"2013.91\" y=\"-208.37\" font-family=\"Times,serif\" font-size=\"14.00\">Value: [8, 65, 54, 81, 47, 10, 3, 86, 84, 98]</text>\n",
       "<text text-anchor=\"middle\" x=\"2013.91\" y=\"-193.37\" font-family=\"Times,serif\" font-size=\"14.00\">Samples: 536</text>\n",
       "</g>\n",
       "<!-- 3&#45;&gt;5 -->\n",
       "<g id=\"edge12\" class=\"edge\">\n",
       "<title>3&#45;&gt;5</title>\n",
       "<path fill=\"none\" stroke=\"black\" d=\"M1651.06,-352.03C1721.58,-327.94 1809.86,-297.78 1881.68,-273.24\"/>\n",
       "<polygon fill=\"black\" stroke=\"black\" points=\"1882.92,-276.52 1891.25,-269.97 1880.65,-269.9 1882.92,-276.52\"/>\n",
       "<text text-anchor=\"middle\" x=\"1809.41\" y=\"-307.56\" font-family=\"Times,serif\" font-size=\"14.00\">28 &gt; 0.0</text>\n",
       "</g>\n",
       "<!-- 8 -->\n",
       "<g id=\"node11\" class=\"node\">\n",
       "<title>8</title>\n",
       "<ellipse fill=\"none\" stroke=\"black\" cx=\"1390.91\" cy=\"-58.69\" rx=\"145.83\" ry=\"58.88\"/>\n",
       "<text text-anchor=\"middle\" x=\"1390.91\" y=\"-84.99\" font-family=\"Times,serif\" font-size=\"14.00\">Node_8</text>\n",
       "<text text-anchor=\"middle\" x=\"1390.91\" y=\"-69.99\" font-family=\"Times,serif\" font-size=\"14.00\">Impurity: 0.026</text>\n",
       "<text text-anchor=\"middle\" x=\"1390.91\" y=\"-54.99\" font-family=\"Times,serif\" font-size=\"14.00\">Label: 0</text>\n",
       "<text text-anchor=\"middle\" x=\"1390.91\" y=\"-39.99\" font-family=\"Times,serif\" font-size=\"14.00\">Value: [76, 0, 1, 0, 0, 0, 0, 0, 0, 0]</text>\n",
       "<text text-anchor=\"middle\" x=\"1390.91\" y=\"-24.99\" font-family=\"Times,serif\" font-size=\"14.00\">Samples: 77</text>\n",
       "</g>\n",
       "<!-- 4&#45;&gt;8 -->\n",
       "<g id=\"edge10\" class=\"edge\">\n",
       "<title>4&#45;&gt;8</title>\n",
       "<path fill=\"none\" stroke=\"black\" d=\"M1482,-171.13C1469.23,-155.51 1455.23,-138.39 1442.12,-122.35\"/>\n",
       "<polygon fill=\"black\" stroke=\"black\" points=\"1444.81,-120.1 1435.77,-114.57 1439.39,-124.53 1444.81,-120.1\"/>\n",
       "<text text-anchor=\"middle\" x=\"1491.41\" y=\"-139.18\" font-family=\"Times,serif\" font-size=\"14.00\">36 &lt;= 0.0</text>\n",
       "</g>\n",
       "<!-- 9 -->\n",
       "<g id=\"node12\" class=\"node\">\n",
       "<title>9</title>\n",
       "<ellipse fill=\"none\" stroke=\"black\" cx=\"1694.91\" cy=\"-58.69\" rx=\"140.93\" ry=\"58.88\"/>\n",
       "<text text-anchor=\"middle\" x=\"1694.91\" y=\"-84.99\" font-family=\"Times,serif\" font-size=\"14.00\">Node_9</text>\n",
       "<text text-anchor=\"middle\" x=\"1694.91\" y=\"-69.99\" font-family=\"Times,serif\" font-size=\"14.00\">Impurity: 0.449</text>\n",
       "<text text-anchor=\"middle\" x=\"1694.91\" y=\"-54.99\" font-family=\"Times,serif\" font-size=\"14.00\">Label: 4</text>\n",
       "<text text-anchor=\"middle\" x=\"1694.91\" y=\"-39.99\" font-family=\"Times,serif\" font-size=\"14.00\">Value: [0, 1, 0, 0, 5, 0, 0, 0, 0, 1]</text>\n",
       "<text text-anchor=\"middle\" x=\"1694.91\" y=\"-24.99\" font-family=\"Times,serif\" font-size=\"14.00\">Samples: 7</text>\n",
       "</g>\n",
       "<!-- 4&#45;&gt;9 -->\n",
       "<g id=\"edge11\" class=\"edge\">\n",
       "<title>4&#45;&gt;9</title>\n",
       "<path fill=\"none\" stroke=\"black\" d=\"M1580.99,-172.51C1597.77,-155.89 1616.39,-137.45 1633.63,-120.37\"/>\n",
       "<polygon fill=\"black\" stroke=\"black\" points=\"1636.28,-122.67 1640.93,-113.15 1631.36,-117.7 1636.28,-122.67\"/>\n",
       "<text text-anchor=\"middle\" x=\"1640.41\" y=\"-139.18\" font-family=\"Times,serif\" font-size=\"14.00\">36 &gt; 0.0</text>\n",
       "</g>\n",
       "<!-- 6 -->\n",
       "<g id=\"node14\" class=\"node\">\n",
       "<title>6</title>\n",
       "<ellipse fill=\"none\" stroke=\"black\" cx=\"2013.91\" cy=\"-58.69\" rx=\"159.61\" ry=\"58.88\"/>\n",
       "<text text-anchor=\"middle\" x=\"2013.91\" y=\"-84.99\" font-family=\"Times,serif\" font-size=\"14.00\">Node_6</text>\n",
       "<text text-anchor=\"middle\" x=\"2013.91\" y=\"-69.99\" font-family=\"Times,serif\" font-size=\"14.00\">Impurity: 0.679</text>\n",
       "<text text-anchor=\"middle\" x=\"2013.91\" y=\"-54.99\" font-family=\"Times,serif\" font-size=\"14.00\">Label: 9</text>\n",
       "<text text-anchor=\"middle\" x=\"2013.91\" y=\"-39.99\" font-family=\"Times,serif\" font-size=\"14.00\">Value: [7, 14, 1, 69, 1, 9, 0, 1, 10, 86]</text>\n",
       "<text text-anchor=\"middle\" x=\"2013.91\" y=\"-24.99\" font-family=\"Times,serif\" font-size=\"14.00\">Samples: 198</text>\n",
       "</g>\n",
       "<!-- 5&#45;&gt;6 -->\n",
       "<g id=\"edge13\" class=\"edge\">\n",
       "<title>5&#45;&gt;6</title>\n",
       "<path fill=\"none\" stroke=\"black\" d=\"M2013.91,-168.34C2013.91,-155.26 2013.91,-141.24 2013.91,-127.77\"/>\n",
       "<polygon fill=\"black\" stroke=\"black\" points=\"2017.41,-127.59 2013.91,-117.59 2010.41,-127.59 2017.41,-127.59\"/>\n",
       "<text text-anchor=\"middle\" x=\"2041.41\" y=\"-139.18\" font-family=\"Times,serif\" font-size=\"14.00\">43 &lt;= 1.0</text>\n",
       "</g>\n",
       "<!-- 7 -->\n",
       "<g id=\"node15\" class=\"node\">\n",
       "<title>7</title>\n",
       "<ellipse fill=\"none\" stroke=\"black\" cx=\"2365.91\" cy=\"-58.69\" rx=\"173.9\" ry=\"58.88\"/>\n",
       "<text text-anchor=\"middle\" x=\"2365.91\" y=\"-84.99\" font-family=\"Times,serif\" font-size=\"14.00\">Node_7</text>\n",
       "<text text-anchor=\"middle\" x=\"2365.91\" y=\"-69.99\" font-family=\"Times,serif\" font-size=\"14.00\">Impurity: 0.820</text>\n",
       "<text text-anchor=\"middle\" x=\"2365.91\" y=\"-54.99\" font-family=\"Times,serif\" font-size=\"14.00\">Label: 7</text>\n",
       "<text text-anchor=\"middle\" x=\"2365.91\" y=\"-39.99\" font-family=\"Times,serif\" font-size=\"14.00\">Value: [1, 51, 53, 12, 46, 1, 3, 85, 74, 12]</text>\n",
       "<text text-anchor=\"middle\" x=\"2365.91\" y=\"-24.99\" font-family=\"Times,serif\" font-size=\"14.00\">Samples: 338</text>\n",
       "</g>\n",
       "<!-- 5&#45;&gt;7 -->\n",
       "<g id=\"edge14\" class=\"edge\">\n",
       "<title>5&#45;&gt;7</title>\n",
       "<path fill=\"none\" stroke=\"black\" d=\"M2114.78,-178.39C2159.25,-157.37 2211.6,-132.62 2256.97,-111.18\"/>\n",
       "<polygon fill=\"black\" stroke=\"black\" points=\"2258.69,-114.24 2266.24,-106.8 2255.7,-107.91 2258.69,-114.24\"/>\n",
       "<text text-anchor=\"middle\" x=\"2224.41\" y=\"-139.18\" font-family=\"Times,serif\" font-size=\"14.00\">43 &gt; 1.0</text>\n",
       "</g>\n",
       "</g>\n",
       "</svg>\n"
      ],
      "text/plain": [
       "<graphviz.graphs.Digraph at 0x157905730>"
      ]
     },
     "execution_count": 15,
     "metadata": {},
     "output_type": "execute_result"
    }
   ],
   "source": [
    "tree.plot()"
   ]
  },
  {
   "cell_type": "code",
   "execution_count": 16,
   "id": "fdebd816",
   "metadata": {},
   "outputs": [
    {
     "data": {
      "text/plain": [
       "28"
      ]
     },
     "execution_count": 16,
     "metadata": {},
     "output_type": "execute_result"
    }
   ],
   "source": [
    "tree.children[-1].conditions[0].attribute"
   ]
  },
  {
   "cell_type": "code",
   "execution_count": 17,
   "id": "66d4c2a3",
   "metadata": {},
   "outputs": [
    {
     "data": {
      "text/plain": [
       "[36, 5, 42, 43, 21, 54, 28]"
      ]
     },
     "execution_count": 17,
     "metadata": {},
     "output_type": "execute_result"
    }
   ],
   "source": [
    "tree.get_features()"
   ]
  },
  {
   "cell_type": "code",
   "execution_count": 18,
   "id": "0126bfca",
   "metadata": {},
   "outputs": [
    {
     "data": {
      "text/plain": [
       "21"
      ]
     },
     "execution_count": 18,
     "metadata": {},
     "output_type": "execute_result"
    }
   ],
   "source": [
    "tree.conditions[0].attribute"
   ]
  },
  {
   "cell_type": "code",
   "execution_count": 19,
   "id": "0d393452",
   "metadata": {},
   "outputs": [],
   "source": [
    "def get_rules(tree, feature_names, class_names):\n",
    "    tree_ = tree\n",
    "    feature_name = [\n",
    "        feature_names[i] if i != _tree.TREE_UNDEFINED else \"undefined!\"\n",
    "        for i in tree_.feature\n",
    "    ]\n",
    "\n",
    "    paths = []\n",
    "    path = []\n",
    "    \n",
    "    def recurse(node, path, paths):\n",
    "        \n",
    "        if tree_.feature[node] != _tree.TREE_UNDEFINED:\n",
    "            name = feature_name[node]\n",
    "            threshold = tree_.threshold[node]\n",
    "            p1, p2 = list(path), list(path)\n",
    "            p1 += [f\"({name} <= {np.round(threshold, 3)})\"]\n",
    "            recurse(tree_.children_left[node], p1, paths)\n",
    "            p2 += [f\"({name} > {np.round(threshold, 3)})\"]\n",
    "            recurse(tree_.children_right[node], p2, paths)\n",
    "        else:\n",
    "            path += [(tree_.value[node], tree_.n_node_samples[node])]\n",
    "            paths += [path]\n",
    "            \n",
    "    recurse(0, path, paths)\n",
    "\n",
    "    # sort by samples count\n",
    "    samples_count = [p[-1][1] for p in paths]\n",
    "    ii = list(np.argsort(samples_count))\n",
    "    paths = [paths[i] for i in reversed(ii)]\n",
    "    \n",
    "    rules = []\n",
    "    for path in paths:\n",
    "        rule = \"if \"\n",
    "        \n",
    "        for p in path[:-1]:\n",
    "            if rule != \"if \":\n",
    "                rule += \" and \"\n",
    "            rule += str(p)\n",
    "        rule += \" then \"\n",
    "        if class_names is None:\n",
    "            rule += \"response: \"+str(np.round(path[-1][0][0][0],3))\n",
    "        else:\n",
    "            classes = path[-1][0][0]\n",
    "            l = np.argmax(classes)\n",
    "            rule += f\"class: {class_names[l]} (proba: {np.round(100.0*classes[l]/np.sum(classes),2)}%)\"\n",
    "        rule += f\" | based on {path[-1][1]:,} samples\"\n",
    "        rules += [rule]\n",
    "        \n",
    "    return rules"
   ]
  },
  {
   "cell_type": "code",
   "execution_count": null,
   "id": "d953420c",
   "metadata": {},
   "outputs": [],
   "source": []
  },
  {
   "cell_type": "code",
   "execution_count": 20,
   "id": "a788a849",
   "metadata": {},
   "outputs": [
    {
     "data": {
      "text/plain": [
       "array([[ 0.,  0.,  5., ...,  0.,  0.,  0.],\n",
       "       [ 0.,  0.,  0., ..., 10.,  0.,  0.],\n",
       "       [ 0.,  0.,  0., ..., 16.,  9.,  0.],\n",
       "       ...,\n",
       "       [ 0.,  0.,  1., ...,  6.,  0.,  0.],\n",
       "       [ 0.,  0.,  2., ..., 12.,  0.,  0.],\n",
       "       [ 0.,  0., 10., ..., 12.,  1.,  0.]])"
      ]
     },
     "execution_count": 20,
     "metadata": {},
     "output_type": "execute_result"
    }
   ],
   "source": [
    "X"
   ]
  },
  {
   "cell_type": "code",
   "execution_count": 21,
   "id": "2bd23b66",
   "metadata": {},
   "outputs": [
    {
     "ename": "AttributeError",
     "evalue": "'list' object has no attribute 'load_iris'",
     "output_type": "error",
     "traceback": [
      "\u001b[0;31m---------------------------------------------------------------------------\u001b[0m",
      "\u001b[0;31mAttributeError\u001b[0m                            Traceback (most recent call last)",
      "Cell \u001b[0;32mIn[21], line 1\u001b[0m\n\u001b[0;32m----> 1\u001b[0m iris \u001b[38;5;241m=\u001b[39m \u001b[43mdatasets\u001b[49m\u001b[38;5;241;43m.\u001b[39;49m\u001b[43mload_iris\u001b[49m()\n\u001b[1;32m      2\u001b[0m X \u001b[38;5;241m=\u001b[39m iris\u001b[38;5;241m.\u001b[39mdata\n\u001b[1;32m      3\u001b[0m y \u001b[38;5;241m=\u001b[39m iris\u001b[38;5;241m.\u001b[39mtarget\n",
      "\u001b[0;31mAttributeError\u001b[0m: 'list' object has no attribute 'load_iris'"
     ]
    }
   ],
   "source": [
    "iris = datasets.load_iris()\n",
    "X = iris.data\n",
    "y = iris.target\n"
   ]
  },
  {
   "cell_type": "code",
   "execution_count": null,
   "id": "e1f6e380",
   "metadata": {},
   "outputs": [],
   "source": [
    "from sklearn import datasets\n"
   ]
  },
  {
   "cell_type": "code",
   "execution_count": null,
   "id": "2f62eca2",
   "metadata": {},
   "outputs": [],
   "source": [
    "iris = datasets.load_iris()\n",
    "X = iris.data\n",
    "y = iris.target"
   ]
  },
  {
   "cell_type": "code",
   "execution_count": null,
   "id": "6f236f48",
   "metadata": {},
   "outputs": [],
   "source": [
    "iris.feature_names"
   ]
  },
  {
   "cell_type": "code",
   "execution_count": null,
   "id": "a58e8bbc",
   "metadata": {},
   "outputs": [],
   "source": [
    "iris.target_names"
   ]
  },
  {
   "cell_type": "code",
   "execution_count": null,
   "id": "87ff4653",
   "metadata": {},
   "outputs": [],
   "source": []
  }
 ],
 "metadata": {
  "kernelspec": {
   "display_name": "Python 3 (ipykernel)",
   "language": "python",
   "name": "python3"
  },
  "language_info": {
   "codemirror_mode": {
    "name": "ipython",
    "version": 3
   },
   "file_extension": ".py",
   "mimetype": "text/x-python",
   "name": "python",
   "nbconvert_exporter": "python",
   "pygments_lexer": "ipython3",
   "version": "3.9.12"
  }
 },
 "nbformat": 4,
 "nbformat_minor": 5
}
