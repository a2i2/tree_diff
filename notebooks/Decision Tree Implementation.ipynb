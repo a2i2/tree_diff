{
 "cells": [
  {
   "cell_type": "code",
   "execution_count": 75,
   "id": "8481814a",
   "metadata": {},
   "outputs": [],
   "source": [
    "import scipy.io\n",
    "import pandas as pd\n",
    "import numpy as np\n",
    "\n",
    "from math import log2\n",
    "from dataclasses import dataclass, field\n",
    "\n",
    "from functools import partial\n",
    "from queue import deque\n",
    "from enum import Enum\n",
    "from collections import deque\n",
    "\n",
    "from typing import *\n",
    "from operator import *\n",
    "\n",
    "from sklearn.tree import DecisionTreeClassifier, plot_tree\n",
    "from sklearn.model_selection import train_test_split\n",
    "from sklearn.metrics import *\n",
    "from sklearn.datasets import *\n",
    "\n",
    "import graphviz\n",
    "#mat = scipy.io.loadmat('/Users/scott/projects/research-projects/tree_diff/input/twitter/influenza_outbreak_dataset.mat')"
   ]
  },
  {
   "cell_type": "markdown",
   "id": "9d320402",
   "metadata": {},
   "source": [
    "## Decision Tree Features\n",
    "* ~Handle multiclass/binary~\n",
    "* Binary or multple splits: Binary only \n",
    "* Choice of stopping criteria\n",
    "* Choice of evaluation measure \n",
    "* Choice of splitting criteria \n",
    "* Choice of pruning strategy \n",
    "* Opaque rules"
   ]
  },
  {
   "cell_type": "code",
   "execution_count": 76,
   "id": "65798e1d",
   "metadata": {},
   "outputs": [],
   "source": [
    "a = load_iris()\n",
    "X = a.data\n",
    "y = a.target\n",
    "\n",
    "X_train,X_test,y_train,y_test=train_test_split(X,y,test_size=0.5)"
   ]
  },
  {
   "cell_type": "markdown",
   "id": "5858b0c1",
   "metadata": {},
   "source": [
    "# Simple Decision tree"
   ]
  },
  {
   "cell_type": "markdown",
   "id": "d5dee525",
   "metadata": {},
   "source": [
    "## Data classes "
   ]
  },
  {
   "cell_type": "code",
   "execution_count": 77,
   "id": "b04b9da5",
   "metadata": {},
   "outputs": [],
   "source": [
    "class Operator(str, Enum):\n",
    "    EQ = \"==\"\n",
    "    LT = \"<\"\n",
    "    GT = \">\"\n",
    "    LE = \"<=\"\n",
    "    GE = \">=\"\n",
    "    NE = \"!=\"\n",
    "    \n",
    "    @property\n",
    "    def op(self):\n",
    "        return {self.EQ: eq, \n",
    "                self.LT: lt, \n",
    "                self.LE: le, \n",
    "                self.GE: ge,\n",
    "                self.NE: ne,                \n",
    "                self.GT: gt}[self]\n",
    "\n",
    "@dataclass\n",
    "class Condition:\n",
    "    attribute: str\n",
    "    attribute_pos: int\n",
    "    operator: Operator\n",
    "    threshold: float\n",
    "\n",
    "    def __repr__(self):\n",
    "        return str(self)\n",
    "\n",
    "    def __str__(self):\n",
    "        return f\"{self.attribute} {self.operator} {self.threshold}\"\n",
    "            \n",
    "    def fire(self, x):        \n",
    "        return self.operator.op(x[self.attribute_pos], self.threshold)\n",
    "    \n",
    "@dataclass\n",
    "class Split:\n",
    "    score: float \n",
    "    attribute_pos: int\n",
    "    ids: Tuple[float]\n",
    "    operations: List[Tuple[Operator, float]]\n",
    "        \n",
    "@dataclass            \n",
    "class DecisionNode:\n",
    "    label: str\n",
    "    node_id: int\n",
    "    value: List[int]    \n",
    "    impurity: float = 0.0\n",
    "    parent: 'Node' = None\n",
    "    children: List['Node'] = field(default_factory=list)\n",
    "    conditions: List[Condition] = field(default_factory=list)    \n",
    "        \n",
    "    def walk(self, callback):\n",
    "        callback(self)\n",
    "        for n in self.children:\n",
    "            n.walk(callback)        \n",
    "        \n",
    "    def add_child(self, condition, node):\n",
    "        self.conditions.append(condition)\n",
    "        node.parent = self\n",
    "        self.children.append(node)\n",
    "    \n",
    "    def predict(self, x):\n",
    "        stack = deque()\n",
    "        stack.append(self)\n",
    "        node = self\n",
    "\n",
    "        while not node.is_leaf():\n",
    "            node = stack.pop()\n",
    "\n",
    "            for i, cond in enumerate(node.conditions):\n",
    "                if cond.fire(x):\n",
    "                    stack.append(node.children[i])\n",
    "\n",
    "        return node.label            \n",
    "    \n",
    "    def is_leaf(self):\n",
    "        return not self.children\n",
    "    \n",
    "    def is_root(self):\n",
    "        return not self.parent\n",
    "    \n",
    "    def plot(self):\n",
    "        dot = graphviz.Digraph('tree', comment='Decision Tree')  \n",
    "\n",
    "        def update_dot(dot, node):\n",
    "            dot.node(f\"{node.node_id}\", f\"Node_{node.node_id}\\nImpurity: {node.impurity:0.3f}\\nLabel: {node.label}\\nValue: {node.value}\\nSamples: {sum(node.value)}\")\n",
    "            if node.parent:\n",
    "                cond = node.find_to_condition()\n",
    "                dot.edge(f\"{node.parent.node_id}\" , f\"{node.node_id}\", str(cond))\n",
    "        \n",
    "        update_dot_partial = partial(update_dot, dot)        \n",
    "        self.walk(update_dot_partial)\n",
    "        return dot\n",
    "    \n",
    "    def find_to_condition(self):\n",
    "        if self.is_root():\n",
    "            return None\n",
    "        else:            \n",
    "            index = -1\n",
    "            for i, node in enumerate(self.parent.children):\n",
    "                if node.node_id == self.node_id:\n",
    "                    index = i\n",
    "            if index < 0:\n",
    "                raise ValueError(\"Incorrect tree\")\n",
    "            return self.parent.conditions[index]\n",
    "                             \n",
    "    def __str__(self):\n",
    "        return f\"Node_{self.node_id}\"     \n",
    "    \n",
    "    def get_feature(self):\n",
    "        if not self.is_leaf():\n",
    "            return (self.conditions[0].attribute, self.conditions[0].attribute_pos)\n",
    "    \n",
    "    def get_nodes(self):\n",
    "        node_list = []\n",
    "        self.walk(lambda n: node_list.append(n))\n",
    "        return node_list\n",
    "    \n",
    "    def get_leaves(self):\n",
    "        leaf_list = []\n",
    "        \n",
    "        def check_leaf(n):\n",
    "            if n.is_leaf():\n",
    "                leaf_list.append(n)\n",
    "        \n",
    "        self.walk(check_leaf)\n",
    "        return leaf_list\n",
    "    \n",
    "    def get_features(self):\n",
    "        # returns list of tuples of (attribute, attribute_pos)\n",
    "        l = []\n",
    "        for n in self.get_nodes():\n",
    "            feature = n.get_feature()\n",
    "            if feature is not None:\n",
    "                l.append(feature)\n",
    "        return list(set(l))\n",
    "\n",
    "    def get_root_node(self):\n",
    "        n = self\n",
    "        while not n.is_root():\n",
    "            n = n.parent\n",
    "        return n\n",
    "    "
   ]
  },
  {
   "cell_type": "code",
   "execution_count": 78,
   "id": "59dc3d80",
   "metadata": {
    "scrolled": true
   },
   "outputs": [
    {
     "data": {
      "text/plain": [
       "True"
      ]
     },
     "execution_count": 78,
     "metadata": {},
     "output_type": "execute_result"
    }
   ],
   "source": [
    "lt(3,4)"
   ]
  },
  {
   "cell_type": "code",
   "execution_count": 79,
   "id": "dd6a55f7",
   "metadata": {},
   "outputs": [],
   "source": [
    "node = DecisionNode(\n",
    "    label = 'Root',\n",
    "    node_id = 101,\n",
    "    value = [500,100],    \n",
    "    impurity = 0.23,\n",
    "    parent = None,\n",
    "    children = [],\n",
    "    conditions=[Condition(\"height\", 0, Operator.LT, 2.0)]\n",
    ")        "
   ]
  },
  {
   "cell_type": "code",
   "execution_count": 80,
   "id": "fb38a8a5",
   "metadata": {
    "scrolled": true
   },
   "outputs": [
    {
     "data": {
      "text/plain": [
       "True"
      ]
     },
     "execution_count": 80,
     "metadata": {},
     "output_type": "execute_result"
    }
   ],
   "source": [
    "node.is_root()"
   ]
  },
  {
   "cell_type": "code",
   "execution_count": 81,
   "id": "5f2aceef",
   "metadata": {},
   "outputs": [],
   "source": [
    "node2 = DecisionNode(\n",
    "    label = 'Root',\n",
    "    node_id = 102,\n",
    "    value = [500,100],    \n",
    "    impurity = 0.23,\n",
    "    parent = node,\n",
    "    children = [],\n",
    "    conditions=[Condition(\"age\", 1, Operator.LT, 60)]\n",
    ")    "
   ]
  },
  {
   "cell_type": "code",
   "execution_count": 82,
   "id": "d84daf68",
   "metadata": {},
   "outputs": [],
   "source": [
    "node.children = [node2]"
   ]
  },
  {
   "cell_type": "code",
   "execution_count": 83,
   "id": "a49bb729",
   "metadata": {
    "scrolled": false
   },
   "outputs": [
    {
     "data": {
      "image/svg+xml": [
       "<?xml version=\"1.0\" encoding=\"UTF-8\" standalone=\"no\"?>\n",
       "<!DOCTYPE svg PUBLIC \"-//W3C//DTD SVG 1.1//EN\"\n",
       " \"http://www.w3.org/Graphics/SVG/1.1/DTD/svg11.dtd\">\n",
       "<!-- Generated by graphviz version 2.50.0 (0)\n",
       " -->\n",
       "<!-- Title: tree Pages: 1 -->\n",
       "<svg width=\"166pt\" height=\"294pt\"\n",
       " viewBox=\"0.00 0.00 166.39 293.76\" xmlns=\"http://www.w3.org/2000/svg\" xmlns:xlink=\"http://www.w3.org/1999/xlink\">\n",
       "<g id=\"graph0\" class=\"graph\" transform=\"scale(1 1) rotate(0) translate(4 289.76)\">\n",
       "<title>tree</title>\n",
       "<polygon fill=\"white\" stroke=\"transparent\" points=\"-4,4 -4,-289.76 162.39,-289.76 162.39,4 -4,4\"/>\n",
       "<!-- 101 -->\n",
       "<g id=\"node1\" class=\"node\">\n",
       "<title>101</title>\n",
       "<ellipse fill=\"none\" stroke=\"black\" cx=\"79.2\" cy=\"-227.07\" rx=\"79.39\" ry=\"58.88\"/>\n",
       "<text text-anchor=\"middle\" x=\"79.2\" y=\"-253.37\" font-family=\"Times,serif\" font-size=\"14.00\">Node_101</text>\n",
       "<text text-anchor=\"middle\" x=\"79.2\" y=\"-238.37\" font-family=\"Times,serif\" font-size=\"14.00\">Impurity: 0.230</text>\n",
       "<text text-anchor=\"middle\" x=\"79.2\" y=\"-223.37\" font-family=\"Times,serif\" font-size=\"14.00\">Label: Root</text>\n",
       "<text text-anchor=\"middle\" x=\"79.2\" y=\"-208.37\" font-family=\"Times,serif\" font-size=\"14.00\">Value: [500, 100]</text>\n",
       "<text text-anchor=\"middle\" x=\"79.2\" y=\"-193.37\" font-family=\"Times,serif\" font-size=\"14.00\">Samples: 600</text>\n",
       "</g>\n",
       "<!-- 102 -->\n",
       "<g id=\"node2\" class=\"node\">\n",
       "<title>102</title>\n",
       "<ellipse fill=\"none\" stroke=\"black\" cx=\"79.2\" cy=\"-58.69\" rx=\"79.39\" ry=\"58.88\"/>\n",
       "<text text-anchor=\"middle\" x=\"79.2\" y=\"-84.99\" font-family=\"Times,serif\" font-size=\"14.00\">Node_102</text>\n",
       "<text text-anchor=\"middle\" x=\"79.2\" y=\"-69.99\" font-family=\"Times,serif\" font-size=\"14.00\">Impurity: 0.230</text>\n",
       "<text text-anchor=\"middle\" x=\"79.2\" y=\"-54.99\" font-family=\"Times,serif\" font-size=\"14.00\">Label: Root</text>\n",
       "<text text-anchor=\"middle\" x=\"79.2\" y=\"-39.99\" font-family=\"Times,serif\" font-size=\"14.00\">Value: [500, 100]</text>\n",
       "<text text-anchor=\"middle\" x=\"79.2\" y=\"-24.99\" font-family=\"Times,serif\" font-size=\"14.00\">Samples: 600</text>\n",
       "</g>\n",
       "<!-- 101&#45;&gt;102 -->\n",
       "<g id=\"edge1\" class=\"edge\">\n",
       "<title>101&#45;&gt;102</title>\n",
       "<path fill=\"none\" stroke=\"black\" d=\"M79.2,-168.34C79.2,-155.26 79.2,-141.24 79.2,-127.77\"/>\n",
       "<polygon fill=\"black\" stroke=\"black\" points=\"82.7,-127.59 79.2,-117.59 75.7,-127.59 82.7,-127.59\"/>\n",
       "<text text-anchor=\"middle\" x=\"112.7\" y=\"-139.18\" font-family=\"Times,serif\" font-size=\"14.00\">height &lt; 2.0</text>\n",
       "</g>\n",
       "</g>\n",
       "</svg>\n"
      ],
      "text/plain": [
       "<graphviz.graphs.Digraph at 0x17523a970>"
      ]
     },
     "execution_count": 83,
     "metadata": {},
     "output_type": "execute_result"
    }
   ],
   "source": [
    "node.plot()"
   ]
  },
  {
   "cell_type": "markdown",
   "id": "e739d2fd",
   "metadata": {},
   "source": [
    "## Utility functions"
   ]
  },
  {
   "cell_type": "code",
   "execution_count": 84,
   "id": "08bfb132",
   "metadata": {},
   "outputs": [],
   "source": [
    "def stopping_criteria(tree_depth, **kwargs):\n",
    "    max_depth = kwargs.pop('max_depth', -1)\n",
    "    if tree_depth >= max_depth:\n",
    "        return True        \n",
    "    return False    \n",
    "\n",
    "\n",
    "def gini_impurity(y):\n",
    "    counts = Counter(y)\n",
    "    total = sum(counts.values())\n",
    "    return round(1 - sum(map(lambda x: (x / total) ** 2, counts.values())), 3)\n",
    "\n",
    "\n",
    "def entropy_impurity(y):\n",
    "    counts = Counter(y)\n",
    "    total = sum(counts.values())\n",
    "    return - sum(map(lambda x: (x / total) * log2 (x / total), counts.values()))    \n",
    "    \n",
    "\n",
    "def evaluation_measure(groups: Tuple, measure):\n",
    "    N = sum(map(len,groups))    \n",
    "    return sum(map(lambda x: len(x) / N * measure(x), groups))\n",
    "    \n",
    "    \n",
    "def calculate_current_depth(current_node):\n",
    "    depth_counter = 0\n",
    "    parent_node = current_node.parent    \n",
    "    while parent_node:\n",
    "        depth_counter += 1\n",
    "        parent_node = parent_node.parent\n",
    "    return depth_counter\n",
    "\n",
    "def count_values(array, values):\n",
    "    return [np.count_nonzero(array == i) for i in sorted(values)]        \n",
    "        \n",
    "def find_best_split(X, y, **kwargs):     \n",
    "    split = Split(1,-1,(),())    \n",
    "    measure = kwargs.pop(\"measure\", gini_impurity)\n",
    "    \n",
    "    # Loop over attributes\n",
    "    for i in range(0, X.shape[1]):\n",
    "        x_s = X[:, i]\n",
    "\n",
    "        # Try each unique value (inefficient for numerical values)\n",
    "        # TODO: All split conditions are in the dataset unlike in CART       \n",
    "        for threshold in np.unique(x_s):\n",
    "            \n",
    "            # TODO: Support non binary splits\n",
    "            ids = (x_s <= threshold, x_s > threshold)\n",
    "            operations = [(Operator.LE, threshold), (Operator.GT, threshold)]\n",
    "            \n",
    "            y_values = [y[i] for i in ids]            \n",
    "            score = evaluation_measure(y_values, measure)\n",
    "\n",
    "            # Find smallest gain, use \n",
    "            if score < split.score:\n",
    "                split = Split(score, i, ids, operations)\n",
    "\n",
    "    return split"
   ]
  },
  {
   "cell_type": "markdown",
   "id": "431d375b",
   "metadata": {},
   "source": [
    "## Grow a decision tree"
   ]
  },
  {
   "cell_type": "code",
   "execution_count": 85,
   "id": "9c193e39",
   "metadata": {},
   "outputs": [],
   "source": [
    "def grow_tree(X, y, **kwargs):\n",
    "    attribute_types = list(map(str, X.dtypes))\n",
    "    column_name = X.columns\n",
    "    X = X.to_numpy()\n",
    "    node_counter = 1    \n",
    "    stack = deque()\n",
    "    \n",
    "    # Set up decision tree\n",
    "    classes = np.unique(y)\n",
    "    counts = count_values(y, classes)\n",
    "    tree = DecisionNode(max(y), node_counter, counts, gini_impurity(y))\n",
    "    stack.append((tree, X, y))\n",
    "\n",
    "    while len(stack) != 0:\n",
    "        current_node, parent_X, parent_y = stack.pop()            \n",
    "\n",
    "        # Stop once reached max depth branching\n",
    "        current_depth = calculate_current_depth(current_node)\n",
    "        if stopping_criteria(current_depth, **kwargs):\n",
    "            continue\n",
    "        \n",
    "        # Stop branching if node contains a single class\n",
    "        values = np.unique(parent_y)            \n",
    "        if len(values) < 2:\n",
    "            continue\n",
    "        \n",
    "        \n",
    "        # Determine best attribute and split\n",
    "        split = find_best_split(parent_X, parent_y, **kwargs)\n",
    "\n",
    "        # Update tree with new split\n",
    "        for cond, split_ids in zip(split.operations, split.ids):        \n",
    "            new_y = parent_y[split_ids]\n",
    "            new_X = parent_X[split_ids]            \n",
    "\n",
    "            # Ensure new node is processed later\n",
    "            counts = count_values(new_y, classes)\n",
    "            if len(counts) == 0:\n",
    "                continue \n",
    "            \n",
    "            condition = Condition(column_name[split.attribute_pos], \n",
    "                                  split.attribute_pos, \n",
    "                                  cond[0],\n",
    "                                  cond[1])\n",
    "             \n",
    "            label = classes[np.argmax(counts)]\n",
    "            node_counter += 1\n",
    "            \n",
    "            score = gini_impurity(new_y)\n",
    " \n",
    "            new_node = DecisionNode(label, node_counter, counts, score)\n",
    "            current_node.add_child(condition, new_node)\n",
    "\n",
    "            stack.append((new_node, new_X, new_y))\n",
    "            \n",
    "    return tree        \n",
    "tree = grow_tree(pd.DataFrame(X_train, columns=[\"F1\", \"F2\", \"F3\", 'F4']), y_train, max_depth=2, min_samples_split=2)\n",
    "#tree.plot()"
   ]
  },
  {
   "cell_type": "markdown",
   "id": "c5edf053",
   "metadata": {},
   "source": [
    "# Sample datasets"
   ]
  },
  {
   "cell_type": "code",
   "execution_count": 86,
   "id": "44bef406",
   "metadata": {},
   "outputs": [
    {
     "name": "stdout",
     "output_type": "stream",
     "text": [
      "Sklearn Decision Tree:0.95, Custom Tree:0.95, load_iris\n",
      "Sklearn Decision Tree:0.90, Custom Tree:0.89, load_breast_cancer\n",
      "Sklearn Decision Tree:0.28, Custom Tree:0.28, load_digits\n",
      "Sklearn Decision Tree:0.88, Custom Tree:0.74, load_wine\n"
     ]
    }
   ],
   "source": [
    "datasets = [load_iris, load_breast_cancer, load_digits, load_wine]\n",
    "\n",
    "for func_data in datasets:\n",
    "    d = func_data()\n",
    "    X = d.data\n",
    "    y = d.target\n",
    "    X_train,X_test,y_train,y_test=train_test_split(X,y,test_size=0.5)\n",
    "    \n",
    "    tree = grow_tree(pd.DataFrame(X_train), y_train, max_depth=2)            \n",
    "    y_pred_cust = [tree.predict(X_test[i]) for i in range(0, X_test.shape[0])]\n",
    "    \n",
    "    sklearn_dt = DecisionTreeClassifier(max_depth=2).fit(X_train, y_train)    \n",
    "    y_pred = sklearn_dt.predict(X_test)\n",
    "    \n",
    "    print(f\"Sklearn Decision Tree:{accuracy_score(y_test, y_pred):0.2f}, Custom Tree:{accuracy_score(y_test, y_pred_cust):0.2f}, {func_data.__name__}\")\n",
    "    "
   ]
  },
  {
   "cell_type": "markdown",
   "id": "9167293a",
   "metadata": {},
   "source": [
    "# Regrowth algorithm"
   ]
  },
  {
   "cell_type": "code",
   "execution_count": 87,
   "id": "b5fa895a",
   "metadata": {
    "scrolled": false
   },
   "outputs": [
    {
     "data": {
      "text/plain": [
       "'Train: 0.50, Validation: 0.49'"
      ]
     },
     "execution_count": 87,
     "metadata": {},
     "output_type": "execute_result"
    }
   ],
   "source": [
    "d = load_digits()\n",
    "X = d.data\n",
    "y = d.target\n",
    "X_train,X_test,y_train,y_test=train_test_split(X,y,test_size=0.5)\n",
    "\n",
    "tree = grow_tree(pd.DataFrame(X_train), y_train, max_depth=3)            \n",
    "y_pred_cust_train = [tree.predict(X_train[i]) for i in range(0, X_train.shape[0])]\n",
    "y_pred_cust = [tree.predict(X_test[i]) for i in range(0, X_test.shape[0])]\n",
    "\n",
    "f\"Train: {accuracy_score(y_train, y_pred_cust_train):0.2f}, Validation: {accuracy_score(y_test, y_pred_cust):0.2f}\" "
   ]
  },
  {
   "cell_type": "code",
   "execution_count": 88,
   "id": "e83a59cd",
   "metadata": {},
   "outputs": [
    {
     "name": "stdout",
     "output_type": "stream",
     "text": [
      "8 0.025 0 [77, 0, 1, 0, 0, 0, 0, 0, 0, 0] 0.08685968819599109\n",
      "15 0.086 5 [0, 0, 0, 1, 1, 86, 0, 1, 1, 0] 0.10022271714922049\n",
      "13 0.184 6 [0, 0, 9, 0, 0, 0, 79, 0, 0, 0] 0.09799554565701558\n",
      "4 0.194 0 [77, 0, 2, 0, 5, 0, 0, 1, 0, 1] 0.0957683741648107\n",
      "11 0.477 6 [2, 4, 10, 0, 15, 3, 84, 1, 0, 0] 0.13251670378619154\n",
      "9 0.562 4 [0, 0, 1, 0, 5, 0, 0, 1, 0, 1] 0.008908685968819599\n",
      "10 0.589 5 [0, 17, 20, 11, 3, 89, 2, 2, 2, 0] 0.16258351893095768\n",
      "6 0.674 9 [4, 10, 2, 77, 7, 6, 0, 1, 13, 89] 0.23273942093541203\n",
      "12 0.708 4 [2, 4, 1, 0, 15, 3, 5, 1, 0, 0] 0.034521158129175944\n",
      "14 0.742 2 [0, 17, 20, 10, 2, 3, 2, 1, 1, 0] 0.062360801781737196\n",
      "2 0.748 5 [2, 21, 30, 11, 18, 92, 86, 3, 2, 0] 0.2951002227171492\n",
      "7 0.823 7 [2, 58, 54, 12, 54, 1, 2, 78, 69, 8] 0.37639198218262804\n",
      "5 0.86 9 [6, 68, 56, 89, 61, 7, 2, 79, 82, 97] 0.60913140311804\n",
      "3 0.875 9 [83, 68, 58, 89, 66, 7, 2, 80, 82, 98] 0.7048997772828508\n",
      "1 0.9 9 [85, 89, 88, 100, 84, 99, 88, 83, 84, 98] 1.0\n"
     ]
    }
   ],
   "source": [
    "budget = 5\n",
    "base_accuracy = accuracy_score(y_train, y_pred_cust_train)\n",
    "base_tree = tree\n",
    "\n",
    "leafs = []\n",
    "tree.walk(lambda x: leafs.append(x))\n",
    "N = sum(tree.value)\n",
    "for x in sorted(leafs, key=lambda x: x.impurity, reverse=False):\n",
    "    print(x.node_id, x.impurity, x.label, x.value, sum(x.value)/N)"
   ]
  },
  {
   "cell_type": "code",
   "execution_count": 89,
   "id": "66caedcb",
   "metadata": {},
   "outputs": [
    {
     "data": {
      "image/svg+xml": [
       "<?xml version=\"1.0\" encoding=\"UTF-8\" standalone=\"no\"?>\n",
       "<!DOCTYPE svg PUBLIC \"-//W3C//DTD SVG 1.1//EN\"\n",
       " \"http://www.w3.org/Graphics/SVG/1.1/DTD/svg11.dtd\">\n",
       "<!-- Generated by graphviz version 2.50.0 (0)\n",
       " -->\n",
       "<!-- Title: tree Pages: 1 -->\n",
       "<svg width=\"2548pt\" height=\"631pt\"\n",
       " viewBox=\"0.00 0.00 2547.85 630.52\" xmlns=\"http://www.w3.org/2000/svg\" xmlns:xlink=\"http://www.w3.org/1999/xlink\">\n",
       "<g id=\"graph0\" class=\"graph\" transform=\"scale(1 1) rotate(0) translate(4 626.52)\">\n",
       "<title>tree</title>\n",
       "<polygon fill=\"white\" stroke=\"transparent\" points=\"-4,4 -4,-626.52 2543.85,-626.52 2543.85,4 -4,4\"/>\n",
       "<!-- 1 -->\n",
       "<g id=\"node1\" class=\"node\">\n",
       "<title>1</title>\n",
       "<ellipse fill=\"none\" stroke=\"black\" cx=\"1167.86\" cy=\"-563.83\" rx=\"193.08\" ry=\"58.88\"/>\n",
       "<text text-anchor=\"middle\" x=\"1167.86\" y=\"-590.13\" font-family=\"Times,serif\" font-size=\"14.00\">Node_1</text>\n",
       "<text text-anchor=\"middle\" x=\"1167.86\" y=\"-575.13\" font-family=\"Times,serif\" font-size=\"14.00\">Impurity: 0.900</text>\n",
       "<text text-anchor=\"middle\" x=\"1167.86\" y=\"-560.13\" font-family=\"Times,serif\" font-size=\"14.00\">Label: 9</text>\n",
       "<text text-anchor=\"middle\" x=\"1167.86\" y=\"-545.13\" font-family=\"Times,serif\" font-size=\"14.00\">Value: [85, 89, 88, 100, 84, 99, 88, 83, 84, 98]</text>\n",
       "<text text-anchor=\"middle\" x=\"1167.86\" y=\"-530.13\" font-family=\"Times,serif\" font-size=\"14.00\">Samples: 898</text>\n",
       "</g>\n",
       "<!-- 2 -->\n",
       "<g id=\"node2\" class=\"node\">\n",
       "<title>2</title>\n",
       "<ellipse fill=\"none\" stroke=\"black\" cx=\"870.86\" cy=\"-395.45\" rx=\"169\" ry=\"58.88\"/>\n",
       "<text text-anchor=\"middle\" x=\"870.86\" y=\"-421.75\" font-family=\"Times,serif\" font-size=\"14.00\">Node_2</text>\n",
       "<text text-anchor=\"middle\" x=\"870.86\" y=\"-406.75\" font-family=\"Times,serif\" font-size=\"14.00\">Impurity: 0.748</text>\n",
       "<text text-anchor=\"middle\" x=\"870.86\" y=\"-391.75\" font-family=\"Times,serif\" font-size=\"14.00\">Label: 5</text>\n",
       "<text text-anchor=\"middle\" x=\"870.86\" y=\"-376.75\" font-family=\"Times,serif\" font-size=\"14.00\">Value: [2, 21, 30, 11, 18, 92, 86, 3, 2, 0]</text>\n",
       "<text text-anchor=\"middle\" x=\"870.86\" y=\"-361.75\" font-family=\"Times,serif\" font-size=\"14.00\">Samples: 265</text>\n",
       "</g>\n",
       "<!-- 1&#45;&gt;2 -->\n",
       "<g id=\"edge1\" class=\"edge\">\n",
       "<title>1&#45;&gt;2</title>\n",
       "<path fill=\"none\" stroke=\"black\" d=\"M1077.13,-512.01C1042.46,-492.58 1002.8,-470.36 967.58,-450.64\"/>\n",
       "<polygon fill=\"black\" stroke=\"black\" points=\"969.17,-447.51 958.73,-445.68 965.75,-453.62 969.17,-447.51\"/>\n",
       "<text text-anchor=\"middle\" x=\"1056.36\" y=\"-475.94\" font-family=\"Times,serif\" font-size=\"14.00\">21 &lt;= 1.0</text>\n",
       "</g>\n",
       "<!-- 3 -->\n",
       "<g id=\"node9\" class=\"node\">\n",
       "<title>3</title>\n",
       "<ellipse fill=\"none\" stroke=\"black\" cx=\"1536.86\" cy=\"-395.45\" rx=\"178.8\" ry=\"58.88\"/>\n",
       "<text text-anchor=\"middle\" x=\"1536.86\" y=\"-421.75\" font-family=\"Times,serif\" font-size=\"14.00\">Node_3</text>\n",
       "<text text-anchor=\"middle\" x=\"1536.86\" y=\"-406.75\" font-family=\"Times,serif\" font-size=\"14.00\">Impurity: 0.875</text>\n",
       "<text text-anchor=\"middle\" x=\"1536.86\" y=\"-391.75\" font-family=\"Times,serif\" font-size=\"14.00\">Label: 9</text>\n",
       "<text text-anchor=\"middle\" x=\"1536.86\" y=\"-376.75\" font-family=\"Times,serif\" font-size=\"14.00\">Value: [83, 68, 58, 89, 66, 7, 2, 80, 82, 98]</text>\n",
       "<text text-anchor=\"middle\" x=\"1536.86\" y=\"-361.75\" font-family=\"Times,serif\" font-size=\"14.00\">Samples: 633</text>\n",
       "</g>\n",
       "<!-- 1&#45;&gt;3 -->\n",
       "<g id=\"edge8\" class=\"edge\">\n",
       "<title>1&#45;&gt;3</title>\n",
       "<path fill=\"none\" stroke=\"black\" d=\"M1274.59,-514.71C1321.28,-493.65 1376.11,-468.93 1423.53,-447.55\"/>\n",
       "<polygon fill=\"black\" stroke=\"black\" points=\"1425.23,-450.62 1432.91,-443.32 1422.36,-444.24 1425.23,-450.62\"/>\n",
       "<text text-anchor=\"middle\" x=\"1387.36\" y=\"-475.94\" font-family=\"Times,serif\" font-size=\"14.00\">21 &gt; 1.0</text>\n",
       "</g>\n",
       "<!-- 10 -->\n",
       "<g id=\"node3\" class=\"node\">\n",
       "<title>10</title>\n",
       "<ellipse fill=\"none\" stroke=\"black\" cx=\"473.86\" cy=\"-227.07\" rx=\"159.61\" ry=\"58.88\"/>\n",
       "<text text-anchor=\"middle\" x=\"473.86\" y=\"-253.37\" font-family=\"Times,serif\" font-size=\"14.00\">Node_10</text>\n",
       "<text text-anchor=\"middle\" x=\"473.86\" y=\"-238.37\" font-family=\"Times,serif\" font-size=\"14.00\">Impurity: 0.589</text>\n",
       "<text text-anchor=\"middle\" x=\"473.86\" y=\"-223.37\" font-family=\"Times,serif\" font-size=\"14.00\">Label: 5</text>\n",
       "<text text-anchor=\"middle\" x=\"473.86\" y=\"-208.37\" font-family=\"Times,serif\" font-size=\"14.00\">Value: [0, 17, 20, 11, 3, 89, 2, 2, 2, 0]</text>\n",
       "<text text-anchor=\"middle\" x=\"473.86\" y=\"-193.37\" font-family=\"Times,serif\" font-size=\"14.00\">Samples: 146</text>\n",
       "</g>\n",
       "<!-- 2&#45;&gt;10 -->\n",
       "<g id=\"edge2\" class=\"edge\">\n",
       "<title>2&#45;&gt;10</title>\n",
       "<path fill=\"none\" stroke=\"black\" d=\"M764.21,-349.75C709.6,-326.87 643.11,-299 587.53,-275.71\"/>\n",
       "<polygon fill=\"black\" stroke=\"black\" points=\"588.58,-272.35 578,-271.72 585.87,-278.81 588.58,-272.35\"/>\n",
       "<text text-anchor=\"middle\" x=\"712.36\" y=\"-307.56\" font-family=\"Times,serif\" font-size=\"14.00\">42 &lt;= 8.0</text>\n",
       "</g>\n",
       "<!-- 11 -->\n",
       "<g id=\"node6\" class=\"node\">\n",
       "<title>11</title>\n",
       "<ellipse fill=\"none\" stroke=\"black\" cx=\"870.86\" cy=\"-227.07\" rx=\"154.71\" ry=\"58.88\"/>\n",
       "<text text-anchor=\"middle\" x=\"870.86\" y=\"-253.37\" font-family=\"Times,serif\" font-size=\"14.00\">Node_11</text>\n",
       "<text text-anchor=\"middle\" x=\"870.86\" y=\"-238.37\" font-family=\"Times,serif\" font-size=\"14.00\">Impurity: 0.477</text>\n",
       "<text text-anchor=\"middle\" x=\"870.86\" y=\"-223.37\" font-family=\"Times,serif\" font-size=\"14.00\">Label: 6</text>\n",
       "<text text-anchor=\"middle\" x=\"870.86\" y=\"-208.37\" font-family=\"Times,serif\" font-size=\"14.00\">Value: [2, 4, 10, 0, 15, 3, 84, 1, 0, 0]</text>\n",
       "<text text-anchor=\"middle\" x=\"870.86\" y=\"-193.37\" font-family=\"Times,serif\" font-size=\"14.00\">Samples: 119</text>\n",
       "</g>\n",
       "<!-- 2&#45;&gt;11 -->\n",
       "<g id=\"edge5\" class=\"edge\">\n",
       "<title>2&#45;&gt;11</title>\n",
       "<path fill=\"none\" stroke=\"black\" d=\"M870.86,-336.72C870.86,-323.64 870.86,-309.62 870.86,-296.14\"/>\n",
       "<polygon fill=\"black\" stroke=\"black\" points=\"874.36,-295.97 870.86,-285.97 867.36,-295.97 874.36,-295.97\"/>\n",
       "<text text-anchor=\"middle\" x=\"894.36\" y=\"-307.56\" font-family=\"Times,serif\" font-size=\"14.00\">42 &gt; 8.0</text>\n",
       "</g>\n",
       "<!-- 14 -->\n",
       "<g id=\"node4\" class=\"node\">\n",
       "<title>14</title>\n",
       "<ellipse fill=\"none\" stroke=\"black\" cx=\"154.86\" cy=\"-58.69\" rx=\"154.71\" ry=\"58.88\"/>\n",
       "<text text-anchor=\"middle\" x=\"154.86\" y=\"-84.99\" font-family=\"Times,serif\" font-size=\"14.00\">Node_14</text>\n",
       "<text text-anchor=\"middle\" x=\"154.86\" y=\"-69.99\" font-family=\"Times,serif\" font-size=\"14.00\">Impurity: 0.742</text>\n",
       "<text text-anchor=\"middle\" x=\"154.86\" y=\"-54.99\" font-family=\"Times,serif\" font-size=\"14.00\">Label: 2</text>\n",
       "<text text-anchor=\"middle\" x=\"154.86\" y=\"-39.99\" font-family=\"Times,serif\" font-size=\"14.00\">Value: [0, 17, 20, 10, 2, 3, 2, 1, 1, 0]</text>\n",
       "<text text-anchor=\"middle\" x=\"154.86\" y=\"-24.99\" font-family=\"Times,serif\" font-size=\"14.00\">Samples: 56</text>\n",
       "</g>\n",
       "<!-- 10&#45;&gt;14 -->\n",
       "<g id=\"edge3\" class=\"edge\">\n",
       "<title>10&#45;&gt;14</title>\n",
       "<path fill=\"none\" stroke=\"black\" d=\"M382.87,-178.61C342.55,-157.59 295.02,-132.8 253.82,-111.31\"/>\n",
       "<polygon fill=\"black\" stroke=\"black\" points=\"255.34,-108.15 244.86,-106.63 252.11,-114.36 255.34,-108.15\"/>\n",
       "<text text-anchor=\"middle\" x=\"349.36\" y=\"-139.18\" font-family=\"Times,serif\" font-size=\"14.00\">5 &lt;= 1.0</text>\n",
       "</g>\n",
       "<!-- 15 -->\n",
       "<g id=\"node5\" class=\"node\">\n",
       "<title>15</title>\n",
       "<ellipse fill=\"none\" stroke=\"black\" cx=\"473.86\" cy=\"-58.69\" rx=\"145.83\" ry=\"58.88\"/>\n",
       "<text text-anchor=\"middle\" x=\"473.86\" y=\"-84.99\" font-family=\"Times,serif\" font-size=\"14.00\">Node_15</text>\n",
       "<text text-anchor=\"middle\" x=\"473.86\" y=\"-69.99\" font-family=\"Times,serif\" font-size=\"14.00\">Impurity: 0.086</text>\n",
       "<text text-anchor=\"middle\" x=\"473.86\" y=\"-54.99\" font-family=\"Times,serif\" font-size=\"14.00\">Label: 5</text>\n",
       "<text text-anchor=\"middle\" x=\"473.86\" y=\"-39.99\" font-family=\"Times,serif\" font-size=\"14.00\">Value: [0, 0, 0, 1, 1, 86, 0, 1, 1, 0]</text>\n",
       "<text text-anchor=\"middle\" x=\"473.86\" y=\"-24.99\" font-family=\"Times,serif\" font-size=\"14.00\">Samples: 90</text>\n",
       "</g>\n",
       "<!-- 10&#45;&gt;15 -->\n",
       "<g id=\"edge4\" class=\"edge\">\n",
       "<title>10&#45;&gt;15</title>\n",
       "<path fill=\"none\" stroke=\"black\" d=\"M473.86,-168.34C473.86,-155.26 473.86,-141.24 473.86,-127.77\"/>\n",
       "<polygon fill=\"black\" stroke=\"black\" points=\"477.36,-127.59 473.86,-117.59 470.36,-127.59 477.36,-127.59\"/>\n",
       "<text text-anchor=\"middle\" x=\"493.86\" y=\"-139.18\" font-family=\"Times,serif\" font-size=\"14.00\">5 &gt; 1.0</text>\n",
       "</g>\n",
       "<!-- 12 -->\n",
       "<g id=\"node7\" class=\"node\">\n",
       "<title>12</title>\n",
       "<ellipse fill=\"none\" stroke=\"black\" cx=\"782.86\" cy=\"-58.69\" rx=\"145.83\" ry=\"58.88\"/>\n",
       "<text text-anchor=\"middle\" x=\"782.86\" y=\"-84.99\" font-family=\"Times,serif\" font-size=\"14.00\">Node_12</text>\n",
       "<text text-anchor=\"middle\" x=\"782.86\" y=\"-69.99\" font-family=\"Times,serif\" font-size=\"14.00\">Impurity: 0.708</text>\n",
       "<text text-anchor=\"middle\" x=\"782.86\" y=\"-54.99\" font-family=\"Times,serif\" font-size=\"14.00\">Label: 4</text>\n",
       "<text text-anchor=\"middle\" x=\"782.86\" y=\"-39.99\" font-family=\"Times,serif\" font-size=\"14.00\">Value: [2, 4, 1, 0, 15, 3, 5, 1, 0, 0]</text>\n",
       "<text text-anchor=\"middle\" x=\"782.86\" y=\"-24.99\" font-family=\"Times,serif\" font-size=\"14.00\">Samples: 31</text>\n",
       "</g>\n",
       "<!-- 11&#45;&gt;12 -->\n",
       "<g id=\"edge6\" class=\"edge\">\n",
       "<title>11&#45;&gt;12</title>\n",
       "<path fill=\"none\" stroke=\"black\" d=\"M840.82,-169.28C833.31,-155.09 825.2,-139.76 817.5,-125.18\"/>\n",
       "<polygon fill=\"black\" stroke=\"black\" points=\"820.53,-123.43 812.76,-116.23 814.34,-126.7 820.53,-123.43\"/>\n",
       "<text text-anchor=\"middle\" x=\"857.36\" y=\"-139.18\" font-family=\"Times,serif\" font-size=\"14.00\">54 &lt;= 2.0</text>\n",
       "</g>\n",
       "<!-- 13 -->\n",
       "<g id=\"node8\" class=\"node\">\n",
       "<title>13</title>\n",
       "<ellipse fill=\"none\" stroke=\"black\" cx=\"1091.86\" cy=\"-58.69\" rx=\"145.83\" ry=\"58.88\"/>\n",
       "<text text-anchor=\"middle\" x=\"1091.86\" y=\"-84.99\" font-family=\"Times,serif\" font-size=\"14.00\">Node_13</text>\n",
       "<text text-anchor=\"middle\" x=\"1091.86\" y=\"-69.99\" font-family=\"Times,serif\" font-size=\"14.00\">Impurity: 0.184</text>\n",
       "<text text-anchor=\"middle\" x=\"1091.86\" y=\"-54.99\" font-family=\"Times,serif\" font-size=\"14.00\">Label: 6</text>\n",
       "<text text-anchor=\"middle\" x=\"1091.86\" y=\"-39.99\" font-family=\"Times,serif\" font-size=\"14.00\">Value: [0, 0, 9, 0, 0, 0, 79, 0, 0, 0]</text>\n",
       "<text text-anchor=\"middle\" x=\"1091.86\" y=\"-24.99\" font-family=\"Times,serif\" font-size=\"14.00\">Samples: 88</text>\n",
       "</g>\n",
       "<!-- 11&#45;&gt;13 -->\n",
       "<g id=\"edge7\" class=\"edge\">\n",
       "<title>11&#45;&gt;13</title>\n",
       "<path fill=\"none\" stroke=\"black\" d=\"M939.57,-174.34C963.7,-156.17 990.96,-135.65 1015.67,-117.05\"/>\n",
       "<polygon fill=\"black\" stroke=\"black\" points=\"1018.06,-119.63 1023.94,-110.82 1013.85,-114.04 1018.06,-119.63\"/>\n",
       "<text text-anchor=\"middle\" x=\"1012.36\" y=\"-139.18\" font-family=\"Times,serif\" font-size=\"14.00\">54 &gt; 2.0</text>\n",
       "</g>\n",
       "<!-- 4 -->\n",
       "<g id=\"node10\" class=\"node\">\n",
       "<title>4</title>\n",
       "<ellipse fill=\"none\" stroke=\"black\" cx=\"1536.86\" cy=\"-227.07\" rx=\"145.83\" ry=\"58.88\"/>\n",
       "<text text-anchor=\"middle\" x=\"1536.86\" y=\"-253.37\" font-family=\"Times,serif\" font-size=\"14.00\">Node_4</text>\n",
       "<text text-anchor=\"middle\" x=\"1536.86\" y=\"-238.37\" font-family=\"Times,serif\" font-size=\"14.00\">Impurity: 0.194</text>\n",
       "<text text-anchor=\"middle\" x=\"1536.86\" y=\"-223.37\" font-family=\"Times,serif\" font-size=\"14.00\">Label: 0</text>\n",
       "<text text-anchor=\"middle\" x=\"1536.86\" y=\"-208.37\" font-family=\"Times,serif\" font-size=\"14.00\">Value: [77, 0, 2, 0, 5, 0, 0, 1, 0, 1]</text>\n",
       "<text text-anchor=\"middle\" x=\"1536.86\" y=\"-193.37\" font-family=\"Times,serif\" font-size=\"14.00\">Samples: 86</text>\n",
       "</g>\n",
       "<!-- 3&#45;&gt;4 -->\n",
       "<g id=\"edge9\" class=\"edge\">\n",
       "<title>3&#45;&gt;4</title>\n",
       "<path fill=\"none\" stroke=\"black\" d=\"M1536.86,-336.72C1536.86,-323.64 1536.86,-309.62 1536.86,-296.14\"/>\n",
       "<polygon fill=\"black\" stroke=\"black\" points=\"1540.36,-295.97 1536.86,-285.97 1533.36,-295.97 1540.36,-295.97\"/>\n",
       "<text text-anchor=\"middle\" x=\"1564.36\" y=\"-307.56\" font-family=\"Times,serif\" font-size=\"14.00\">28 &lt;= 0.0</text>\n",
       "</g>\n",
       "<!-- 5 -->\n",
       "<g id=\"node13\" class=\"node\">\n",
       "<title>5</title>\n",
       "<ellipse fill=\"none\" stroke=\"black\" cx=\"2023.86\" cy=\"-227.07\" rx=\"173.9\" ry=\"58.88\"/>\n",
       "<text text-anchor=\"middle\" x=\"2023.86\" y=\"-253.37\" font-family=\"Times,serif\" font-size=\"14.00\">Node_5</text>\n",
       "<text text-anchor=\"middle\" x=\"2023.86\" y=\"-238.37\" font-family=\"Times,serif\" font-size=\"14.00\">Impurity: 0.860</text>\n",
       "<text text-anchor=\"middle\" x=\"2023.86\" y=\"-223.37\" font-family=\"Times,serif\" font-size=\"14.00\">Label: 9</text>\n",
       "<text text-anchor=\"middle\" x=\"2023.86\" y=\"-208.37\" font-family=\"Times,serif\" font-size=\"14.00\">Value: [6, 68, 56, 89, 61, 7, 2, 79, 82, 97]</text>\n",
       "<text text-anchor=\"middle\" x=\"2023.86\" y=\"-193.37\" font-family=\"Times,serif\" font-size=\"14.00\">Samples: 547</text>\n",
       "</g>\n",
       "<!-- 3&#45;&gt;5 -->\n",
       "<g id=\"edge12\" class=\"edge\">\n",
       "<title>3&#45;&gt;5</title>\n",
       "<path fill=\"none\" stroke=\"black\" d=\"M1659.43,-352.57C1730.76,-328.2 1820.63,-297.5 1893.28,-272.68\"/>\n",
       "<polygon fill=\"black\" stroke=\"black\" points=\"1894.63,-275.92 1902.96,-269.37 1892.37,-269.29 1894.63,-275.92\"/>\n",
       "<text text-anchor=\"middle\" x=\"1819.36\" y=\"-307.56\" font-family=\"Times,serif\" font-size=\"14.00\">28 &gt; 0.0</text>\n",
       "</g>\n",
       "<!-- 8 -->\n",
       "<g id=\"node11\" class=\"node\">\n",
       "<title>8</title>\n",
       "<ellipse fill=\"none\" stroke=\"black\" cx=\"1400.86\" cy=\"-58.69\" rx=\"145.83\" ry=\"58.88\"/>\n",
       "<text text-anchor=\"middle\" x=\"1400.86\" y=\"-84.99\" font-family=\"Times,serif\" font-size=\"14.00\">Node_8</text>\n",
       "<text text-anchor=\"middle\" x=\"1400.86\" y=\"-69.99\" font-family=\"Times,serif\" font-size=\"14.00\">Impurity: 0.025</text>\n",
       "<text text-anchor=\"middle\" x=\"1400.86\" y=\"-54.99\" font-family=\"Times,serif\" font-size=\"14.00\">Label: 0</text>\n",
       "<text text-anchor=\"middle\" x=\"1400.86\" y=\"-39.99\" font-family=\"Times,serif\" font-size=\"14.00\">Value: [77, 0, 1, 0, 0, 0, 0, 0, 0, 0]</text>\n",
       "<text text-anchor=\"middle\" x=\"1400.86\" y=\"-24.99\" font-family=\"Times,serif\" font-size=\"14.00\">Samples: 78</text>\n",
       "</g>\n",
       "<!-- 4&#45;&gt;8 -->\n",
       "<g id=\"edge10\" class=\"edge\">\n",
       "<title>4&#45;&gt;8</title>\n",
       "<path fill=\"none\" stroke=\"black\" d=\"M1491.95,-171.13C1479.18,-155.51 1465.18,-138.39 1452.07,-122.35\"/>\n",
       "<polygon fill=\"black\" stroke=\"black\" points=\"1454.76,-120.1 1445.72,-114.57 1449.34,-124.53 1454.76,-120.1\"/>\n",
       "<text text-anchor=\"middle\" x=\"1501.36\" y=\"-139.18\" font-family=\"Times,serif\" font-size=\"14.00\">36 &lt;= 1.0</text>\n",
       "</g>\n",
       "<!-- 9 -->\n",
       "<g id=\"node12\" class=\"node\">\n",
       "<title>9</title>\n",
       "<ellipse fill=\"none\" stroke=\"black\" cx=\"1704.86\" cy=\"-58.69\" rx=\"140.93\" ry=\"58.88\"/>\n",
       "<text text-anchor=\"middle\" x=\"1704.86\" y=\"-84.99\" font-family=\"Times,serif\" font-size=\"14.00\">Node_9</text>\n",
       "<text text-anchor=\"middle\" x=\"1704.86\" y=\"-69.99\" font-family=\"Times,serif\" font-size=\"14.00\">Impurity: 0.562</text>\n",
       "<text text-anchor=\"middle\" x=\"1704.86\" y=\"-54.99\" font-family=\"Times,serif\" font-size=\"14.00\">Label: 4</text>\n",
       "<text text-anchor=\"middle\" x=\"1704.86\" y=\"-39.99\" font-family=\"Times,serif\" font-size=\"14.00\">Value: [0, 0, 1, 0, 5, 0, 0, 1, 0, 1]</text>\n",
       "<text text-anchor=\"middle\" x=\"1704.86\" y=\"-24.99\" font-family=\"Times,serif\" font-size=\"14.00\">Samples: 8</text>\n",
       "</g>\n",
       "<!-- 4&#45;&gt;9 -->\n",
       "<g id=\"edge11\" class=\"edge\">\n",
       "<title>4&#45;&gt;9</title>\n",
       "<path fill=\"none\" stroke=\"black\" d=\"M1590.94,-172.51C1607.72,-155.89 1626.34,-137.45 1643.58,-120.37\"/>\n",
       "<polygon fill=\"black\" stroke=\"black\" points=\"1646.23,-122.67 1650.88,-113.15 1641.31,-117.7 1646.23,-122.67\"/>\n",
       "<text text-anchor=\"middle\" x=\"1650.36\" y=\"-139.18\" font-family=\"Times,serif\" font-size=\"14.00\">36 &gt; 1.0</text>\n",
       "</g>\n",
       "<!-- 6 -->\n",
       "<g id=\"node14\" class=\"node\">\n",
       "<title>6</title>\n",
       "<ellipse fill=\"none\" stroke=\"black\" cx=\"2023.86\" cy=\"-58.69\" rx=\"159.61\" ry=\"58.88\"/>\n",
       "<text text-anchor=\"middle\" x=\"2023.86\" y=\"-84.99\" font-family=\"Times,serif\" font-size=\"14.00\">Node_6</text>\n",
       "<text text-anchor=\"middle\" x=\"2023.86\" y=\"-69.99\" font-family=\"Times,serif\" font-size=\"14.00\">Impurity: 0.674</text>\n",
       "<text text-anchor=\"middle\" x=\"2023.86\" y=\"-54.99\" font-family=\"Times,serif\" font-size=\"14.00\">Label: 9</text>\n",
       "<text text-anchor=\"middle\" x=\"2023.86\" y=\"-39.99\" font-family=\"Times,serif\" font-size=\"14.00\">Value: [4, 10, 2, 77, 7, 6, 0, 1, 13, 89]</text>\n",
       "<text text-anchor=\"middle\" x=\"2023.86\" y=\"-24.99\" font-family=\"Times,serif\" font-size=\"14.00\">Samples: 209</text>\n",
       "</g>\n",
       "<!-- 5&#45;&gt;6 -->\n",
       "<g id=\"edge13\" class=\"edge\">\n",
       "<title>5&#45;&gt;6</title>\n",
       "<path fill=\"none\" stroke=\"black\" d=\"M2023.86,-168.34C2023.86,-155.26 2023.86,-141.24 2023.86,-127.77\"/>\n",
       "<polygon fill=\"black\" stroke=\"black\" points=\"2027.36,-127.59 2023.86,-117.59 2020.36,-127.59 2027.36,-127.59\"/>\n",
       "<text text-anchor=\"middle\" x=\"2051.36\" y=\"-139.18\" font-family=\"Times,serif\" font-size=\"14.00\">43 &lt;= 1.0</text>\n",
       "</g>\n",
       "<!-- 7 -->\n",
       "<g id=\"node15\" class=\"node\">\n",
       "<title>7</title>\n",
       "<ellipse fill=\"none\" stroke=\"black\" cx=\"2370.86\" cy=\"-58.69\" rx=\"169\" ry=\"58.88\"/>\n",
       "<text text-anchor=\"middle\" x=\"2370.86\" y=\"-84.99\" font-family=\"Times,serif\" font-size=\"14.00\">Node_7</text>\n",
       "<text text-anchor=\"middle\" x=\"2370.86\" y=\"-69.99\" font-family=\"Times,serif\" font-size=\"14.00\">Impurity: 0.823</text>\n",
       "<text text-anchor=\"middle\" x=\"2370.86\" y=\"-54.99\" font-family=\"Times,serif\" font-size=\"14.00\">Label: 7</text>\n",
       "<text text-anchor=\"middle\" x=\"2370.86\" y=\"-39.99\" font-family=\"Times,serif\" font-size=\"14.00\">Value: [2, 58, 54, 12, 54, 1, 2, 78, 69, 8]</text>\n",
       "<text text-anchor=\"middle\" x=\"2370.86\" y=\"-24.99\" font-family=\"Times,serif\" font-size=\"14.00\">Samples: 338</text>\n",
       "</g>\n",
       "<!-- 5&#45;&gt;7 -->\n",
       "<g id=\"edge14\" class=\"edge\">\n",
       "<title>5&#45;&gt;7</title>\n",
       "<path fill=\"none\" stroke=\"black\" d=\"M2122.83,-178.61C2166.87,-157.5 2218.82,-132.59 2263.77,-111.04\"/>\n",
       "<polygon fill=\"black\" stroke=\"black\" points=\"2265.45,-114.11 2272.95,-106.63 2262.42,-107.8 2265.45,-114.11\"/>\n",
       "<text text-anchor=\"middle\" x=\"2231.36\" y=\"-139.18\" font-family=\"Times,serif\" font-size=\"14.00\">43 &gt; 1.0</text>\n",
       "</g>\n",
       "</g>\n",
       "</svg>\n"
      ],
      "text/plain": [
       "<graphviz.graphs.Digraph at 0x174245c10>"
      ]
     },
     "execution_count": 89,
     "metadata": {},
     "output_type": "execute_result"
    }
   ],
   "source": [
    "tree.plot()"
   ]
  },
  {
   "cell_type": "code",
   "execution_count": 90,
   "id": "eabb3f82",
   "metadata": {},
   "outputs": [
    {
     "data": {
      "text/plain": [
       "8"
      ]
     },
     "execution_count": 90,
     "metadata": {},
     "output_type": "execute_result"
    }
   ],
   "source": [
    "len(tree.get_leaves())"
   ]
  },
  {
   "cell_type": "code",
   "execution_count": 91,
   "id": "50d02ed5",
   "metadata": {},
   "outputs": [
    {
     "data": {
      "text/plain": [
       "[(5, 5), (43, 43), (54, 54), (36, 36), (28, 28), (21, 21), (42, 42)]"
      ]
     },
     "execution_count": 91,
     "metadata": {},
     "output_type": "execute_result"
    }
   ],
   "source": [
    "tree.get_features()"
   ]
  },
  {
   "cell_type": "code",
   "execution_count": 92,
   "id": "17ab16f6",
   "metadata": {},
   "outputs": [
    {
     "data": {
      "text/plain": [
       "21"
      ]
     },
     "execution_count": 92,
     "metadata": {},
     "output_type": "execute_result"
    }
   ],
   "source": [
    "tree.conditions[0].attribute"
   ]
  },
  {
   "cell_type": "code",
   "execution_count": 93,
   "id": "0d393452",
   "metadata": {},
   "outputs": [],
   "source": [
    "def get_rules(tree, feature_names, class_names):\n",
    "    tree_ = tree\n",
    "    feature_name = [\n",
    "        feature_names[i] if i != _tree.TREE_UNDEFINED else \"undefined!\"\n",
    "        for i in tree_.feature\n",
    "    ]\n",
    "\n",
    "    paths = []\n",
    "    path = []\n",
    "    \n",
    "    def recurse(node, path, paths):\n",
    "        \n",
    "        if tree_.feature[node] != _tree.TREE_UNDEFINED:\n",
    "            name = feature_name[node]\n",
    "            threshold = tree_.threshold[node]\n",
    "            p1, p2 = list(path), list(path)\n",
    "            p1 += [f\"({name} <= {np.round(threshold, 3)})\"]\n",
    "            recurse(tree_.children_left[node], p1, paths)\n",
    "            p2 += [f\"({name} > {np.round(threshold, 3)})\"]\n",
    "            recurse(tree_.children_right[node], p2, paths)\n",
    "        else:\n",
    "            path += [(tree_.value[node], tree_.n_node_samples[node])]\n",
    "            paths += [path]\n",
    "            \n",
    "    recurse(0, path, paths)\n",
    "\n",
    "    # sort by samples count\n",
    "    samples_count = [p[-1][1] for p in paths]\n",
    "    ii = list(np.argsort(samples_count))\n",
    "    paths = [paths[i] for i in reversed(ii)]\n",
    "    \n",
    "    rules = []\n",
    "    for path in paths:\n",
    "        rule = \"if \"\n",
    "        \n",
    "        for p in path[:-1]:\n",
    "            if rule != \"if \":\n",
    "                rule += \" and \"\n",
    "            rule += str(p)\n",
    "        rule += \" then \"\n",
    "        if class_names is None:\n",
    "            rule += \"response: \"+str(np.round(path[-1][0][0][0],3))\n",
    "        else:\n",
    "            classes = path[-1][0][0]\n",
    "            l = np.argmax(classes)\n",
    "            rule += f\"class: {class_names[l]} (proba: {np.round(100.0*classes[l]/np.sum(classes),2)}%)\"\n",
    "        rule += f\" | based on {path[-1][1]:,} samples\"\n",
    "        rules += [rule]\n",
    "        \n",
    "    return rules"
   ]
  },
  {
   "cell_type": "code",
   "execution_count": null,
   "id": "d953420c",
   "metadata": {},
   "outputs": [],
   "source": []
  },
  {
   "cell_type": "code",
   "execution_count": 94,
   "id": "a788a849",
   "metadata": {},
   "outputs": [
    {
     "data": {
      "text/plain": [
       "array([[ 0.,  0.,  5., ...,  0.,  0.,  0.],\n",
       "       [ 0.,  0.,  0., ..., 10.,  0.,  0.],\n",
       "       [ 0.,  0.,  0., ..., 16.,  9.,  0.],\n",
       "       ...,\n",
       "       [ 0.,  0.,  1., ...,  6.,  0.,  0.],\n",
       "       [ 0.,  0.,  2., ..., 12.,  0.,  0.],\n",
       "       [ 0.,  0., 10., ..., 12.,  1.,  0.]])"
      ]
     },
     "execution_count": 94,
     "metadata": {},
     "output_type": "execute_result"
    }
   ],
   "source": [
    "X"
   ]
  },
  {
   "cell_type": "code",
   "execution_count": null,
   "id": "2bd23b66",
   "metadata": {},
   "outputs": [],
   "source": []
  },
  {
   "cell_type": "code",
   "execution_count": 95,
   "id": "e1f6e380",
   "metadata": {},
   "outputs": [],
   "source": [
    "from sklearn import datasets\n"
   ]
  },
  {
   "cell_type": "code",
   "execution_count": 96,
   "id": "2f62eca2",
   "metadata": {},
   "outputs": [],
   "source": [
    "iris = datasets.load_iris()\n",
    "X = iris.data\n",
    "y = iris.target"
   ]
  },
  {
   "cell_type": "code",
   "execution_count": 97,
   "id": "6f236f48",
   "metadata": {},
   "outputs": [
    {
     "data": {
      "text/plain": [
       "['sepal length (cm)',\n",
       " 'sepal width (cm)',\n",
       " 'petal length (cm)',\n",
       " 'petal width (cm)']"
      ]
     },
     "execution_count": 97,
     "metadata": {},
     "output_type": "execute_result"
    }
   ],
   "source": [
    "iris.feature_names"
   ]
  },
  {
   "cell_type": "code",
   "execution_count": 98,
   "id": "a58e8bbc",
   "metadata": {},
   "outputs": [
    {
     "data": {
      "text/plain": [
       "array(['setosa', 'versicolor', 'virginica'], dtype='<U10')"
      ]
     },
     "execution_count": 98,
     "metadata": {},
     "output_type": "execute_result"
    }
   ],
   "source": [
    "iris.target_names"
   ]
  },
  {
   "cell_type": "code",
   "execution_count": 99,
   "id": "87ff4653",
   "metadata": {},
   "outputs": [],
   "source": [
    "\n",
    "@dataclass\n",
    "class BCondition:\n",
    "    attribute: str\n",
    "    attribute_pos: int\n",
    "    #operator: Operator\n",
    "    lowerbracket_open: bool\n",
    "    lowerthreshold: float\n",
    "    upperthreshold: float    \n",
    "    upperbracket_open: bool    \n",
    "        \n",
    "    \n",
    "    #threshold: float\n",
    "\n",
    "    def __repr__(self):\n",
    "        return str(self)\n",
    "\n",
    "    def __str__(self):\n",
    "        if self.lowerbracket_open:\n",
    "            lowerbracket = \"(\"\n",
    "        else:\n",
    "            lowerbracket = \"[\"\n",
    "        if self.upperbracket_open:\n",
    "            upperbracket = \")\"\n",
    "        else:\n",
    "            upperbracket = \"]\"\n",
    "        \n",
    "        return f\"{self.attribute} ∈ {lowerbracket}{self.lowerthreshold}, {self.upperthreshold}{upperbracket}\"\n",
    "            \n",
    "    def fire(self, x):        \n",
    "        attribute_val = x[self.attribute_pos]\n",
    "        # return true if attribute_val between lower and upper bound\n",
    "    \n",
    "\n",
    "@dataclass\n",
    "class DecisionBoundary:\n",
    "    label: str\n",
    "    value: List[int]  \n",
    "    conditions: List[BCondition]     \n",
    "        \n",
    "        \n",
    "        \n",
    "@dataclass\n",
    "class DecisionSpace:\n",
    "    bounday_set: List[DecisionBoundary]"
   ]
  },
  {
   "cell_type": "code",
   "execution_count": 100,
   "id": "0260a7b8",
   "metadata": {},
   "outputs": [],
   "source": [
    "boundary1 = DecisionBoundary(label = 'A', \n",
    "                            value = [80,20],\n",
    "                            conditions = [BCondition(\"Age\",1, False,1,3,False ),BCondition(\"Height\",2,True,160,178,False)]\n",
    "                            )\n",
    "\n",
    "boundary2 = DecisionBoundary(label = 'B', \n",
    "                            value = [80,20],\n",
    "                            conditions = [BCondition(\"Age\",1, False,1,3,False ),BCondition(\"Height\",2,True,160,178,False)]\n",
    "                            )"
   ]
  },
  {
   "cell_type": "code",
   "execution_count": null,
   "id": "ca0a0919",
   "metadata": {},
   "outputs": [],
   "source": []
  },
  {
   "cell_type": "code",
   "execution_count": 101,
   "id": "76685c00",
   "metadata": {},
   "outputs": [],
   "source": [
    "space = DecisionSpace([boundary1,boundary2])"
   ]
  },
  {
   "cell_type": "code",
   "execution_count": 102,
   "id": "9a8c5ae4",
   "metadata": {},
   "outputs": [
    {
     "name": "stdout",
     "output_type": "stream",
     "text": [
      "DecisionSpace(bounday_set=[DecisionBoundary(label='A', value=[80, 20], conditions=[Age ∈ [1, 3], Height ∈ (160, 178]]), DecisionBoundary(label='B', value=[80, 20], conditions=[Age ∈ [1, 3], Height ∈ (160, 178]])])\n"
     ]
    }
   ],
   "source": [
    "print(space)"
   ]
  },
  {
   "cell_type": "code",
   "execution_count": 103,
   "id": "5bfc60aa",
   "metadata": {},
   "outputs": [],
   "source": [
    "def get_decisionspace(tree):\n",
    "    leaves = tree.get_leaves()\n",
    "    boundaries = []\n",
    "        \n",
    "    for l in leaves:\n",
    "        boundaries.append(get_decisionboundary(l))\n",
    "    return DecisionSpace(boundaries )      \n",
    "            \n",
    "def get_leaf_condition(leaf):\n",
    "    condi = []\n",
    "    p = leaf\n",
    "    while p is not None:\n",
    "        p_cond = p.find_to_condition()\n",
    "        if p_cond is not None:\n",
    "            condi.append(p_cond)\n",
    "        p = p.parent \n",
    "    return condi\n",
    "\n",
    "\n",
    "def get_decisionboundary(leaf):\n",
    "    bound_condi = []\n",
    "    for f, f_pos in leaf.get_root_node().get_features():\n",
    "        feature_min_upper_bound = float('inf')\n",
    "        feature_max_lower_bound = float('-inf')\n",
    "        for c in get_leaf_condition(leaf):\n",
    "            if c.attribute == f:\n",
    "                if c.operator == Operator.LE:\n",
    "                    if feature_min_upper_bound > c.threshold:\n",
    "                        feature_min_upper_bound = c.threshold\n",
    "                if c.operator == Operator.GT:\n",
    "                    if feature_max_lower_bound < c.threshold:\n",
    "                        feature_max_lower_bound = c.threshold\n",
    "                    \n",
    "        #BCondition(f,f_pos,True,feature_max_lower_bound,feature_min_upper_bound,False)\n",
    "        bound_condi.append(BCondition(f,f_pos,True,feature_max_lower_bound,feature_min_upper_bound,False))   \n",
    "    # TODO: get list of rules for leaf and convert to a decision boundary\n",
    "    decision_boundary = DecisionBoundary(label = leaf.label, value = leaf.value, conditions = bound_condi )\n",
    "    return decision_boundary"
   ]
  },
  {
   "cell_type": "code",
   "execution_count": 104,
   "id": "9aff4ad1",
   "metadata": {},
   "outputs": [],
   "source": [
    "example_leaf = tree.get_leaves()[0]"
   ]
  },
  {
   "cell_type": "code",
   "execution_count": 105,
   "id": "99346102",
   "metadata": {},
   "outputs": [
    {
     "data": {
      "text/plain": [
       "[5 <= 1.0, 42 <= 8.0, 21 <= 1.0]"
      ]
     },
     "execution_count": 105,
     "metadata": {},
     "output_type": "execute_result"
    }
   ],
   "source": [
    "get_leaf_condition(example_leaf)"
   ]
  },
  {
   "cell_type": "code",
   "execution_count": 107,
   "id": "5e611c31",
   "metadata": {},
   "outputs": [
    {
     "data": {
      "text/plain": [
       "[(5, 5), (43, 43), (54, 54), (36, 36), (28, 28), (21, 21), (42, 42)]"
      ]
     },
     "execution_count": 107,
     "metadata": {},
     "output_type": "execute_result"
    }
   ],
   "source": [
    "example_leaf.get_root_node().get_features()"
   ]
  },
  {
   "cell_type": "code",
   "execution_count": 108,
   "id": "be4deaa6",
   "metadata": {},
   "outputs": [
    {
     "data": {
      "text/plain": [
       "[]"
      ]
     },
     "execution_count": 108,
     "metadata": {},
     "output_type": "execute_result"
    }
   ],
   "source": [
    "example_leaf.get_features()"
   ]
  },
  {
   "cell_type": "code",
   "execution_count": 109,
   "id": "b13bf6a0",
   "metadata": {},
   "outputs": [
    {
     "data": {
      "text/plain": [
       "DecisionBoundary(label=2, value=[0, 17, 20, 10, 2, 3, 2, 1, 1, 0], conditions=[5 ∈ (-inf, 1.0], 43 ∈ (-inf, inf], 54 ∈ (-inf, inf], 36 ∈ (-inf, inf], 28 ∈ (-inf, inf], 21 ∈ (-inf, 1.0], 42 ∈ (-inf, 8.0]])"
      ]
     },
     "execution_count": 109,
     "metadata": {},
     "output_type": "execute_result"
    }
   ],
   "source": [
    "get_decisionboundary(example_leaf)"
   ]
  },
  {
   "cell_type": "code",
   "execution_count": 115,
   "id": "023e7c78",
   "metadata": {},
   "outputs": [
    {
     "data": {
      "text/plain": [
       "[DecisionBoundary(label=2, value=[0, 17, 20, 10, 2, 3, 2, 1, 1, 0], conditions=[5 ∈ (-inf, 1.0], 43 ∈ (-inf, inf], 54 ∈ (-inf, inf], 36 ∈ (-inf, inf], 28 ∈ (-inf, inf], 21 ∈ (-inf, 1.0], 42 ∈ (-inf, 8.0]]),\n",
       " DecisionBoundary(label=5, value=[0, 0, 0, 1, 1, 86, 0, 1, 1, 0], conditions=[5 ∈ (1.0, inf], 43 ∈ (-inf, inf], 54 ∈ (-inf, inf], 36 ∈ (-inf, inf], 28 ∈ (-inf, inf], 21 ∈ (-inf, 1.0], 42 ∈ (-inf, 8.0]]),\n",
       " DecisionBoundary(label=4, value=[2, 4, 1, 0, 15, 3, 5, 1, 0, 0], conditions=[5 ∈ (-inf, inf], 43 ∈ (-inf, inf], 54 ∈ (-inf, 2.0], 36 ∈ (-inf, inf], 28 ∈ (-inf, inf], 21 ∈ (-inf, 1.0], 42 ∈ (8.0, inf]]),\n",
       " DecisionBoundary(label=6, value=[0, 0, 9, 0, 0, 0, 79, 0, 0, 0], conditions=[5 ∈ (-inf, inf], 43 ∈ (-inf, inf], 54 ∈ (2.0, inf], 36 ∈ (-inf, inf], 28 ∈ (-inf, inf], 21 ∈ (-inf, 1.0], 42 ∈ (8.0, inf]]),\n",
       " DecisionBoundary(label=0, value=[77, 0, 1, 0, 0, 0, 0, 0, 0, 0], conditions=[5 ∈ (-inf, inf], 43 ∈ (-inf, inf], 54 ∈ (-inf, inf], 36 ∈ (-inf, 1.0], 28 ∈ (-inf, 0.0], 21 ∈ (1.0, inf], 42 ∈ (-inf, inf]]),\n",
       " DecisionBoundary(label=4, value=[0, 0, 1, 0, 5, 0, 0, 1, 0, 1], conditions=[5 ∈ (-inf, inf], 43 ∈ (-inf, inf], 54 ∈ (-inf, inf], 36 ∈ (1.0, inf], 28 ∈ (-inf, 0.0], 21 ∈ (1.0, inf], 42 ∈ (-inf, inf]]),\n",
       " DecisionBoundary(label=9, value=[4, 10, 2, 77, 7, 6, 0, 1, 13, 89], conditions=[5 ∈ (-inf, inf], 43 ∈ (-inf, 1.0], 54 ∈ (-inf, inf], 36 ∈ (-inf, inf], 28 ∈ (0.0, inf], 21 ∈ (1.0, inf], 42 ∈ (-inf, inf]]),\n",
       " DecisionBoundary(label=7, value=[2, 58, 54, 12, 54, 1, 2, 78, 69, 8], conditions=[5 ∈ (-inf, inf], 43 ∈ (1.0, inf], 54 ∈ (-inf, inf], 36 ∈ (-inf, inf], 28 ∈ (0.0, inf], 21 ∈ (1.0, inf], 42 ∈ (-inf, inf]])]"
      ]
     },
     "execution_count": 115,
     "metadata": {},
     "output_type": "execute_result"
    }
   ],
   "source": [
    "get_decisionspace(tree).bounday_set"
   ]
  },
  {
   "cell_type": "code",
   "execution_count": 121,
   "id": "1c52cd9d",
   "metadata": {},
   "outputs": [],
   "source": [
    "def data_to_decisionspace(X, y):\n",
    "    tree = grow_tree(X,y,max_depth = 2, min_samples_split = 2)\n",
    "    space = get_decisionspace(tree)\n",
    "    return space \n",
    "    "
   ]
  },
  {
   "cell_type": "code",
   "execution_count": 134,
   "id": "29e4b19f",
   "metadata": {},
   "outputs": [
    {
     "data": {
      "text/plain": [
       "DecisionSpace(bounday_set=[DecisionBoundary(label=0, value=[50, 0, 0], conditions=[petal width (cm) ∈ (-inf, inf], petal length (cm) ∈ (-inf, 1.9]]), DecisionBoundary(label=1, value=[0, 49, 5], conditions=[petal width (cm) ∈ (-inf, 1.7], petal length (cm) ∈ (1.9, inf]]), DecisionBoundary(label=2, value=[0, 1, 45], conditions=[petal width (cm) ∈ (1.7, inf], petal length (cm) ∈ (1.9, inf]])])"
      ]
     },
     "execution_count": 134,
     "metadata": {},
     "output_type": "execute_result"
    }
   ],
   "source": [
    "d = load_iris()\n",
    "data_to_decisionspace(pd.DataFrame(d.data, columns=d.feature_names), d.target)"
   ]
  },
  {
   "cell_type": "code",
   "execution_count": 127,
   "id": "eacc56c6",
   "metadata": {},
   "outputs": [
    {
     "data": {
      "text/plain": [
       "['sepal length (cm)',\n",
       " 'sepal width (cm)',\n",
       " 'petal length (cm)',\n",
       " 'petal width (cm)']"
      ]
     },
     "execution_count": 127,
     "metadata": {},
     "output_type": "execute_result"
    }
   ],
   "source": [
    "d.feature_names"
   ]
  },
  {
   "cell_type": "code",
   "execution_count": 128,
   "id": "ef5161ea",
   "metadata": {},
   "outputs": [
    {
     "data": {
      "text/plain": [
       "array(['setosa', 'versicolor', 'virginica'], dtype='<U10')"
      ]
     },
     "execution_count": 128,
     "metadata": {},
     "output_type": "execute_result"
    }
   ],
   "source": [
    "d.target_names"
   ]
  },
  {
   "cell_type": "code",
   "execution_count": 130,
   "id": "38cf9dde",
   "metadata": {},
   "outputs": [],
   "source": []
  },
  {
   "cell_type": "code",
   "execution_count": null,
   "id": "76c88623",
   "metadata": {},
   "outputs": [],
   "source": []
  }
 ],
 "metadata": {
  "kernelspec": {
   "display_name": "Python 3 (ipykernel)",
   "language": "python",
   "name": "python3"
  },
  "language_info": {
   "codemirror_mode": {
    "name": "ipython",
    "version": 3
   },
   "file_extension": ".py",
   "mimetype": "text/x-python",
   "name": "python",
   "nbconvert_exporter": "python",
   "pygments_lexer": "ipython3",
   "version": "3.9.12"
  }
 },
 "nbformat": 4,
 "nbformat_minor": 5
}
