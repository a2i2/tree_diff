{
 "cells": [
  {
   "cell_type": "code",
   "execution_count": 135,
   "id": "8481814a",
   "metadata": {},
   "outputs": [],
   "source": [
    "import scipy.io\n",
    "import pandas as pd\n",
    "import numpy as np\n",
    "\n",
    "from math import log2\n",
    "from dataclasses import dataclass, field\n",
    "\n",
    "from functools import partial\n",
    "from queue import deque\n",
    "from enum import Enum\n",
    "from collections import deque\n",
    "\n",
    "from typing import *\n",
    "from operator import *\n",
    "\n",
    "from sklearn.tree import DecisionTreeClassifier, plot_tree\n",
    "from sklearn.model_selection import train_test_split\n",
    "from sklearn.metrics import *\n",
    "from sklearn.datasets import *\n",
    "\n",
    "import graphviz\n",
    "#mat = scipy.io.loadmat('/Users/scott/projects/research-projects/tree_diff/input/twitter/influenza_outbreak_dataset.mat')"
   ]
  },
  {
   "cell_type": "markdown",
   "id": "9d320402",
   "metadata": {},
   "source": [
    "## Decision Tree Features\n",
    "* ~Handle multiclass/binary~\n",
    "* Binary or multple splits: Binary only \n",
    "* Choice of stopping criteria\n",
    "* Choice of evaluation measure \n",
    "* Choice of splitting criteria \n",
    "* Choice of pruning strategy \n",
    "* Opaque rules"
   ]
  },
  {
   "cell_type": "code",
   "execution_count": 136,
   "id": "65798e1d",
   "metadata": {},
   "outputs": [],
   "source": [
    "a = load_iris()\n",
    "X = a.data\n",
    "y = a.target\n",
    "\n",
    "X_train,X_test,y_train,y_test=train_test_split(X,y,test_size=0.5)"
   ]
  },
  {
   "cell_type": "markdown",
   "id": "5858b0c1",
   "metadata": {},
   "source": [
    "# Simple Decision tree"
   ]
  },
  {
   "cell_type": "markdown",
   "id": "d5dee525",
   "metadata": {},
   "source": [
    "## Data classes "
   ]
  },
  {
   "cell_type": "code",
   "execution_count": 137,
   "id": "b04b9da5",
   "metadata": {},
   "outputs": [],
   "source": [
    "class Operator(str, Enum):\n",
    "    EQ = \"==\"\n",
    "    LT = \"<\"\n",
    "    GT = \">\"\n",
    "    LE = \"<=\"\n",
    "    GE = \">=\"\n",
    "    NE = \"!=\"\n",
    "    \n",
    "    @property\n",
    "    def op(self):\n",
    "        return {self.EQ: eq, \n",
    "                self.LT: lt, \n",
    "                self.LE: le, \n",
    "                self.GE: ge,\n",
    "                self.NE: ne,                \n",
    "                self.GT: gt}[self]\n",
    "\n",
    "@dataclass\n",
    "class Condition:\n",
    "    attribute: str\n",
    "    attribute_pos: int\n",
    "    operator: Operator\n",
    "    threshold: float\n",
    "\n",
    "    def __repr__(self):\n",
    "        return str(self)\n",
    "\n",
    "    def __str__(self):\n",
    "        return f\"{self.attribute} {self.operator} {self.threshold}\"\n",
    "            \n",
    "    def fire(self, x):        \n",
    "        return self.operator.op(x[self.attribute_pos], self.threshold)\n",
    "    \n",
    "@dataclass\n",
    "class Split:\n",
    "    score: float \n",
    "    attribute_pos: int\n",
    "    ids: Tuple[float]\n",
    "    operations: List[Tuple[Operator, float]]\n",
    "        \n",
    "@dataclass            \n",
    "class DecisionNode:\n",
    "    label: str\n",
    "    node_id: int\n",
    "    value: List[int]    \n",
    "    impurity: float = 0.0\n",
    "    parent: 'Node' = None\n",
    "    children: List['Node'] = field(default_factory=list)\n",
    "    conditions: List[Condition] = field(default_factory=list)    \n",
    "        \n",
    "    def walk(self, callback):\n",
    "        callback(self)\n",
    "        for n in self.children:\n",
    "            n.walk(callback)        \n",
    "        \n",
    "    def add_child(self, condition, node):\n",
    "        self.conditions.append(condition)\n",
    "        node.parent = self\n",
    "        self.children.append(node)\n",
    "    \n",
    "    def predict(self, x):\n",
    "        stack = deque()\n",
    "        stack.append(self)\n",
    "        node = self\n",
    "\n",
    "        while not node.is_leaf():\n",
    "            node = stack.pop()\n",
    "\n",
    "            for i, cond in enumerate(node.conditions):\n",
    "                if cond.fire(x):\n",
    "                    stack.append(node.children[i])\n",
    "\n",
    "        return node.label            \n",
    "    \n",
    "    def is_leaf(self):\n",
    "        return not self.children\n",
    "    \n",
    "    def is_root(self):\n",
    "        return not self.parent\n",
    "    \n",
    "    def plot(self):\n",
    "        dot = graphviz.Digraph('tree', comment='Decision Tree')  \n",
    "\n",
    "        def update_dot(dot, node):\n",
    "            dot.node(f\"{node.node_id}\", f\"Node_{node.node_id}\\nImpurity: {node.impurity:0.3f}\\nLabel: {node.label}\\nValue: {node.value}\\nSamples: {sum(node.value)}\")\n",
    "            if node.parent:\n",
    "                cond = node.find_to_condition()\n",
    "                dot.edge(f\"{node.parent.node_id}\" , f\"{node.node_id}\", str(cond))\n",
    "        \n",
    "        update_dot_partial = partial(update_dot, dot)        \n",
    "        self.walk(update_dot_partial)\n",
    "        return dot\n",
    "    \n",
    "    def find_to_condition(self):\n",
    "        if self.is_root():\n",
    "            return None\n",
    "        else:            \n",
    "            index = -1\n",
    "            for i, node in enumerate(self.parent.children):\n",
    "                if node.node_id == self.node_id:\n",
    "                    index = i\n",
    "            if index < 0:\n",
    "                raise ValueError(\"Incorrect tree\")\n",
    "            return self.parent.conditions[index]\n",
    "                             \n",
    "    def __str__(self):\n",
    "        return f\"Node_{self.node_id}\"     \n",
    "    \n",
    "    def get_feature(self):\n",
    "        if not self.is_leaf():\n",
    "            return (self.conditions[0].attribute, self.conditions[0].attribute_pos)\n",
    "    \n",
    "    def get_nodes(self):\n",
    "        node_list = []\n",
    "        self.walk(lambda n: node_list.append(n))\n",
    "        return node_list\n",
    "    \n",
    "    def get_leaves(self):\n",
    "        leaf_list = []\n",
    "        \n",
    "        def check_leaf(n):\n",
    "            if n.is_leaf():\n",
    "                leaf_list.append(n)\n",
    "        \n",
    "        self.walk(check_leaf)\n",
    "        return leaf_list\n",
    "    \n",
    "    def get_features(self):\n",
    "        # returns list of tuples of (attribute, attribute_pos)\n",
    "        l = []\n",
    "        for n in self.get_nodes():\n",
    "            feature = n.get_feature()\n",
    "            if feature is not None:\n",
    "                l.append(feature)\n",
    "        return list(set(l))\n",
    "\n",
    "    def get_root_node(self):\n",
    "        n = self\n",
    "        while not n.is_root():\n",
    "            n = n.parent\n",
    "        return n\n",
    "    "
   ]
  },
  {
   "cell_type": "code",
   "execution_count": 138,
   "id": "59dc3d80",
   "metadata": {
    "scrolled": true
   },
   "outputs": [
    {
     "data": {
      "text/plain": [
       "True"
      ]
     },
     "execution_count": 138,
     "metadata": {},
     "output_type": "execute_result"
    }
   ],
   "source": [
    "lt(3,4)"
   ]
  },
  {
   "cell_type": "code",
   "execution_count": 139,
   "id": "dd6a55f7",
   "metadata": {},
   "outputs": [],
   "source": [
    "node = DecisionNode(\n",
    "    label = 'Root',\n",
    "    node_id = 101,\n",
    "    value = [500,100],    \n",
    "    impurity = 0.23,\n",
    "    parent = None,\n",
    "    children = [],\n",
    "    conditions=[Condition(\"height\", 0, Operator.LT, 2.0)]\n",
    ")        "
   ]
  },
  {
   "cell_type": "code",
   "execution_count": 140,
   "id": "fb38a8a5",
   "metadata": {
    "scrolled": true
   },
   "outputs": [
    {
     "data": {
      "text/plain": [
       "True"
      ]
     },
     "execution_count": 140,
     "metadata": {},
     "output_type": "execute_result"
    }
   ],
   "source": [
    "node.is_root()"
   ]
  },
  {
   "cell_type": "code",
   "execution_count": 141,
   "id": "5f2aceef",
   "metadata": {},
   "outputs": [],
   "source": [
    "node2 = DecisionNode(\n",
    "    label = 'Root',\n",
    "    node_id = 102,\n",
    "    value = [500,100],    \n",
    "    impurity = 0.23,\n",
    "    parent = node,\n",
    "    children = [],\n",
    "    conditions=[Condition(\"age\", 1, Operator.LT, 60)]\n",
    ")    "
   ]
  },
  {
   "cell_type": "code",
   "execution_count": 142,
   "id": "d84daf68",
   "metadata": {},
   "outputs": [],
   "source": [
    "node.children = [node2]"
   ]
  },
  {
   "cell_type": "code",
   "execution_count": 143,
   "id": "a49bb729",
   "metadata": {
    "scrolled": false
   },
   "outputs": [
    {
     "data": {
      "image/svg+xml": [
       "<?xml version=\"1.0\" encoding=\"UTF-8\" standalone=\"no\"?>\n",
       "<!DOCTYPE svg PUBLIC \"-//W3C//DTD SVG 1.1//EN\"\n",
       " \"http://www.w3.org/Graphics/SVG/1.1/DTD/svg11.dtd\">\n",
       "<!-- Generated by graphviz version 2.50.0 (0)\n",
       " -->\n",
       "<!-- Title: tree Pages: 1 -->\n",
       "<svg width=\"166pt\" height=\"294pt\"\n",
       " viewBox=\"0.00 0.00 166.39 293.76\" xmlns=\"http://www.w3.org/2000/svg\" xmlns:xlink=\"http://www.w3.org/1999/xlink\">\n",
       "<g id=\"graph0\" class=\"graph\" transform=\"scale(1 1) rotate(0) translate(4 289.76)\">\n",
       "<title>tree</title>\n",
       "<polygon fill=\"white\" stroke=\"transparent\" points=\"-4,4 -4,-289.76 162.39,-289.76 162.39,4 -4,4\"/>\n",
       "<!-- 101 -->\n",
       "<g id=\"node1\" class=\"node\">\n",
       "<title>101</title>\n",
       "<ellipse fill=\"none\" stroke=\"black\" cx=\"79.2\" cy=\"-227.07\" rx=\"79.39\" ry=\"58.88\"/>\n",
       "<text text-anchor=\"middle\" x=\"79.2\" y=\"-253.37\" font-family=\"Times,serif\" font-size=\"14.00\">Node_101</text>\n",
       "<text text-anchor=\"middle\" x=\"79.2\" y=\"-238.37\" font-family=\"Times,serif\" font-size=\"14.00\">Impurity: 0.230</text>\n",
       "<text text-anchor=\"middle\" x=\"79.2\" y=\"-223.37\" font-family=\"Times,serif\" font-size=\"14.00\">Label: Root</text>\n",
       "<text text-anchor=\"middle\" x=\"79.2\" y=\"-208.37\" font-family=\"Times,serif\" font-size=\"14.00\">Value: [500, 100]</text>\n",
       "<text text-anchor=\"middle\" x=\"79.2\" y=\"-193.37\" font-family=\"Times,serif\" font-size=\"14.00\">Samples: 600</text>\n",
       "</g>\n",
       "<!-- 102 -->\n",
       "<g id=\"node2\" class=\"node\">\n",
       "<title>102</title>\n",
       "<ellipse fill=\"none\" stroke=\"black\" cx=\"79.2\" cy=\"-58.69\" rx=\"79.39\" ry=\"58.88\"/>\n",
       "<text text-anchor=\"middle\" x=\"79.2\" y=\"-84.99\" font-family=\"Times,serif\" font-size=\"14.00\">Node_102</text>\n",
       "<text text-anchor=\"middle\" x=\"79.2\" y=\"-69.99\" font-family=\"Times,serif\" font-size=\"14.00\">Impurity: 0.230</text>\n",
       "<text text-anchor=\"middle\" x=\"79.2\" y=\"-54.99\" font-family=\"Times,serif\" font-size=\"14.00\">Label: Root</text>\n",
       "<text text-anchor=\"middle\" x=\"79.2\" y=\"-39.99\" font-family=\"Times,serif\" font-size=\"14.00\">Value: [500, 100]</text>\n",
       "<text text-anchor=\"middle\" x=\"79.2\" y=\"-24.99\" font-family=\"Times,serif\" font-size=\"14.00\">Samples: 600</text>\n",
       "</g>\n",
       "<!-- 101&#45;&gt;102 -->\n",
       "<g id=\"edge1\" class=\"edge\">\n",
       "<title>101&#45;&gt;102</title>\n",
       "<path fill=\"none\" stroke=\"black\" d=\"M79.2,-168.34C79.2,-155.26 79.2,-141.24 79.2,-127.77\"/>\n",
       "<polygon fill=\"black\" stroke=\"black\" points=\"82.7,-127.59 79.2,-117.59 75.7,-127.59 82.7,-127.59\"/>\n",
       "<text text-anchor=\"middle\" x=\"112.7\" y=\"-139.18\" font-family=\"Times,serif\" font-size=\"14.00\">height &lt; 2.0</text>\n",
       "</g>\n",
       "</g>\n",
       "</svg>\n"
      ],
      "text/plain": [
       "<graphviz.graphs.Digraph at 0x176da5c10>"
      ]
     },
     "execution_count": 143,
     "metadata": {},
     "output_type": "execute_result"
    }
   ],
   "source": [
    "node.plot()"
   ]
  },
  {
   "cell_type": "markdown",
   "id": "e739d2fd",
   "metadata": {},
   "source": [
    "## Utility functions"
   ]
  },
  {
   "cell_type": "code",
   "execution_count": 144,
   "id": "08bfb132",
   "metadata": {},
   "outputs": [],
   "source": [
    "def stopping_criteria(tree_depth, **kwargs):\n",
    "    max_depth = kwargs.pop('max_depth', -1)\n",
    "    if tree_depth >= max_depth:\n",
    "        return True        \n",
    "    return False    \n",
    "\n",
    "\n",
    "def gini_impurity(y):\n",
    "    counts = Counter(y)\n",
    "    total = sum(counts.values())\n",
    "    return round(1 - sum(map(lambda x: (x / total) ** 2, counts.values())), 3)\n",
    "\n",
    "\n",
    "def entropy_impurity(y):\n",
    "    counts = Counter(y)\n",
    "    total = sum(counts.values())\n",
    "    return - sum(map(lambda x: (x / total) * log2 (x / total), counts.values()))    \n",
    "    \n",
    "\n",
    "def evaluation_measure(groups: Tuple, measure):\n",
    "    N = sum(map(len,groups))    \n",
    "    return sum(map(lambda x: len(x) / N * measure(x), groups))\n",
    "    \n",
    "    \n",
    "def calculate_current_depth(current_node):\n",
    "    depth_counter = 0\n",
    "    parent_node = current_node.parent    \n",
    "    while parent_node:\n",
    "        depth_counter += 1\n",
    "        parent_node = parent_node.parent\n",
    "    return depth_counter\n",
    "\n",
    "def count_values(array, values):\n",
    "    return [np.count_nonzero(array == i) for i in sorted(values)]        \n",
    "        \n",
    "def find_best_split(X, y, **kwargs):     \n",
    "    split = Split(1,-1,(),())    \n",
    "    measure = kwargs.pop(\"measure\", gini_impurity)\n",
    "    \n",
    "    # Loop over attributes\n",
    "    for i in range(0, X.shape[1]):\n",
    "        x_s = X[:, i]\n",
    "\n",
    "        # Try each unique value (inefficient for numerical values)\n",
    "        # TODO: All split conditions are in the dataset unlike in CART       \n",
    "        for threshold in np.unique(x_s):\n",
    "            \n",
    "            # TODO: Support non binary splits\n",
    "            ids = (x_s <= threshold, x_s > threshold)\n",
    "            operations = [(Operator.LE, threshold), (Operator.GT, threshold)]\n",
    "            \n",
    "            y_values = [y[i] for i in ids]            \n",
    "            score = evaluation_measure(y_values, measure)\n",
    "\n",
    "            # Find smallest gain, use \n",
    "            if score < split.score:\n",
    "                split = Split(score, i, ids, operations)\n",
    "\n",
    "    return split"
   ]
  },
  {
   "cell_type": "markdown",
   "id": "431d375b",
   "metadata": {},
   "source": [
    "## Grow a decision tree"
   ]
  },
  {
   "cell_type": "code",
   "execution_count": 145,
   "id": "9c193e39",
   "metadata": {},
   "outputs": [],
   "source": [
    "def grow_tree(X, y, **kwargs):\n",
    "    attribute_types = list(map(str, X.dtypes))\n",
    "    column_name = X.columns\n",
    "    X = X.to_numpy()\n",
    "    node_counter = 1    \n",
    "    stack = deque()\n",
    "    \n",
    "    # Set up decision tree\n",
    "    classes = np.unique(y)\n",
    "    counts = count_values(y, classes)\n",
    "    tree = DecisionNode(max(y), node_counter, counts, gini_impurity(y))\n",
    "    stack.append((tree, X, y))\n",
    "\n",
    "    while len(stack) != 0:\n",
    "        current_node, parent_X, parent_y = stack.pop()            \n",
    "\n",
    "        # Stop once reached max depth branching\n",
    "        current_depth = calculate_current_depth(current_node)\n",
    "        if stopping_criteria(current_depth, **kwargs):\n",
    "            continue\n",
    "        \n",
    "        # Stop branching if node contains a single class\n",
    "        values = np.unique(parent_y)            \n",
    "        if len(values) < 2:\n",
    "            continue\n",
    "        \n",
    "        \n",
    "        # Determine best attribute and split\n",
    "        split = find_best_split(parent_X, parent_y, **kwargs)\n",
    "\n",
    "        # Update tree with new split\n",
    "        for cond, split_ids in zip(split.operations, split.ids):        \n",
    "            new_y = parent_y[split_ids]\n",
    "            new_X = parent_X[split_ids]            \n",
    "\n",
    "            # Ensure new node is processed later\n",
    "            counts = count_values(new_y, classes)\n",
    "            if len(counts) == 0:\n",
    "                continue \n",
    "            \n",
    "            condition = Condition(column_name[split.attribute_pos], \n",
    "                                  split.attribute_pos, \n",
    "                                  cond[0],\n",
    "                                  cond[1])\n",
    "             \n",
    "            label = classes[np.argmax(counts)]\n",
    "            node_counter += 1\n",
    "            \n",
    "            score = gini_impurity(new_y)\n",
    " \n",
    "            new_node = DecisionNode(label, node_counter, counts, score)\n",
    "            current_node.add_child(condition, new_node)\n",
    "\n",
    "            stack.append((new_node, new_X, new_y))\n",
    "            \n",
    "    return tree        \n",
    "tree = grow_tree(pd.DataFrame(X_train, columns=[\"F1\", \"F2\", \"F3\", 'F4']), y_train, max_depth=2, min_samples_split=2)\n",
    "#tree.plot()"
   ]
  },
  {
   "cell_type": "markdown",
   "id": "c5edf053",
   "metadata": {},
   "source": [
    "# Sample datasets"
   ]
  },
  {
   "cell_type": "code",
   "execution_count": 146,
   "id": "44bef406",
   "metadata": {},
   "outputs": [
    {
     "name": "stdout",
     "output_type": "stream",
     "text": [
      "Sklearn Decision Tree:0.97, Custom Tree:0.95, load_iris\n",
      "Sklearn Decision Tree:0.94, Custom Tree:0.94, load_breast_cancer\n",
      "Sklearn Decision Tree:0.30, Custom Tree:0.30, load_digits\n",
      "Sklearn Decision Tree:0.87, Custom Tree:0.93, load_wine\n"
     ]
    }
   ],
   "source": [
    "datasets = [load_iris, load_breast_cancer, load_digits, load_wine]\n",
    "\n",
    "for func_data in datasets:\n",
    "    d = func_data()\n",
    "    X = d.data\n",
    "    y = d.target\n",
    "    X_train,X_test,y_train,y_test=train_test_split(X,y,test_size=0.5)\n",
    "    \n",
    "    tree = grow_tree(pd.DataFrame(X_train), y_train, max_depth=2)            \n",
    "    y_pred_cust = [tree.predict(X_test[i]) for i in range(0, X_test.shape[0])]\n",
    "    \n",
    "    sklearn_dt = DecisionTreeClassifier(max_depth=2).fit(X_train, y_train)    \n",
    "    y_pred = sklearn_dt.predict(X_test)\n",
    "    \n",
    "    print(f\"Sklearn Decision Tree:{accuracy_score(y_test, y_pred):0.2f}, Custom Tree:{accuracy_score(y_test, y_pred_cust):0.2f}, {func_data.__name__}\")\n",
    "    "
   ]
  },
  {
   "cell_type": "markdown",
   "id": "9167293a",
   "metadata": {},
   "source": [
    "# Regrowth algorithm"
   ]
  },
  {
   "cell_type": "code",
   "execution_count": 147,
   "id": "b5fa895a",
   "metadata": {
    "scrolled": false
   },
   "outputs": [
    {
     "data": {
      "text/plain": [
       "'Train: 0.46, Validation: 0.48'"
      ]
     },
     "execution_count": 147,
     "metadata": {},
     "output_type": "execute_result"
    }
   ],
   "source": [
    "d = load_digits()\n",
    "X = d.data\n",
    "y = d.target\n",
    "X_train,X_test,y_train,y_test=train_test_split(X,y,test_size=0.5)\n",
    "\n",
    "tree = grow_tree(pd.DataFrame(X_train), y_train, max_depth=3)            \n",
    "y_pred_cust_train = [tree.predict(X_train[i]) for i in range(0, X_train.shape[0])]\n",
    "y_pred_cust = [tree.predict(X_test[i]) for i in range(0, X_test.shape[0])]\n",
    "\n",
    "f\"Train: {accuracy_score(y_train, y_pred_cust_train):0.2f}, Validation: {accuracy_score(y_test, y_pred_cust):0.2f}\" "
   ]
  },
  {
   "cell_type": "code",
   "execution_count": 148,
   "id": "e83a59cd",
   "metadata": {},
   "outputs": [
    {
     "name": "stdout",
     "output_type": "stream",
     "text": [
      "14 0.0 5 [0, 0, 0, 0, 0, 8, 0, 0, 0, 0] 0.008908685968819599\n",
      "13 0.067 0 [85, 0, 1, 0, 0, 1, 0, 0, 1, 0] 0.09799554565701558\n",
      "15 0.127 9 [0, 0, 0, 1, 0, 1, 0, 0, 0, 28] 0.0334075723830735\n",
      "11 0.213 0 [85, 0, 2, 0, 1, 3, 4, 0, 1, 0] 0.10690423162583519\n",
      "8 0.231 7 [0, 0, 1, 3, 1, 3, 0, 70, 2, 0] 0.08908685968819599\n",
      "10 0.4 9 [0, 0, 0, 1, 0, 9, 0, 0, 0, 28] 0.042316258351893093\n",
      "2 0.545 0 [85, 0, 2, 1, 1, 12, 4, 0, 1, 28] 0.1492204899777283\n",
      "12 0.656 6 [0, 0, 1, 0, 1, 2, 4, 0, 0, 0] 0.008908685968819599\n",
      "6 0.674 6 [0, 16, 2, 2, 15, 62, 72, 0, 2, 0] 0.19042316258351893\n",
      "7 0.782 4 [2, 45, 2, 1, 62, 4, 2, 9, 34, 55] 0.24053452115812918\n",
      "9 0.788 3 [0, 41, 84, 85, 1, 3, 9, 11, 48, 15] 0.3307349665924276\n",
      "4 0.817 3 [0, 41, 85, 88, 2, 6, 9, 81, 50, 15] 0.4198218262806236\n",
      "5 0.84 4 [2, 61, 4, 3, 77, 66, 74, 9, 36, 55] 0.4309576837416481\n",
      "3 0.888 1 [2, 102, 89, 91, 79, 72, 83, 90, 86, 70] 0.8507795100222717\n",
      "1 0.9 9 [87, 102, 91, 92, 80, 84, 87, 90, 87, 98] 1.0\n"
     ]
    }
   ],
   "source": [
    "budget = 5\n",
    "base_accuracy = accuracy_score(y_train, y_pred_cust_train)\n",
    "base_tree = tree\n",
    "\n",
    "leafs = []\n",
    "tree.walk(lambda x: leafs.append(x))\n",
    "N = sum(tree.value)\n",
    "for x in sorted(leafs, key=lambda x: x.impurity, reverse=False):\n",
    "    print(x.node_id, x.impurity, x.label, x.value, sum(x.value)/N)"
   ]
  },
  {
   "cell_type": "code",
   "execution_count": 149,
   "id": "66caedcb",
   "metadata": {},
   "outputs": [
    {
     "data": {
      "image/svg+xml": [
       "<?xml version=\"1.0\" encoding=\"UTF-8\" standalone=\"no\"?>\n",
       "<!DOCTYPE svg PUBLIC \"-//W3C//DTD SVG 1.1//EN\"\n",
       " \"http://www.w3.org/Graphics/SVG/1.1/DTD/svg11.dtd\">\n",
       "<!-- Generated by graphviz version 2.50.0 (0)\n",
       " -->\n",
       "<!-- Title: tree Pages: 1 -->\n",
       "<svg width=\"2548pt\" height=\"631pt\"\n",
       " viewBox=\"0.00 0.00 2547.52 630.52\" xmlns=\"http://www.w3.org/2000/svg\" xmlns:xlink=\"http://www.w3.org/1999/xlink\">\n",
       "<g id=\"graph0\" class=\"graph\" transform=\"scale(1 1) rotate(0) translate(4 626.52)\">\n",
       "<title>tree</title>\n",
       "<polygon fill=\"white\" stroke=\"transparent\" points=\"-4,4 -4,-626.52 2543.52,-626.52 2543.52,4 -4,4\"/>\n",
       "<!-- 1 -->\n",
       "<g id=\"node1\" class=\"node\">\n",
       "<title>1</title>\n",
       "<ellipse fill=\"none\" stroke=\"black\" cx=\"1123.71\" cy=\"-563.83\" rx=\"193.08\" ry=\"58.88\"/>\n",
       "<text text-anchor=\"middle\" x=\"1123.71\" y=\"-590.13\" font-family=\"Times,serif\" font-size=\"14.00\">Node_1</text>\n",
       "<text text-anchor=\"middle\" x=\"1123.71\" y=\"-575.13\" font-family=\"Times,serif\" font-size=\"14.00\">Impurity: 0.900</text>\n",
       "<text text-anchor=\"middle\" x=\"1123.71\" y=\"-560.13\" font-family=\"Times,serif\" font-size=\"14.00\">Label: 9</text>\n",
       "<text text-anchor=\"middle\" x=\"1123.71\" y=\"-545.13\" font-family=\"Times,serif\" font-size=\"14.00\">Value: [87, 102, 91, 92, 80, 84, 87, 90, 87, 98]</text>\n",
       "<text text-anchor=\"middle\" x=\"1123.71\" y=\"-530.13\" font-family=\"Times,serif\" font-size=\"14.00\">Samples: 898</text>\n",
       "</g>\n",
       "<!-- 2 -->\n",
       "<g id=\"node2\" class=\"node\">\n",
       "<title>2</title>\n",
       "<ellipse fill=\"none\" stroke=\"black\" cx=\"819.71\" cy=\"-395.45\" rx=\"154.71\" ry=\"58.88\"/>\n",
       "<text text-anchor=\"middle\" x=\"819.71\" y=\"-421.75\" font-family=\"Times,serif\" font-size=\"14.00\">Node_2</text>\n",
       "<text text-anchor=\"middle\" x=\"819.71\" y=\"-406.75\" font-family=\"Times,serif\" font-size=\"14.00\">Impurity: 0.545</text>\n",
       "<text text-anchor=\"middle\" x=\"819.71\" y=\"-391.75\" font-family=\"Times,serif\" font-size=\"14.00\">Label: 0</text>\n",
       "<text text-anchor=\"middle\" x=\"819.71\" y=\"-376.75\" font-family=\"Times,serif\" font-size=\"14.00\">Value: [85, 0, 2, 1, 1, 12, 4, 0, 1, 28]</text>\n",
       "<text text-anchor=\"middle\" x=\"819.71\" y=\"-361.75\" font-family=\"Times,serif\" font-size=\"14.00\">Samples: 134</text>\n",
       "</g>\n",
       "<!-- 1&#45;&gt;2 -->\n",
       "<g id=\"edge1\" class=\"edge\">\n",
       "<title>1&#45;&gt;2</title>\n",
       "<path fill=\"none\" stroke=\"black\" d=\"M1031.27,-512.23C994.64,-492.18 952.53,-469.14 915.57,-448.91\"/>\n",
       "<polygon fill=\"black\" stroke=\"black\" points=\"917.24,-445.83 906.79,-444.1 913.88,-451.97 917.24,-445.83\"/>\n",
       "<text text-anchor=\"middle\" x=\"1009.21\" y=\"-475.94\" font-family=\"Times,serif\" font-size=\"14.00\">36 &lt;= 0.0</text>\n",
       "</g>\n",
       "<!-- 3 -->\n",
       "<g id=\"node9\" class=\"node\">\n",
       "<title>3</title>\n",
       "<ellipse fill=\"none\" stroke=\"black\" cx=\"1511.71\" cy=\"-395.45\" rx=\"188.18\" ry=\"58.88\"/>\n",
       "<text text-anchor=\"middle\" x=\"1511.71\" y=\"-421.75\" font-family=\"Times,serif\" font-size=\"14.00\">Node_3</text>\n",
       "<text text-anchor=\"middle\" x=\"1511.71\" y=\"-406.75\" font-family=\"Times,serif\" font-size=\"14.00\">Impurity: 0.888</text>\n",
       "<text text-anchor=\"middle\" x=\"1511.71\" y=\"-391.75\" font-family=\"Times,serif\" font-size=\"14.00\">Label: 1</text>\n",
       "<text text-anchor=\"middle\" x=\"1511.71\" y=\"-376.75\" font-family=\"Times,serif\" font-size=\"14.00\">Value: [2, 102, 89, 91, 79, 72, 83, 90, 86, 70]</text>\n",
       "<text text-anchor=\"middle\" x=\"1511.71\" y=\"-361.75\" font-family=\"Times,serif\" font-size=\"14.00\">Samples: 764</text>\n",
       "</g>\n",
       "<!-- 1&#45;&gt;3 -->\n",
       "<g id=\"edge8\" class=\"edge\">\n",
       "<title>1&#45;&gt;3</title>\n",
       "<path fill=\"none\" stroke=\"black\" d=\"M1233.86,-515.6C1283.53,-494.3 1342.28,-469.1 1392.94,-447.38\"/>\n",
       "<polygon fill=\"black\" stroke=\"black\" points=\"1394.49,-450.53 1402.3,-443.37 1391.73,-444.09 1394.49,-450.53\"/>\n",
       "<text text-anchor=\"middle\" x=\"1353.21\" y=\"-475.94\" font-family=\"Times,serif\" font-size=\"14.00\">36 &gt; 0.0</text>\n",
       "</g>\n",
       "<!-- 10 -->\n",
       "<g id=\"node3\" class=\"node\">\n",
       "<title>10</title>\n",
       "<ellipse fill=\"none\" stroke=\"black\" cx=\"444.71\" cy=\"-227.07\" rx=\"145.83\" ry=\"58.88\"/>\n",
       "<text text-anchor=\"middle\" x=\"444.71\" y=\"-253.37\" font-family=\"Times,serif\" font-size=\"14.00\">Node_10</text>\n",
       "<text text-anchor=\"middle\" x=\"444.71\" y=\"-238.37\" font-family=\"Times,serif\" font-size=\"14.00\">Impurity: 0.400</text>\n",
       "<text text-anchor=\"middle\" x=\"444.71\" y=\"-223.37\" font-family=\"Times,serif\" font-size=\"14.00\">Label: 9</text>\n",
       "<text text-anchor=\"middle\" x=\"444.71\" y=\"-208.37\" font-family=\"Times,serif\" font-size=\"14.00\">Value: [0, 0, 0, 1, 0, 9, 0, 0, 0, 28]</text>\n",
       "<text text-anchor=\"middle\" x=\"444.71\" y=\"-193.37\" font-family=\"Times,serif\" font-size=\"14.00\">Samples: 38</text>\n",
       "</g>\n",
       "<!-- 2&#45;&gt;10 -->\n",
       "<g id=\"edge2\" class=\"edge\">\n",
       "<title>2&#45;&gt;10</title>\n",
       "<path fill=\"none\" stroke=\"black\" d=\"M720.21,-350.3C668.01,-327.14 604.05,-298.76 550.9,-275.18\"/>\n",
       "<polygon fill=\"black\" stroke=\"black\" points=\"552,-271.84 541.44,-270.99 549.17,-278.24 552,-271.84\"/>\n",
       "<text text-anchor=\"middle\" x=\"671.21\" y=\"-307.56\" font-family=\"Times,serif\" font-size=\"14.00\">42 &lt;= 4.0</text>\n",
       "</g>\n",
       "<!-- 11 -->\n",
       "<g id=\"node6\" class=\"node\">\n",
       "<title>11</title>\n",
       "<ellipse fill=\"none\" stroke=\"black\" cx=\"819.71\" cy=\"-227.07\" rx=\"145.83\" ry=\"58.88\"/>\n",
       "<text text-anchor=\"middle\" x=\"819.71\" y=\"-253.37\" font-family=\"Times,serif\" font-size=\"14.00\">Node_11</text>\n",
       "<text text-anchor=\"middle\" x=\"819.71\" y=\"-238.37\" font-family=\"Times,serif\" font-size=\"14.00\">Impurity: 0.213</text>\n",
       "<text text-anchor=\"middle\" x=\"819.71\" y=\"-223.37\" font-family=\"Times,serif\" font-size=\"14.00\">Label: 0</text>\n",
       "<text text-anchor=\"middle\" x=\"819.71\" y=\"-208.37\" font-family=\"Times,serif\" font-size=\"14.00\">Value: [85, 0, 2, 0, 1, 3, 4, 0, 1, 0]</text>\n",
       "<text text-anchor=\"middle\" x=\"819.71\" y=\"-193.37\" font-family=\"Times,serif\" font-size=\"14.00\">Samples: 96</text>\n",
       "</g>\n",
       "<!-- 2&#45;&gt;11 -->\n",
       "<g id=\"edge5\" class=\"edge\">\n",
       "<title>2&#45;&gt;11</title>\n",
       "<path fill=\"none\" stroke=\"black\" d=\"M819.71,-336.72C819.71,-323.64 819.71,-309.62 819.71,-296.14\"/>\n",
       "<polygon fill=\"black\" stroke=\"black\" points=\"823.21,-295.97 819.71,-285.97 816.21,-295.97 823.21,-295.97\"/>\n",
       "<text text-anchor=\"middle\" x=\"843.21\" y=\"-307.56\" font-family=\"Times,serif\" font-size=\"14.00\">42 &gt; 4.0</text>\n",
       "</g>\n",
       "<!-- 14 -->\n",
       "<g id=\"node4\" class=\"node\">\n",
       "<title>14</title>\n",
       "<ellipse fill=\"none\" stroke=\"black\" cx=\"140.71\" cy=\"-58.69\" rx=\"140.93\" ry=\"58.88\"/>\n",
       "<text text-anchor=\"middle\" x=\"140.71\" y=\"-84.99\" font-family=\"Times,serif\" font-size=\"14.00\">Node_14</text>\n",
       "<text text-anchor=\"middle\" x=\"140.71\" y=\"-69.99\" font-family=\"Times,serif\" font-size=\"14.00\">Impurity: 0.000</text>\n",
       "<text text-anchor=\"middle\" x=\"140.71\" y=\"-54.99\" font-family=\"Times,serif\" font-size=\"14.00\">Label: 5</text>\n",
       "<text text-anchor=\"middle\" x=\"140.71\" y=\"-39.99\" font-family=\"Times,serif\" font-size=\"14.00\">Value: [0, 0, 0, 0, 0, 8, 0, 0, 0, 0]</text>\n",
       "<text text-anchor=\"middle\" x=\"140.71\" y=\"-24.99\" font-family=\"Times,serif\" font-size=\"14.00\">Samples: 8</text>\n",
       "</g>\n",
       "<!-- 10&#45;&gt;14 -->\n",
       "<g id=\"edge3\" class=\"edge\">\n",
       "<title>10&#45;&gt;14</title>\n",
       "<path fill=\"none\" stroke=\"black\" d=\"M359.22,-179.28C320.2,-157.92 273.9,-132.58 233.98,-110.73\"/>\n",
       "<polygon fill=\"black\" stroke=\"black\" points=\"235.49,-107.57 225.04,-105.84 232.13,-113.71 235.49,-107.57\"/>\n",
       "<text text-anchor=\"middle\" x=\"330.21\" y=\"-139.18\" font-family=\"Times,serif\" font-size=\"14.00\">21 &lt;= 4.0</text>\n",
       "</g>\n",
       "<!-- 15 -->\n",
       "<g id=\"node5\" class=\"node\">\n",
       "<title>15</title>\n",
       "<ellipse fill=\"none\" stroke=\"black\" cx=\"444.71\" cy=\"-58.69\" rx=\"145.83\" ry=\"58.88\"/>\n",
       "<text text-anchor=\"middle\" x=\"444.71\" y=\"-84.99\" font-family=\"Times,serif\" font-size=\"14.00\">Node_15</text>\n",
       "<text text-anchor=\"middle\" x=\"444.71\" y=\"-69.99\" font-family=\"Times,serif\" font-size=\"14.00\">Impurity: 0.127</text>\n",
       "<text text-anchor=\"middle\" x=\"444.71\" y=\"-54.99\" font-family=\"Times,serif\" font-size=\"14.00\">Label: 9</text>\n",
       "<text text-anchor=\"middle\" x=\"444.71\" y=\"-39.99\" font-family=\"Times,serif\" font-size=\"14.00\">Value: [0, 0, 0, 1, 0, 1, 0, 0, 0, 28]</text>\n",
       "<text text-anchor=\"middle\" x=\"444.71\" y=\"-24.99\" font-family=\"Times,serif\" font-size=\"14.00\">Samples: 30</text>\n",
       "</g>\n",
       "<!-- 10&#45;&gt;15 -->\n",
       "<g id=\"edge4\" class=\"edge\">\n",
       "<title>10&#45;&gt;15</title>\n",
       "<path fill=\"none\" stroke=\"black\" d=\"M444.71,-168.34C444.71,-155.26 444.71,-141.24 444.71,-127.77\"/>\n",
       "<polygon fill=\"black\" stroke=\"black\" points=\"448.21,-127.59 444.71,-117.59 441.21,-127.59 448.21,-127.59\"/>\n",
       "<text text-anchor=\"middle\" x=\"468.21\" y=\"-139.18\" font-family=\"Times,serif\" font-size=\"14.00\">21 &gt; 4.0</text>\n",
       "</g>\n",
       "<!-- 12 -->\n",
       "<g id=\"node7\" class=\"node\">\n",
       "<title>12</title>\n",
       "<ellipse fill=\"none\" stroke=\"black\" cx=\"748.71\" cy=\"-58.69\" rx=\"140.93\" ry=\"58.88\"/>\n",
       "<text text-anchor=\"middle\" x=\"748.71\" y=\"-84.99\" font-family=\"Times,serif\" font-size=\"14.00\">Node_12</text>\n",
       "<text text-anchor=\"middle\" x=\"748.71\" y=\"-69.99\" font-family=\"Times,serif\" font-size=\"14.00\">Impurity: 0.656</text>\n",
       "<text text-anchor=\"middle\" x=\"748.71\" y=\"-54.99\" font-family=\"Times,serif\" font-size=\"14.00\">Label: 6</text>\n",
       "<text text-anchor=\"middle\" x=\"748.71\" y=\"-39.99\" font-family=\"Times,serif\" font-size=\"14.00\">Value: [0, 0, 1, 0, 1, 2, 4, 0, 0, 0]</text>\n",
       "<text text-anchor=\"middle\" x=\"748.71\" y=\"-24.99\" font-family=\"Times,serif\" font-size=\"14.00\">Samples: 8</text>\n",
       "</g>\n",
       "<!-- 11&#45;&gt;12 -->\n",
       "<g id=\"edge6\" class=\"edge\">\n",
       "<title>11&#45;&gt;12</title>\n",
       "<path fill=\"none\" stroke=\"black\" d=\"M795.28,-168.81C789.39,-155.01 783.05,-140.15 777,-125.97\"/>\n",
       "<polygon fill=\"black\" stroke=\"black\" points=\"780.22,-124.6 773.07,-116.77 773.78,-127.34 780.22,-124.6\"/>\n",
       "<text text-anchor=\"middle\" x=\"814.21\" y=\"-139.18\" font-family=\"Times,serif\" font-size=\"14.00\">13 &lt;= 3.0</text>\n",
       "</g>\n",
       "<!-- 13 -->\n",
       "<g id=\"node8\" class=\"node\">\n",
       "<title>13</title>\n",
       "<ellipse fill=\"none\" stroke=\"black\" cx=\"1052.71\" cy=\"-58.69\" rx=\"145.83\" ry=\"58.88\"/>\n",
       "<text text-anchor=\"middle\" x=\"1052.71\" y=\"-84.99\" font-family=\"Times,serif\" font-size=\"14.00\">Node_13</text>\n",
       "<text text-anchor=\"middle\" x=\"1052.71\" y=\"-69.99\" font-family=\"Times,serif\" font-size=\"14.00\">Impurity: 0.067</text>\n",
       "<text text-anchor=\"middle\" x=\"1052.71\" y=\"-54.99\" font-family=\"Times,serif\" font-size=\"14.00\">Label: 0</text>\n",
       "<text text-anchor=\"middle\" x=\"1052.71\" y=\"-39.99\" font-family=\"Times,serif\" font-size=\"14.00\">Value: [85, 0, 1, 0, 0, 1, 0, 0, 1, 0]</text>\n",
       "<text text-anchor=\"middle\" x=\"1052.71\" y=\"-24.99\" font-family=\"Times,serif\" font-size=\"14.00\">Samples: 88</text>\n",
       "</g>\n",
       "<!-- 11&#45;&gt;13 -->\n",
       "<g id=\"edge7\" class=\"edge\">\n",
       "<title>11&#45;&gt;13</title>\n",
       "<path fill=\"none\" stroke=\"black\" d=\"M890.25,-175.7C916.59,-156.89 946.67,-135.41 973.72,-116.1\"/>\n",
       "<polygon fill=\"black\" stroke=\"black\" points=\"975.91,-118.84 982.01,-110.18 971.84,-113.14 975.91,-118.84\"/>\n",
       "<text text-anchor=\"middle\" x=\"967.21\" y=\"-139.18\" font-family=\"Times,serif\" font-size=\"14.00\">13 &gt; 3.0</text>\n",
       "</g>\n",
       "<!-- 4 -->\n",
       "<g id=\"node10\" class=\"node\">\n",
       "<title>4</title>\n",
       "<ellipse fill=\"none\" stroke=\"black\" cx=\"1511.71\" cy=\"-227.07\" rx=\"169\" ry=\"58.88\"/>\n",
       "<text text-anchor=\"middle\" x=\"1511.71\" y=\"-253.37\" font-family=\"Times,serif\" font-size=\"14.00\">Node_4</text>\n",
       "<text text-anchor=\"middle\" x=\"1511.71\" y=\"-238.37\" font-family=\"Times,serif\" font-size=\"14.00\">Impurity: 0.817</text>\n",
       "<text text-anchor=\"middle\" x=\"1511.71\" y=\"-223.37\" font-family=\"Times,serif\" font-size=\"14.00\">Label: 3</text>\n",
       "<text text-anchor=\"middle\" x=\"1511.71\" y=\"-208.37\" font-family=\"Times,serif\" font-size=\"14.00\">Value: [0, 41, 85, 88, 2, 6, 9, 81, 50, 15]</text>\n",
       "<text text-anchor=\"middle\" x=\"1511.71\" y=\"-193.37\" font-family=\"Times,serif\" font-size=\"14.00\">Samples: 377</text>\n",
       "</g>\n",
       "<!-- 3&#45;&gt;4 -->\n",
       "<g id=\"edge9\" class=\"edge\">\n",
       "<title>3&#45;&gt;4</title>\n",
       "<path fill=\"none\" stroke=\"black\" d=\"M1511.71,-336.72C1511.71,-323.64 1511.71,-309.62 1511.71,-296.14\"/>\n",
       "<polygon fill=\"black\" stroke=\"black\" points=\"1515.21,-295.97 1511.71,-285.97 1508.21,-295.97 1515.21,-295.97\"/>\n",
       "<text text-anchor=\"middle\" x=\"1539.21\" y=\"-307.56\" font-family=\"Times,serif\" font-size=\"14.00\">26 &lt;= 9.0</text>\n",
       "</g>\n",
       "<!-- 5 -->\n",
       "<g id=\"node13\" class=\"node\">\n",
       "<title>5</title>\n",
       "<ellipse fill=\"none\" stroke=\"black\" cx=\"2041.71\" cy=\"-227.07\" rx=\"169\" ry=\"58.88\"/>\n",
       "<text text-anchor=\"middle\" x=\"2041.71\" y=\"-253.37\" font-family=\"Times,serif\" font-size=\"14.00\">Node_5</text>\n",
       "<text text-anchor=\"middle\" x=\"2041.71\" y=\"-238.37\" font-family=\"Times,serif\" font-size=\"14.00\">Impurity: 0.840</text>\n",
       "<text text-anchor=\"middle\" x=\"2041.71\" y=\"-223.37\" font-family=\"Times,serif\" font-size=\"14.00\">Label: 4</text>\n",
       "<text text-anchor=\"middle\" x=\"2041.71\" y=\"-208.37\" font-family=\"Times,serif\" font-size=\"14.00\">Value: [2, 61, 4, 3, 77, 66, 74, 9, 36, 55]</text>\n",
       "<text text-anchor=\"middle\" x=\"2041.71\" y=\"-193.37\" font-family=\"Times,serif\" font-size=\"14.00\">Samples: 387</text>\n",
       "</g>\n",
       "<!-- 3&#45;&gt;5 -->\n",
       "<g id=\"edge12\" class=\"edge\">\n",
       "<title>3&#45;&gt;5</title>\n",
       "<path fill=\"none\" stroke=\"black\" d=\"M1642.73,-353.32C1723.44,-327.98 1826.65,-295.58 1907.88,-270.08\"/>\n",
       "<polygon fill=\"black\" stroke=\"black\" points=\"1909.18,-273.34 1917.67,-267.01 1907.08,-266.67 1909.18,-273.34\"/>\n",
       "<text text-anchor=\"middle\" x=\"1816.21\" y=\"-307.56\" font-family=\"Times,serif\" font-size=\"14.00\">26 &gt; 9.0</text>\n",
       "</g>\n",
       "<!-- 8 -->\n",
       "<g id=\"node11\" class=\"node\">\n",
       "<title>8</title>\n",
       "<ellipse fill=\"none\" stroke=\"black\" cx=\"1361.71\" cy=\"-58.69\" rx=\"145.83\" ry=\"58.88\"/>\n",
       "<text text-anchor=\"middle\" x=\"1361.71\" y=\"-84.99\" font-family=\"Times,serif\" font-size=\"14.00\">Node_8</text>\n",
       "<text text-anchor=\"middle\" x=\"1361.71\" y=\"-69.99\" font-family=\"Times,serif\" font-size=\"14.00\">Impurity: 0.231</text>\n",
       "<text text-anchor=\"middle\" x=\"1361.71\" y=\"-54.99\" font-family=\"Times,serif\" font-size=\"14.00\">Label: 7</text>\n",
       "<text text-anchor=\"middle\" x=\"1361.71\" y=\"-39.99\" font-family=\"Times,serif\" font-size=\"14.00\">Value: [0, 0, 1, 3, 1, 3, 0, 70, 2, 0]</text>\n",
       "<text text-anchor=\"middle\" x=\"1361.71\" y=\"-24.99\" font-family=\"Times,serif\" font-size=\"14.00\">Samples: 80</text>\n",
       "</g>\n",
       "<!-- 4&#45;&gt;8 -->\n",
       "<g id=\"edge10\" class=\"edge\">\n",
       "<title>4&#45;&gt;8</title>\n",
       "<path fill=\"none\" stroke=\"black\" d=\"M1461.77,-170.67C1447.63,-154.99 1432.15,-137.82 1417.69,-121.78\"/>\n",
       "<polygon fill=\"black\" stroke=\"black\" points=\"1419.97,-119.09 1410.68,-114 1414.78,-123.77 1419.97,-119.09\"/>\n",
       "<text text-anchor=\"middle\" x=\"1469.21\" y=\"-139.18\" font-family=\"Times,serif\" font-size=\"14.00\">60 &lt;= 6.0</text>\n",
       "</g>\n",
       "<!-- 9 -->\n",
       "<g id=\"node12\" class=\"node\">\n",
       "<title>9</title>\n",
       "<ellipse fill=\"none\" stroke=\"black\" cx=\"1694.71\" cy=\"-58.69\" rx=\"169\" ry=\"58.88\"/>\n",
       "<text text-anchor=\"middle\" x=\"1694.71\" y=\"-84.99\" font-family=\"Times,serif\" font-size=\"14.00\">Node_9</text>\n",
       "<text text-anchor=\"middle\" x=\"1694.71\" y=\"-69.99\" font-family=\"Times,serif\" font-size=\"14.00\">Impurity: 0.788</text>\n",
       "<text text-anchor=\"middle\" x=\"1694.71\" y=\"-54.99\" font-family=\"Times,serif\" font-size=\"14.00\">Label: 3</text>\n",
       "<text text-anchor=\"middle\" x=\"1694.71\" y=\"-39.99\" font-family=\"Times,serif\" font-size=\"14.00\">Value: [0, 41, 84, 85, 1, 3, 9, 11, 48, 15]</text>\n",
       "<text text-anchor=\"middle\" x=\"1694.71\" y=\"-24.99\" font-family=\"Times,serif\" font-size=\"14.00\">Samples: 297</text>\n",
       "</g>\n",
       "<!-- 4&#45;&gt;9 -->\n",
       "<g id=\"edge11\" class=\"edge\">\n",
       "<title>4&#45;&gt;9</title>\n",
       "<path fill=\"none\" stroke=\"black\" d=\"M1571.13,-172.05C1589.12,-155.69 1609,-137.62 1627.47,-120.83\"/>\n",
       "<polygon fill=\"black\" stroke=\"black\" points=\"1630.24,-123.04 1635.28,-113.72 1625.53,-117.86 1630.24,-123.04\"/>\n",
       "<text text-anchor=\"middle\" x=\"1632.21\" y=\"-139.18\" font-family=\"Times,serif\" font-size=\"14.00\">60 &gt; 6.0</text>\n",
       "</g>\n",
       "<!-- 6 -->\n",
       "<g id=\"node14\" class=\"node\">\n",
       "<title>6</title>\n",
       "<ellipse fill=\"none\" stroke=\"black\" cx=\"2041.71\" cy=\"-58.69\" rx=\"159.61\" ry=\"58.88\"/>\n",
       "<text text-anchor=\"middle\" x=\"2041.71\" y=\"-84.99\" font-family=\"Times,serif\" font-size=\"14.00\">Node_6</text>\n",
       "<text text-anchor=\"middle\" x=\"2041.71\" y=\"-69.99\" font-family=\"Times,serif\" font-size=\"14.00\">Impurity: 0.674</text>\n",
       "<text text-anchor=\"middle\" x=\"2041.71\" y=\"-54.99\" font-family=\"Times,serif\" font-size=\"14.00\">Label: 6</text>\n",
       "<text text-anchor=\"middle\" x=\"2041.71\" y=\"-39.99\" font-family=\"Times,serif\" font-size=\"14.00\">Value: [0, 16, 2, 2, 15, 62, 72, 0, 2, 0]</text>\n",
       "<text text-anchor=\"middle\" x=\"2041.71\" y=\"-24.99\" font-family=\"Times,serif\" font-size=\"14.00\">Samples: 171</text>\n",
       "</g>\n",
       "<!-- 5&#45;&gt;6 -->\n",
       "<g id=\"edge13\" class=\"edge\">\n",
       "<title>5&#45;&gt;6</title>\n",
       "<path fill=\"none\" stroke=\"black\" d=\"M2041.71,-168.34C2041.71,-155.26 2041.71,-141.24 2041.71,-127.77\"/>\n",
       "<polygon fill=\"black\" stroke=\"black\" points=\"2045.21,-127.59 2041.71,-117.59 2038.21,-127.59 2045.21,-127.59\"/>\n",
       "<text text-anchor=\"middle\" x=\"2069.21\" y=\"-139.18\" font-family=\"Times,serif\" font-size=\"14.00\">21 &lt;= 0.0</text>\n",
       "</g>\n",
       "<!-- 7 -->\n",
       "<g id=\"node15\" class=\"node\">\n",
       "<title>7</title>\n",
       "<ellipse fill=\"none\" stroke=\"black\" cx=\"2379.71\" cy=\"-58.69\" rx=\"159.61\" ry=\"58.88\"/>\n",
       "<text text-anchor=\"middle\" x=\"2379.71\" y=\"-84.99\" font-family=\"Times,serif\" font-size=\"14.00\">Node_7</text>\n",
       "<text text-anchor=\"middle\" x=\"2379.71\" y=\"-69.99\" font-family=\"Times,serif\" font-size=\"14.00\">Impurity: 0.782</text>\n",
       "<text text-anchor=\"middle\" x=\"2379.71\" y=\"-54.99\" font-family=\"Times,serif\" font-size=\"14.00\">Label: 4</text>\n",
       "<text text-anchor=\"middle\" x=\"2379.71\" y=\"-39.99\" font-family=\"Times,serif\" font-size=\"14.00\">Value: [2, 45, 2, 1, 62, 4, 2, 9, 34, 55]</text>\n",
       "<text text-anchor=\"middle\" x=\"2379.71\" y=\"-24.99\" font-family=\"Times,serif\" font-size=\"14.00\">Samples: 216</text>\n",
       "</g>\n",
       "<!-- 5&#45;&gt;7 -->\n",
       "<g id=\"edge14\" class=\"edge\">\n",
       "<title>5&#45;&gt;7</title>\n",
       "<path fill=\"none\" stroke=\"black\" d=\"M2138.12,-178.61C2181.29,-157.36 2232.27,-132.27 2276.24,-110.62\"/>\n",
       "<polygon fill=\"black\" stroke=\"black\" points=\"2277.8,-113.76 2285.22,-106.2 2274.71,-107.48 2277.8,-113.76\"/>\n",
       "<text text-anchor=\"middle\" x=\"2245.21\" y=\"-139.18\" font-family=\"Times,serif\" font-size=\"14.00\">21 &gt; 0.0</text>\n",
       "</g>\n",
       "</g>\n",
       "</svg>\n"
      ],
      "text/plain": [
       "<graphviz.graphs.Digraph at 0x176dce2e0>"
      ]
     },
     "execution_count": 149,
     "metadata": {},
     "output_type": "execute_result"
    }
   ],
   "source": [
    "tree.plot()"
   ]
  },
  {
   "cell_type": "code",
   "execution_count": 150,
   "id": "da9eb46e",
   "metadata": {},
   "outputs": [
    {
     "data": {
      "text/plain": [
       "8"
      ]
     },
     "execution_count": 150,
     "metadata": {},
     "output_type": "execute_result"
    }
   ],
   "source": [
    "len(tree.get_leaves())"
   ]
  },
  {
   "cell_type": "code",
   "execution_count": 151,
   "id": "cff2231c",
   "metadata": {},
   "outputs": [
    {
     "data": {
      "text/plain": [
       "[(36, 36), (26, 26), (13, 13), (21, 21), (60, 60), (42, 42)]"
      ]
     },
     "execution_count": 151,
     "metadata": {},
     "output_type": "execute_result"
    }
   ],
   "source": [
    "tree.get_features()"
   ]
  },
  {
   "cell_type": "code",
   "execution_count": 152,
   "id": "856e8d9a",
   "metadata": {},
   "outputs": [
    {
     "data": {
      "text/plain": [
       "36"
      ]
     },
     "execution_count": 152,
     "metadata": {},
     "output_type": "execute_result"
    }
   ],
   "source": [
    "tree.conditions[0].attribute"
   ]
  },
  {
   "cell_type": "code",
   "execution_count": 153,
   "id": "0d393452",
   "metadata": {},
   "outputs": [],
   "source": [
    "def get_rules(tree, feature_names, class_names):\n",
    "    tree_ = tree\n",
    "    feature_name = [\n",
    "        feature_names[i] if i != _tree.TREE_UNDEFINED else \"undefined!\"\n",
    "        for i in tree_.feature\n",
    "    ]\n",
    "\n",
    "    paths = []\n",
    "    path = []\n",
    "    \n",
    "    def recurse(node, path, paths):\n",
    "        \n",
    "        if tree_.feature[node] != _tree.TREE_UNDEFINED:\n",
    "            name = feature_name[node]\n",
    "            threshold = tree_.threshold[node]\n",
    "            p1, p2 = list(path), list(path)\n",
    "            p1 += [f\"({name} <= {np.round(threshold, 3)})\"]\n",
    "            recurse(tree_.children_left[node], p1, paths)\n",
    "            p2 += [f\"({name} > {np.round(threshold, 3)})\"]\n",
    "            recurse(tree_.children_right[node], p2, paths)\n",
    "        else:\n",
    "            path += [(tree_.value[node], tree_.n_node_samples[node])]\n",
    "            paths += [path]\n",
    "            \n",
    "    recurse(0, path, paths)\n",
    "\n",
    "    # sort by samples count\n",
    "    samples_count = [p[-1][1] for p in paths]\n",
    "    ii = list(np.argsort(samples_count))\n",
    "    paths = [paths[i] for i in reversed(ii)]\n",
    "    \n",
    "    rules = []\n",
    "    for path in paths:\n",
    "        rule = \"if \"\n",
    "        \n",
    "        for p in path[:-1]:\n",
    "            if rule != \"if \":\n",
    "                rule += \" and \"\n",
    "            rule += str(p)\n",
    "        rule += \" then \"\n",
    "        if class_names is None:\n",
    "            rule += \"response: \"+str(np.round(path[-1][0][0][0],3))\n",
    "        else:\n",
    "            classes = path[-1][0][0]\n",
    "            l = np.argmax(classes)\n",
    "            rule += f\"class: {class_names[l]} (proba: {np.round(100.0*classes[l]/np.sum(classes),2)}%)\"\n",
    "        rule += f\" | based on {path[-1][1]:,} samples\"\n",
    "        rules += [rule]\n",
    "        \n",
    "    return rules"
   ]
  },
  {
   "cell_type": "code",
   "execution_count": null,
   "id": "d953420c",
   "metadata": {},
   "outputs": [],
   "source": []
  },
  {
   "cell_type": "code",
   "execution_count": 154,
   "id": "a788a849",
   "metadata": {},
   "outputs": [
    {
     "data": {
      "text/plain": [
       "array([[ 0.,  0.,  5., ...,  0.,  0.,  0.],\n",
       "       [ 0.,  0.,  0., ..., 10.,  0.,  0.],\n",
       "       [ 0.,  0.,  0., ..., 16.,  9.,  0.],\n",
       "       ...,\n",
       "       [ 0.,  0.,  1., ...,  6.,  0.,  0.],\n",
       "       [ 0.,  0.,  2., ..., 12.,  0.,  0.],\n",
       "       [ 0.,  0., 10., ..., 12.,  1.,  0.]])"
      ]
     },
     "execution_count": 154,
     "metadata": {},
     "output_type": "execute_result"
    }
   ],
   "source": [
    "X"
   ]
  },
  {
   "cell_type": "code",
   "execution_count": null,
   "id": "2bd23b66",
   "metadata": {},
   "outputs": [],
   "source": []
  },
  {
   "cell_type": "code",
   "execution_count": 155,
   "id": "e1f6e380",
   "metadata": {},
   "outputs": [],
   "source": [
    "from sklearn import datasets\n"
   ]
  },
  {
   "cell_type": "code",
   "execution_count": 156,
   "id": "2f62eca2",
   "metadata": {},
   "outputs": [],
   "source": [
    "iris = datasets.load_iris()\n",
    "X = iris.data\n",
    "y = iris.target"
   ]
  },
  {
   "cell_type": "code",
   "execution_count": 157,
   "id": "6f236f48",
   "metadata": {},
   "outputs": [
    {
     "data": {
      "text/plain": [
       "['sepal length (cm)',\n",
       " 'sepal width (cm)',\n",
       " 'petal length (cm)',\n",
       " 'petal width (cm)']"
      ]
     },
     "execution_count": 157,
     "metadata": {},
     "output_type": "execute_result"
    }
   ],
   "source": [
    "iris.feature_names"
   ]
  },
  {
   "cell_type": "code",
   "execution_count": 158,
   "id": "a58e8bbc",
   "metadata": {},
   "outputs": [
    {
     "data": {
      "text/plain": [
       "array(['setosa', 'versicolor', 'virginica'], dtype='<U10')"
      ]
     },
     "execution_count": 158,
     "metadata": {},
     "output_type": "execute_result"
    }
   ],
   "source": [
    "iris.target_names"
   ]
  },
  {
   "cell_type": "code",
   "execution_count": 159,
   "id": "87ff4653",
   "metadata": {},
   "outputs": [],
   "source": [
    "\n",
    "@dataclass\n",
    "class BCondition:\n",
    "    attribute: str\n",
    "    attribute_pos: int\n",
    "    #operator: Operator\n",
    "    lowerbracket_open: bool\n",
    "    lowerthreshold: float\n",
    "    upperthreshold: float    \n",
    "    upperbracket_open: bool    \n",
    "        \n",
    "    \n",
    "    #threshold: float\n",
    "\n",
    "    def __repr__(self):\n",
    "        return str(self)\n",
    "\n",
    "    def __str__(self):\n",
    "        if self.lowerbracket_open:\n",
    "            lowerbracket = \"(\"\n",
    "        else:\n",
    "            lowerbracket = \"[\"\n",
    "        if self.upperbracket_open:\n",
    "            upperbracket = \")\"\n",
    "        else:\n",
    "            upperbracket = \"]\"\n",
    "        \n",
    "        return f\"{self.attribute} ∈ {lowerbracket}{self.lowerthreshold}, {self.upperthreshold}{upperbracket}\"\n",
    "            \n",
    "    def fire(self, x):        \n",
    "        attribute_val = x[self.attribute_pos]\n",
    "        # return true if attribute_val between lower and upper bound\n",
    "    \n",
    "\n",
    "@dataclass\n",
    "class DecisionBoundary:\n",
    "    label: str\n",
    "    value: List[int]  \n",
    "    conditions: List[BCondition]     \n",
    "        \n",
    "        \n",
    "        \n",
    "@dataclass\n",
    "class DecisionSpace:\n",
    "    bounday_set: List[DecisionBoundary]"
   ]
  },
  {
   "cell_type": "code",
   "execution_count": 160,
   "id": "2359d36d",
   "metadata": {},
   "outputs": [],
   "source": [
    "boundary1 = DecisionBoundary(label = 'A', \n",
    "                            value = [80,20],\n",
    "                            conditions = [BCondition(\"Age\",1, False,1,3,False ),BCondition(\"Height\",2,True,160,178,False)]\n",
    "                            )\n",
    "\n",
    "boundary2 = DecisionBoundary(label = 'B', \n",
    "                            value = [80,20],\n",
    "                            conditions = [BCondition(\"Age\",1, False,1,3,False ),BCondition(\"Height\",2,True,160,178,False)]\n",
    "                            )"
   ]
  },
  {
   "cell_type": "code",
   "execution_count": null,
   "id": "7ab5728f",
   "metadata": {},
   "outputs": [],
   "source": []
  },
  {
   "cell_type": "code",
   "execution_count": 161,
   "id": "8a52060c",
   "metadata": {},
   "outputs": [],
   "source": [
    "space = DecisionSpace([boundary1,boundary2])"
   ]
  },
  {
   "cell_type": "code",
   "execution_count": 162,
   "id": "297c42da",
   "metadata": {},
   "outputs": [
    {
     "name": "stdout",
     "output_type": "stream",
     "text": [
      "DecisionSpace(bounday_set=[DecisionBoundary(label='A', value=[80, 20], conditions=[Age ∈ [1, 3], Height ∈ (160, 178]]), DecisionBoundary(label='B', value=[80, 20], conditions=[Age ∈ [1, 3], Height ∈ (160, 178]])])\n"
     ]
    }
   ],
   "source": [
    "print(space)"
   ]
  },
  {
   "cell_type": "code",
   "execution_count": 163,
   "id": "6e51bd7d",
   "metadata": {},
   "outputs": [],
   "source": [
    "def get_decisionspace(tree):\n",
    "    leaves = tree.get_leaves()\n",
    "    boundaries = []\n",
    "        \n",
    "    for l in leaves:\n",
    "        boundaries.append(get_decisionboundary(l))\n",
    "    return DecisionSpace(boundaries )      \n",
    "            \n",
    "def get_leaf_condition(leaf):\n",
    "    condi = []\n",
    "    p = leaf\n",
    "    while p is not None:\n",
    "        p_cond = p.find_to_condition()\n",
    "        if p_cond is not None:\n",
    "            condi.append(p_cond)\n",
    "        p = p.parent \n",
    "    return condi\n",
    "\n",
    "\n",
    "def get_decisionboundary(leaf):\n",
    "    bound_condi = []\n",
    "    for f, f_pos in leaf.get_root_node().get_features():\n",
    "        feature_min_upper_bound = float('inf')\n",
    "        feature_max_lower_bound = float('-inf')\n",
    "        for c in get_leaf_condition(leaf):\n",
    "            if c.attribute == f:\n",
    "                if c.operator == Operator.LE:\n",
    "                    if feature_min_upper_bound > c.threshold:\n",
    "                        feature_min_upper_bound = c.threshold\n",
    "                if c.operator == Operator.GT:\n",
    "                    if feature_max_lower_bound < c.threshold:\n",
    "                        feature_max_lower_bound = c.threshold\n",
    "                    \n",
    "        #BCondition(f,f_pos,True,feature_max_lower_bound,feature_min_upper_bound,False)\n",
    "        bound_condi.append(BCondition(f,f_pos,True,feature_max_lower_bound,feature_min_upper_bound,False))   \n",
    "    # TODO: get list of rules for leaf and convert to a decision boundary\n",
    "    decision_boundary = DecisionBoundary(label = leaf.label, value = leaf.value, conditions = bound_condi )\n",
    "    return decision_boundary\n",
    "\n",
    "def specialization(boundary: DecisionBoundary  ):\n",
    "    a = 0\n",
    "    for condition in boundary.conditions:\n",
    "        a +=  (condition.upperthreshold -  condition.lowerthreshold)\n",
    "    return a/len(boundary.conditions)    \n",
    "\n",
    "def merge_value(boundary_x: DecisionBoundary, boundary_y: DecisionBoundary):\n",
    "    weight_x = specialization(boundary_x)/(specialization(boundary_x)+specialization(boundary_y))\n",
    "    weight_y = specialization(boundary_y)/(specialization(boundary_x)+specialization(boundary_y))\n",
    "    value_x = np.array(boundary_x.value)\n",
    "    value_y = np.array(boundary_y.value)\n",
    "    value_z = value_x * weight_x + value_y * weight_y\n",
    "    \n",
    "    return value_z\n",
    "\n",
    "    \n",
    "    \n"
   ]
  },
  {
   "cell_type": "code",
   "execution_count": 164,
   "id": "bfabaf90",
   "metadata": {},
   "outputs": [],
   "source": [
    "example_leaf = tree.get_leaves()[0]"
   ]
  },
  {
   "cell_type": "code",
   "execution_count": 165,
   "id": "99c6d474",
   "metadata": {},
   "outputs": [
    {
     "data": {
      "text/plain": [
       "[21 <= 4.0, 42 <= 4.0, 36 <= 0.0]"
      ]
     },
     "execution_count": 165,
     "metadata": {},
     "output_type": "execute_result"
    }
   ],
   "source": [
    "get_leaf_condition(example_leaf)"
   ]
  },
  {
   "cell_type": "code",
   "execution_count": 166,
   "id": "b1cb9a0b",
   "metadata": {},
   "outputs": [
    {
     "data": {
      "text/plain": [
       "[(36, 36), (26, 26), (13, 13), (21, 21), (60, 60), (42, 42)]"
      ]
     },
     "execution_count": 166,
     "metadata": {},
     "output_type": "execute_result"
    }
   ],
   "source": [
    "example_leaf.get_root_node().get_features()"
   ]
  },
  {
   "cell_type": "code",
   "execution_count": 167,
   "id": "fe316258",
   "metadata": {},
   "outputs": [
    {
     "data": {
      "text/plain": [
       "[]"
      ]
     },
     "execution_count": 167,
     "metadata": {},
     "output_type": "execute_result"
    }
   ],
   "source": [
    "example_leaf.get_features()"
   ]
  },
  {
   "cell_type": "code",
   "execution_count": 168,
   "id": "d52cbeca",
   "metadata": {},
   "outputs": [
    {
     "data": {
      "text/plain": [
       "DecisionBoundary(label=5, value=[0, 0, 0, 0, 0, 8, 0, 0, 0, 0], conditions=[36 ∈ (-inf, 0.0], 26 ∈ (-inf, inf], 13 ∈ (-inf, inf], 21 ∈ (-inf, 4.0], 60 ∈ (-inf, inf], 42 ∈ (-inf, 4.0]])"
      ]
     },
     "execution_count": 168,
     "metadata": {},
     "output_type": "execute_result"
    }
   ],
   "source": [
    "get_decisionboundary(example_leaf)"
   ]
  },
  {
   "cell_type": "code",
   "execution_count": 169,
   "id": "51e6ff5d",
   "metadata": {},
   "outputs": [
    {
     "data": {
      "text/plain": [
       "[DecisionBoundary(label=5, value=[0, 0, 0, 0, 0, 8, 0, 0, 0, 0], conditions=[36 ∈ (-inf, 0.0], 26 ∈ (-inf, inf], 13 ∈ (-inf, inf], 21 ∈ (-inf, 4.0], 60 ∈ (-inf, inf], 42 ∈ (-inf, 4.0]]),\n",
       " DecisionBoundary(label=9, value=[0, 0, 0, 1, 0, 1, 0, 0, 0, 28], conditions=[36 ∈ (-inf, 0.0], 26 ∈ (-inf, inf], 13 ∈ (-inf, inf], 21 ∈ (4.0, inf], 60 ∈ (-inf, inf], 42 ∈ (-inf, 4.0]]),\n",
       " DecisionBoundary(label=6, value=[0, 0, 1, 0, 1, 2, 4, 0, 0, 0], conditions=[36 ∈ (-inf, 0.0], 26 ∈ (-inf, inf], 13 ∈ (-inf, 3.0], 21 ∈ (-inf, inf], 60 ∈ (-inf, inf], 42 ∈ (4.0, inf]]),\n",
       " DecisionBoundary(label=0, value=[85, 0, 1, 0, 0, 1, 0, 0, 1, 0], conditions=[36 ∈ (-inf, 0.0], 26 ∈ (-inf, inf], 13 ∈ (3.0, inf], 21 ∈ (-inf, inf], 60 ∈ (-inf, inf], 42 ∈ (4.0, inf]]),\n",
       " DecisionBoundary(label=7, value=[0, 0, 1, 3, 1, 3, 0, 70, 2, 0], conditions=[36 ∈ (0.0, inf], 26 ∈ (-inf, 9.0], 13 ∈ (-inf, inf], 21 ∈ (-inf, inf], 60 ∈ (-inf, 6.0], 42 ∈ (-inf, inf]]),\n",
       " DecisionBoundary(label=3, value=[0, 41, 84, 85, 1, 3, 9, 11, 48, 15], conditions=[36 ∈ (0.0, inf], 26 ∈ (-inf, 9.0], 13 ∈ (-inf, inf], 21 ∈ (-inf, inf], 60 ∈ (6.0, inf], 42 ∈ (-inf, inf]]),\n",
       " DecisionBoundary(label=6, value=[0, 16, 2, 2, 15, 62, 72, 0, 2, 0], conditions=[36 ∈ (0.0, inf], 26 ∈ (9.0, inf], 13 ∈ (-inf, inf], 21 ∈ (-inf, 0.0], 60 ∈ (-inf, inf], 42 ∈ (-inf, inf]]),\n",
       " DecisionBoundary(label=4, value=[2, 45, 2, 1, 62, 4, 2, 9, 34, 55], conditions=[36 ∈ (0.0, inf], 26 ∈ (9.0, inf], 13 ∈ (-inf, inf], 21 ∈ (0.0, inf], 60 ∈ (-inf, inf], 42 ∈ (-inf, inf]])]"
      ]
     },
     "execution_count": 169,
     "metadata": {},
     "output_type": "execute_result"
    }
   ],
   "source": [
    "get_decisionspace(tree).bounday_set"
   ]
  },
  {
   "cell_type": "code",
   "execution_count": 170,
   "id": "31d5afe0",
   "metadata": {},
   "outputs": [],
   "source": [
    "def data_to_decisionspace(X, y):\n",
    "    tree = grow_tree(X,y,max_depth = 2, min_samples_split = 2)\n",
    "    space = get_decisionspace(tree)\n",
    "    return space \n",
    "    "
   ]
  },
  {
   "cell_type": "code",
   "execution_count": 171,
   "id": "08312ad5",
   "metadata": {},
   "outputs": [
    {
     "data": {
      "text/plain": [
       "DecisionSpace(bounday_set=[DecisionBoundary(label=0, value=[50, 0, 0], conditions=[petal width (cm) ∈ (-inf, inf], petal length (cm) ∈ (-inf, 1.9]]), DecisionBoundary(label=1, value=[0, 49, 5], conditions=[petal width (cm) ∈ (-inf, 1.7], petal length (cm) ∈ (1.9, inf]]), DecisionBoundary(label=2, value=[0, 1, 45], conditions=[petal width (cm) ∈ (1.7, inf], petal length (cm) ∈ (1.9, inf]])])"
      ]
     },
     "execution_count": 171,
     "metadata": {},
     "output_type": "execute_result"
    }
   ],
   "source": [
    "d = load_iris()\n",
    "data_to_decisionspace(pd.DataFrame(d.data, columns=d.feature_names), d.target)"
   ]
  },
  {
   "cell_type": "code",
   "execution_count": 172,
   "id": "1b6dd661",
   "metadata": {},
   "outputs": [
    {
     "data": {
      "text/plain": [
       "['sepal length (cm)',\n",
       " 'sepal width (cm)',\n",
       " 'petal length (cm)',\n",
       " 'petal width (cm)']"
      ]
     },
     "execution_count": 172,
     "metadata": {},
     "output_type": "execute_result"
    }
   ],
   "source": [
    "d.feature_names"
   ]
  },
  {
   "cell_type": "code",
   "execution_count": 173,
   "id": "2dea6c14",
   "metadata": {},
   "outputs": [
    {
     "data": {
      "text/plain": [
       "array(['setosa', 'versicolor', 'virginica'], dtype='<U10')"
      ]
     },
     "execution_count": 173,
     "metadata": {},
     "output_type": "execute_result"
    }
   ],
   "source": [
    "d.target_names"
   ]
  },
  {
   "cell_type": "code",
   "execution_count": 178,
   "id": "8e9bf3a1",
   "metadata": {},
   "outputs": [
    {
     "data": {
      "text/plain": [
       "array([90., 10.])"
      ]
     },
     "execution_count": 178,
     "metadata": {},
     "output_type": "execute_result"
    }
   ],
   "source": [
    "merge_value(boundary3, boundary4)"
   ]
  },
  {
   "cell_type": "code",
   "execution_count": 177,
   "id": "ec4b133b",
   "metadata": {},
   "outputs": [],
   "source": [
    "boundary3 = DecisionBoundary(label = 'A', \n",
    "                            value = [75,25],\n",
    "                            conditions = [BCondition(\"Age\",1, False,0,5,True ),BCondition(\"Degree\",2,False,0,3,True)]\n",
    "                            )\n",
    "\n",
    "boundary4 = DecisionBoundary(label = 'B', \n",
    "                            value = [100,0],\n",
    "                            conditions = [BCondition(\"Age\",1, False,0,7,True ),BCondition(\"Degree\",2,False,0,5,True)]\n",
    "                            )"
   ]
  },
  {
   "cell_type": "code",
   "execution_count": null,
   "id": "faa6899f",
   "metadata": {},
   "outputs": [],
   "source": []
  }
 ],
 "metadata": {
  "kernelspec": {
   "display_name": "Python 3 (ipykernel)",
   "language": "python",
   "name": "python3"
  },
  "language_info": {
   "codemirror_mode": {
    "name": "ipython",
    "version": 3
   },
   "file_extension": ".py",
   "mimetype": "text/x-python",
   "name": "python",
   "nbconvert_exporter": "python",
   "pygments_lexer": "ipython3",
   "version": "3.9.12"
  }
 },
 "nbformat": 4,
 "nbformat_minor": 5
}
