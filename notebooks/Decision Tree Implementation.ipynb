{
 "cells": [
  {
   "cell_type": "code",
   "execution_count": 1,
   "id": "8481814a",
   "metadata": {},
   "outputs": [],
   "source": [
    "import scipy.io\n",
    "import pandas as pd\n",
    "import numpy as np\n",
    "\n",
    "from math import log2\n",
    "from dataclasses import dataclass, field\n",
    "\n",
    "from functools import partial\n",
    "from queue import deque\n",
    "from enum import Enum\n",
    "from collections import deque\n",
    "\n",
    "from typing import *\n",
    "from operator import *\n",
    "\n",
    "from sklearn.tree import DecisionTreeClassifier, plot_tree\n",
    "from sklearn.model_selection import train_test_split\n",
    "from sklearn.metrics import *\n",
    "from sklearn.datasets import *\n",
    "\n",
    "import graphviz\n",
    "#mat = scipy.io.loadmat('/Users/scott/projects/research-projects/tree_diff/input/twitter/influenza_outbreak_dataset.mat')"
   ]
  },
  {
   "cell_type": "markdown",
   "id": "9d320402",
   "metadata": {},
   "source": [
    "## Decision Tree Features\n",
    "* ~Handle multiclass/binary~\n",
    "* Binary or multple splits: Binary only \n",
    "* Choice of stopping criteria\n",
    "* Choice of evaluation measure \n",
    "* Choice of splitting criteria \n",
    "* Choice of pruning strategy \n",
    "* Opaque rules"
   ]
  },
  {
   "cell_type": "code",
   "execution_count": 2,
   "id": "65798e1d",
   "metadata": {},
   "outputs": [],
   "source": [
    "a = load_iris()\n",
    "X = a.data\n",
    "y = a.target\n",
    "\n",
    "X_train,X_test,y_train,y_test=train_test_split(X,y,test_size=0.5)"
   ]
  },
  {
   "cell_type": "markdown",
   "id": "5858b0c1",
   "metadata": {},
   "source": [
    "# Simple Decision tree"
   ]
  },
  {
   "cell_type": "markdown",
   "id": "d5dee525",
   "metadata": {},
   "source": [
    "## Data classes "
   ]
  },
  {
   "cell_type": "code",
   "execution_count": 3,
   "id": "b04b9da5",
   "metadata": {},
   "outputs": [],
   "source": [
    "class Operator(str, Enum):\n",
    "    EQ = \"==\"\n",
    "    LT = \"<\"\n",
    "    GT = \">\"\n",
    "    LE = \"<=\"\n",
    "    GE = \">=\"\n",
    "    NE = \"!=\"\n",
    "    \n",
    "    @property\n",
    "    def op(self):\n",
    "        return {self.EQ: eq, \n",
    "                self.LT: lt, \n",
    "                self.LE: le, \n",
    "                self.GE: ge,\n",
    "                self.NE: ne,                \n",
    "                self.GT: gt}[self]\n",
    "\n",
    "@dataclass\n",
    "class Condition:\n",
    "    attribute: str\n",
    "    attribute_pos: int\n",
    "    operator: Operator\n",
    "    threshold: float\n",
    "\n",
    "    def __repr__(self):\n",
    "        return str(self)\n",
    "\n",
    "    def __str__(self):\n",
    "        return f\"{self.attribute} {self.operator} {self.threshold}\"\n",
    "            \n",
    "    def fire(self, x):        \n",
    "        return self.operator.op(x[self.attribute_pos], self.threshold)\n",
    "    \n",
    "@dataclass\n",
    "class Split:\n",
    "    score: float \n",
    "    attribute_pos: int\n",
    "    ids: Tuple[float]\n",
    "    operations: List[Tuple[Operator, float]]\n",
    "        \n",
    "@dataclass            \n",
    "class DecisionNode:\n",
    "    label: str\n",
    "    node_id: int\n",
    "    value: List[int]    \n",
    "    impurity: float = 0.0\n",
    "    parent: 'Node' = None\n",
    "    children: List['Node'] = field(default_factory=list)\n",
    "    conditions: List[Condition] = field(default_factory=list)    \n",
    "        \n",
    "    def walk(self, callback):\n",
    "        callback(self)\n",
    "        for n in self.children:\n",
    "            n.walk(callback)        \n",
    "        \n",
    "    def add_child(self, condition, node):\n",
    "        self.conditions.append(condition)\n",
    "        node.parent = self\n",
    "        self.children.append(node)\n",
    "    \n",
    "    def predict(self, x):\n",
    "        stack = deque()\n",
    "        stack.append(self)\n",
    "        node = self\n",
    "\n",
    "        while not node.is_leaf():\n",
    "            node = stack.pop()\n",
    "\n",
    "            for i, cond in enumerate(node.conditions):\n",
    "                if cond.fire(x):\n",
    "                    stack.append(node.children[i])\n",
    "\n",
    "        return node.label            \n",
    "    \n",
    "    def is_leaf(self):\n",
    "        return not self.children\n",
    "    \n",
    "    def is_root(self):\n",
    "        return not self.parent\n",
    "    \n",
    "    def plot(self):\n",
    "        dot = graphviz.Digraph('tree', comment='Decision Tree')  \n",
    "\n",
    "        def update_dot(dot, node):\n",
    "            dot.node(f\"{node.node_id}\", f\"Node_{node.node_id}\\nImpurity: {node.impurity:0.3f}\\nLabel: {node.label}\\nValue: {node.value}\\nSamples: {sum(node.value)}\")\n",
    "            if node.parent:\n",
    "                cond = node.find_to_condition()\n",
    "                dot.edge(f\"{node.parent.node_id}\" , f\"{node.node_id}\", str(cond))\n",
    "        \n",
    "        update_dot_partial = partial(update_dot, dot)        \n",
    "        self.walk(update_dot_partial)\n",
    "        return dot\n",
    "    \n",
    "    def find_to_condition(self):\n",
    "        if self.is_root():\n",
    "            return None\n",
    "        else:            \n",
    "            index = -1\n",
    "            for i, node in enumerate(self.parent.children):\n",
    "                if node.node_id == self.node_id:\n",
    "                    index = i\n",
    "            if index < 0:\n",
    "                raise ValueError(\"Incorrect tree\")\n",
    "            return self.parent.conditions[index]\n",
    "                             \n",
    "    def __str__(self):\n",
    "        return f\"Node_{self.node_id}\"     \n",
    "    \n",
    "    def get_feature(self):\n",
    "        if not self.is_leaf():\n",
    "            return (self.conditions[0].attribute, self.conditions[0].attribute_pos)\n",
    "    \n",
    "    def get_nodes(self):\n",
    "        node_list = []\n",
    "        self.walk(lambda n: node_list.append(n))\n",
    "        return node_list\n",
    "    \n",
    "    def get_leaves(self):\n",
    "        leaf_list = []\n",
    "        \n",
    "        def check_leaf(n):\n",
    "            if n.is_leaf():\n",
    "                leaf_list.append(n)\n",
    "        \n",
    "        self.walk(check_leaf)\n",
    "        return leaf_list\n",
    "    \n",
    "    def get_features(self):\n",
    "        # returns list of tuples of (attribute, attribute_pos)\n",
    "        l = []\n",
    "        for n in self.get_nodes():\n",
    "            feature = n.get_feature()\n",
    "            if feature is not None:\n",
    "                l.append(feature)\n",
    "        return list(set(l))\n",
    "\n",
    "    def get_root_node(self):\n",
    "        n = self\n",
    "        while not n.is_root():\n",
    "            n = n.parent\n",
    "        return n\n",
    "    "
   ]
  },
  {
   "cell_type": "code",
   "execution_count": 4,
   "id": "59dc3d80",
   "metadata": {
    "scrolled": true
   },
   "outputs": [
    {
     "data": {
      "text/plain": [
       "True"
      ]
     },
     "execution_count": 4,
     "metadata": {},
     "output_type": "execute_result"
    }
   ],
   "source": [
    "lt(3,4)"
   ]
  },
  {
   "cell_type": "code",
   "execution_count": 5,
   "id": "dd6a55f7",
   "metadata": {},
   "outputs": [],
   "source": [
    "node = DecisionNode(\n",
    "    label = 'Root',\n",
    "    node_id = 101,\n",
    "    value = [500,100],    \n",
    "    impurity = 0.23,\n",
    "    parent = None,\n",
    "    children = [],\n",
    "    conditions=[Condition(\"height\", 0, Operator.LT, 2.0)]\n",
    ")        "
   ]
  },
  {
   "cell_type": "code",
   "execution_count": 6,
   "id": "fb38a8a5",
   "metadata": {
    "scrolled": true
   },
   "outputs": [
    {
     "data": {
      "text/plain": [
       "True"
      ]
     },
     "execution_count": 6,
     "metadata": {},
     "output_type": "execute_result"
    }
   ],
   "source": [
    "node.is_root()"
   ]
  },
  {
   "cell_type": "code",
   "execution_count": 7,
   "id": "5f2aceef",
   "metadata": {},
   "outputs": [],
   "source": [
    "node2 = DecisionNode(\n",
    "    label = 'Root',\n",
    "    node_id = 102,\n",
    "    value = [500,100],    \n",
    "    impurity = 0.23,\n",
    "    parent = node,\n",
    "    children = [],\n",
    "    conditions=[Condition(\"age\", 1, Operator.LT, 60)]\n",
    ")    "
   ]
  },
  {
   "cell_type": "code",
   "execution_count": 8,
   "id": "d84daf68",
   "metadata": {},
   "outputs": [],
   "source": [
    "node.children = [node2]"
   ]
  },
  {
   "cell_type": "code",
   "execution_count": 9,
   "id": "a49bb729",
   "metadata": {
    "scrolled": false
   },
   "outputs": [
    {
     "data": {
      "image/svg+xml": [
       "<?xml version=\"1.0\" encoding=\"UTF-8\" standalone=\"no\"?>\n",
       "<!DOCTYPE svg PUBLIC \"-//W3C//DTD SVG 1.1//EN\"\n",
       " \"http://www.w3.org/Graphics/SVG/1.1/DTD/svg11.dtd\">\n",
       "<!-- Generated by graphviz version 2.50.0 (0)\n",
       " -->\n",
       "<!-- Title: tree Pages: 1 -->\n",
       "<svg width=\"166pt\" height=\"294pt\"\n",
       " viewBox=\"0.00 0.00 166.39 293.76\" xmlns=\"http://www.w3.org/2000/svg\" xmlns:xlink=\"http://www.w3.org/1999/xlink\">\n",
       "<g id=\"graph0\" class=\"graph\" transform=\"scale(1 1) rotate(0) translate(4 289.76)\">\n",
       "<title>tree</title>\n",
       "<polygon fill=\"white\" stroke=\"transparent\" points=\"-4,4 -4,-289.76 162.39,-289.76 162.39,4 -4,4\"/>\n",
       "<!-- 101 -->\n",
       "<g id=\"node1\" class=\"node\">\n",
       "<title>101</title>\n",
       "<ellipse fill=\"none\" stroke=\"black\" cx=\"79.2\" cy=\"-227.07\" rx=\"79.39\" ry=\"58.88\"/>\n",
       "<text text-anchor=\"middle\" x=\"79.2\" y=\"-253.37\" font-family=\"Times,serif\" font-size=\"14.00\">Node_101</text>\n",
       "<text text-anchor=\"middle\" x=\"79.2\" y=\"-238.37\" font-family=\"Times,serif\" font-size=\"14.00\">Impurity: 0.230</text>\n",
       "<text text-anchor=\"middle\" x=\"79.2\" y=\"-223.37\" font-family=\"Times,serif\" font-size=\"14.00\">Label: Root</text>\n",
       "<text text-anchor=\"middle\" x=\"79.2\" y=\"-208.37\" font-family=\"Times,serif\" font-size=\"14.00\">Value: [500, 100]</text>\n",
       "<text text-anchor=\"middle\" x=\"79.2\" y=\"-193.37\" font-family=\"Times,serif\" font-size=\"14.00\">Samples: 600</text>\n",
       "</g>\n",
       "<!-- 102 -->\n",
       "<g id=\"node2\" class=\"node\">\n",
       "<title>102</title>\n",
       "<ellipse fill=\"none\" stroke=\"black\" cx=\"79.2\" cy=\"-58.69\" rx=\"79.39\" ry=\"58.88\"/>\n",
       "<text text-anchor=\"middle\" x=\"79.2\" y=\"-84.99\" font-family=\"Times,serif\" font-size=\"14.00\">Node_102</text>\n",
       "<text text-anchor=\"middle\" x=\"79.2\" y=\"-69.99\" font-family=\"Times,serif\" font-size=\"14.00\">Impurity: 0.230</text>\n",
       "<text text-anchor=\"middle\" x=\"79.2\" y=\"-54.99\" font-family=\"Times,serif\" font-size=\"14.00\">Label: Root</text>\n",
       "<text text-anchor=\"middle\" x=\"79.2\" y=\"-39.99\" font-family=\"Times,serif\" font-size=\"14.00\">Value: [500, 100]</text>\n",
       "<text text-anchor=\"middle\" x=\"79.2\" y=\"-24.99\" font-family=\"Times,serif\" font-size=\"14.00\">Samples: 600</text>\n",
       "</g>\n",
       "<!-- 101&#45;&gt;102 -->\n",
       "<g id=\"edge1\" class=\"edge\">\n",
       "<title>101&#45;&gt;102</title>\n",
       "<path fill=\"none\" stroke=\"black\" d=\"M79.2,-168.34C79.2,-155.26 79.2,-141.24 79.2,-127.77\"/>\n",
       "<polygon fill=\"black\" stroke=\"black\" points=\"82.7,-127.59 79.2,-117.59 75.7,-127.59 82.7,-127.59\"/>\n",
       "<text text-anchor=\"middle\" x=\"112.7\" y=\"-139.18\" font-family=\"Times,serif\" font-size=\"14.00\">height &lt; 2.0</text>\n",
       "</g>\n",
       "</g>\n",
       "</svg>\n"
      ],
      "text/plain": [
       "<graphviz.graphs.Digraph at 0x17c4f6f40>"
      ]
     },
     "execution_count": 9,
     "metadata": {},
     "output_type": "execute_result"
    }
   ],
   "source": [
    "node.plot()"
   ]
  },
  {
   "cell_type": "markdown",
   "id": "e739d2fd",
   "metadata": {},
   "source": [
    "## Utility functions"
   ]
  },
  {
   "cell_type": "code",
   "execution_count": 10,
   "id": "08bfb132",
   "metadata": {},
   "outputs": [],
   "source": [
    "def stopping_criteria(tree_depth, **kwargs):\n",
    "    max_depth = kwargs.pop('max_depth', -1)\n",
    "    if tree_depth >= max_depth:\n",
    "        return True        \n",
    "    return False    \n",
    "\n",
    "\n",
    "def gini_impurity(y):\n",
    "    counts = Counter(y)\n",
    "    total = sum(counts.values())\n",
    "    return round(1 - sum(map(lambda x: (x / total) ** 2, counts.values())), 3)\n",
    "\n",
    "\n",
    "def entropy_impurity(y):\n",
    "    counts = Counter(y)\n",
    "    total = sum(counts.values())\n",
    "    return - sum(map(lambda x: (x / total) * log2 (x / total), counts.values()))    \n",
    "    \n",
    "\n",
    "def evaluation_measure(groups: Tuple, measure):\n",
    "    N = sum(map(len,groups))    \n",
    "    return sum(map(lambda x: len(x) / N * measure(x), groups))\n",
    "    \n",
    "    \n",
    "def calculate_current_depth(current_node):\n",
    "    depth_counter = 0\n",
    "    parent_node = current_node.parent    \n",
    "    while parent_node:\n",
    "        depth_counter += 1\n",
    "        parent_node = parent_node.parent\n",
    "    return depth_counter\n",
    "\n",
    "def count_values(array, values):\n",
    "    return [np.count_nonzero(array == i) for i in sorted(values)]        \n",
    "        \n",
    "def find_best_split(X, y, **kwargs):     \n",
    "    split = Split(1,-1,(),())    \n",
    "    measure = kwargs.pop(\"measure\", gini_impurity)\n",
    "    \n",
    "    # Loop over attributes\n",
    "    for i in range(0, X.shape[1]):\n",
    "        x_s = X[:, i]\n",
    "\n",
    "        # Try each unique value (inefficient for numerical values)\n",
    "        # TODO: All split conditions are in the dataset unlike in CART       \n",
    "        for threshold in np.unique(x_s):\n",
    "            \n",
    "            # TODO: Support non binary splits\n",
    "            ids = (x_s <= threshold, x_s > threshold)\n",
    "            operations = [(Operator.LE, threshold), (Operator.GT, threshold)]\n",
    "            \n",
    "            y_values = [y[i] for i in ids]            \n",
    "            score = evaluation_measure(y_values, measure)\n",
    "\n",
    "            # Find smallest gain, use \n",
    "            if score < split.score:\n",
    "                split = Split(score, i, ids, operations)\n",
    "\n",
    "    return split"
   ]
  },
  {
   "cell_type": "markdown",
   "id": "431d375b",
   "metadata": {},
   "source": [
    "## Grow a decision tree"
   ]
  },
  {
   "cell_type": "code",
   "execution_count": 11,
   "id": "9c193e39",
   "metadata": {},
   "outputs": [],
   "source": [
    "def grow_tree(X, y, **kwargs):\n",
    "    attribute_types = list(map(str, X.dtypes))\n",
    "    column_name = X.columns\n",
    "    X = X.to_numpy()\n",
    "    node_counter = 1    \n",
    "    stack = deque()\n",
    "    \n",
    "    # Set up decision tree\n",
    "    classes = np.unique(y)\n",
    "    counts = count_values(y, classes)\n",
    "    tree = DecisionNode(max(y), node_counter, counts, gini_impurity(y))\n",
    "    stack.append((tree, X, y))\n",
    "\n",
    "    while len(stack) != 0:\n",
    "        current_node, parent_X, parent_y = stack.pop()            \n",
    "\n",
    "        # Stop once reached max depth branching\n",
    "        current_depth = calculate_current_depth(current_node)\n",
    "        if stopping_criteria(current_depth, **kwargs):\n",
    "            continue\n",
    "        \n",
    "        # Stop branching if node contains a single class\n",
    "        values = np.unique(parent_y)            \n",
    "        if len(values) < 2:\n",
    "            continue\n",
    "        \n",
    "        \n",
    "        # Determine best attribute and split\n",
    "        split = find_best_split(parent_X, parent_y, **kwargs)\n",
    "\n",
    "        # Update tree with new split\n",
    "        for cond, split_ids in zip(split.operations, split.ids):        \n",
    "            new_y = parent_y[split_ids]\n",
    "            new_X = parent_X[split_ids]            \n",
    "\n",
    "            # Ensure new node is processed later\n",
    "            counts = count_values(new_y, classes)\n",
    "            if len(counts) == 0:\n",
    "                continue \n",
    "            \n",
    "            condition = Condition(column_name[split.attribute_pos], \n",
    "                                  split.attribute_pos, \n",
    "                                  cond[0],\n",
    "                                  cond[1])\n",
    "             \n",
    "            label = classes[np.argmax(counts)]\n",
    "            node_counter += 1\n",
    "            \n",
    "            score = gini_impurity(new_y)\n",
    " \n",
    "            new_node = DecisionNode(label, node_counter, counts, score)\n",
    "            current_node.add_child(condition, new_node)\n",
    "\n",
    "            stack.append((new_node, new_X, new_y))\n",
    "            \n",
    "    return tree        \n",
    "tree = grow_tree(pd.DataFrame(X_train, columns=[\"F1\", \"F2\", \"F3\", 'F4']), y_train, max_depth=2, min_samples_split=2)\n",
    "#tree.plot()"
   ]
  },
  {
   "cell_type": "markdown",
   "id": "c5edf053",
   "metadata": {},
   "source": [
    "# Sample datasets"
   ]
  },
  {
   "cell_type": "code",
   "execution_count": 12,
   "id": "44bef406",
   "metadata": {},
   "outputs": [
    {
     "name": "stdout",
     "output_type": "stream",
     "text": [
      "Sklearn Decision Tree:0.96, Custom Tree:0.93, load_iris\n",
      "Sklearn Decision Tree:0.93, Custom Tree:0.93, load_breast_cancer\n",
      "Sklearn Decision Tree:0.31, Custom Tree:0.31, load_digits\n",
      "Sklearn Decision Tree:0.87, Custom Tree:0.88, load_wine\n"
     ]
    }
   ],
   "source": [
    "datasets = [load_iris, load_breast_cancer, load_digits, load_wine]\n",
    "\n",
    "for func_data in datasets:\n",
    "    d = func_data()\n",
    "    X = d.data\n",
    "    y = d.target\n",
    "    X_train,X_test,y_train,y_test=train_test_split(X,y,test_size=0.5)\n",
    "    \n",
    "    tree = grow_tree(pd.DataFrame(X_train), y_train, max_depth=2)            \n",
    "    y_pred_cust = [tree.predict(X_test[i]) for i in range(0, X_test.shape[0])]\n",
    "    \n",
    "    sklearn_dt = DecisionTreeClassifier(max_depth=2).fit(X_train, y_train)    \n",
    "    y_pred = sklearn_dt.predict(X_test)\n",
    "    \n",
    "    print(f\"Sklearn Decision Tree:{accuracy_score(y_test, y_pred):0.2f}, Custom Tree:{accuracy_score(y_test, y_pred_cust):0.2f}, {func_data.__name__}\")\n",
    "    "
   ]
  },
  {
   "cell_type": "markdown",
   "id": "9167293a",
   "metadata": {},
   "source": [
    "# Regrowth algorithm"
   ]
  },
  {
   "cell_type": "code",
   "execution_count": 13,
   "id": "b5fa895a",
   "metadata": {
    "scrolled": false
   },
   "outputs": [
    {
     "data": {
      "text/plain": [
       "'Train: 0.48, Validation: 0.45'"
      ]
     },
     "execution_count": 13,
     "metadata": {},
     "output_type": "execute_result"
    }
   ],
   "source": [
    "d = load_digits()\n",
    "X = d.data\n",
    "y = d.target\n",
    "X_train,X_test,y_train,y_test=train_test_split(X,y,test_size=0.5)\n",
    "\n",
    "tree = grow_tree(pd.DataFrame(X_train), y_train, max_depth=3)            \n",
    "y_pred_cust_train = [tree.predict(X_train[i]) for i in range(0, X_train.shape[0])]\n",
    "y_pred_cust = [tree.predict(X_test[i]) for i in range(0, X_test.shape[0])]\n",
    "\n",
    "f\"Train: {accuracy_score(y_train, y_pred_cust_train):0.2f}, Validation: {accuracy_score(y_test, y_pred_cust):0.2f}\" "
   ]
  },
  {
   "cell_type": "code",
   "execution_count": 14,
   "id": "e83a59cd",
   "metadata": {},
   "outputs": [
    {
     "name": "stdout",
     "output_type": "stream",
     "text": [
      "13 0.0 0 [91, 0, 0, 0, 0, 0, 0, 0, 0, 0] 0.10133630289532294\n",
      "11 0.169 0 [91, 0, 1, 0, 2, 2, 4, 0, 0, 0] 0.111358574610245\n",
      "14 0.184 9 [0, 0, 0, 1, 0, 2, 0, 0, 0, 27] 0.0334075723830735\n",
      "8 0.296 7 [0, 2, 1, 4, 1, 3, 0, 61, 1, 0] 0.08129175946547884\n",
      "15 0.34 5 [1, 0, 1, 0, 0, 8, 0, 0, 0, 0] 0.011135857461024499\n",
      "10 0.48 9 [1, 0, 1, 1, 0, 10, 0, 0, 0, 27] 0.044543429844097995\n",
      "2 0.522 0 [92, 0, 2, 1, 2, 12, 4, 0, 0, 27] 0.155902004454343\n",
      "6 0.641 6 [0, 6, 1, 2, 20, 66, 81, 0, 2, 0] 0.19821826280623608\n",
      "12 0.691 6 [0, 0, 1, 0, 2, 2, 4, 0, 0, 0] 0.01002227171492205\n",
      "7 0.773 4 [2, 33, 0, 2, 67, 4, 3, 9, 30, 46] 0.2182628062360802\n",
      "9 0.787 3 [0, 43, 89, 90, 3, 1, 11, 7, 45, 22] 0.3463251670378619\n",
      "4 0.821 3 [0, 45, 90, 94, 4, 4, 11, 68, 46, 22] 0.42761692650334077\n",
      "5 0.826 4 [2, 39, 1, 4, 87, 70, 84, 9, 32, 46] 0.41648106904231624\n",
      "3 0.888 3 [2, 84, 91, 98, 91, 74, 95, 77, 78, 68] 0.844097995545657\n",
      "1 0.899 9 [94, 84, 93, 99, 93, 86, 99, 77, 78, 95] 1.0\n"
     ]
    }
   ],
   "source": [
    "budget = 5\n",
    "base_accuracy = accuracy_score(y_train, y_pred_cust_train)\n",
    "base_tree = tree\n",
    "\n",
    "leafs = []\n",
    "tree.walk(lambda x: leafs.append(x))\n",
    "N = sum(tree.value)\n",
    "for x in sorted(leafs, key=lambda x: x.impurity, reverse=False):\n",
    "    print(x.node_id, x.impurity, x.label, x.value, sum(x.value)/N)"
   ]
  },
  {
   "cell_type": "code",
   "execution_count": 15,
   "id": "66caedcb",
   "metadata": {},
   "outputs": [
    {
     "data": {
      "image/svg+xml": [
       "<?xml version=\"1.0\" encoding=\"UTF-8\" standalone=\"no\"?>\n",
       "<!DOCTYPE svg PUBLIC \"-//W3C//DTD SVG 1.1//EN\"\n",
       " \"http://www.w3.org/Graphics/SVG/1.1/DTD/svg11.dtd\">\n",
       "<!-- Generated by graphviz version 2.50.0 (0)\n",
       " -->\n",
       "<!-- Title: tree Pages: 1 -->\n",
       "<svg width=\"2537pt\" height=\"631pt\"\n",
       " viewBox=\"0.00 0.00 2537.47 630.52\" xmlns=\"http://www.w3.org/2000/svg\" xmlns:xlink=\"http://www.w3.org/1999/xlink\">\n",
       "<g id=\"graph0\" class=\"graph\" transform=\"scale(1 1) rotate(0) translate(4 626.52)\">\n",
       "<title>tree</title>\n",
       "<polygon fill=\"white\" stroke=\"transparent\" points=\"-4,4 -4,-626.52 2533.47,-626.52 2533.47,4 -4,4\"/>\n",
       "<!-- 1 -->\n",
       "<g id=\"node1\" class=\"node\">\n",
       "<title>1</title>\n",
       "<ellipse fill=\"none\" stroke=\"black\" cx=\"1127.66\" cy=\"-563.83\" rx=\"188.18\" ry=\"58.88\"/>\n",
       "<text text-anchor=\"middle\" x=\"1127.66\" y=\"-590.13\" font-family=\"Times,serif\" font-size=\"14.00\">Node_1</text>\n",
       "<text text-anchor=\"middle\" x=\"1127.66\" y=\"-575.13\" font-family=\"Times,serif\" font-size=\"14.00\">Impurity: 0.899</text>\n",
       "<text text-anchor=\"middle\" x=\"1127.66\" y=\"-560.13\" font-family=\"Times,serif\" font-size=\"14.00\">Label: 9</text>\n",
       "<text text-anchor=\"middle\" x=\"1127.66\" y=\"-545.13\" font-family=\"Times,serif\" font-size=\"14.00\">Value: [94, 84, 93, 99, 93, 86, 99, 77, 78, 95]</text>\n",
       "<text text-anchor=\"middle\" x=\"1127.66\" y=\"-530.13\" font-family=\"Times,serif\" font-size=\"14.00\">Samples: 898</text>\n",
       "</g>\n",
       "<!-- 2 -->\n",
       "<g id=\"node2\" class=\"node\">\n",
       "<title>2</title>\n",
       "<ellipse fill=\"none\" stroke=\"black\" cx=\"828.66\" cy=\"-395.45\" rx=\"154.71\" ry=\"58.88\"/>\n",
       "<text text-anchor=\"middle\" x=\"828.66\" y=\"-421.75\" font-family=\"Times,serif\" font-size=\"14.00\">Node_2</text>\n",
       "<text text-anchor=\"middle\" x=\"828.66\" y=\"-406.75\" font-family=\"Times,serif\" font-size=\"14.00\">Impurity: 0.522</text>\n",
       "<text text-anchor=\"middle\" x=\"828.66\" y=\"-391.75\" font-family=\"Times,serif\" font-size=\"14.00\">Label: 0</text>\n",
       "<text text-anchor=\"middle\" x=\"828.66\" y=\"-376.75\" font-family=\"Times,serif\" font-size=\"14.00\">Value: [92, 0, 2, 1, 2, 12, 4, 0, 0, 27]</text>\n",
       "<text text-anchor=\"middle\" x=\"828.66\" y=\"-361.75\" font-family=\"Times,serif\" font-size=\"14.00\">Samples: 140</text>\n",
       "</g>\n",
       "<!-- 1&#45;&gt;2 -->\n",
       "<g id=\"edge1\" class=\"edge\">\n",
       "<title>1&#45;&gt;2</title>\n",
       "<path fill=\"none\" stroke=\"black\" d=\"M1036.74,-512.23C1001.02,-492.36 960.01,-469.53 923.88,-449.43\"/>\n",
       "<polygon fill=\"black\" stroke=\"black\" points=\"925.25,-446.19 914.81,-444.39 921.85,-452.31 925.25,-446.19\"/>\n",
       "<text text-anchor=\"middle\" x=\"1015.16\" y=\"-475.94\" font-family=\"Times,serif\" font-size=\"14.00\">36 &lt;= 0.0</text>\n",
       "</g>\n",
       "<!-- 3 -->\n",
       "<g id=\"node9\" class=\"node\">\n",
       "<title>3</title>\n",
       "<ellipse fill=\"none\" stroke=\"black\" cx=\"1508.66\" cy=\"-395.45\" rx=\"183.7\" ry=\"58.88\"/>\n",
       "<text text-anchor=\"middle\" x=\"1508.66\" y=\"-421.75\" font-family=\"Times,serif\" font-size=\"14.00\">Node_3</text>\n",
       "<text text-anchor=\"middle\" x=\"1508.66\" y=\"-406.75\" font-family=\"Times,serif\" font-size=\"14.00\">Impurity: 0.888</text>\n",
       "<text text-anchor=\"middle\" x=\"1508.66\" y=\"-391.75\" font-family=\"Times,serif\" font-size=\"14.00\">Label: 3</text>\n",
       "<text text-anchor=\"middle\" x=\"1508.66\" y=\"-376.75\" font-family=\"Times,serif\" font-size=\"14.00\">Value: [2, 84, 91, 98, 91, 74, 95, 77, 78, 68]</text>\n",
       "<text text-anchor=\"middle\" x=\"1508.66\" y=\"-361.75\" font-family=\"Times,serif\" font-size=\"14.00\">Samples: 758</text>\n",
       "</g>\n",
       "<!-- 1&#45;&gt;3 -->\n",
       "<g id=\"edge8\" class=\"edge\">\n",
       "<title>1&#45;&gt;3</title>\n",
       "<path fill=\"none\" stroke=\"black\" d=\"M1235.57,-515.71C1284.45,-494.36 1342.34,-469.08 1392.2,-447.31\"/>\n",
       "<polygon fill=\"black\" stroke=\"black\" points=\"1393.65,-450.49 1401.42,-443.28 1390.85,-444.08 1393.65,-450.49\"/>\n",
       "<text text-anchor=\"middle\" x=\"1353.16\" y=\"-475.94\" font-family=\"Times,serif\" font-size=\"14.00\">36 &gt; 0.0</text>\n",
       "</g>\n",
       "<!-- 10 -->\n",
       "<g id=\"node3\" class=\"node\">\n",
       "<title>10</title>\n",
       "<ellipse fill=\"none\" stroke=\"black\" cx=\"449.66\" cy=\"-227.07\" rx=\"149.81\" ry=\"58.88\"/>\n",
       "<text text-anchor=\"middle\" x=\"449.66\" y=\"-253.37\" font-family=\"Times,serif\" font-size=\"14.00\">Node_10</text>\n",
       "<text text-anchor=\"middle\" x=\"449.66\" y=\"-238.37\" font-family=\"Times,serif\" font-size=\"14.00\">Impurity: 0.480</text>\n",
       "<text text-anchor=\"middle\" x=\"449.66\" y=\"-223.37\" font-family=\"Times,serif\" font-size=\"14.00\">Label: 9</text>\n",
       "<text text-anchor=\"middle\" x=\"449.66\" y=\"-208.37\" font-family=\"Times,serif\" font-size=\"14.00\">Value: [1, 0, 1, 1, 0, 10, 0, 0, 0, 27]</text>\n",
       "<text text-anchor=\"middle\" x=\"449.66\" y=\"-193.37\" font-family=\"Times,serif\" font-size=\"14.00\">Samples: 40</text>\n",
       "</g>\n",
       "<!-- 2&#45;&gt;10 -->\n",
       "<g id=\"edge2\" class=\"edge\">\n",
       "<title>2&#45;&gt;10</title>\n",
       "<path fill=\"none\" stroke=\"black\" d=\"M728.59,-350.52C675.93,-327.4 611.32,-299.04 557.55,-275.43\"/>\n",
       "<polygon fill=\"black\" stroke=\"black\" points=\"558.89,-272.2 548.33,-271.38 556.08,-278.61 558.89,-272.2\"/>\n",
       "<text text-anchor=\"middle\" x=\"678.16\" y=\"-307.56\" font-family=\"Times,serif\" font-size=\"14.00\">42 &lt;= 7.0</text>\n",
       "</g>\n",
       "<!-- 11 -->\n",
       "<g id=\"node6\" class=\"node\">\n",
       "<title>11</title>\n",
       "<ellipse fill=\"none\" stroke=\"black\" cx=\"828.66\" cy=\"-227.07\" rx=\"145.83\" ry=\"58.88\"/>\n",
       "<text text-anchor=\"middle\" x=\"828.66\" y=\"-253.37\" font-family=\"Times,serif\" font-size=\"14.00\">Node_11</text>\n",
       "<text text-anchor=\"middle\" x=\"828.66\" y=\"-238.37\" font-family=\"Times,serif\" font-size=\"14.00\">Impurity: 0.169</text>\n",
       "<text text-anchor=\"middle\" x=\"828.66\" y=\"-223.37\" font-family=\"Times,serif\" font-size=\"14.00\">Label: 0</text>\n",
       "<text text-anchor=\"middle\" x=\"828.66\" y=\"-208.37\" font-family=\"Times,serif\" font-size=\"14.00\">Value: [91, 0, 1, 0, 2, 2, 4, 0, 0, 0]</text>\n",
       "<text text-anchor=\"middle\" x=\"828.66\" y=\"-193.37\" font-family=\"Times,serif\" font-size=\"14.00\">Samples: 100</text>\n",
       "</g>\n",
       "<!-- 2&#45;&gt;11 -->\n",
       "<g id=\"edge5\" class=\"edge\">\n",
       "<title>2&#45;&gt;11</title>\n",
       "<path fill=\"none\" stroke=\"black\" d=\"M828.66,-336.72C828.66,-323.64 828.66,-309.62 828.66,-296.14\"/>\n",
       "<polygon fill=\"black\" stroke=\"black\" points=\"832.16,-295.97 828.66,-285.97 825.16,-295.97 832.16,-295.97\"/>\n",
       "<text text-anchor=\"middle\" x=\"852.16\" y=\"-307.56\" font-family=\"Times,serif\" font-size=\"14.00\">42 &gt; 7.0</text>\n",
       "</g>\n",
       "<!-- 14 -->\n",
       "<g id=\"node4\" class=\"node\">\n",
       "<title>14</title>\n",
       "<ellipse fill=\"none\" stroke=\"black\" cx=\"145.66\" cy=\"-58.69\" rx=\"145.83\" ry=\"58.88\"/>\n",
       "<text text-anchor=\"middle\" x=\"145.66\" y=\"-84.99\" font-family=\"Times,serif\" font-size=\"14.00\">Node_14</text>\n",
       "<text text-anchor=\"middle\" x=\"145.66\" y=\"-69.99\" font-family=\"Times,serif\" font-size=\"14.00\">Impurity: 0.184</text>\n",
       "<text text-anchor=\"middle\" x=\"145.66\" y=\"-54.99\" font-family=\"Times,serif\" font-size=\"14.00\">Label: 9</text>\n",
       "<text text-anchor=\"middle\" x=\"145.66\" y=\"-39.99\" font-family=\"Times,serif\" font-size=\"14.00\">Value: [0, 0, 0, 1, 0, 2, 0, 0, 0, 27]</text>\n",
       "<text text-anchor=\"middle\" x=\"145.66\" y=\"-24.99\" font-family=\"Times,serif\" font-size=\"14.00\">Samples: 30</text>\n",
       "</g>\n",
       "<!-- 10&#45;&gt;14 -->\n",
       "<g id=\"edge3\" class=\"edge\">\n",
       "<title>10&#45;&gt;14</title>\n",
       "<path fill=\"none\" stroke=\"black\" d=\"M363.36,-178.84C324.77,-157.71 279.17,-132.76 239.71,-111.16\"/>\n",
       "<polygon fill=\"black\" stroke=\"black\" points=\"241.32,-108.05 230.87,-106.32 237.96,-114.19 241.32,-108.05\"/>\n",
       "<text text-anchor=\"middle\" x=\"335.16\" y=\"-139.18\" font-family=\"Times,serif\" font-size=\"14.00\">34 &lt;= 0.0</text>\n",
       "</g>\n",
       "<!-- 15 -->\n",
       "<g id=\"node5\" class=\"node\">\n",
       "<title>15</title>\n",
       "<ellipse fill=\"none\" stroke=\"black\" cx=\"449.66\" cy=\"-58.69\" rx=\"140.93\" ry=\"58.88\"/>\n",
       "<text text-anchor=\"middle\" x=\"449.66\" y=\"-84.99\" font-family=\"Times,serif\" font-size=\"14.00\">Node_15</text>\n",
       "<text text-anchor=\"middle\" x=\"449.66\" y=\"-69.99\" font-family=\"Times,serif\" font-size=\"14.00\">Impurity: 0.340</text>\n",
       "<text text-anchor=\"middle\" x=\"449.66\" y=\"-54.99\" font-family=\"Times,serif\" font-size=\"14.00\">Label: 5</text>\n",
       "<text text-anchor=\"middle\" x=\"449.66\" y=\"-39.99\" font-family=\"Times,serif\" font-size=\"14.00\">Value: [1, 0, 1, 0, 0, 8, 0, 0, 0, 0]</text>\n",
       "<text text-anchor=\"middle\" x=\"449.66\" y=\"-24.99\" font-family=\"Times,serif\" font-size=\"14.00\">Samples: 10</text>\n",
       "</g>\n",
       "<!-- 10&#45;&gt;15 -->\n",
       "<g id=\"edge4\" class=\"edge\">\n",
       "<title>10&#45;&gt;15</title>\n",
       "<path fill=\"none\" stroke=\"black\" d=\"M449.66,-168.34C449.66,-155.26 449.66,-141.24 449.66,-127.77\"/>\n",
       "<polygon fill=\"black\" stroke=\"black\" points=\"453.16,-127.59 449.66,-117.59 446.16,-127.59 453.16,-127.59\"/>\n",
       "<text text-anchor=\"middle\" x=\"473.16\" y=\"-139.18\" font-family=\"Times,serif\" font-size=\"14.00\">34 &gt; 0.0</text>\n",
       "</g>\n",
       "<!-- 12 -->\n",
       "<g id=\"node7\" class=\"node\">\n",
       "<title>12</title>\n",
       "<ellipse fill=\"none\" stroke=\"black\" cx=\"748.66\" cy=\"-58.69\" rx=\"140.93\" ry=\"58.88\"/>\n",
       "<text text-anchor=\"middle\" x=\"748.66\" y=\"-84.99\" font-family=\"Times,serif\" font-size=\"14.00\">Node_12</text>\n",
       "<text text-anchor=\"middle\" x=\"748.66\" y=\"-69.99\" font-family=\"Times,serif\" font-size=\"14.00\">Impurity: 0.691</text>\n",
       "<text text-anchor=\"middle\" x=\"748.66\" y=\"-54.99\" font-family=\"Times,serif\" font-size=\"14.00\">Label: 6</text>\n",
       "<text text-anchor=\"middle\" x=\"748.66\" y=\"-39.99\" font-family=\"Times,serif\" font-size=\"14.00\">Value: [0, 0, 1, 0, 2, 2, 4, 0, 0, 0]</text>\n",
       "<text text-anchor=\"middle\" x=\"748.66\" y=\"-24.99\" font-family=\"Times,serif\" font-size=\"14.00\">Samples: 9</text>\n",
       "</g>\n",
       "<!-- 11&#45;&gt;12 -->\n",
       "<g id=\"edge6\" class=\"edge\">\n",
       "<title>11&#45;&gt;12</title>\n",
       "<path fill=\"none\" stroke=\"black\" d=\"M801.36,-169.28C794.64,-155.3 787.38,-140.21 780.47,-125.84\"/>\n",
       "<polygon fill=\"black\" stroke=\"black\" points=\"783.47,-124 775.98,-116.51 777.16,-127.04 783.47,-124\"/>\n",
       "<text text-anchor=\"middle\" x=\"819.16\" y=\"-139.18\" font-family=\"Times,serif\" font-size=\"14.00\">21 &lt;= 0.0</text>\n",
       "</g>\n",
       "<!-- 13 -->\n",
       "<g id=\"node8\" class=\"node\">\n",
       "<title>13</title>\n",
       "<ellipse fill=\"none\" stroke=\"black\" cx=\"1052.66\" cy=\"-58.69\" rx=\"145.83\" ry=\"58.88\"/>\n",
       "<text text-anchor=\"middle\" x=\"1052.66\" y=\"-84.99\" font-family=\"Times,serif\" font-size=\"14.00\">Node_13</text>\n",
       "<text text-anchor=\"middle\" x=\"1052.66\" y=\"-69.99\" font-family=\"Times,serif\" font-size=\"14.00\">Impurity: 0.000</text>\n",
       "<text text-anchor=\"middle\" x=\"1052.66\" y=\"-54.99\" font-family=\"Times,serif\" font-size=\"14.00\">Label: 0</text>\n",
       "<text text-anchor=\"middle\" x=\"1052.66\" y=\"-39.99\" font-family=\"Times,serif\" font-size=\"14.00\">Value: [91, 0, 0, 0, 0, 0, 0, 0, 0, 0]</text>\n",
       "<text text-anchor=\"middle\" x=\"1052.66\" y=\"-24.99\" font-family=\"Times,serif\" font-size=\"14.00\">Samples: 91</text>\n",
       "</g>\n",
       "<!-- 11&#45;&gt;13 -->\n",
       "<g id=\"edge7\" class=\"edge\">\n",
       "<title>11&#45;&gt;13</title>\n",
       "<path fill=\"none\" stroke=\"black\" d=\"M897.09,-175.25C921.93,-156.79 950.17,-135.82 975.7,-116.86\"/>\n",
       "<polygon fill=\"black\" stroke=\"black\" points=\"977.95,-119.55 983.89,-110.78 973.77,-113.93 977.95,-119.55\"/>\n",
       "<text text-anchor=\"middle\" x=\"971.16\" y=\"-139.18\" font-family=\"Times,serif\" font-size=\"14.00\">21 &gt; 0.0</text>\n",
       "</g>\n",
       "<!-- 4 -->\n",
       "<g id=\"node10\" class=\"node\">\n",
       "<title>4</title>\n",
       "<ellipse fill=\"none\" stroke=\"black\" cx=\"1508.66\" cy=\"-227.07\" rx=\"173.9\" ry=\"58.88\"/>\n",
       "<text text-anchor=\"middle\" x=\"1508.66\" y=\"-253.37\" font-family=\"Times,serif\" font-size=\"14.00\">Node_4</text>\n",
       "<text text-anchor=\"middle\" x=\"1508.66\" y=\"-238.37\" font-family=\"Times,serif\" font-size=\"14.00\">Impurity: 0.821</text>\n",
       "<text text-anchor=\"middle\" x=\"1508.66\" y=\"-223.37\" font-family=\"Times,serif\" font-size=\"14.00\">Label: 3</text>\n",
       "<text text-anchor=\"middle\" x=\"1508.66\" y=\"-208.37\" font-family=\"Times,serif\" font-size=\"14.00\">Value: [0, 45, 90, 94, 4, 4, 11, 68, 46, 22]</text>\n",
       "<text text-anchor=\"middle\" x=\"1508.66\" y=\"-193.37\" font-family=\"Times,serif\" font-size=\"14.00\">Samples: 384</text>\n",
       "</g>\n",
       "<!-- 3&#45;&gt;4 -->\n",
       "<g id=\"edge9\" class=\"edge\">\n",
       "<title>3&#45;&gt;4</title>\n",
       "<path fill=\"none\" stroke=\"black\" d=\"M1508.66,-336.72C1508.66,-323.64 1508.66,-309.62 1508.66,-296.14\"/>\n",
       "<polygon fill=\"black\" stroke=\"black\" points=\"1512.16,-295.97 1508.66,-285.97 1505.16,-295.97 1512.16,-295.97\"/>\n",
       "<text text-anchor=\"middle\" x=\"1539.66\" y=\"-307.56\" font-family=\"Times,serif\" font-size=\"14.00\">26 &lt;= 10.0</text>\n",
       "</g>\n",
       "<!-- 5 -->\n",
       "<g id=\"node13\" class=\"node\">\n",
       "<title>5</title>\n",
       "<ellipse fill=\"none\" stroke=\"black\" cx=\"2036.66\" cy=\"-227.07\" rx=\"169\" ry=\"58.88\"/>\n",
       "<text text-anchor=\"middle\" x=\"2036.66\" y=\"-253.37\" font-family=\"Times,serif\" font-size=\"14.00\">Node_5</text>\n",
       "<text text-anchor=\"middle\" x=\"2036.66\" y=\"-238.37\" font-family=\"Times,serif\" font-size=\"14.00\">Impurity: 0.826</text>\n",
       "<text text-anchor=\"middle\" x=\"2036.66\" y=\"-223.37\" font-family=\"Times,serif\" font-size=\"14.00\">Label: 4</text>\n",
       "<text text-anchor=\"middle\" x=\"2036.66\" y=\"-208.37\" font-family=\"Times,serif\" font-size=\"14.00\">Value: [2, 39, 1, 4, 87, 70, 84, 9, 32, 46]</text>\n",
       "<text text-anchor=\"middle\" x=\"2036.66\" y=\"-193.37\" font-family=\"Times,serif\" font-size=\"14.00\">Samples: 374</text>\n",
       "</g>\n",
       "<!-- 3&#45;&gt;5 -->\n",
       "<g id=\"edge12\" class=\"edge\">\n",
       "<title>3&#45;&gt;5</title>\n",
       "<path fill=\"none\" stroke=\"black\" d=\"M1638.17,-353.64C1718.56,-328.31 1821.65,-295.82 1902.84,-270.24\"/>\n",
       "<polygon fill=\"black\" stroke=\"black\" points=\"1904.14,-273.5 1912.63,-267.16 1902.04,-266.82 1904.14,-273.5\"/>\n",
       "<text text-anchor=\"middle\" x=\"1815.66\" y=\"-307.56\" font-family=\"Times,serif\" font-size=\"14.00\">26 &gt; 10.0</text>\n",
       "</g>\n",
       "<!-- 8 -->\n",
       "<g id=\"node11\" class=\"node\">\n",
       "<title>8</title>\n",
       "<ellipse fill=\"none\" stroke=\"black\" cx=\"1361.66\" cy=\"-58.69\" rx=\"145.83\" ry=\"58.88\"/>\n",
       "<text text-anchor=\"middle\" x=\"1361.66\" y=\"-84.99\" font-family=\"Times,serif\" font-size=\"14.00\">Node_8</text>\n",
       "<text text-anchor=\"middle\" x=\"1361.66\" y=\"-69.99\" font-family=\"Times,serif\" font-size=\"14.00\">Impurity: 0.296</text>\n",
       "<text text-anchor=\"middle\" x=\"1361.66\" y=\"-54.99\" font-family=\"Times,serif\" font-size=\"14.00\">Label: 7</text>\n",
       "<text text-anchor=\"middle\" x=\"1361.66\" y=\"-39.99\" font-family=\"Times,serif\" font-size=\"14.00\">Value: [0, 2, 1, 4, 1, 3, 0, 61, 1, 0]</text>\n",
       "<text text-anchor=\"middle\" x=\"1361.66\" y=\"-24.99\" font-family=\"Times,serif\" font-size=\"14.00\">Samples: 73</text>\n",
       "</g>\n",
       "<!-- 4&#45;&gt;8 -->\n",
       "<g id=\"edge10\" class=\"edge\">\n",
       "<title>4&#45;&gt;8</title>\n",
       "<path fill=\"none\" stroke=\"black\" d=\"M1459.72,-170.67C1445.93,-155.07 1430.85,-138 1416.74,-122.03\"/>\n",
       "<polygon fill=\"black\" stroke=\"black\" points=\"1419.14,-119.46 1409.9,-114.28 1413.9,-124.1 1419.14,-119.46\"/>\n",
       "<text text-anchor=\"middle\" x=\"1467.16\" y=\"-139.18\" font-family=\"Times,serif\" font-size=\"14.00\">60 &lt;= 5.0</text>\n",
       "</g>\n",
       "<!-- 9 -->\n",
       "<g id=\"node12\" class=\"node\">\n",
       "<title>9</title>\n",
       "<ellipse fill=\"none\" stroke=\"black\" cx=\"1694.66\" cy=\"-58.69\" rx=\"169\" ry=\"58.88\"/>\n",
       "<text text-anchor=\"middle\" x=\"1694.66\" y=\"-84.99\" font-family=\"Times,serif\" font-size=\"14.00\">Node_9</text>\n",
       "<text text-anchor=\"middle\" x=\"1694.66\" y=\"-69.99\" font-family=\"Times,serif\" font-size=\"14.00\">Impurity: 0.787</text>\n",
       "<text text-anchor=\"middle\" x=\"1694.66\" y=\"-54.99\" font-family=\"Times,serif\" font-size=\"14.00\">Label: 3</text>\n",
       "<text text-anchor=\"middle\" x=\"1694.66\" y=\"-39.99\" font-family=\"Times,serif\" font-size=\"14.00\">Value: [0, 43, 89, 90, 3, 1, 11, 7, 45, 22]</text>\n",
       "<text text-anchor=\"middle\" x=\"1694.66\" y=\"-24.99\" font-family=\"Times,serif\" font-size=\"14.00\">Samples: 311</text>\n",
       "</g>\n",
       "<!-- 4&#45;&gt;9 -->\n",
       "<g id=\"edge11\" class=\"edge\">\n",
       "<title>4&#45;&gt;9</title>\n",
       "<path fill=\"none\" stroke=\"black\" d=\"M1569.31,-171.82C1587.67,-155.4 1607.94,-137.26 1626.74,-120.45\"/>\n",
       "<polygon fill=\"black\" stroke=\"black\" points=\"1629.3,-122.86 1634.42,-113.58 1624.63,-117.64 1629.3,-122.86\"/>\n",
       "<text text-anchor=\"middle\" x=\"1631.16\" y=\"-139.18\" font-family=\"Times,serif\" font-size=\"14.00\">60 &gt; 5.0</text>\n",
       "</g>\n",
       "<!-- 6 -->\n",
       "<g id=\"node14\" class=\"node\">\n",
       "<title>6</title>\n",
       "<ellipse fill=\"none\" stroke=\"black\" cx=\"2036.66\" cy=\"-58.69\" rx=\"154.71\" ry=\"58.88\"/>\n",
       "<text text-anchor=\"middle\" x=\"2036.66\" y=\"-84.99\" font-family=\"Times,serif\" font-size=\"14.00\">Node_6</text>\n",
       "<text text-anchor=\"middle\" x=\"2036.66\" y=\"-69.99\" font-family=\"Times,serif\" font-size=\"14.00\">Impurity: 0.641</text>\n",
       "<text text-anchor=\"middle\" x=\"2036.66\" y=\"-54.99\" font-family=\"Times,serif\" font-size=\"14.00\">Label: 6</text>\n",
       "<text text-anchor=\"middle\" x=\"2036.66\" y=\"-39.99\" font-family=\"Times,serif\" font-size=\"14.00\">Value: [0, 6, 1, 2, 20, 66, 81, 0, 2, 0]</text>\n",
       "<text text-anchor=\"middle\" x=\"2036.66\" y=\"-24.99\" font-family=\"Times,serif\" font-size=\"14.00\">Samples: 178</text>\n",
       "</g>\n",
       "<!-- 5&#45;&gt;6 -->\n",
       "<g id=\"edge13\" class=\"edge\">\n",
       "<title>5&#45;&gt;6</title>\n",
       "<path fill=\"none\" stroke=\"black\" d=\"M2036.66,-168.34C2036.66,-155.26 2036.66,-141.24 2036.66,-127.77\"/>\n",
       "<polygon fill=\"black\" stroke=\"black\" points=\"2040.16,-127.59 2036.66,-117.59 2033.16,-127.59 2040.16,-127.59\"/>\n",
       "<text text-anchor=\"middle\" x=\"2064.16\" y=\"-139.18\" font-family=\"Times,serif\" font-size=\"14.00\">21 &lt;= 0.0</text>\n",
       "</g>\n",
       "<!-- 7 -->\n",
       "<g id=\"node15\" class=\"node\">\n",
       "<title>7</title>\n",
       "<ellipse fill=\"none\" stroke=\"black\" cx=\"2369.66\" cy=\"-58.69\" rx=\"159.61\" ry=\"58.88\"/>\n",
       "<text text-anchor=\"middle\" x=\"2369.66\" y=\"-84.99\" font-family=\"Times,serif\" font-size=\"14.00\">Node_7</text>\n",
       "<text text-anchor=\"middle\" x=\"2369.66\" y=\"-69.99\" font-family=\"Times,serif\" font-size=\"14.00\">Impurity: 0.773</text>\n",
       "<text text-anchor=\"middle\" x=\"2369.66\" y=\"-54.99\" font-family=\"Times,serif\" font-size=\"14.00\">Label: 4</text>\n",
       "<text text-anchor=\"middle\" x=\"2369.66\" y=\"-39.99\" font-family=\"Times,serif\" font-size=\"14.00\">Value: [2, 33, 0, 2, 67, 4, 3, 9, 30, 46]</text>\n",
       "<text text-anchor=\"middle\" x=\"2369.66\" y=\"-24.99\" font-family=\"Times,serif\" font-size=\"14.00\">Samples: 196</text>\n",
       "</g>\n",
       "<!-- 5&#45;&gt;7 -->\n",
       "<g id=\"edge14\" class=\"edge\">\n",
       "<title>5&#45;&gt;7</title>\n",
       "<path fill=\"none\" stroke=\"black\" d=\"M2132.09,-178.39C2174.34,-157.28 2224.12,-132.41 2267.16,-110.9\"/>\n",
       "<polygon fill=\"black\" stroke=\"black\" points=\"2268.86,-113.97 2276.24,-106.37 2265.73,-107.71 2268.86,-113.97\"/>\n",
       "<text text-anchor=\"middle\" x=\"2237.16\" y=\"-139.18\" font-family=\"Times,serif\" font-size=\"14.00\">21 &gt; 0.0</text>\n",
       "</g>\n",
       "</g>\n",
       "</svg>\n"
      ],
      "text/plain": [
       "<graphviz.graphs.Digraph at 0x17c7159d0>"
      ]
     },
     "execution_count": 15,
     "metadata": {},
     "output_type": "execute_result"
    }
   ],
   "source": [
    "tree.plot()"
   ]
  },
  {
   "cell_type": "code",
   "execution_count": 16,
   "id": "828b237a",
   "metadata": {},
   "outputs": [
    {
     "data": {
      "text/plain": [
       "8"
      ]
     },
     "execution_count": 16,
     "metadata": {},
     "output_type": "execute_result"
    }
   ],
   "source": [
    "len(tree.get_leaves())"
   ]
  },
  {
   "cell_type": "code",
   "execution_count": 17,
   "id": "a5de140d",
   "metadata": {},
   "outputs": [
    {
     "data": {
      "text/plain": [
       "[(36, 36), (26, 26), (21, 21), (34, 34), (60, 60), (42, 42)]"
      ]
     },
     "execution_count": 17,
     "metadata": {},
     "output_type": "execute_result"
    }
   ],
   "source": [
    "tree.get_features()"
   ]
  },
  {
   "cell_type": "code",
   "execution_count": 18,
   "id": "0f12cf60",
   "metadata": {},
   "outputs": [
    {
     "data": {
      "text/plain": [
       "36"
      ]
     },
     "execution_count": 18,
     "metadata": {},
     "output_type": "execute_result"
    }
   ],
   "source": [
    "tree.conditions[0].attribute"
   ]
  },
  {
   "cell_type": "code",
   "execution_count": 19,
   "id": "0d393452",
   "metadata": {},
   "outputs": [],
   "source": [
    "def get_rules(tree, feature_names, class_names):\n",
    "    tree_ = tree\n",
    "    feature_name = [\n",
    "        feature_names[i] if i != _tree.TREE_UNDEFINED else \"undefined!\"\n",
    "        for i in tree_.feature\n",
    "    ]\n",
    "\n",
    "    paths = []\n",
    "    path = []\n",
    "    \n",
    "    def recurse(node, path, paths):\n",
    "        \n",
    "        if tree_.feature[node] != _tree.TREE_UNDEFINED:\n",
    "            name = feature_name[node]\n",
    "            threshold = tree_.threshold[node]\n",
    "            p1, p2 = list(path), list(path)\n",
    "            p1 += [f\"({name} <= {np.round(threshold, 3)})\"]\n",
    "            recurse(tree_.children_left[node], p1, paths)\n",
    "            p2 += [f\"({name} > {np.round(threshold, 3)})\"]\n",
    "            recurse(tree_.children_right[node], p2, paths)\n",
    "        else:\n",
    "            path += [(tree_.value[node], tree_.n_node_samples[node])]\n",
    "            paths += [path]\n",
    "            \n",
    "    recurse(0, path, paths)\n",
    "\n",
    "    # sort by samples count\n",
    "    samples_count = [p[-1][1] for p in paths]\n",
    "    ii = list(np.argsort(samples_count))\n",
    "    paths = [paths[i] for i in reversed(ii)]\n",
    "    \n",
    "    rules = []\n",
    "    for path in paths:\n",
    "        rule = \"if \"\n",
    "        \n",
    "        for p in path[:-1]:\n",
    "            if rule != \"if \":\n",
    "                rule += \" and \"\n",
    "            rule += str(p)\n",
    "        rule += \" then \"\n",
    "        if class_names is None:\n",
    "            rule += \"response: \"+str(np.round(path[-1][0][0][0],3))\n",
    "        else:\n",
    "            classes = path[-1][0][0]\n",
    "            l = np.argmax(classes)\n",
    "            rule += f\"class: {class_names[l]} (proba: {np.round(100.0*classes[l]/np.sum(classes),2)}%)\"\n",
    "        rule += f\" | based on {path[-1][1]:,} samples\"\n",
    "        rules += [rule]\n",
    "        \n",
    "    return rules"
   ]
  },
  {
   "cell_type": "code",
   "execution_count": null,
   "id": "d953420c",
   "metadata": {},
   "outputs": [],
   "source": []
  },
  {
   "cell_type": "code",
   "execution_count": 20,
   "id": "a788a849",
   "metadata": {},
   "outputs": [
    {
     "data": {
      "text/plain": [
       "array([[ 0.,  0.,  5., ...,  0.,  0.,  0.],\n",
       "       [ 0.,  0.,  0., ..., 10.,  0.,  0.],\n",
       "       [ 0.,  0.,  0., ..., 16.,  9.,  0.],\n",
       "       ...,\n",
       "       [ 0.,  0.,  1., ...,  6.,  0.,  0.],\n",
       "       [ 0.,  0.,  2., ..., 12.,  0.,  0.],\n",
       "       [ 0.,  0., 10., ..., 12.,  1.,  0.]])"
      ]
     },
     "execution_count": 20,
     "metadata": {},
     "output_type": "execute_result"
    }
   ],
   "source": [
    "X"
   ]
  },
  {
   "cell_type": "code",
   "execution_count": null,
   "id": "2bd23b66",
   "metadata": {},
   "outputs": [],
   "source": []
  },
  {
   "cell_type": "code",
   "execution_count": 21,
   "id": "e1f6e380",
   "metadata": {},
   "outputs": [],
   "source": [
    "from sklearn import datasets\n"
   ]
  },
  {
   "cell_type": "code",
   "execution_count": 22,
   "id": "2f62eca2",
   "metadata": {},
   "outputs": [],
   "source": [
    "iris = datasets.load_iris()\n",
    "X = iris.data\n",
    "y = iris.target"
   ]
  },
  {
   "cell_type": "code",
   "execution_count": 23,
   "id": "6f236f48",
   "metadata": {},
   "outputs": [
    {
     "data": {
      "text/plain": [
       "['sepal length (cm)',\n",
       " 'sepal width (cm)',\n",
       " 'petal length (cm)',\n",
       " 'petal width (cm)']"
      ]
     },
     "execution_count": 23,
     "metadata": {},
     "output_type": "execute_result"
    }
   ],
   "source": [
    "iris.feature_names"
   ]
  },
  {
   "cell_type": "code",
   "execution_count": 24,
   "id": "a58e8bbc",
   "metadata": {},
   "outputs": [
    {
     "data": {
      "text/plain": [
       "array(['setosa', 'versicolor', 'virginica'], dtype='<U10')"
      ]
     },
     "execution_count": 24,
     "metadata": {},
     "output_type": "execute_result"
    }
   ],
   "source": [
    "iris.target_names"
   ]
  },
  {
   "cell_type": "code",
   "execution_count": 25,
   "id": "87ff4653",
   "metadata": {},
   "outputs": [],
   "source": [
    "\n",
    "@dataclass\n",
    "class BCondition:\n",
    "    attribute: str\n",
    "    attribute_pos: int\n",
    "    #operator: Operator\n",
    "    lowerbracket_open: bool\n",
    "    lowerthreshold: float\n",
    "    upperthreshold: float    \n",
    "    upperbracket_open: bool    \n",
    "        \n",
    "    \n",
    "    #threshold: float\n",
    "\n",
    "    def __repr__(self):\n",
    "        return str(self)\n",
    "\n",
    "    def __str__(self):\n",
    "        if self.lowerbracket_open:\n",
    "            lowerbracket = \"(\"\n",
    "        else:\n",
    "            lowerbracket = \"[\"\n",
    "        if self.upperbracket_open:\n",
    "            upperbracket = \")\"\n",
    "        else:\n",
    "            upperbracket = \"]\"\n",
    "        \n",
    "        return f\"{self.attribute} ∈ {lowerbracket}{self.lowerthreshold}, {self.upperthreshold}{upperbracket}\"\n",
    "            \n",
    "    def fire(self, x):        \n",
    "        attribute_val = x[self.attribute_pos]\n",
    "        # return true if attribute_val between lower and upper bound\n",
    "    \n",
    "\n",
    "@dataclass\n",
    "class DecisionBoundary:\n",
    "    label: str\n",
    "    value: List[int]  \n",
    "    conditions: List[BCondition]     \n",
    "        \n",
    "        \n",
    "        \n",
    "@dataclass\n",
    "class DecisionSpace:\n",
    "    boundaries: List[DecisionBoundary]"
   ]
  },
  {
   "cell_type": "code",
   "execution_count": 26,
   "id": "7541dada",
   "metadata": {},
   "outputs": [],
   "source": [
    "boundary1 = DecisionBoundary(label = 'A', \n",
    "                            value = [80,20],\n",
    "                            conditions = [BCondition(\"Age\",1, False,1,3,False ),BCondition(\"Height\",2,True,160,178,False)]\n",
    "                            )\n",
    "\n",
    "boundary2 = DecisionBoundary(label = 'B', \n",
    "                            value = [80,20],\n",
    "                            conditions = [BCondition(\"Age\",1, False,1,3,False ),BCondition(\"Height\",2,True,160,178,False)]\n",
    "                            )"
   ]
  },
  {
   "cell_type": "code",
   "execution_count": null,
   "id": "2618f52c",
   "metadata": {},
   "outputs": [],
   "source": []
  },
  {
   "cell_type": "code",
   "execution_count": 27,
   "id": "a7c8783c",
   "metadata": {},
   "outputs": [],
   "source": [
    "space = DecisionSpace([boundary1,boundary2])"
   ]
  },
  {
   "cell_type": "code",
   "execution_count": 28,
   "id": "8f715497",
   "metadata": {},
   "outputs": [
    {
     "name": "stdout",
     "output_type": "stream",
     "text": [
      "DecisionSpace(boundaries=[DecisionBoundary(label='A', value=[80, 20], conditions=[Age ∈ [1, 3], Height ∈ (160, 178]]), DecisionBoundary(label='B', value=[80, 20], conditions=[Age ∈ [1, 3], Height ∈ (160, 178]])])\n"
     ]
    }
   ],
   "source": [
    "print(space)"
   ]
  },
  {
   "cell_type": "code",
   "execution_count": 29,
   "id": "bdf41582",
   "metadata": {},
   "outputs": [],
   "source": [
    "def get_decisionspace(tree, boundary_conditions = []):\n",
    "    leaves = tree.get_leaves()\n",
    "    boundaries = []\n",
    "        \n",
    "    for l in leaves:\n",
    "        boundaries.append(get_decisionboundary(l, boundary_conditions))\n",
    "    return DecisionSpace(boundaries )      \n",
    "            \n",
    "def get_leaf_condition(leaf):\n",
    "    condi = []\n",
    "    p = leaf\n",
    "    while p is not None:\n",
    "        p_cond = p.find_to_condition()\n",
    "        if p_cond is not None:\n",
    "            condi.append(p_cond)\n",
    "        p = p.parent \n",
    "    return condi\n",
    "\n",
    "\n",
    "def get_decisionboundary(leaf, boundary_conditions):\n",
    "    bound_condi = []\n",
    "    for f, f_pos in leaf.get_root_node().get_features():\n",
    "        feature_min_upper_bound = float('inf')\n",
    "        feature_max_lower_bound = float('-inf')\n",
    "        for c in get_leaf_condition(leaf) + boundary_conditions:\n",
    "            if c.attribute == f:\n",
    "                if c.operator == Operator.LE:\n",
    "                    if feature_min_upper_bound > c.threshold:\n",
    "                        feature_min_upper_bound = c.threshold\n",
    "                if c.operator == Operator.GT:\n",
    "                    if feature_max_lower_bound < c.threshold:\n",
    "                        feature_max_lower_bound = c.threshold\n",
    "                    \n",
    "        #BCondition(f,f_pos,True,feature_max_lower_bound,feature_min_upper_bound,False)\n",
    "        bound_condi.append(BCondition(f,f_pos,True,feature_max_lower_bound,feature_min_upper_bound,False))   \n",
    "    # TODO: get list of rules for leaf and convert to a decision boundary\n",
    "    decision_boundary = DecisionBoundary(label = leaf.label, value = leaf.value, conditions = bound_condi )\n",
    "    return decision_boundary\n",
    "\n",
    "def specialization(boundary: DecisionBoundary  ):\n",
    "    a = 0\n",
    "    for condition in boundary.conditions:\n",
    "        a +=  (condition.upperthreshold -  condition.lowerthreshold)\n",
    "    return a/len(boundary.conditions)    \n",
    "\n",
    "def merge_value(boundary_x: DecisionBoundary, boundary_y: DecisionBoundary):\n",
    "    weight_x = specialization(boundary_x)/(specialization(boundary_x)+specialization(boundary_y))\n",
    "    weight_y = specialization(boundary_y)/(specialization(boundary_x)+specialization(boundary_y))\n",
    "    value_x = np.array(boundary_x.value)\n",
    "    value_y = np.array(boundary_y.value)\n",
    "    value_z = value_x * weight_x + value_y * weight_y\n",
    "    \n",
    "    return value_z\n",
    "\n",
    "def check_intersect(b1: BCondition, b2: BCondition):\n",
    "    assert b1.attribute == b2.attribute\n",
    "\n",
    "    return (\n",
    "        (b1.lowerthreshold <= b2.lowerthreshold and b2.lowerthreshold <= b1.upperthreshold) or \n",
    "        (b1.lowerthreshold <= b2.upperthreshold and b2.upperthreshold <= b1.upperthreshold) or \n",
    "        (b2.lowerthreshold <= b1.lowerthreshold and b1.lowerthreshold <= b2.upperthreshold) or\n",
    "        (b2.lowerthreshold <= b1.upperthreshold and b1.upperthreshold <= b2.upperthreshold)\n",
    "    ) \n",
    "        \n",
    "\n",
    "        \n",
    "def check_intersect_boundary(boundary_x: DecisionBoundary, boundary_y: DecisionBoundary):\n",
    "    for b_x in boundary_x.conditions:\n",
    "        for b_y in boundary_y.conditions:\n",
    "            if b_x.attribute == b_y.attribute:\n",
    "                if not check_intersect(b_x , b_y):\n",
    "                    return False\n",
    "    return True\n",
    "        \n",
    "\n",
    "\n",
    "def intersect_thres(b1: BCondition, b2:BCondition):\n",
    "    assert b1.attribute == b2.attribute\n",
    "    \n",
    "    maxlowerbound = max(b1.lowerthreshold, b2.lowerthreshold)\n",
    "    minupperbound = min(b1.upperthreshold, b2.upperthreshold)\n",
    "    assert maxlowerbound <= minupperbound\n",
    "    \n",
    "    return BCondition(b1.attribute,b1.attribute_pos, True, maxlowerbound, minupperbound, False)\n",
    "        \n",
    "        \n",
    "def boundary_intersection(boundary_x: DecisionBoundary, boundary_y: DecisionBoundary):\n",
    "    if not check_intersect_boundary(boundary_x, boundary_y):\n",
    "        return None\n",
    "    \n",
    "    conditions = []\n",
    "    for b_x in boundary_x.conditions:\n",
    "        for b_y in boundary_y.conditions: \n",
    "            if b_x.attribute == b_y.attribute:\n",
    "                condition = intersect_thres(b_x , b_y)\n",
    "                conditions.append(condition)\n",
    "    return DecisionBoundary(boundary_x.label+ boundary_y.label, merge_value(boundary_x, boundary_y), conditions)\n",
    "    \n",
    "\n",
    "def merge_decision_space(X, Y):\n",
    "    Z = []\n",
    "    for boundary_x in X.boundaries:\n",
    "        for boundary_y in Y.boundaries:\n",
    "            intersection = boundary_intersection(boundary_x, boundary_y)\n",
    "            if intersection is not None:\n",
    "                Z.append(intersection)\n",
    "    return DecisionSpace(Z)\n"
   ]
  },
  {
   "cell_type": "code",
   "execution_count": 30,
   "id": "3938cc6f",
   "metadata": {},
   "outputs": [],
   "source": [
    "example_leaf = tree.get_leaves()[0]"
   ]
  },
  {
   "cell_type": "code",
   "execution_count": 31,
   "id": "ada2c3c6",
   "metadata": {},
   "outputs": [
    {
     "data": {
      "text/plain": [
       "[34 <= 0.0, 42 <= 7.0, 36 <= 0.0]"
      ]
     },
     "execution_count": 31,
     "metadata": {},
     "output_type": "execute_result"
    }
   ],
   "source": [
    "get_leaf_condition(example_leaf)"
   ]
  },
  {
   "cell_type": "code",
   "execution_count": 32,
   "id": "1da6b25d",
   "metadata": {},
   "outputs": [
    {
     "data": {
      "text/plain": [
       "[(36, 36), (26, 26), (21, 21), (34, 34), (60, 60), (42, 42)]"
      ]
     },
     "execution_count": 32,
     "metadata": {},
     "output_type": "execute_result"
    }
   ],
   "source": [
    "example_leaf.get_root_node().get_features()"
   ]
  },
  {
   "cell_type": "code",
   "execution_count": 33,
   "id": "0085872d",
   "metadata": {},
   "outputs": [
    {
     "data": {
      "text/plain": [
       "[]"
      ]
     },
     "execution_count": 33,
     "metadata": {},
     "output_type": "execute_result"
    }
   ],
   "source": [
    "example_leaf.get_features()"
   ]
  },
  {
   "cell_type": "code",
   "execution_count": 34,
   "id": "154b6924",
   "metadata": {},
   "outputs": [],
   "source": [
    "#get_decisionboundary(example_leaf)"
   ]
  },
  {
   "cell_type": "code",
   "execution_count": 35,
   "id": "511d8cd6",
   "metadata": {},
   "outputs": [
    {
     "data": {
      "text/plain": [
       "[DecisionBoundary(label=9, value=[0, 0, 0, 1, 0, 2, 0, 0, 0, 27], conditions=[36 ∈ (-inf, 0.0], 26 ∈ (-inf, inf], 21 ∈ (-inf, inf], 34 ∈ (-inf, 0.0], 60 ∈ (-inf, inf], 42 ∈ (-inf, 7.0]]),\n",
       " DecisionBoundary(label=5, value=[1, 0, 1, 0, 0, 8, 0, 0, 0, 0], conditions=[36 ∈ (-inf, 0.0], 26 ∈ (-inf, inf], 21 ∈ (-inf, inf], 34 ∈ (0.0, inf], 60 ∈ (-inf, inf], 42 ∈ (-inf, 7.0]]),\n",
       " DecisionBoundary(label=6, value=[0, 0, 1, 0, 2, 2, 4, 0, 0, 0], conditions=[36 ∈ (-inf, 0.0], 26 ∈ (-inf, inf], 21 ∈ (-inf, 0.0], 34 ∈ (-inf, inf], 60 ∈ (-inf, inf], 42 ∈ (7.0, inf]]),\n",
       " DecisionBoundary(label=0, value=[91, 0, 0, 0, 0, 0, 0, 0, 0, 0], conditions=[36 ∈ (-inf, 0.0], 26 ∈ (-inf, inf], 21 ∈ (0.0, inf], 34 ∈ (-inf, inf], 60 ∈ (-inf, inf], 42 ∈ (7.0, inf]]),\n",
       " DecisionBoundary(label=7, value=[0, 2, 1, 4, 1, 3, 0, 61, 1, 0], conditions=[36 ∈ (0.0, inf], 26 ∈ (-inf, 10.0], 21 ∈ (-inf, inf], 34 ∈ (-inf, inf], 60 ∈ (-inf, 5.0], 42 ∈ (-inf, inf]]),\n",
       " DecisionBoundary(label=3, value=[0, 43, 89, 90, 3, 1, 11, 7, 45, 22], conditions=[36 ∈ (0.0, inf], 26 ∈ (-inf, 10.0], 21 ∈ (-inf, inf], 34 ∈ (-inf, inf], 60 ∈ (5.0, inf], 42 ∈ (-inf, inf]]),\n",
       " DecisionBoundary(label=6, value=[0, 6, 1, 2, 20, 66, 81, 0, 2, 0], conditions=[36 ∈ (0.0, inf], 26 ∈ (10.0, inf], 21 ∈ (-inf, 0.0], 34 ∈ (-inf, inf], 60 ∈ (-inf, inf], 42 ∈ (-inf, inf]]),\n",
       " DecisionBoundary(label=4, value=[2, 33, 0, 2, 67, 4, 3, 9, 30, 46], conditions=[36 ∈ (0.0, inf], 26 ∈ (10.0, inf], 21 ∈ (0.0, inf], 34 ∈ (-inf, inf], 60 ∈ (-inf, inf], 42 ∈ (-inf, inf]])]"
      ]
     },
     "execution_count": 35,
     "metadata": {},
     "output_type": "execute_result"
    }
   ],
   "source": [
    "get_decisionspace(tree).boundaries"
   ]
  },
  {
   "cell_type": "code",
   "execution_count": 36,
   "id": "9fcb30a8",
   "metadata": {},
   "outputs": [],
   "source": [
    "def data_to_decisionspace(X, y):\n",
    "    tree = grow_tree(X,y,max_depth = 2, min_samples_split = 2)\n",
    "    space = get_decisionspace(tree)\n",
    "    return space \n",
    "    "
   ]
  },
  {
   "cell_type": "code",
   "execution_count": 37,
   "id": "6071656c",
   "metadata": {},
   "outputs": [
    {
     "data": {
      "text/plain": [
       "DecisionSpace(boundaries=[DecisionBoundary(label=0, value=[50, 0, 0], conditions=[petal length (cm) ∈ (-inf, 1.9], petal width (cm) ∈ (-inf, inf]]), DecisionBoundary(label=1, value=[0, 49, 5], conditions=[petal length (cm) ∈ (1.9, inf], petal width (cm) ∈ (-inf, 1.7]]), DecisionBoundary(label=2, value=[0, 1, 45], conditions=[petal length (cm) ∈ (1.9, inf], petal width (cm) ∈ (1.7, inf]])])"
      ]
     },
     "execution_count": 37,
     "metadata": {},
     "output_type": "execute_result"
    }
   ],
   "source": [
    "d = load_iris()\n",
    "data_to_decisionspace(pd.DataFrame(d.data, columns=d.feature_names), d.target)"
   ]
  },
  {
   "cell_type": "code",
   "execution_count": 38,
   "id": "0b54cd08",
   "metadata": {},
   "outputs": [
    {
     "data": {
      "text/plain": [
       "['sepal length (cm)',\n",
       " 'sepal width (cm)',\n",
       " 'petal length (cm)',\n",
       " 'petal width (cm)']"
      ]
     },
     "execution_count": 38,
     "metadata": {},
     "output_type": "execute_result"
    }
   ],
   "source": [
    "d.feature_names"
   ]
  },
  {
   "cell_type": "code",
   "execution_count": 39,
   "id": "fff4b073",
   "metadata": {},
   "outputs": [
    {
     "data": {
      "text/plain": [
       "array(['setosa', 'versicolor', 'virginica'], dtype='<U10')"
      ]
     },
     "execution_count": 39,
     "metadata": {},
     "output_type": "execute_result"
    }
   ],
   "source": [
    "d.target_names"
   ]
  },
  {
   "cell_type": "code",
   "execution_count": null,
   "id": "ab0077a9",
   "metadata": {},
   "outputs": [],
   "source": []
  },
  {
   "cell_type": "code",
   "execution_count": 40,
   "id": "2591065e",
   "metadata": {},
   "outputs": [],
   "source": [
    "boundary3 = DecisionBoundary(label = 'A', \n",
    "                            value = [75,25],\n",
    "                            conditions = [BCondition(\"Age\",0, False,0,5,True ),BCondition(\"Degree\",1,False,0,3,True)]\n",
    "                            )\n",
    "\n",
    "boundary4 = DecisionBoundary(label = 'B', \n",
    "                            value = [100,0],\n",
    "                            conditions = [BCondition(\"Age\",1, False,0,7,True ),BCondition(\"Degree\",2,False,0,5,True)]\n",
    "                            )"
   ]
  },
  {
   "cell_type": "code",
   "execution_count": 41,
   "id": "cd0c312c",
   "metadata": {},
   "outputs": [
    {
     "data": {
      "text/plain": [
       "array([90., 10.])"
      ]
     },
     "execution_count": 41,
     "metadata": {},
     "output_type": "execute_result"
    }
   ],
   "source": [
    "merge_value(boundary3, boundary4)"
   ]
  },
  {
   "cell_type": "code",
   "execution_count": 42,
   "id": "98134212",
   "metadata": {},
   "outputs": [],
   "source": [
    "boundaryA11 = DecisionBoundary(label = 'A11', \n",
    "                            value = [75,25],\n",
    "                            conditions = [BCondition(\"Age\",0, False,0,5,True ),BCondition(\"Degree\",1,False,0,3,True)]\n",
    "                            )\n",
    "\n",
    "boundaryA12 = DecisionBoundary(label = 'A12', \n",
    "                            value = [20,80],\n",
    "                            conditions = [BCondition(\"Age\",0, False,5,8,False ),BCondition(\"Degree\",1,False,0,3,True)]\n",
    "                            )\n",
    "\n",
    "boundaryA22 = DecisionBoundary(label = 'A22', \n",
    "                            value = [40,60],\n",
    "                            conditions = [BCondition(\"Age\",0, False,0,8,False ),BCondition(\"Degree\",1,False,3,10,True)]\n",
    "                            )\n",
    "\n",
    "boundaryA23 = DecisionBoundary(label = 'A23', \n",
    "                            value = [100,0],\n",
    "                            conditions = [BCondition(\"Age\",0, False,0,8,False ),BCondition(\"Degree\",1,False,10,15,False)]\n",
    "                            )\n",
    "\n",
    "DSA = DecisionSpace([boundaryA11, boundaryA12, boundaryA22, boundaryA23])\n"
   ]
  },
  {
   "cell_type": "code",
   "execution_count": 43,
   "id": "28c7c9a0",
   "metadata": {},
   "outputs": [],
   "source": [
    "boundaryB11 = DecisionBoundary(label = 'B11', \n",
    "                            value = [100,0],\n",
    "                            conditions = [BCondition(\"Age\",0, False,0,7,True ),BCondition(\"Degree\",1,False,0,5,True)]\n",
    "                            )\n",
    "\n",
    "boundaryB12 = DecisionBoundary(label = 'B12', \n",
    "                            value = [0,100],\n",
    "                            conditions = [BCondition(\"Age\",0, False,7,9,False ),BCondition(\"Degree\",1,False,0,11,False)]\n",
    "                            )\n",
    "\n",
    "boundaryB22 = DecisionBoundary(label = 'B22', \n",
    "                            value = [25,75],\n",
    "                            conditions = [BCondition(\"Age\",0, False,0,7,True ),BCondition(\"Degree\",1,False,5,11,False)]\n",
    "                            )\n",
    "\n",
    "\n",
    "\n",
    "DSB = DecisionSpace([boundaryB11, boundaryB12, boundaryB22])\n"
   ]
  },
  {
   "cell_type": "code",
   "execution_count": 44,
   "id": "1e70d9ef",
   "metadata": {},
   "outputs": [],
   "source": [
    "DSC = merge_decision_space(DSA, DSB)"
   ]
  },
  {
   "cell_type": "code",
   "execution_count": 45,
   "id": "e7e73c65",
   "metadata": {},
   "outputs": [],
   "source": [
    "def pretty_print(decision_space):\n",
    "    for boundary in decision_space.boundaries:\n",
    "        print(boundary.label, boundary.value, boundary.conditions)"
   ]
  },
  {
   "cell_type": "code",
   "execution_count": 46,
   "id": "9804f169",
   "metadata": {},
   "outputs": [
    {
     "name": "stdout",
     "output_type": "stream",
     "text": [
      "A11B11 [90. 10.] [Age ∈ (0, 5], Degree ∈ (0, 3]]\n",
      "A12B11 [73.33333333 26.66666667] [Age ∈ (5, 7], Degree ∈ (0, 3]]\n",
      "A12B12 [ 6.31578947 93.68421053] [Age ∈ (7, 8], Degree ∈ (0, 3]]\n",
      "A22B11 [66.66666667 33.33333333] [Age ∈ (0, 7], Degree ∈ (3, 5]]\n",
      "A22B12 [21.42857143 78.57142857] [Age ∈ (7, 8], Degree ∈ (3, 10]]\n",
      "A22B22 [33.03571429 66.96428571] [Age ∈ (0, 7], Degree ∈ (5, 10]]\n",
      "A23B12 [50. 50.] [Age ∈ (7, 8], Degree ∈ (10, 11]]\n",
      "A23B22 [62.5 37.5] [Age ∈ (0, 7], Degree ∈ (10, 11]]\n"
     ]
    }
   ],
   "source": [
    "pretty_print(DSC)"
   ]
  },
  {
   "cell_type": "code",
   "execution_count": 47,
   "id": "88f942b7",
   "metadata": {},
   "outputs": [
    {
     "name": "stdout",
     "output_type": "stream",
     "text": [
      "A11 [75, 25] [Age ∈ [0, 5), Degree ∈ [0, 3)]\n",
      "A12 [20, 80] [Age ∈ [5, 8], Degree ∈ [0, 3)]\n",
      "A22 [40, 60] [Age ∈ [0, 8], Degree ∈ [3, 10)]\n",
      "A23 [100, 0] [Age ∈ [0, 8], Degree ∈ [10, 15]]\n"
     ]
    }
   ],
   "source": [
    "pretty_print(DSA)"
   ]
  },
  {
   "cell_type": "code",
   "execution_count": 48,
   "id": "069be00c",
   "metadata": {},
   "outputs": [
    {
     "name": "stdout",
     "output_type": "stream",
     "text": [
      "B11 [100, 0] [Age ∈ [0, 7), Degree ∈ [0, 5)]\n",
      "B12 [0, 100] [Age ∈ [7, 9], Degree ∈ [0, 11]]\n",
      "B22 [25, 75] [Age ∈ [0, 7), Degree ∈ [5, 11]]\n"
     ]
    }
   ],
   "source": [
    "pretty_print(DSB)"
   ]
  },
  {
   "cell_type": "code",
   "execution_count": 49,
   "id": "1a63f363",
   "metadata": {},
   "outputs": [
    {
     "data": {
      "text/plain": [
       "array([ 6.31578947, 93.68421053])"
      ]
     },
     "execution_count": 49,
     "metadata": {},
     "output_type": "execute_result"
    }
   ],
   "source": [
    "merge_value(boundaryA12, boundaryB12)"
   ]
  },
  {
   "cell_type": "code",
   "execution_count": 50,
   "id": "a9feac54",
   "metadata": {},
   "outputs": [
    {
     "data": {
      "text/plain": [
       "array([21.42857143, 78.57142857])"
      ]
     },
     "execution_count": 50,
     "metadata": {},
     "output_type": "execute_result"
    }
   ],
   "source": [
    "merge_value(boundaryA22, boundaryB12)"
   ]
  },
  {
   "cell_type": "code",
   "execution_count": 51,
   "id": "0ef0d7e2",
   "metadata": {},
   "outputs": [
    {
     "name": "stdout",
     "output_type": "stream",
     "text": [
      "True\n"
     ]
    }
   ],
   "source": [
    "print(check_intersect_boundary(boundaryA22, boundaryB12))"
   ]
  },
  {
   "cell_type": "code",
   "execution_count": 52,
   "id": "838362bb",
   "metadata": {},
   "outputs": [
    {
     "name": "stdout",
     "output_type": "stream",
     "text": [
      "True\n"
     ]
    }
   ],
   "source": [
    "print(check_intersect_boundary(boundaryB12, boundaryA22))"
   ]
  },
  {
   "cell_type": "code",
   "execution_count": 53,
   "id": "9252c1ff",
   "metadata": {},
   "outputs": [],
   "source": [
    "from sklearn.datasets import load_iris\n",
    "import random\n",
    "iris = load_iris()\n",
    "X, y = iris.data, iris.target\n",
    "\n",
    "# Shuffle dataset\n",
    "random.seed(2)\n",
    "idx = random.sample(list(range(0,len(X))), k=len(X))\n",
    "X = X[idx]\n",
    "y = y[idx]\n",
    "\n",
    "# batch 1\n",
    "X1, y1 = X[:len(X) // 2], y[:len(X) // 2]\n",
    "# batch 2\n",
    "X2, y2 = X[len(X) // 2:], y[:len(X) // 2:]"
   ]
  },
  {
   "cell_type": "code",
   "execution_count": 54,
   "id": "db07e3f9",
   "metadata": {},
   "outputs": [
    {
     "data": {
      "image/svg+xml": [
       "<?xml version=\"1.0\" encoding=\"UTF-8\" standalone=\"no\"?>\n",
       "<!DOCTYPE svg PUBLIC \"-//W3C//DTD SVG 1.1//EN\"\n",
       " \"http://www.w3.org/Graphics/SVG/1.1/DTD/svg11.dtd\">\n",
       "<!-- Generated by graphviz version 2.50.0 (0)\n",
       " -->\n",
       "<!-- Title: tree Pages: 1 -->\n",
       "<svg width=\"444pt\" height=\"462pt\"\n",
       " viewBox=\"0.00 0.00 443.95 462.14\" xmlns=\"http://www.w3.org/2000/svg\" xmlns:xlink=\"http://www.w3.org/1999/xlink\">\n",
       "<g id=\"graph0\" class=\"graph\" transform=\"scale(1 1) rotate(0) translate(4 458.14)\">\n",
       "<title>tree</title>\n",
       "<polygon fill=\"white\" stroke=\"transparent\" points=\"-4,4 -4,-458.14 439.95,-458.14 439.95,4 -4,4\"/>\n",
       "<!-- 1 -->\n",
       "<g id=\"node1\" class=\"node\">\n",
       "<title>1</title>\n",
       "<ellipse fill=\"none\" stroke=\"black\" cx=\"245.95\" cy=\"-395.45\" rx=\"84.29\" ry=\"58.88\"/>\n",
       "<text text-anchor=\"middle\" x=\"245.95\" y=\"-421.75\" font-family=\"Times,serif\" font-size=\"14.00\">Node_1</text>\n",
       "<text text-anchor=\"middle\" x=\"245.95\" y=\"-406.75\" font-family=\"Times,serif\" font-size=\"14.00\">Impurity: 0.657</text>\n",
       "<text text-anchor=\"middle\" x=\"245.95\" y=\"-391.75\" font-family=\"Times,serif\" font-size=\"14.00\">Label: 2</text>\n",
       "<text text-anchor=\"middle\" x=\"245.95\" y=\"-376.75\" font-family=\"Times,serif\" font-size=\"14.00\">Value: [19, 27, 29]</text>\n",
       "<text text-anchor=\"middle\" x=\"245.95\" y=\"-361.75\" font-family=\"Times,serif\" font-size=\"14.00\">Samples: 75</text>\n",
       "</g>\n",
       "<!-- 2 -->\n",
       "<g id=\"node2\" class=\"node\">\n",
       "<title>2</title>\n",
       "<ellipse fill=\"none\" stroke=\"black\" cx=\"158.95\" cy=\"-227.07\" rx=\"79.81\" ry=\"58.88\"/>\n",
       "<text text-anchor=\"middle\" x=\"158.95\" y=\"-253.37\" font-family=\"Times,serif\" font-size=\"14.00\">Node_2</text>\n",
       "<text text-anchor=\"middle\" x=\"158.95\" y=\"-238.37\" font-family=\"Times,serif\" font-size=\"14.00\">Impurity: 0.525</text>\n",
       "<text text-anchor=\"middle\" x=\"158.95\" y=\"-223.37\" font-family=\"Times,serif\" font-size=\"14.00\">Label: 1</text>\n",
       "<text text-anchor=\"middle\" x=\"158.95\" y=\"-208.37\" font-family=\"Times,serif\" font-size=\"14.00\">Value: [19, 27, 2]</text>\n",
       "<text text-anchor=\"middle\" x=\"158.95\" y=\"-193.37\" font-family=\"Times,serif\" font-size=\"14.00\">Samples: 48</text>\n",
       "</g>\n",
       "<!-- 1&#45;&gt;2 -->\n",
       "<g id=\"edge1\" class=\"edge\">\n",
       "<title>1&#45;&gt;2</title>\n",
       "<path fill=\"none\" stroke=\"black\" d=\"M190.56,-350.64C181.65,-341.07 173.53,-330.32 167.95,-318.76 164.52,-311.65 162.08,-303.86 160.39,-295.93\"/>\n",
       "<polygon fill=\"black\" stroke=\"black\" points=\"163.79,-295.09 158.61,-285.85 156.9,-296.31 163.79,-295.09\"/>\n",
       "<text text-anchor=\"middle\" x=\"234.45\" y=\"-307.56\" font-family=\"Times,serif\" font-size=\"14.00\">petal width (cm) &lt;= 1.6</text>\n",
       "</g>\n",
       "<!-- 3 -->\n",
       "<g id=\"node5\" class=\"node\">\n",
       "<title>3</title>\n",
       "<ellipse fill=\"none\" stroke=\"black\" cx=\"331.95\" cy=\"-227.07\" rx=\"74.91\" ry=\"58.88\"/>\n",
       "<text text-anchor=\"middle\" x=\"331.95\" y=\"-253.37\" font-family=\"Times,serif\" font-size=\"14.00\">Node_3</text>\n",
       "<text text-anchor=\"middle\" x=\"331.95\" y=\"-238.37\" font-family=\"Times,serif\" font-size=\"14.00\">Impurity: 0.000</text>\n",
       "<text text-anchor=\"middle\" x=\"331.95\" y=\"-223.37\" font-family=\"Times,serif\" font-size=\"14.00\">Label: 2</text>\n",
       "<text text-anchor=\"middle\" x=\"331.95\" y=\"-208.37\" font-family=\"Times,serif\" font-size=\"14.00\">Value: [0, 0, 27]</text>\n",
       "<text text-anchor=\"middle\" x=\"331.95\" y=\"-193.37\" font-family=\"Times,serif\" font-size=\"14.00\">Samples: 27</text>\n",
       "</g>\n",
       "<!-- 1&#45;&gt;3 -->\n",
       "<g id=\"edge4\" class=\"edge\">\n",
       "<title>1&#45;&gt;3</title>\n",
       "<path fill=\"none\" stroke=\"black\" d=\"M289,-344.49C294.89,-336.23 300.45,-327.5 304.95,-318.76 308.85,-311.2 312.27,-302.99 315.25,-294.71\"/>\n",
       "<polygon fill=\"black\" stroke=\"black\" points=\"318.66,-295.57 318.55,-284.98 312.03,-293.32 318.66,-295.57\"/>\n",
       "<text text-anchor=\"middle\" x=\"373.95\" y=\"-307.56\" font-family=\"Times,serif\" font-size=\"14.00\">petal width (cm) &gt; 1.6</text>\n",
       "</g>\n",
       "<!-- 4 -->\n",
       "<g id=\"node3\" class=\"node\">\n",
       "<title>4</title>\n",
       "<ellipse fill=\"none\" stroke=\"black\" cx=\"74.95\" cy=\"-58.69\" rx=\"74.91\" ry=\"58.88\"/>\n",
       "<text text-anchor=\"middle\" x=\"74.95\" y=\"-84.99\" font-family=\"Times,serif\" font-size=\"14.00\">Node_4</text>\n",
       "<text text-anchor=\"middle\" x=\"74.95\" y=\"-69.99\" font-family=\"Times,serif\" font-size=\"14.00\">Impurity: 0.000</text>\n",
       "<text text-anchor=\"middle\" x=\"74.95\" y=\"-54.99\" font-family=\"Times,serif\" font-size=\"14.00\">Label: 0</text>\n",
       "<text text-anchor=\"middle\" x=\"74.95\" y=\"-39.99\" font-family=\"Times,serif\" font-size=\"14.00\">Value: [19, 0, 0]</text>\n",
       "<text text-anchor=\"middle\" x=\"74.95\" y=\"-24.99\" font-family=\"Times,serif\" font-size=\"14.00\">Samples: 19</text>\n",
       "</g>\n",
       "<!-- 2&#45;&gt;4 -->\n",
       "<g id=\"edge2\" class=\"edge\">\n",
       "<title>2&#45;&gt;4</title>\n",
       "<path fill=\"none\" stroke=\"black\" d=\"M106.86,-182.26C98.25,-172.62 90.38,-161.84 84.95,-150.38 81.57,-143.23 79.13,-135.42 77.39,-127.48\"/>\n",
       "<polygon fill=\"black\" stroke=\"black\" points=\"80.78,-126.6 75.54,-117.39 73.9,-127.86 80.78,-126.6\"/>\n",
       "<text text-anchor=\"middle\" x=\"152.95\" y=\"-139.18\" font-family=\"Times,serif\" font-size=\"14.00\">petal length (cm) &lt;= 1.9</text>\n",
       "</g>\n",
       "<!-- 5 -->\n",
       "<g id=\"node4\" class=\"node\">\n",
       "<title>5</title>\n",
       "<ellipse fill=\"none\" stroke=\"black\" cx=\"242.95\" cy=\"-58.69\" rx=\"74.91\" ry=\"58.88\"/>\n",
       "<text text-anchor=\"middle\" x=\"242.95\" y=\"-84.99\" font-family=\"Times,serif\" font-size=\"14.00\">Node_5</text>\n",
       "<text text-anchor=\"middle\" x=\"242.95\" y=\"-69.99\" font-family=\"Times,serif\" font-size=\"14.00\">Impurity: 0.128</text>\n",
       "<text text-anchor=\"middle\" x=\"242.95\" y=\"-54.99\" font-family=\"Times,serif\" font-size=\"14.00\">Label: 1</text>\n",
       "<text text-anchor=\"middle\" x=\"242.95\" y=\"-39.99\" font-family=\"Times,serif\" font-size=\"14.00\">Value: [0, 27, 2]</text>\n",
       "<text text-anchor=\"middle\" x=\"242.95\" y=\"-24.99\" font-family=\"Times,serif\" font-size=\"14.00\">Samples: 29</text>\n",
       "</g>\n",
       "<!-- 2&#45;&gt;5 -->\n",
       "<g id=\"edge3\" class=\"edge\">\n",
       "<title>2&#45;&gt;5</title>\n",
       "<path fill=\"none\" stroke=\"black\" d=\"M203.4,-178.21C210,-169.41 216.18,-159.96 220.95,-150.38 224.6,-143.06 227.66,-135.1 230.23,-127.04\"/>\n",
       "<polygon fill=\"black\" stroke=\"black\" points=\"233.66,-127.77 233.13,-117.19 226.95,-125.8 233.66,-127.77\"/>\n",
       "<text text-anchor=\"middle\" x=\"291.45\" y=\"-139.18\" font-family=\"Times,serif\" font-size=\"14.00\">petal length (cm) &gt; 1.9</text>\n",
       "</g>\n",
       "</g>\n",
       "</svg>\n"
      ],
      "text/plain": [
       "<graphviz.graphs.Digraph at 0x17c5c3f40>"
      ]
     },
     "execution_count": 54,
     "metadata": {},
     "output_type": "execute_result"
    }
   ],
   "source": [
    "tree1 = grow_tree(\n",
    "    pd.DataFrame(X1, columns=iris.feature_names),\n",
    "    y1,\n",
    "    max_depth = 2\n",
    ")\n",
    "tree1.plot()"
   ]
  },
  {
   "cell_type": "code",
   "execution_count": 55,
   "id": "0f83ed28",
   "metadata": {},
   "outputs": [
    {
     "data": {
      "image/svg+xml": [
       "<?xml version=\"1.0\" encoding=\"UTF-8\" standalone=\"no\"?>\n",
       "<!DOCTYPE svg PUBLIC \"-//W3C//DTD SVG 1.1//EN\"\n",
       " \"http://www.w3.org/Graphics/SVG/1.1/DTD/svg11.dtd\">\n",
       "<!-- Generated by graphviz version 2.50.0 (0)\n",
       " -->\n",
       "<!-- Title: tree Pages: 1 -->\n",
       "<svg width=\"712pt\" height=\"462pt\"\n",
       " viewBox=\"0.00 0.00 711.90 462.14\" xmlns=\"http://www.w3.org/2000/svg\" xmlns:xlink=\"http://www.w3.org/1999/xlink\">\n",
       "<g id=\"graph0\" class=\"graph\" transform=\"scale(1 1) rotate(0) translate(4 458.14)\">\n",
       "<title>tree</title>\n",
       "<polygon fill=\"white\" stroke=\"transparent\" points=\"-4,4 -4,-458.14 707.9,-458.14 707.9,4 -4,4\"/>\n",
       "<!-- 1 -->\n",
       "<g id=\"node1\" class=\"node\">\n",
       "<title>1</title>\n",
       "<ellipse fill=\"none\" stroke=\"black\" cx=\"336.9\" cy=\"-395.45\" rx=\"84.29\" ry=\"58.88\"/>\n",
       "<text text-anchor=\"middle\" x=\"336.9\" y=\"-421.75\" font-family=\"Times,serif\" font-size=\"14.00\">Node_1</text>\n",
       "<text text-anchor=\"middle\" x=\"336.9\" y=\"-406.75\" font-family=\"Times,serif\" font-size=\"14.00\">Impurity: 0.657</text>\n",
       "<text text-anchor=\"middle\" x=\"336.9\" y=\"-391.75\" font-family=\"Times,serif\" font-size=\"14.00\">Label: 2</text>\n",
       "<text text-anchor=\"middle\" x=\"336.9\" y=\"-376.75\" font-family=\"Times,serif\" font-size=\"14.00\">Value: [19, 27, 29]</text>\n",
       "<text text-anchor=\"middle\" x=\"336.9\" y=\"-361.75\" font-family=\"Times,serif\" font-size=\"14.00\">Samples: 75</text>\n",
       "</g>\n",
       "<!-- 2 -->\n",
       "<g id=\"node2\" class=\"node\">\n",
       "<title>2</title>\n",
       "<ellipse fill=\"none\" stroke=\"black\" cx=\"245.9\" cy=\"-227.07\" rx=\"79.81\" ry=\"58.88\"/>\n",
       "<text text-anchor=\"middle\" x=\"245.9\" y=\"-253.37\" font-family=\"Times,serif\" font-size=\"14.00\">Node_2</text>\n",
       "<text text-anchor=\"middle\" x=\"245.9\" y=\"-238.37\" font-family=\"Times,serif\" font-size=\"14.00\">Impurity: 0.554</text>\n",
       "<text text-anchor=\"middle\" x=\"245.9\" y=\"-223.37\" font-family=\"Times,serif\" font-size=\"14.00\">Label: 1</text>\n",
       "<text text-anchor=\"middle\" x=\"245.9\" y=\"-208.37\" font-family=\"Times,serif\" font-size=\"14.00\">Value: [2, 16, 13]</text>\n",
       "<text text-anchor=\"middle\" x=\"245.9\" y=\"-193.37\" font-family=\"Times,serif\" font-size=\"14.00\">Samples: 31</text>\n",
       "</g>\n",
       "<!-- 1&#45;&gt;2 -->\n",
       "<g id=\"edge1\" class=\"edge\">\n",
       "<title>1&#45;&gt;2</title>\n",
       "<path fill=\"none\" stroke=\"black\" d=\"M284.37,-349.04C276.13,-339.76 268.5,-329.52 262.9,-318.76 259.17,-311.59 256.25,-303.72 253.97,-295.7\"/>\n",
       "<polygon fill=\"black\" stroke=\"black\" points=\"257.33,-294.73 251.48,-285.89 250.54,-296.45 257.33,-294.73\"/>\n",
       "<text text-anchor=\"middle\" x=\"331.4\" y=\"-307.56\" font-family=\"Times,serif\" font-size=\"14.00\">sepal length (cm) &lt;= 5.4</text>\n",
       "</g>\n",
       "<!-- 3 -->\n",
       "<g id=\"node5\" class=\"node\">\n",
       "<title>3</title>\n",
       "<ellipse fill=\"none\" stroke=\"black\" cx=\"427.9\" cy=\"-227.07\" rx=\"84.29\" ry=\"58.88\"/>\n",
       "<text text-anchor=\"middle\" x=\"427.9\" y=\"-253.37\" font-family=\"Times,serif\" font-size=\"14.00\">Node_3</text>\n",
       "<text text-anchor=\"middle\" x=\"427.9\" y=\"-238.37\" font-family=\"Times,serif\" font-size=\"14.00\">Impurity: 0.656</text>\n",
       "<text text-anchor=\"middle\" x=\"427.9\" y=\"-223.37\" font-family=\"Times,serif\" font-size=\"14.00\">Label: 0</text>\n",
       "<text text-anchor=\"middle\" x=\"427.9\" y=\"-208.37\" font-family=\"Times,serif\" font-size=\"14.00\">Value: [17, 11, 16]</text>\n",
       "<text text-anchor=\"middle\" x=\"427.9\" y=\"-193.37\" font-family=\"Times,serif\" font-size=\"14.00\">Samples: 44</text>\n",
       "</g>\n",
       "<!-- 1&#45;&gt;3 -->\n",
       "<g id=\"edge4\" class=\"edge\">\n",
       "<title>1&#45;&gt;3</title>\n",
       "<path fill=\"none\" stroke=\"black\" d=\"M382.22,-345.56C388.75,-337.02 394.93,-327.93 399.9,-318.76 404.01,-311.18 407.61,-302.91 410.74,-294.55\"/>\n",
       "<polygon fill=\"black\" stroke=\"black\" points=\"414.04,-295.7 414.07,-285.11 407.44,-293.38 414.04,-295.7\"/>\n",
       "<text text-anchor=\"middle\" x=\"471.4\" y=\"-307.56\" font-family=\"Times,serif\" font-size=\"14.00\">sepal length (cm) &gt; 5.4</text>\n",
       "</g>\n",
       "<!-- 6 -->\n",
       "<g id=\"node3\" class=\"node\">\n",
       "<title>6</title>\n",
       "<ellipse fill=\"none\" stroke=\"black\" cx=\"79.9\" cy=\"-58.69\" rx=\"79.81\" ry=\"58.88\"/>\n",
       "<text text-anchor=\"middle\" x=\"79.9\" y=\"-84.99\" font-family=\"Times,serif\" font-size=\"14.00\">Node_6</text>\n",
       "<text text-anchor=\"middle\" x=\"79.9\" y=\"-69.99\" font-family=\"Times,serif\" font-size=\"14.00\">Impurity: 0.565</text>\n",
       "<text text-anchor=\"middle\" x=\"79.9\" y=\"-54.99\" font-family=\"Times,serif\" font-size=\"14.00\">Label: 2</text>\n",
       "<text text-anchor=\"middle\" x=\"79.9\" y=\"-39.99\" font-family=\"Times,serif\" font-size=\"14.00\">Value: [2, 12, 13]</text>\n",
       "<text text-anchor=\"middle\" x=\"79.9\" y=\"-24.99\" font-family=\"Times,serif\" font-size=\"14.00\">Samples: 27</text>\n",
       "</g>\n",
       "<!-- 2&#45;&gt;6 -->\n",
       "<g id=\"edge2\" class=\"edge\">\n",
       "<title>2&#45;&gt;6</title>\n",
       "<path fill=\"none\" stroke=\"black\" d=\"M174.58,-199.95C150.51,-188.06 125.35,-171.77 107.9,-150.38 102.17,-143.35 97.6,-135.14 93.97,-126.6\"/>\n",
       "<polygon fill=\"black\" stroke=\"black\" points=\"97.23,-125.32 90.39,-117.23 90.69,-127.82 97.23,-125.32\"/>\n",
       "<text text-anchor=\"middle\" x=\"176.4\" y=\"-139.18\" font-family=\"Times,serif\" font-size=\"14.00\">sepal length (cm) &lt;= 5.3</text>\n",
       "</g>\n",
       "<!-- 7 -->\n",
       "<g id=\"node4\" class=\"node\">\n",
       "<title>7</title>\n",
       "<ellipse fill=\"none\" stroke=\"black\" cx=\"250.9\" cy=\"-58.69\" rx=\"72.66\" ry=\"58.88\"/>\n",
       "<text text-anchor=\"middle\" x=\"250.9\" y=\"-84.99\" font-family=\"Times,serif\" font-size=\"14.00\">Node_7</text>\n",
       "<text text-anchor=\"middle\" x=\"250.9\" y=\"-69.99\" font-family=\"Times,serif\" font-size=\"14.00\">Impurity: 0.000</text>\n",
       "<text text-anchor=\"middle\" x=\"250.9\" y=\"-54.99\" font-family=\"Times,serif\" font-size=\"14.00\">Label: 1</text>\n",
       "<text text-anchor=\"middle\" x=\"250.9\" y=\"-39.99\" font-family=\"Times,serif\" font-size=\"14.00\">Value: [0, 4, 0]</text>\n",
       "<text text-anchor=\"middle\" x=\"250.9\" y=\"-24.99\" font-family=\"Times,serif\" font-size=\"14.00\">Samples: 4</text>\n",
       "</g>\n",
       "<!-- 2&#45;&gt;7 -->\n",
       "<g id=\"edge3\" class=\"edge\">\n",
       "<title>2&#45;&gt;7</title>\n",
       "<path fill=\"none\" stroke=\"black\" d=\"M247.64,-168.34C248.03,-155.26 248.45,-141.24 248.86,-127.77\"/>\n",
       "<polygon fill=\"black\" stroke=\"black\" points=\"252.36,-127.69 249.16,-117.59 245.36,-127.48 252.36,-127.69\"/>\n",
       "<text text-anchor=\"middle\" x=\"313.4\" y=\"-139.18\" font-family=\"Times,serif\" font-size=\"14.00\">sepal length (cm) &gt; 5.3</text>\n",
       "</g>\n",
       "<!-- 4 -->\n",
       "<g id=\"node6\" class=\"node\">\n",
       "<title>4</title>\n",
       "<ellipse fill=\"none\" stroke=\"black\" cx=\"423.9\" cy=\"-58.69\" rx=\"72.66\" ry=\"58.88\"/>\n",
       "<text text-anchor=\"middle\" x=\"423.9\" y=\"-84.99\" font-family=\"Times,serif\" font-size=\"14.00\">Node_4</text>\n",
       "<text text-anchor=\"middle\" x=\"423.9\" y=\"-69.99\" font-family=\"Times,serif\" font-size=\"14.00\">Impurity: 0.000</text>\n",
       "<text text-anchor=\"middle\" x=\"423.9\" y=\"-54.99\" font-family=\"Times,serif\" font-size=\"14.00\">Label: 0</text>\n",
       "<text text-anchor=\"middle\" x=\"423.9\" y=\"-39.99\" font-family=\"Times,serif\" font-size=\"14.00\">Value: [3, 0, 0]</text>\n",
       "<text text-anchor=\"middle\" x=\"423.9\" y=\"-24.99\" font-family=\"Times,serif\" font-size=\"14.00\">Samples: 3</text>\n",
       "</g>\n",
       "<!-- 3&#45;&gt;4 -->\n",
       "<g id=\"edge5\" class=\"edge\">\n",
       "<title>3&#45;&gt;4</title>\n",
       "<path fill=\"none\" stroke=\"black\" d=\"M426.52,-168.34C426.2,-155.26 425.86,-141.24 425.54,-127.77\"/>\n",
       "<polygon fill=\"black\" stroke=\"black\" points=\"429.03,-127.51 425.3,-117.59 422.04,-127.68 429.03,-127.51\"/>\n",
       "<text text-anchor=\"middle\" x=\"494.9\" y=\"-139.18\" font-family=\"Times,serif\" font-size=\"14.00\">petal length (cm) &lt;= 1.5</text>\n",
       "</g>\n",
       "<!-- 5 -->\n",
       "<g id=\"node7\" class=\"node\">\n",
       "<title>5</title>\n",
       "<ellipse fill=\"none\" stroke=\"black\" cx=\"598.9\" cy=\"-58.69\" rx=\"84.29\" ry=\"58.88\"/>\n",
       "<text text-anchor=\"middle\" x=\"598.9\" y=\"-84.99\" font-family=\"Times,serif\" font-size=\"14.00\">Node_5</text>\n",
       "<text text-anchor=\"middle\" x=\"598.9\" y=\"-69.99\" font-family=\"Times,serif\" font-size=\"14.00\">Impurity: 0.659</text>\n",
       "<text text-anchor=\"middle\" x=\"598.9\" y=\"-54.99\" font-family=\"Times,serif\" font-size=\"14.00\">Label: 2</text>\n",
       "<text text-anchor=\"middle\" x=\"598.9\" y=\"-39.99\" font-family=\"Times,serif\" font-size=\"14.00\">Value: [14, 11, 16]</text>\n",
       "<text text-anchor=\"middle\" x=\"598.9\" y=\"-24.99\" font-family=\"Times,serif\" font-size=\"14.00\">Samples: 41</text>\n",
       "</g>\n",
       "<!-- 3&#45;&gt;5 -->\n",
       "<g id=\"edge6\" class=\"edge\">\n",
       "<title>3&#45;&gt;5</title>\n",
       "<path fill=\"none\" stroke=\"black\" d=\"M501.79,-198.41C525.23,-186.61 549.53,-170.77 566.9,-150.38 572.95,-143.29 577.88,-134.98 581.89,-126.32\"/>\n",
       "<polygon fill=\"black\" stroke=\"black\" points=\"585.23,-127.4 585.9,-116.82 578.78,-124.67 585.23,-127.4\"/>\n",
       "<text text-anchor=\"middle\" x=\"640.4\" y=\"-139.18\" font-family=\"Times,serif\" font-size=\"14.00\">petal length (cm) &gt; 1.5</text>\n",
       "</g>\n",
       "</g>\n",
       "</svg>\n"
      ],
      "text/plain": [
       "<graphviz.graphs.Digraph at 0x1746ffb20>"
      ]
     },
     "execution_count": 55,
     "metadata": {},
     "output_type": "execute_result"
    }
   ],
   "source": [
    "tree2 = grow_tree(\n",
    "    pd.DataFrame(X2, columns=iris.feature_names),\n",
    "    y2,\n",
    "    max_depth = 2\n",
    ")\n",
    "tree2.plot()"
   ]
  },
  {
   "cell_type": "code",
   "execution_count": 56,
   "id": "c993d704",
   "metadata": {
    "scrolled": true
   },
   "outputs": [
    {
     "data": {
      "text/plain": [
       "['sepal length (cm)',\n",
       " 'sepal width (cm)',\n",
       " 'petal length (cm)',\n",
       " 'petal width (cm)']"
      ]
     },
     "execution_count": 56,
     "metadata": {},
     "output_type": "execute_result"
    }
   ],
   "source": [
    "iris.feature_names"
   ]
  },
  {
   "cell_type": "code",
   "execution_count": 57,
   "id": "d2b85905",
   "metadata": {},
   "outputs": [],
   "source": [
    "boundary_conditions = [\n",
    "    Condition(\"sepal length (cm)\", 0, Operator.GT, 0),\n",
    "    Condition(\"sepal length (cm)\", 0, Operator.LE, 10),\n",
    "    Condition(\"sepal width (cm)\", 1, Operator.GT, 0),\n",
    "    Condition(\"sepal width (cm)\", 1, Operator.LE, 10),\n",
    "    Condition(\"petal length (cm)\", 2, Operator.GT, 0),\n",
    "    Condition(\"petal length (cm)\", 2, Operator.LE, 10),\n",
    "    Condition(\"petal width (cm)\", 3, Operator.GT, 0),    \n",
    "    Condition(\"petal width (cm)\", 3, Operator.LE, 10),    \n",
    "]"
   ]
  },
  {
   "cell_type": "code",
   "execution_count": 58,
   "id": "cd7fffcd",
   "metadata": {},
   "outputs": [],
   "source": [
    "DS1= get_decisionspace(tree1, boundary_conditions)"
   ]
  },
  {
   "cell_type": "code",
   "execution_count": 59,
   "id": "8cedcc9f",
   "metadata": {},
   "outputs": [],
   "source": [
    "DS2= get_decisionspace(tree2, boundary_conditions)"
   ]
  },
  {
   "cell_type": "code",
   "execution_count": 60,
   "id": "5931af51",
   "metadata": {
    "scrolled": false
   },
   "outputs": [
    {
     "data": {
      "text/plain": [
       "DecisionSpace(boundaries=[DecisionBoundary(label=0, value=[19, 0, 0], conditions=[petal length (cm) ∈ (0, 1.9], petal width (cm) ∈ (0, 1.6]]), DecisionBoundary(label=1, value=[0, 27, 2], conditions=[petal length (cm) ∈ (1.9, 10], petal width (cm) ∈ (0, 1.6]]), DecisionBoundary(label=2, value=[0, 0, 27], conditions=[petal length (cm) ∈ (0, 10], petal width (cm) ∈ (1.6, 10]])])"
      ]
     },
     "execution_count": 60,
     "metadata": {},
     "output_type": "execute_result"
    }
   ],
   "source": [
    "DS1"
   ]
  },
  {
   "cell_type": "code",
   "execution_count": 61,
   "id": "7c180761",
   "metadata": {},
   "outputs": [
    {
     "data": {
      "text/plain": [
       "DecisionSpace(boundaries=[DecisionBoundary(label=2, value=[2, 12, 13], conditions=[sepal length (cm) ∈ (0, 5.3], petal length (cm) ∈ (0, 10]]), DecisionBoundary(label=1, value=[0, 4, 0], conditions=[sepal length (cm) ∈ (5.3, 5.4], petal length (cm) ∈ (0, 10]]), DecisionBoundary(label=0, value=[3, 0, 0], conditions=[sepal length (cm) ∈ (5.4, 10], petal length (cm) ∈ (0, 1.5]]), DecisionBoundary(label=2, value=[14, 11, 16], conditions=[sepal length (cm) ∈ (5.4, 10], petal length (cm) ∈ (1.5, 10]])])"
      ]
     },
     "execution_count": 61,
     "metadata": {},
     "output_type": "execute_result"
    }
   ],
   "source": [
    "DS2"
   ]
  },
  {
   "cell_type": "code",
   "execution_count": 62,
   "id": "20e8c9c2",
   "metadata": {},
   "outputs": [],
   "source": [
    "DS3 = merge_decision_space(DS1, DS2)"
   ]
  },
  {
   "cell_type": "code",
   "execution_count": 74,
   "id": "114cc496",
   "metadata": {},
   "outputs": [
    {
     "data": {
      "text/plain": [
       "DecisionSpace(boundaries=[DecisionBoundary(label=2, value=array([ 5.16489362,  9.76595745, 10.57978723]), conditions=[petal length (cm) ∈ (0, 1.9]]), DecisionBoundary(label=1, value=array([4.88970588, 2.97058824, 0.        ]), conditions=[petal length (cm) ∈ (0, 1.9]]), DecisionBoundary(label=0, value=array([8.83333333, 0.        , 0.        ]), conditions=[petal length (cm) ∈ (0, 1.5]]), DecisionBoundary(label=2, value=array([15.05421687,  8.68072289, 12.62650602]), conditions=[petal length (cm) ∈ (1.5, 1.9]]), DecisionBoundary(label=3, value=array([ 1.224, 17.82 ,  8.732]), conditions=[petal length (cm) ∈ (1.9, 10]]), DecisionBoundary(label=2, value=array([ 0.        , 15.26767677,  0.97979798]), conditions=[petal length (cm) ∈ (1.9, 10]]), DecisionBoundary(label=3, value=array([ 8.04385965, 17.80701754, 10.04385965]), conditions=[petal length (cm) ∈ (1.9, 10]]), DecisionBoundary(label=4, value=array([ 0.90801187,  5.44807122, 20.64391691]), conditions=[petal length (cm) ∈ (0, 10]]), DecisionBoundary(label=3, value=array([ 0.        ,  1.41754386, 17.43157895]), conditions=[petal length (cm) ∈ (0, 10]]), DecisionBoundary(label=2, value=array([ 0.74693878,  0.        , 20.27755102]), conditions=[petal length (cm) ∈ (0, 1.5]]), DecisionBoundary(label=4, value=array([ 5.82222222,  4.57460317, 22.42539683]), conditions=[petal length (cm) ∈ (1.5, 10]])])"
      ]
     },
     "execution_count": 74,
     "metadata": {},
     "output_type": "execute_result"
    }
   ],
   "source": [
    "DS3"
   ]
  },
  {
   "cell_type": "code",
   "execution_count": 63,
   "id": "3dfcfc48",
   "metadata": {},
   "outputs": [
    {
     "name": "stdout",
     "output_type": "stream",
     "text": [
      "2 [ 5.16489362  9.76595745 10.57978723] [petal length (cm) ∈ (0, 1.9]]\n",
      "1 [4.88970588 2.97058824 0.        ] [petal length (cm) ∈ (0, 1.9]]\n",
      "0 [8.83333333 0.         0.        ] [petal length (cm) ∈ (0, 1.5]]\n",
      "2 [15.05421687  8.68072289 12.62650602] [petal length (cm) ∈ (1.5, 1.9]]\n",
      "3 [ 1.224 17.82   8.732] [petal length (cm) ∈ (1.9, 10]]\n",
      "2 [ 0.         15.26767677  0.97979798] [petal length (cm) ∈ (1.9, 10]]\n",
      "3 [ 8.04385965 17.80701754 10.04385965] [petal length (cm) ∈ (1.9, 10]]\n",
      "4 [ 0.90801187  5.44807122 20.64391691] [petal length (cm) ∈ (0, 10]]\n",
      "3 [ 0.          1.41754386 17.43157895] [petal length (cm) ∈ (0, 10]]\n",
      "2 [ 0.74693878  0.         20.27755102] [petal length (cm) ∈ (0, 1.5]]\n",
      "4 [ 5.82222222  4.57460317 22.42539683] [petal length (cm) ∈ (1.5, 10]]\n"
     ]
    }
   ],
   "source": [
    "pretty_print(DS3)"
   ]
  },
  {
   "cell_type": "markdown",
   "id": "2e12e495",
   "metadata": {},
   "source": [
    "# The following is prune Decision space. "
   ]
  },
  {
   "cell_type": "code",
   "execution_count": 65,
   "id": "96f7c1fc",
   "metadata": {},
   "outputs": [],
   "source": [
    "a = BCondition(\"a\", 1, False, 3, 10, False)"
   ]
  },
  {
   "cell_type": "code",
   "execution_count": 66,
   "id": "e7696ac4",
   "metadata": {},
   "outputs": [
    {
     "data": {
      "text/plain": [
       "a ∈ [3, 10]"
      ]
     },
     "execution_count": 66,
     "metadata": {},
     "output_type": "execute_result"
    }
   ],
   "source": [
    "a"
   ]
  },
  {
   "cell_type": "code",
   "execution_count": 67,
   "id": "ff870f0b",
   "metadata": {},
   "outputs": [],
   "source": [
    "b = BCondition(\"a\", 1, False, 3, 10, False)"
   ]
  },
  {
   "cell_type": "code",
   "execution_count": 68,
   "id": "09e910b3",
   "metadata": {},
   "outputs": [
    {
     "data": {
      "text/plain": [
       "a ∈ [3, 10]"
      ]
     },
     "execution_count": 68,
     "metadata": {},
     "output_type": "execute_result"
    }
   ],
   "source": [
    "b"
   ]
  },
  {
   "cell_type": "code",
   "execution_count": 69,
   "id": "496f0d7a",
   "metadata": {},
   "outputs": [
    {
     "data": {
      "text/plain": [
       "True"
      ]
     },
     "execution_count": 69,
     "metadata": {},
     "output_type": "execute_result"
    }
   ],
   "source": [
    "a == b"
   ]
  },
  {
   "cell_type": "code",
   "execution_count": null,
   "id": "cbd55861",
   "metadata": {},
   "outputs": [],
   "source": []
  },
  {
   "cell_type": "code",
   "execution_count": 115,
   "id": "470ab1d9",
   "metadata": {},
   "outputs": [],
   "source": [
    "def check_adjacent_condition(b1: BCondition, b2: BCondition):\n",
    "    assert b1.attribute == b2.attribute\n",
    "\n",
    "    return (\n",
    "        (b1.lowerthreshold == b2.upperthreshold) or \n",
    "        (b1.upperthreshold == b2.lowerthreshold)\n",
    "    ) \n",
    "        \n",
    "def adjacent(boundary_x: DecisionBoundary, boundary_y: DecisionBoundary):\n",
    "    shared_boundaries = 0\n",
    "    adjacent_boundaries = 0\n",
    "    \n",
    "    for b_x in boundary_x.conditions:\n",
    "        for b_y in boundary_y.conditions:\n",
    "            if b_x.attribute == b_y.attribute:\n",
    "                if b_x == b_y:\n",
    "                    shared_boundaries += 1\n",
    "                elif check_adjacent_condition(b_x, b_y):\n",
    "                    adjacent_boundaries += 1\n",
    "                else:\n",
    "                    # boundary is neither shared nor adjacent\n",
    "                    return False\n",
    "    \n",
    "    if adjacent_boundaries == 1:\n",
    "        assert shared_boundaries == len(boundary_x.conditions) - 1\n",
    "        return True\n",
    "    \n",
    "    return False\n",
    "\n",
    "\n",
    "\n",
    "\n",
    "def neighbour_check(X):\n",
    "    Z = []\n",
    "    for i, boundary_x in enumerate(X.boundaries):\n",
    "        for j, boundary_y in enumerate(X.boundaries):\n",
    "            if i == j:\n",
    "                continue\n",
    "            \n",
    "            if adjacent(boundary_x, boundary_y):\n",
    "                Z.append((boundary_x, boundary_y))\n",
    "    return Z\n",
    "\n",
    "\n",
    "def value_simcheck(boundary_x: DecisionBoundary, boundary_y: DecisionBoundary):\n",
    "    dist = np.linalg.norm(boundary_x.value - boundary_y.value)\n",
    "    return dist\n",
    "\n",
    "\n",
    "def combine(boundary_x: DecisionBoundary, boundary_y: DecisionBoundary):\n",
    "    new_conditions = []\n",
    "    \n",
    "    for b_x in boundary_x.conditions:\n",
    "        for b_y in boundary_y.conditions:\n",
    "            if b_x.attribute == b_y.attribute:\n",
    "                if b_x == b_y:\n",
    "                    new_conditions.append(b_x)\n",
    "                else:\n",
    "                    cond = BCondition(b_x.attribute, b_x.attribute_pos,True,\n",
    "                              min(b_x.lowerthreshold, b_y.lowerthreshold),\n",
    "                              max(b_x.upperthreshold, b_y.upperthreshold), False)\n",
    "                    new_conditions.append(cond)\n",
    "    \n",
    "    new_boundary = DecisionBoundary(boundary_x.label + boundary_y.label,\n",
    "                                    merge_value(boundary_x, boundary_y),\n",
    "                                    new_conditions)\n",
    "    return new_boundary\n",
    "\n",
    "\n",
    "def prune_one(X, alpha=50.0):\n",
    "    pairs = neighbour_check(X)\n",
    "    sorted_pairs = sorted(pairs, key = lambda p: value_simcheck(p[0], p[1]))\n",
    "\n",
    "    if not sorted_pairs:\n",
    "        return None\n",
    "\n",
    "    best_pair = sorted_pairs[0]\n",
    "    x, y = best_pair\n",
    "    \n",
    "    if value_simcheck(x, y) > alpha:\n",
    "        return None\n",
    "    \n",
    "    Y = X.boundaries.copy()\n",
    "    Y.remove(x)\n",
    "    Y.remove(y)\n",
    "    Y.append(combine(x, y))\n",
    "    \n",
    "    return Y\n",
    "\n",
    "def prune(X):\n",
    "    while True:\n",
    "        Y = prune_one(X)\n",
    "        if Y is None:\n",
    "            # no possible merges / merge didn't pass alpha check\n",
    "            break\n",
    "        X = DecisionSpace(Y)\n",
    "    return X\n"
   ]
  },
  {
   "cell_type": "code",
   "execution_count": 116,
   "id": "4b480793",
   "metadata": {},
   "outputs": [
    {
     "data": {
      "text/plain": [
       "DecisionSpace(boundaries=[DecisionBoundary(label='A11B11', value=array([90., 10.]), conditions=[Age ∈ (0, 5], Degree ∈ (0, 3]]), DecisionBoundary(label='A12B11', value=array([73.33333333, 26.66666667]), conditions=[Age ∈ (5, 7], Degree ∈ (0, 3]]), DecisionBoundary(label='A12B12', value=array([ 6.31578947, 93.68421053]), conditions=[Age ∈ (7, 8], Degree ∈ (0, 3]]), DecisionBoundary(label='A22B11', value=array([66.66666667, 33.33333333]), conditions=[Age ∈ (0, 7], Degree ∈ (3, 5]]), DecisionBoundary(label='A22B12', value=array([21.42857143, 78.57142857]), conditions=[Age ∈ (7, 8], Degree ∈ (3, 10]]), DecisionBoundary(label='A22B22', value=array([33.03571429, 66.96428571]), conditions=[Age ∈ (0, 7], Degree ∈ (5, 10]]), DecisionBoundary(label='A23B12', value=array([50., 50.]), conditions=[Age ∈ (7, 8], Degree ∈ (10, 11]]), DecisionBoundary(label='A23B22', value=array([62.5, 37.5]), conditions=[Age ∈ (0, 7], Degree ∈ (10, 11]])])"
      ]
     },
     "execution_count": 116,
     "metadata": {},
     "output_type": "execute_result"
    }
   ],
   "source": [
    "DSC"
   ]
  },
  {
   "cell_type": "code",
   "execution_count": 117,
   "id": "5d86cb9f",
   "metadata": {},
   "outputs": [
    {
     "data": {
      "text/plain": [
       "DecisionSpace(boundaries=[DecisionBoundary(label='A22B22', value=array([33.03571429, 66.96428571]), conditions=[Age ∈ (0, 7], Degree ∈ (5, 10]]), DecisionBoundary(label='A23B12A23B22', value=array([60., 40.]), conditions=[Age ∈ (0, 8], Degree ∈ (10, 11]]), DecisionBoundary(label='A12B12A22B12', value=array([16.39097744, 83.60902256]), conditions=[Age ∈ (7, 8], Degree ∈ (0, 10]]), DecisionBoundary(label='A22B11A11B11A12B11', value=array([75.57354926, 24.42645074]), conditions=[Age ∈ (0, 7], Degree ∈ (0, 5]])])"
      ]
     },
     "execution_count": 117,
     "metadata": {},
     "output_type": "execute_result"
    }
   ],
   "source": [
    "prune(DSC)"
   ]
  },
  {
   "cell_type": "code",
   "execution_count": 88,
   "id": "aedce3f4",
   "metadata": {},
   "outputs": [
    {
     "name": "stdout",
     "output_type": "stream",
     "text": [
      "first pair (DecisionBoundary(label='A11B11', value=array([90., 10.]), conditions=[Age ∈ (0, 5], Degree ∈ (0, 3]]), DecisionBoundary(label='A12B11', value=array([73.33333333, 26.66666667]), conditions=[Age ∈ (5, 7], Degree ∈ (0, 3]]))\n"
     ]
    },
    {
     "data": {
      "text/plain": [
       "23.570226039551585"
      ]
     },
     "execution_count": 88,
     "metadata": {},
     "output_type": "execute_result"
    }
   ],
   "source": [
    "pairs = neighbour_check(DSC)\n",
    "first_pair = pairs[0]\n",
    "print(\"first pair\", first_pair)\n",
    "value_simcheck(first_pair[0], first_pair[1])"
   ]
  },
  {
   "cell_type": "code",
   "execution_count": 89,
   "id": "9cccc8e7",
   "metadata": {},
   "outputs": [
    {
     "data": {
      "text/plain": [
       "[(DecisionBoundary(label='A11B11', value=array([90., 10.]), conditions=[Age ∈ (0, 5], Degree ∈ (0, 3]]),\n",
       "  DecisionBoundary(label='A12B11', value=array([73.33333333, 26.66666667]), conditions=[Age ∈ (5, 7], Degree ∈ (0, 3]])),\n",
       " (DecisionBoundary(label='A12B11', value=array([73.33333333, 26.66666667]), conditions=[Age ∈ (5, 7], Degree ∈ (0, 3]]),\n",
       "  DecisionBoundary(label='A11B11', value=array([90., 10.]), conditions=[Age ∈ (0, 5], Degree ∈ (0, 3]])),\n",
       " (DecisionBoundary(label='A12B11', value=array([73.33333333, 26.66666667]), conditions=[Age ∈ (5, 7], Degree ∈ (0, 3]]),\n",
       "  DecisionBoundary(label='A12B12', value=array([ 6.31578947, 93.68421053]), conditions=[Age ∈ (7, 8], Degree ∈ (0, 3]])),\n",
       " (DecisionBoundary(label='A12B12', value=array([ 6.31578947, 93.68421053]), conditions=[Age ∈ (7, 8], Degree ∈ (0, 3]]),\n",
       "  DecisionBoundary(label='A12B11', value=array([73.33333333, 26.66666667]), conditions=[Age ∈ (5, 7], Degree ∈ (0, 3]])),\n",
       " (DecisionBoundary(label='A12B12', value=array([ 6.31578947, 93.68421053]), conditions=[Age ∈ (7, 8], Degree ∈ (0, 3]]),\n",
       "  DecisionBoundary(label='A22B12', value=array([21.42857143, 78.57142857]), conditions=[Age ∈ (7, 8], Degree ∈ (3, 10]])),\n",
       " (DecisionBoundary(label='A22B11', value=array([66.66666667, 33.33333333]), conditions=[Age ∈ (0, 7], Degree ∈ (3, 5]]),\n",
       "  DecisionBoundary(label='A22B22', value=array([33.03571429, 66.96428571]), conditions=[Age ∈ (0, 7], Degree ∈ (5, 10]])),\n",
       " (DecisionBoundary(label='A22B12', value=array([21.42857143, 78.57142857]), conditions=[Age ∈ (7, 8], Degree ∈ (3, 10]]),\n",
       "  DecisionBoundary(label='A12B12', value=array([ 6.31578947, 93.68421053]), conditions=[Age ∈ (7, 8], Degree ∈ (0, 3]])),\n",
       " (DecisionBoundary(label='A22B12', value=array([21.42857143, 78.57142857]), conditions=[Age ∈ (7, 8], Degree ∈ (3, 10]]),\n",
       "  DecisionBoundary(label='A23B12', value=array([50., 50.]), conditions=[Age ∈ (7, 8], Degree ∈ (10, 11]])),\n",
       " (DecisionBoundary(label='A22B22', value=array([33.03571429, 66.96428571]), conditions=[Age ∈ (0, 7], Degree ∈ (5, 10]]),\n",
       "  DecisionBoundary(label='A22B11', value=array([66.66666667, 33.33333333]), conditions=[Age ∈ (0, 7], Degree ∈ (3, 5]])),\n",
       " (DecisionBoundary(label='A22B22', value=array([33.03571429, 66.96428571]), conditions=[Age ∈ (0, 7], Degree ∈ (5, 10]]),\n",
       "  DecisionBoundary(label='A23B22', value=array([62.5, 37.5]), conditions=[Age ∈ (0, 7], Degree ∈ (10, 11]])),\n",
       " (DecisionBoundary(label='A23B12', value=array([50., 50.]), conditions=[Age ∈ (7, 8], Degree ∈ (10, 11]]),\n",
       "  DecisionBoundary(label='A22B12', value=array([21.42857143, 78.57142857]), conditions=[Age ∈ (7, 8], Degree ∈ (3, 10]])),\n",
       " (DecisionBoundary(label='A23B12', value=array([50., 50.]), conditions=[Age ∈ (7, 8], Degree ∈ (10, 11]]),\n",
       "  DecisionBoundary(label='A23B22', value=array([62.5, 37.5]), conditions=[Age ∈ (0, 7], Degree ∈ (10, 11]])),\n",
       " (DecisionBoundary(label='A23B22', value=array([62.5, 37.5]), conditions=[Age ∈ (0, 7], Degree ∈ (10, 11]]),\n",
       "  DecisionBoundary(label='A22B22', value=array([33.03571429, 66.96428571]), conditions=[Age ∈ (0, 7], Degree ∈ (5, 10]])),\n",
       " (DecisionBoundary(label='A23B22', value=array([62.5, 37.5]), conditions=[Age ∈ (0, 7], Degree ∈ (10, 11]]),\n",
       "  DecisionBoundary(label='A23B12', value=array([50., 50.]), conditions=[Age ∈ (7, 8], Degree ∈ (10, 11]]))]"
      ]
     },
     "execution_count": 89,
     "metadata": {},
     "output_type": "execute_result"
    }
   ],
   "source": [
    "pairs"
   ]
  },
  {
   "cell_type": "code",
   "execution_count": null,
   "id": "7e0e410f",
   "metadata": {},
   "outputs": [],
   "source": []
  }
 ],
 "metadata": {
  "kernelspec": {
   "display_name": "Python 3 (ipykernel)",
   "language": "python",
   "name": "python3"
  },
  "language_info": {
   "codemirror_mode": {
    "name": "ipython",
    "version": 3
   },
   "file_extension": ".py",
   "mimetype": "text/x-python",
   "name": "python",
   "nbconvert_exporter": "python",
   "pygments_lexer": "ipython3",
   "version": "3.9.12"
  }
 },
 "nbformat": 4,
 "nbformat_minor": 5
}
